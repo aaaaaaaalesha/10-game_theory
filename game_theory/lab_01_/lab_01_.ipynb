{
 "cells": [
  {
   "cell_type": "code",
   "execution_count": 1,
   "id": "initial_id",
   "metadata": {
    "ExecuteTime": {
     "end_time": "2024-02-11T13:28:43.650411Z",
     "start_time": "2024-02-11T13:28:43.409065Z"
    }
   },
   "outputs": [],
   "source": [
    "import logging\n",
    "from pathlib import Path\n",
    "\n",
    "from game_theory.utils.simplex import simplex_problem, dual_problem\n",
    "\n",
    "logging.basicConfig(level=logging.INFO, format='%(message)s')"
   ]
  },
  {
   "cell_type": "code",
   "execution_count": 2,
   "id": "b12d5e1ae2264e06",
   "metadata": {
    "collapsed": false,
    "ExecuteTime": {
     "end_time": "2024-02-11T13:28:43.662529Z",
     "start_time": "2024-02-11T13:28:43.650988Z"
    }
   },
   "outputs": [
    {
     "data": {
      "text/plain": "Условие задачи:\nНайти вектор x = (x1,x2,..., xn)^T как решение след. задачи:\nF = cx -> max,\nAx <= b,\nx1,x2, ..., xn >= 0\nC = [-5 -6 -4],\nA =\n[[1.  1.  1. ]\n [1.  3.  0. ]\n [0.  0.5 4. ]],\nb^T = [7 8 6]."
     },
     "execution_count": 2,
     "metadata": {},
     "output_type": "execute_result"
    }
   ],
   "source": [
    "simplex_problem = simplex_problem.SimplexProblem(Path('input.json'))\n",
    "simplex_problem"
   ]
  },
  {
   "cell_type": "code",
   "execution_count": 3,
   "id": "65c5c254fbf1ff57",
   "metadata": {
    "ExecuteTime": {
     "end_time": "2024-02-11T13:15:28.240219Z",
     "start_time": "2024-02-11T13:15:28.167206Z"
    },
    "collapsed": false
   },
   "outputs": [
    {
     "name": "stderr",
     "output_type": "stream",
     "text": [
      "Процесс решения:\n",
      "Поиск опорного решения:\n",
      "Исходная симплекс-таблица:\n",
      "+----+-----+-----+-----+-----+\n",
      "|    | Si0 |  x1 |  x2 |  x3 |\n",
      "+----+-----+-----+-----+-----+\n",
      "| x4 | 7.0 | 1.0 | 1.0 | 1.0 |\n",
      "| x5 | 8.0 | 1.0 | 3.0 | 0.0 |\n",
      "| x6 | 6.0 | 0.0 | 0.5 | 4.0 |\n",
      "| F  | 0.0 | 5.0 | 6.0 | 4.0 |\n",
      "+----+-----+-----+-----+-----+\n",
      "Опорное решение найдено!\n",
      "x1 = x2 = x3 = 0, \n",
      "x4 = 7.00, x5 = 8.00, x6 = 6.00\n",
      "Целевая функция: F = 0.00\n",
      "Поиск оптимального решения:\n",
      "Разрешающая строка: x4\n",
      "Разрешающий столбец: x1\n",
      "+----+-------+------+-----+------+\n",
      "|    |  Si0  |  x4  |  x2 |  x3  |\n",
      "+----+-------+------+-----+------+\n",
      "| x1 |  7.0  | 1.0  | 1.0 | 1.0  |\n",
      "| x5 |  1.0  | -1.0 | 2.0 | -1.0 |\n",
      "| x6 |  6.0  | -0.0 | 0.5 | 4.0  |\n",
      "| F  | -35.0 | -5.0 | 1.0 | -1.0 |\n",
      "+----+-------+------+-----+------+\n",
      "Разрешающая строка: x5\n",
      "Разрешающий столбец: x2\n",
      "+----+-------+------+-------+------+\n",
      "|    |  Si0  |  x4  |   x5  |  x3  |\n",
      "+----+-------+------+-------+------+\n",
      "| x1 |  6.5  | 1.5  |  -0.5 | 1.5  |\n",
      "| x2 |  0.5  | -0.5 |  0.5  | -0.5 |\n",
      "| x6 |  5.75 | 0.25 | -0.25 | 4.25 |\n",
      "| F  | -35.5 | -4.5 |  -0.5 | -0.5 |\n",
      "+----+-------+------+-------+------+\n",
      "Оптимальное решение найдено!\n",
      "x4 = x5 = x3 = 0, \n",
      "x1 = 6.50, x2 = 0.50, x6 = 5.75\n",
      "Целевая функция: F = 35.50\n"
     ]
    }
   ],
   "source": [
    "f_value: float = simplex_problem.solve()"
   ]
  },
  {
   "cell_type": "code",
   "execution_count": 4,
   "id": "bdac9ea3bb11f7fb",
   "metadata": {
    "ExecuteTime": {
     "end_time": "2024-02-11T13:15:37.936333Z",
     "start_time": "2024-02-11T13:15:37.927804Z"
    },
    "collapsed": false
   },
   "outputs": [
    {
     "data": {
      "text/plain": [
       "35.5"
      ]
     },
     "execution_count": 4,
     "metadata": {},
     "output_type": "execute_result"
    }
   ],
   "source": [
    "f_value"
   ]
  },
  {
   "cell_type": "code",
   "execution_count": 5,
   "id": "50ea128d0a4f9319",
   "metadata": {
    "ExecuteTime": {
     "end_time": "2024-02-11T13:13:09.924234Z",
     "start_time": "2024-02-11T13:13:09.887586Z"
    },
    "collapsed": false
   },
   "outputs": [
    {
     "name": "stderr",
     "output_type": "stream",
     "text": [
      "F = cx -> min,\n",
      "Ax >= 1,\n",
      "x1, x2, ..., xn >= 0\n",
      "C = [7 8 6]\n",
      "A =\n",
      "[[1.  1.  0. ]\n",
      " [1.  3.  0.5]\n",
      " [1.  0.  4. ]],\n",
      "b^T = [5 6 4].\n"
     ]
    }
   ],
   "source": [
    "dual_problem = dual_problem.DualProblem(Path('input.json'))"
   ]
  }
 ],
 "metadata": {
  "kernelspec": {
   "display_name": "Python 3 (ipykernel)",
   "language": "python",
   "name": "python3"
  },
  "language_info": {
   "codemirror_mode": {
    "name": "ipython",
    "version": 3
   },
   "file_extension": ".py",
   "mimetype": "text/x-python",
   "name": "python",
   "nbconvert_exporter": "python",
   "pygments_lexer": "ipython3",
   "version": "3.11.4"
  }
 },
 "nbformat": 4,
 "nbformat_minor": 5
}
