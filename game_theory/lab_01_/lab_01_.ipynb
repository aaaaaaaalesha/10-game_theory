{
 "cells": [
  {
   "cell_type": "code",
   "execution_count": 14,
   "id": "initial_id",
   "metadata": {
    "ExecuteTime": {
     "end_time": "2023-12-24T10:37:57.937677Z",
     "start_time": "2023-12-24T10:37:57.708845Z"
    }
   },
   "outputs": [],
   "source": [
    "import json\n",
    "from pathlib import Path\n",
    "\n",
    "from game_theory.utils import Simplex"
   ]
  },
  {
   "cell_type": "code",
   "execution_count": 15,
   "id": "d37c4a70-6079-468a-9a9a-2ff49b4b862b",
   "metadata": {},
   "outputs": [
    {
     "data": {
      "text/plain": [
       "{'obj_func_coffs': [5, 6, 4],\n",
       " 'constraint_system_lhs': [[1, 1, 1], [1, 3, 0], [0, 0.5, 4]],\n",
       " 'constraint_system_rhs': [7, 8, 6],\n",
       " 'func_direction': 'max'}"
      ]
     },
     "execution_count": 15,
     "metadata": {},
     "output_type": "execute_result"
    }
   ],
   "source": [
    "input_data_path = Path(\"input_data.json\")\n",
    "assert input_data_path.exists()\n",
    "\n",
    "with open(input_data_path) as in_f:\n",
    "    input_data = json.load(in_f)\n",
    "\n",
    "input_data"
   ]
  },
  {
   "cell_type": "code",
   "execution_count": 16,
   "id": "11860925fefc46c9",
   "metadata": {
    "collapsed": false,
    "jupyter": {
     "outputs_hidden": false
    }
   },
   "outputs": [
    {
     "name": "stdout",
     "output_type": "stream",
     "text": [
      "Условие задачи:\n",
      "------------------------------------------------------------\n",
      "Найти вектор x = (x1,x2,..., xn)^T как решение след. задачи:\n",
      "F = cx -> max,\n",
      "Ax <= b,\n",
      "x1,x2, ..., xn >= 0\n",
      "C = [-5 -6 -4],\n",
      "A =\n",
      "[[1.  1.  1. ]\n",
      " [1.  3.  0. ]\n",
      " [0.  0.5 4. ]],\n",
      "b^T = [7 8 6].\n",
      "------------------------------------------------------------\n"
     ]
    }
   ],
   "source": [
    "problem = Simplex(input_data_path)\n",
    "print(problem)"
   ]
  },
  {
   "cell_type": "code",
   "execution_count": 17,
   "id": "c7d1c684-e8d5-4f44-b699-9bf4eb13a403",
   "metadata": {},
   "outputs": [
    {
     "name": "stdout",
     "output_type": "stream",
     "text": [
      "Процесс решения:\n",
      "1) Поиск опорного решения:\n",
      "Исходная симплекс-таблица:\n",
      "+----+-----+-----+-----+-----+\n",
      "|    | Si0 |  x1 |  x2 |  x3 |\n",
      "+----+-----+-----+-----+-----+\n",
      "| x4 | 7.0 | 1.0 | 1.0 | 1.0 |\n",
      "| x5 | 8.0 | 1.0 | 3.0 | 0.0 |\n",
      "| x6 | 6.0 | 0.0 | 0.5 | 4.0 |\n",
      "| F  | 0.0 | 5.0 | 6.0 | 4.0 |\n",
      "+----+-----+-----+-----+-----+\n",
      "Опорное решение найдено!\n",
      "x1 = x2 = x3 = 0, x4 =  7.0, x5 =  8.0, x6 =  6.0, \n",
      "Целевая функция: F = 0.0\n"
     ]
    }
   ],
   "source": [
    "problem.reference_solution()"
   ]
  },
  {
   "cell_type": "code",
   "execution_count": 18,
   "id": "4c47a211-2d91-451c-b933-844e8930c8c8",
   "metadata": {},
   "outputs": [
    {
     "name": "stdout",
     "output_type": "stream",
     "text": [
      "2) Поиск оптимального решения:\n",
      "Разрешающая строка: x4\n",
      "Разрешающий столбец: x1\n",
      "+----+-------+------+-----+------+\n",
      "|    |  Si0  |  x4  |  x2 |  x3  |\n",
      "+----+-------+------+-----+------+\n",
      "| x1 |  7.0  | 1.0  | 1.0 | 1.0  |\n",
      "| x5 |  1.0  | -1.0 | 2.0 | -1.0 |\n",
      "| x6 |  6.0  | -0.0 | 0.5 | 4.0  |\n",
      "| F  | -35.0 | -5.0 | 1.0 | -1.0 |\n",
      "+----+-------+------+-----+------+\n",
      "Разрешающая строка: x5\n",
      "Разрешающий столбец: x2\n",
      "+----+-------+------+-------+------+\n",
      "|    |  Si0  |  x4  |   x5  |  x3  |\n",
      "+----+-------+------+-------+------+\n",
      "| x1 |  6.5  | 1.5  |  -0.5 | 1.5  |\n",
      "| x2 |  0.5  | -0.5 |  0.5  | -0.5 |\n",
      "| x6 |  5.75 | 0.25 | -0.25 | 4.25 |\n",
      "| F  | -35.5 | -4.5 |  -0.5 | -0.5 |\n",
      "+----+-------+------+-------+------+\n",
      "Оптимальное решение найдено!\n",
      "x4 = x5 = x3 = 0, x1 =  6.5, x2 =  0.5, x6 =  5.8, \n",
      "Целевая функция: F = 35.5\n"
     ]
    }
   ],
   "source": [
    "problem.optimal_solution()"
   ]
  }
 ],
 "metadata": {
  "kernelspec": {
   "display_name": "Python 3 (ipykernel)",
   "language": "python",
   "name": "python3"
  },
  "language_info": {
   "codemirror_mode": {
    "name": "ipython",
    "version": 3
   },
   "file_extension": ".py",
   "mimetype": "text/x-python",
   "name": "python",
   "nbconvert_exporter": "python",
   "pygments_lexer": "ipython3",
   "version": "3.11.4"
  }
 },
 "nbformat": 4,
 "nbformat_minor": 5
}
