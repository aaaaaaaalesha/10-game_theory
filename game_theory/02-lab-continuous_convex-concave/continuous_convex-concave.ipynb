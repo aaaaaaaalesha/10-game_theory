{
 "cells": [
  {
   "cell_type": "markdown",
   "id": "b10c4d08d09da559",
   "metadata": {
    "collapsed": false
   },
   "source": [
    "# Лабораторная работа №2\n",
    "**\"Непрерывные выпукло-вогнутые игры\"**\n",
    "\n",
    "**Выполнил: Александров А. Н., ИУ8-104**\n",
    "\n",
    "**Вариант: 1**\n",
    "\n",
    "## Задание\n",
    "Функция ядра имеет вид:\n",
    "\n",
    "$$H(x, y) = ax^2 + by^2 + cxy + dx + ey,$$\n",
    "\n",
    "где:\n",
    "\n",
    "|  a |   b  |   c  |   d  |   e  |\n",
    "|:--:|:----:|:----:|:----:|:----:|\n",
    "| -5 | 5/12 | 10/3 | -2/3 | -4/3 |\n",
    "\n",
    "Найти оптимальные стратегии непрерывной выпукло-вогнутой антагонистической игры аналитическим и численным методами."
   ]
  },
  {
   "cell_type": "code",
   "execution_count": 37,
   "id": "1d6c8f9de0f36dae",
   "metadata": {
    "collapsed": false,
    "ExecuteTime": {
     "end_time": "2024-03-22T09:55:14.101451Z",
     "start_time": "2024-03-22T09:55:14.093869Z"
    }
   },
   "outputs": [],
   "source": [
    "import logging\n",
    "\n",
    "import sympy\n",
    "from sympy import N, Eq, abc\n",
    "# To represent multiple expressions in output of single cell.\n",
    "from IPython.display import display\n",
    "\n",
    "# from game_theory.utils.matrix_games.brown_robinson.brown_robinson import BrownRobinson\n",
    "\n",
    "logging.basicConfig(level=logging.INFO, format='%(message)s')"
   ]
  },
  {
   "cell_type": "code",
   "execution_count": 38,
   "id": "8b8d848d-702e-424e-a5c1-3727bbc6bef5",
   "metadata": {
    "ExecuteTime": {
     "end_time": "2024-03-22T09:55:14.702960Z",
     "start_time": "2024-03-22T09:55:14.700554Z"
    }
   },
   "outputs": [],
   "source": [
    "ROUND_CONST: int = 4\n",
    "A, B, C, D, E = (\n",
    "    round(-5, ROUND_CONST),\n",
    "    round(5 / 12, ROUND_CONST),\n",
    "    round(10 / 3, ROUND_CONST),\n",
    "    round(-2 / 3, ROUND_CONST),\n",
    "    round(-4 / 3, ROUND_CONST),\n",
    ")"
   ]
  },
  {
   "cell_type": "code",
   "execution_count": 39,
   "id": "7555bb29-0040-4e84-bd2f-b8a8b69c04c4",
   "metadata": {
    "ExecuteTime": {
     "end_time": "2024-03-22T09:55:15.075680Z",
     "start_time": "2024-03-22T09:55:15.070645Z"
    }
   },
   "outputs": [],
   "source": [
    "# Входные параметры: коэффициенты функции ядра.\n",
    "a, b, c, d, e = sympy.var((\"a\", \"b\", \"c\", \"d\", \"e\"))"
   ]
  },
  {
   "cell_type": "code",
   "execution_count": 40,
   "id": "2a6f5074e0cd97b2",
   "metadata": {
    "collapsed": false,
    "ExecuteTime": {
     "end_time": "2024-03-22T09:55:15.795009Z",
     "start_time": "2024-03-22T09:55:15.762321Z"
    }
   },
   "outputs": [
    {
     "data": {
      "text/plain": "Lambda((x, y), a*x**2 + b*y**2 + c*x*y + d*x + e*y)",
      "text/latex": "$\\displaystyle \\left( \\left( x, \\  y\\right) \\mapsto a x^{2} + b y^{2} + c x y + d x + e y \\right)$"
     },
     "execution_count": 40,
     "metadata": {},
     "output_type": "execute_result"
    }
   ],
   "source": [
    "# Переменные.\n",
    "x, y = sympy.symbols((\"x\", \"y\"))\n",
    "# Задание функции ядра. \n",
    "kernel_func = sympy.Lambda(\n",
    "    (x, y),\n",
    "    a * x ** 2 + b * y ** 2 + c * x * y + d * x + e * y,\n",
    ")\n",
    "\n",
    "kernel_func"
   ]
  },
  {
   "cell_type": "code",
   "execution_count": 41,
   "id": "611fc782-83dc-4b3e-a5c7-2b6d329d7c06",
   "metadata": {
    "ExecuteTime": {
     "end_time": "2024-03-22T09:55:16.134808Z",
     "start_time": "2024-03-22T09:55:16.113028Z"
    }
   },
   "outputs": [
    {
     "data": {
      "text/plain": "Lambda((x, y), -5*x**2 + 3.3333*x*y - 0.6667*x + 0.4167*y**2 - 1.3333*y)",
      "text/latex": "$\\displaystyle \\left( \\left( x, \\  y\\right) \\mapsto - 5 x^{2} + 3.3333 x y - 0.6667 x + 0.4167 y^{2} - 1.3333 y \\right)$"
     },
     "execution_count": 41,
     "metadata": {},
     "output_type": "execute_result"
    }
   ],
   "source": [
    "kernel_func.subs({a: A, b: B, c: C, d: D, e: E})"
   ]
  },
  {
   "cell_type": "code",
   "execution_count": 42,
   "id": "98e6cf4d3fac1093",
   "metadata": {
    "collapsed": false,
    "ExecuteTime": {
     "end_time": "2024-03-22T09:55:16.668521Z",
     "start_time": "2024-03-22T09:55:16.612392Z"
    }
   },
   "outputs": [
    {
     "data": {
      "text/plain": "Eq(Derivative(a*x**2 + b*y**2 + c*x*y + d*x + e*y, (x, 2)), 2*a)",
      "text/latex": "$\\displaystyle \\frac{\\partial^{2}}{\\partial x^{2}} \\left(a x^{2} + b y^{2} + c x y + d x + e y\\right) = 2 a$"
     },
     "metadata": {},
     "output_type": "display_data"
    },
    {
     "data": {
      "text/plain": "Eq(2*a, -10)",
      "text/latex": "$\\displaystyle 2 a = -10$"
     },
     "execution_count": 42,
     "metadata": {},
     "output_type": "execute_result"
    }
   ],
   "source": [
    "kernel_xx = sympy.diff(kernel_func(x, y), x, 2, evaluate=False)\n",
    "kernel_xx_eval = kernel_xx.doit()\n",
    "kernel_xx_subs: float = kernel_xx_eval.subs({a: A, b: B, c: C, d: D, e: E})\n",
    "\n",
    "display(Eq(kernel_xx, kernel_xx_eval))\n",
    "Eq(kernel_xx_eval, kernel_xx_subs)"
   ]
  },
  {
   "cell_type": "code",
   "execution_count": 43,
   "id": "c3a72bb540fb0b25",
   "metadata": {
    "collapsed": false,
    "ExecuteTime": {
     "end_time": "2024-03-22T09:55:17.132315Z",
     "start_time": "2024-03-22T09:55:17.089380Z"
    }
   },
   "outputs": [
    {
     "data": {
      "text/plain": "Eq(Derivative(a*x**2 + b*y**2 + c*x*y + d*x + e*y, (y, 2)), 2*b)",
      "text/latex": "$\\displaystyle \\frac{\\partial^{2}}{\\partial y^{2}} \\left(a x^{2} + b y^{2} + c x y + d x + e y\\right) = 2 b$"
     },
     "metadata": {},
     "output_type": "display_data"
    },
    {
     "data": {
      "text/plain": "Eq(2*b, 0.8334)",
      "text/latex": "$\\displaystyle 2 b = 0.8334$"
     },
     "execution_count": 43,
     "metadata": {},
     "output_type": "execute_result"
    }
   ],
   "source": [
    "kernel_yy = sympy.diff(kernel_func(x, y), y, 2, evaluate=False)\n",
    "kernel_yy_eval = kernel_yy.doit()\n",
    "kernel_yy_subs: float = kernel_yy_eval.subs({a: A, b: B, c: C, d: D, e: E})\n",
    "\n",
    "display(Eq(kernel_yy, kernel_yy_eval))\n",
    "Eq(kernel_yy_eval, kernel_yy_subs)"
   ]
  },
  {
   "cell_type": "code",
   "execution_count": 44,
   "id": "2b253382-d64d-4d0a-ae31-63cd39e07bde",
   "metadata": {
    "ExecuteTime": {
     "end_time": "2024-03-22T09:55:18.488539Z",
     "start_time": "2024-03-22T09:55:18.483118Z"
    }
   },
   "outputs": [],
   "source": [
    "is_convex_concave: bool = kernel_xx_subs < 0 < kernel_yy_subs\n",
    "assert is_convex_concave, (\n",
    "    \"Игра не является выпукло-вогнутой, т.к. для функции ядра одновременно не выполняется оба условия: \\n\"\n",
    "    f\"H_xx = {2 * a:.2f} < 0 и H_yy = {2 * b:.2f} > 0\"\n",
    ")"
   ]
  },
  {
   "cell_type": "markdown",
   "id": "39871967-1a83-4a8e-ad08-21f71d1e8f7a",
   "metadata": {},
   "source": [
    "### Для нахождения оптимальных стратегий найдем производные функции ядра по каждой переменной"
   ]
  },
  {
   "cell_type": "code",
   "execution_count": 45,
   "id": "64ca4cc4-350d-4520-bf41-2a71a83626e8",
   "metadata": {
    "ExecuteTime": {
     "end_time": "2024-03-22T09:55:19.607156Z",
     "start_time": "2024-03-22T09:55:19.600777Z"
    }
   },
   "outputs": [],
   "source": [
    "# Производная по x.\n",
    "kernel_x = sympy.diff(kernel_func(x, y), x, evaluate=False)\n",
    "kernel_x_eval = kernel_x.doit()\n",
    "kernel_x_subs = kernel_x_eval.subs({a: A, b: B, c: C, d: D, e: E})\n",
    "# Производная по y.\n",
    "kernel_y = sympy.diff(kernel_func(x, y), y, evaluate=False)\n",
    "kernel_y_eval = kernel_y.doit()\n",
    "kernel_y_subs = kernel_y_eval.subs({a: A, b: B, c: C, d: D, e: E})"
   ]
  },
  {
   "cell_type": "code",
   "outputs": [
    {
     "data": {
      "text/plain": "Eq(Derivative(a*x**2 + b*y**2 + c*x*y + d*x + e*y, x), 2*a*x + c*y + d)",
      "text/latex": "$\\displaystyle \\frac{\\partial}{\\partial x} \\left(a x^{2} + b y^{2} + c x y + d x + e y\\right) = 2 a x + c y + d$"
     },
     "metadata": {},
     "output_type": "display_data"
    },
    {
     "data": {
      "text/plain": "Eq(2*a*x + c*y + d, -10*x + 3.3333*y - 0.6667)",
      "text/latex": "$\\displaystyle 2 a x + c y + d = - 10 x + 3.3333 y - 0.6667$"
     },
     "execution_count": 46,
     "metadata": {},
     "output_type": "execute_result"
    }
   ],
   "source": [
    "display(Eq(kernel_x, kernel_x_eval))\n",
    "Eq(kernel_x_eval, kernel_x_subs)"
   ],
   "metadata": {
    "collapsed": false,
    "ExecuteTime": {
     "end_time": "2024-03-22T09:55:20.275670Z",
     "start_time": "2024-03-22T09:55:20.259756Z"
    }
   },
   "id": "8a532ebec30db0f7",
   "execution_count": 46
  },
  {
   "cell_type": "code",
   "execution_count": 47,
   "id": "7051f6d1-d33d-4d1b-8e6e-3f947b333d36",
   "metadata": {
    "ExecuteTime": {
     "end_time": "2024-03-22T09:55:21.402399Z",
     "start_time": "2024-03-22T09:55:21.354807Z"
    }
   },
   "outputs": [
    {
     "data": {
      "text/plain": "Eq(Derivative(a*x**2 + b*y**2 + c*x*y + d*x + e*y, y), 2*b*y + c*x + e)",
      "text/latex": "$\\displaystyle \\frac{\\partial}{\\partial y} \\left(a x^{2} + b y^{2} + c x y + d x + e y\\right) = 2 b y + c x + e$"
     },
     "metadata": {},
     "output_type": "display_data"
    },
    {
     "data": {
      "text/plain": "Eq(2*b*y + c*x + e, 3.3333*x + 0.8334*y - 1.3333)",
      "text/latex": "$\\displaystyle 2 b y + c x + e = 3.3333 x + 0.8334 y - 1.3333$"
     },
     "execution_count": 47,
     "metadata": {},
     "output_type": "execute_result"
    }
   ],
   "source": [
    "display(Eq(kernel_y, kernel_y_eval))\n",
    "Eq(kernel_y_eval, kernel_y_subs)"
   ]
  },
  {
   "cell_type": "markdown",
   "id": "f8d1ac9d-71ca-4d6b-9cb9-b6711ddb0da3",
   "metadata": {},
   "source": [
    "#### После приравнивания производных к нулю получим"
   ]
  },
  {
   "cell_type": "code",
   "execution_count": 48,
   "id": "f099f279-d855-438f-b94f-46ef6ce71464",
   "metadata": {
    "ExecuteTime": {
     "end_time": "2024-03-22T09:55:23.130039Z",
     "start_time": "2024-03-22T09:55:23.083411Z"
    }
   },
   "outputs": [],
   "source": [
    "# \n",
    "zero_kernel_x, = sympy.solve(Eq(kernel_x_eval, 0), x)\n",
    "zero_kernel_x_subs = zero_kernel_x.subs({a: A, b: B, c: C, d: D, e: E})\n",
    "# \n",
    "zero_kernel_y, = sympy.solve(Eq(kernel_y_eval, 0), y)\n",
    "zero_kernel_y_subs = zero_kernel_y.subs({a: A, b: B, c: C, d: D, e: E})"
   ]
  },
  {
   "cell_type": "code",
   "outputs": [
    {
     "data": {
      "text/plain": "Eq(x, (-c*y - d)/(2*a))",
      "text/latex": "$\\displaystyle x = \\frac{- c y - d}{2 a}$"
     },
     "metadata": {},
     "output_type": "display_data"
    },
    {
     "data": {
      "text/plain": "Eq(x, 0.3333*y - 0.06667)",
      "text/latex": "$\\displaystyle x = 0.3333 y - 0.06667$"
     },
     "metadata": {},
     "output_type": "display_data"
    }
   ],
   "source": [
    "display(Eq(x, zero_kernel_x))\n",
    "display(N(Eq(x, zero_kernel_x_subs), ROUND_CONST))"
   ],
   "metadata": {
    "collapsed": false,
    "ExecuteTime": {
     "end_time": "2024-03-22T09:55:23.885895Z",
     "start_time": "2024-03-22T09:55:23.861559Z"
    }
   },
   "id": "5f2f4adf95106134",
   "execution_count": 49
  },
  {
   "cell_type": "code",
   "outputs": [
    {
     "data": {
      "text/plain": "Eq(y, (-c*x - e)/(2*b))",
      "text/latex": "$\\displaystyle y = \\frac{- c x - e}{2 b}$"
     },
     "metadata": {},
     "output_type": "display_data"
    },
    {
     "data": {
      "text/plain": "Eq(y, 1.6 - 4.0*x)",
      "text/latex": "$\\displaystyle y = 1.6 - 4.0 x$"
     },
     "metadata": {},
     "output_type": "display_data"
    }
   ],
   "source": [
    "display(Eq(y, zero_kernel_y))\n",
    "display(N(Eq(y, zero_kernel_y_subs), ROUND_CONST))"
   ],
   "metadata": {
    "collapsed": false,
    "ExecuteTime": {
     "end_time": "2024-03-22T09:55:24.574029Z",
     "start_time": "2024-03-22T09:55:24.534637Z"
    }
   },
   "id": "9507fbe03ccb1a11",
   "execution_count": 50
  },
  {
   "cell_type": "markdown",
   "id": "5adc0daf-bf9f-4418-bfe2-559cfe9da78e",
   "metadata": {},
   "source": [
    "#### Учитывая, что х, удолжны быть неотрицательными, для оптимальных стратегий соответственно имеем"
   ]
  },
  {
   "cell_type": "code",
   "execution_count": 55,
   "id": "96f993fa-c735-4545-9c9a-bd3f7e21d3ac",
   "metadata": {
    "ExecuteTime": {
     "end_time": "2024-03-22T09:55:51.663830Z",
     "start_time": "2024-03-22T09:55:51.653679Z"
    }
   },
   "outputs": [],
   "source": [
    "# Кусочно заданная функция относительно y.\n",
    "psi_y = sympy.Piecewise(\n",
    "    (zero_kernel_x, y >= -d / c),\n",
    "    (0, y < -d / c)\n",
    ")\n",
    "psi_y_subs = psi_y.subs({a: A, b: B, c: C, d: D, e: E})\n",
    "# Кусочно заданная функция относительно x.\n",
    "phi_x = sympy.Piecewise(\n",
    "    (zero_kernel_y, y >= -e / c),\n",
    "    (0, y < -e / c)\n",
    ")\n",
    "phi_x_subs = phi_x.subs({a: A, b: B, c: C, d: D, e: E})"
   ]
  },
  {
   "cell_type": "code",
   "outputs": [
    {
     "data": {
      "text/plain": "Eq(psi, Piecewise(((-c*y - d)/(2*a), y >= -d/c), (0, True)))",
      "text/latex": "$\\displaystyle \\psi = \\begin{cases} \\frac{- c y - d}{2 a} & \\text{for}\\: y \\geq - \\frac{d}{c} \\\\0 & \\text{otherwise} \\end{cases}$"
     },
     "metadata": {},
     "output_type": "display_data"
    },
    {
     "data": {
      "text/plain": "Eq(psi, Piecewise((0.33333*y - 0.06667, y >= 0.200012000120001), (0, True)))",
      "text/latex": "$\\displaystyle \\psi = \\begin{cases} 0.33333 y - 0.06667 & \\text{for}\\: y \\geq 0.200012000120001 \\\\0 & \\text{otherwise} \\end{cases}$"
     },
     "metadata": {},
     "output_type": "display_data"
    }
   ],
   "source": [
    "display(Eq(abc.psi, psi_y))\n",
    "display(Eq(abc.psi, psi_y_subs))"
   ],
   "metadata": {
    "collapsed": false,
    "ExecuteTime": {
     "end_time": "2024-03-22T09:55:51.957716Z",
     "start_time": "2024-03-22T09:55:51.950173Z"
    }
   },
   "id": "20bd0bf08514cb96",
   "execution_count": 56
  },
  {
   "cell_type": "code",
   "outputs": [
    {
     "data": {
      "text/plain": "Eq(phi, Piecewise(((-c*x - e)/(2*b), y >= -e/c), (0, True)))",
      "text/latex": "$\\displaystyle \\phi = \\begin{cases} \\frac{- c x - e}{2 b} & \\text{for}\\: y \\geq - \\frac{e}{c} \\\\0 & \\text{otherwise} \\end{cases}$"
     },
     "metadata": {},
     "output_type": "display_data"
    },
    {
     "data": {
      "text/plain": "Eq(phi, Piecewise((1.59983201343892 - 3.9996400287977*x, y >= 0.399993999939999), (0, True)))",
      "text/latex": "$\\displaystyle \\phi = \\begin{cases} 1.59983201343892 - 3.9996400287977 x & \\text{for}\\: y \\geq 0.399993999939999 \\\\0 & \\text{otherwise} \\end{cases}$"
     },
     "metadata": {},
     "output_type": "display_data"
    }
   ],
   "source": [
    "display(Eq(abc.phi, phi_x))\n",
    "display(Eq(abc.phi, phi_x_subs))"
   ],
   "metadata": {
    "collapsed": false,
    "ExecuteTime": {
     "end_time": "2024-03-22T09:55:52.532677Z",
     "start_time": "2024-03-22T09:55:52.515598Z"
    }
   },
   "id": "ab98836e92015ce4",
   "execution_count": 57
  },
  {
   "cell_type": "code",
   "execution_count": 59,
   "id": "12cd20b8-6bb5-49f0-9f9c-796d5ea2efae",
   "metadata": {
    "ExecuteTime": {
     "end_time": "2024-03-22T10:06:47.002631Z",
     "start_time": "2024-03-22T10:06:46.779168Z"
    }
   },
   "outputs": [
    {
     "data": {
      "text/plain": "<Figure size 640x480 with 1 Axes>",
      "image/png": "[encoded data removed]"
     },
     "metadata": {},
     "output_type": "display_data"
    },
    {
     "ename": "ValueError",
     "evalue": "The same variable should be used in all univariate expressions being plotted.",
     "output_type": "error",
     "traceback": [
      "\u001B[0;31m---------------------------------------------------------------------------\u001B[0m",
      "\u001B[0;31mValueError\u001B[0m                                Traceback (most recent call last)",
      "Cell \u001B[0;32mIn[59], line 2\u001B[0m\n\u001B[1;32m      1\u001B[0m sympy\u001B[38;5;241m.\u001B[39mplotting\u001B[38;5;241m.\u001B[39mplot(psi_y_subs, (y, \u001B[38;5;241m0\u001B[39m, \u001B[38;5;241m10\u001B[39m))\n\u001B[0;32m----> 2\u001B[0m \u001B[43msympy\u001B[49m\u001B[38;5;241;43m.\u001B[39;49m\u001B[43mplotting\u001B[49m\u001B[38;5;241;43m.\u001B[39;49m\u001B[43mplot\u001B[49m\u001B[43m(\u001B[49m\u001B[43mphi_x_subs\u001B[49m\u001B[43m,\u001B[49m\u001B[43m \u001B[49m\u001B[43m(\u001B[49m\u001B[43mx\u001B[49m\u001B[43m,\u001B[49m\u001B[43m \u001B[49m\u001B[38;5;241;43m0\u001B[39;49m\u001B[43m,\u001B[49m\u001B[43m \u001B[49m\u001B[38;5;241;43m10\u001B[39;49m\u001B[43m)\u001B[49m\u001B[43m)\u001B[49m\n",
      "File \u001B[0;32m~/Library/Caches/pypoetry/virtualenvs/game-theory-7Qtf7jHb-py3.11/lib/python3.11/site-packages/sympy/plotting/plot.py:1861\u001B[0m, in \u001B[0;36mplot\u001B[0;34m(show, *args, **kwargs)\u001B[0m\n\u001B[1;32m   1859\u001B[0m         free \u001B[38;5;241m|\u001B[39m\u001B[38;5;241m=\u001B[39m a\u001B[38;5;241m.\u001B[39mfree_symbols\n\u001B[1;32m   1860\u001B[0m         \u001B[38;5;28;01mif\u001B[39;00m \u001B[38;5;28mlen\u001B[39m(free) \u001B[38;5;241m>\u001B[39m \u001B[38;5;241m1\u001B[39m:\n\u001B[0;32m-> 1861\u001B[0m             \u001B[38;5;28;01mraise\u001B[39;00m \u001B[38;5;167;01mValueError\u001B[39;00m(\n\u001B[1;32m   1862\u001B[0m                 \u001B[38;5;124m'\u001B[39m\u001B[38;5;124mThe same variable should be used in all \u001B[39m\u001B[38;5;124m'\u001B[39m\n\u001B[1;32m   1863\u001B[0m                 \u001B[38;5;124m'\u001B[39m\u001B[38;5;124munivariate expressions being plotted.\u001B[39m\u001B[38;5;124m'\u001B[39m)\n\u001B[1;32m   1864\u001B[0m x \u001B[38;5;241m=\u001B[39m free\u001B[38;5;241m.\u001B[39mpop() \u001B[38;5;28;01mif\u001B[39;00m free \u001B[38;5;28;01melse\u001B[39;00m Symbol(\u001B[38;5;124m'\u001B[39m\u001B[38;5;124mx\u001B[39m\u001B[38;5;124m'\u001B[39m)\n\u001B[1;32m   1865\u001B[0m kwargs\u001B[38;5;241m.\u001B[39msetdefault(\u001B[38;5;124m'\u001B[39m\u001B[38;5;124mxlabel\u001B[39m\u001B[38;5;124m'\u001B[39m, x)\n",
      "\u001B[0;31mValueError\u001B[0m: The same variable should be used in all univariate expressions being plotted."
     ]
    }
   ],
   "source": [
    "# sympy.plotting.plot(psi_y_subs, (y, 0, 10))\n",
    "# sympy.plotting.plot(phi_x_subs, (x, 0, 10))"
   ]
  },
  {
   "cell_type": "markdown",
   "id": "9d193fef-518b-4b4e-b04b-3a0c9a518810",
   "metadata": {},
   "source": [
    "#### Совместное аналитическое решение этой системы имеет вид"
   ]
  },
  {
   "cell_type": "code",
   "execution_count": null,
   "id": "9a6b61b7-279c-41a1-9e43-5bc6e4eeabf2",
   "metadata": {},
   "outputs": [],
   "source": [
    "# Система из двух уравнений"
   ]
  },
  {
   "cell_type": "code",
   "execution_count": null,
   "id": "9573e1f9-9b53-4332-b904-83d041a98d80",
   "metadata": {},
   "outputs": [],
   "source": [
    "sol"
   ]
  },
  {
   "cell_type": "code",
   "execution_count": null,
   "id": "f05e4a52-495d-46cd-addd-7f43d7ce7e04",
   "metadata": {},
   "outputs": [],
   "source": []
  }
 ],
 "metadata": {
  "kernelspec": {
   "display_name": "Python 3 (ipykernel)",
   "language": "python",
   "name": "python3"
  },
  "language_info": {
   "codemirror_mode": {
    "name": "ipython",
    "version": 3
   },
   "file_extension": ".py",
   "mimetype": "text/x-python",
   "name": "python",
   "nbconvert_exporter": "python",
   "pygments_lexer": "ipython3",
   "version": "3.11.4"
  }
 },
 "nbformat": 4,
 "nbformat_minor": 5
}
