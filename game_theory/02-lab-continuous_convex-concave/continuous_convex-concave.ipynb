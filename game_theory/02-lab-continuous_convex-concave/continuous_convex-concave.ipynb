{
 "cells": [
  {
   "cell_type": "markdown",
   "source": [
    "# Лабораторная работа №2\n",
    "**\"Непрерывные выпукло-вогнутые игры\"**\n",
    "\n",
    "**Выполнил: Александров А. Н., ИУ8-104**\n",
    "\n",
    "**Вариант: 1**\n",
    "\n",
    "## Задание\n",
    "Функция ядра имеет вид:\n",
    "\n",
    "$$H(x, y) = ax^2 + by^2 + cxy + dx + ey,$$\n",
    "\n",
    "где:\n",
    "\n",
    "|  a |   b  |   c  |   d  |   e  |\n",
    "|:--:|:----:|:----:|:----:|:----:|\n",
    "| -5 | 5/12 | 10/3 | -2/3 | -4/3 |\n",
    "\n",
    "Найти оптимальные стратегии непрерывной выпукло-вогнутой антагонистической игры аналитическим и численным методами."
   ],
   "metadata": {
    "collapsed": false
   },
   "id": "b10c4d08d09da559"
  },
  {
   "cell_type": "code",
   "outputs": [],
   "source": [
    "import logging\n",
    "from pathlib import Path\n",
    "\n",
    "import numpy as np\n",
    "\n",
    "from game_theory.utils.matrix_games.brown_robinson.brown_robinson import BrownRobinson\n",
    "logging.basicConfig(level=logging.INFO, format='%(message)s')"
   ],
   "metadata": {
    "collapsed": false
   },
   "id": "1d6c8f9de0f36dae"
  },
  {
   "cell_type": "code",
   "outputs": [],
   "source": [],
   "metadata": {
    "collapsed": false
   },
   "id": "2a6f5074e0cd97b2"
  }
 ],
 "metadata": {
  "kernelspec": {
   "display_name": "Python 3",
   "language": "python",
   "name": "python3"
  },
  "language_info": {
   "codemirror_mode": {
    "name": "ipython",
    "version": 2
   },
   "file_extension": ".py",
   "mimetype": "text/x-python",
   "name": "python",
   "nbconvert_exporter": "python",
   "pygments_lexer": "ipython2",
   "version": "2.7.6"
  }
 },
 "nbformat": 4,
 "nbformat_minor": 5
}
