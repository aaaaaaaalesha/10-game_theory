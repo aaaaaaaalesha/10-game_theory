{
 "cells": [
  {
   "cell_type": "markdown",
   "id": "b10c4d08d09da559",
   "metadata": {
    "collapsed": false,
    "jupyter": {
     "outputs_hidden": false
    }
   },
   "source": [
    "# Лабораторная работа №2\n",
    "**\"Непрерывные выпукло-вогнутые игры\"**\n",
    "\n",
    "**Выполнил: Александров А. Н., ИУ8-104**\n",
    "\n",
    "**Вариант: 1**\n",
    "\n",
    "## Задание\n",
    "Функция ядра имеет вид:\n",
    "\n",
    "$$H(x, y) = ax^2 + by^2 + cxy + dx + ey,$$\n",
    "\n",
    "где:\n",
    "\n",
    "|  a |   b  |   c  |   d  |   e  |\n",
    "|:--:|:----:|:----:|:----:|:----:|\n",
    "| -5 | 5/12 | 10/3 | -2/3 | -4/3 |\n",
    "\n",
    "Найти оптимальные стратегии непрерывной выпукло-вогнутой антагонистической игры аналитическим и численным методами."
   ]
  },
  {
   "cell_type": "code",
   "execution_count": 286,
   "id": "1d6c8f9de0f36dae",
   "metadata": {
    "ExecuteTime": {
     "end_time": "2024-03-24T12:48:59.584432Z",
     "start_time": "2024-03-24T12:48:59.570723Z"
    },
    "collapsed": false,
    "jupyter": {
     "outputs_hidden": false
    }
   },
   "outputs": [],
   "source": [
    "import logging\n",
    "\n",
    "import sympy\n",
    "from sympy import N, Eq, abc\n",
    "# To represent multiple expressions in output of single cell.\n",
    "from IPython.display import display\n",
    "\n",
    "from game_theory.utils.continuous_games.convex_concave.numeric import NumericMethod\n",
    "\n",
    "logging.basicConfig(level=logging.INFO, format='%(message)s')"
   ]
  },
  {
   "cell_type": "code",
   "execution_count": 287,
   "id": "8b8d848d-702e-424e-a5c1-3727bbc6bef5",
   "metadata": {
    "ExecuteTime": {
     "end_time": "2024-03-24T12:48:59.592404Z",
     "start_time": "2024-03-24T12:48:59.589900Z"
    }
   },
   "outputs": [],
   "source": [
    "ROUND_CONST: int = 3\n",
    "A, B, C, D, E = (\n",
    "    -5,\n",
    "    5 / 12,\n",
    "    10 / 3,\n",
    "    -2 / 3,\n",
    "    -4 / 3,\n",
    ")"
   ]
  },
  {
   "cell_type": "markdown",
   "id": "f6cf0005f191ae8c",
   "metadata": {
    "collapsed": false,
    "jupyter": {
     "outputs_hidden": false
    }
   },
   "source": [
    "## 1. Аналитическое решение"
   ]
  },
  {
   "cell_type": "code",
   "execution_count": 288,
   "id": "2a6f5074e0cd97b2",
   "metadata": {
    "ExecuteTime": {
     "end_time": "2024-03-24T12:48:59.643347Z",
     "start_time": "2024-03-24T12:48:59.612600Z"
    },
    "collapsed": false,
    "jupyter": {
     "outputs_hidden": false
    }
   },
   "outputs": [
    {
     "data": {
      "text/latex": [
       "$\\displaystyle \\left( \\left( x, \\  y\\right) \\mapsto a x^{2} + b y^{2} + c x y + d x + e y \\right)$"
      ],
      "text/plain": [
       "Lambda((x, y), a*x**2 + b*y**2 + c*x*y + d*x + e*y)"
      ]
     },
     "metadata": {},
     "output_type": "display_data"
    },
    {
     "data": {
      "text/latex": [
       "$\\displaystyle \\left( \\left( x, \\  y\\right) \\mapsto - 5.0 x^{2} + 3.33 x y - 0.667 x + 0.417 y^{2} - 1.33 y \\right)$"
      ],
      "text/plain": [
       "Lambda((x, y), -5.0*x**2 + 3.33*x*y - 0.667*x + 0.417*y**2 - 1.33*y)"
      ]
     },
     "execution_count": 288,
     "metadata": {},
     "output_type": "execute_result"
    }
   ],
   "source": [
    "# Входные параметры: коэффициенты функции ядра.\n",
    "a, b, c, d, e = sympy.var((\"a\", \"b\", \"c\", \"d\", \"e\"))\n",
    "# Переменные.\n",
    "x, y = sympy.symbols((\"x\", \"y\"))\n",
    "\n",
    "# Задание функции ядра. \n",
    "kernel_func = sympy.Lambda(\n",
    "    (x, y),\n",
    "    a * x ** 2 + b * y ** 2 + c * x * y + d * x + e * y,\n",
    ")\n",
    "kernel_func_subs = kernel_func.subs({a: A, b: B, c: C, d: D, e: E})\n",
    "\n",
    "display(kernel_func)\n",
    "N(kernel_func_subs, ROUND_CONST)"
   ]
  },
  {
   "cell_type": "code",
   "execution_count": 289,
   "id": "98e6cf4d3fac1093",
   "metadata": {
    "ExecuteTime": {
     "end_time": "2024-03-24T12:48:59.671369Z",
     "start_time": "2024-03-24T12:48:59.645308Z"
    },
    "collapsed": false,
    "jupyter": {
     "outputs_hidden": false
    }
   },
   "outputs": [
    {
     "data": {
      "text/latex": [
       "$\\displaystyle \\frac{\\partial^{2}}{\\partial x^{2}} \\left(a x^{2} + b y^{2} + c x y + d x + e y\\right) = 2 a$"
      ],
      "text/plain": [
       "Eq(Derivative(a*x**2 + b*y**2 + c*x*y + d*x + e*y, (x, 2)), 2*a)"
      ]
     },
     "metadata": {},
     "output_type": "display_data"
    },
    {
     "data": {
      "text/latex": [
       "$\\displaystyle 2.0 a = -10.0$"
      ],
      "text/plain": [
       "Eq(2.0*a, -10.0)"
      ]
     },
     "execution_count": 289,
     "metadata": {},
     "output_type": "execute_result"
    }
   ],
   "source": [
    "kernel_xx = sympy.diff(kernel_func(x, y), x, 2, evaluate=False)\n",
    "kernel_xx_eval = kernel_xx.doit()\n",
    "kernel_xx_subs = kernel_xx_eval.subs({a: A, b: B, c: C, d: D, e: E})\n",
    "\n",
    "display(Eq(kernel_xx, kernel_xx_eval))\n",
    "N(Eq(kernel_xx_eval, kernel_xx_subs), ROUND_CONST)"
   ]
  },
  {
   "cell_type": "code",
   "execution_count": 290,
   "id": "c3a72bb540fb0b25",
   "metadata": {
    "ExecuteTime": {
     "end_time": "2024-03-24T12:48:59.707506Z",
     "start_time": "2024-03-24T12:48:59.682020Z"
    },
    "collapsed": false,
    "jupyter": {
     "outputs_hidden": false
    }
   },
   "outputs": [
    {
     "data": {
      "text/latex": [
       "$\\displaystyle \\frac{\\partial^{2}}{\\partial y^{2}} \\left(a x^{2} + b y^{2} + c x y + d x + e y\\right) = 2 b$"
      ],
      "text/plain": [
       "Eq(Derivative(a*x**2 + b*y**2 + c*x*y + d*x + e*y, (y, 2)), 2*b)"
      ]
     },
     "metadata": {},
     "output_type": "display_data"
    },
    {
     "data": {
      "text/latex": [
       "$\\displaystyle 2.0 b = 0.833$"
      ],
      "text/plain": [
       "Eq(2.0*b, 0.833)"
      ]
     },
     "execution_count": 290,
     "metadata": {},
     "output_type": "execute_result"
    }
   ],
   "source": [
    "kernel_yy = sympy.diff(kernel_func(x, y), y, 2, evaluate=False)\n",
    "kernel_yy_eval = kernel_yy.doit()\n",
    "kernel_yy_subs = kernel_yy_eval.subs({a: A, b: B, c: C, d: D, e: E})\n",
    "\n",
    "display(Eq(kernel_yy, kernel_yy_eval))\n",
    "N(Eq(kernel_yy_eval, kernel_yy_subs), ROUND_CONST)"
   ]
  },
  {
   "cell_type": "code",
   "execution_count": 291,
   "id": "2b253382-d64d-4d0a-ae31-63cd39e07bde",
   "metadata": {
    "ExecuteTime": {
     "end_time": "2024-03-24T12:48:59.717239Z",
     "start_time": "2024-03-24T12:48:59.711876Z"
    }
   },
   "outputs": [],
   "source": [
    "is_convex_concave: bool = kernel_xx_subs < 0 < kernel_yy_subs\n",
    "assert is_convex_concave, (\n",
    "    \"Игра не является выпукло-вогнутой, т.к. для функции ядра одновременно не выполняется оба условия: \\n\"\n",
    "    f\"H_xx = {2 * a:.2f} < 0 и H_yy = {2 * b:.2f} > 0\"\n",
    ")"
   ]
  },
  {
   "cell_type": "markdown",
   "id": "39871967-1a83-4a8e-ad08-21f71d1e8f7a",
   "metadata": {},
   "source": [
    "Для нахождения оптимальных стратегий найдем производные функции ядра по каждой переменной"
   ]
  },
  {
   "cell_type": "code",
   "execution_count": 292,
   "id": "64ca4cc4-350d-4520-bf41-2a71a83626e8",
   "metadata": {
    "ExecuteTime": {
     "end_time": "2024-03-24T12:48:59.745743Z",
     "start_time": "2024-03-24T12:48:59.741244Z"
    }
   },
   "outputs": [],
   "source": [
    "# Производная по x.\n",
    "kernel_x = sympy.diff(kernel_func(x, y), x, evaluate=False)\n",
    "kernel_x_eval = kernel_x.doit()\n",
    "kernel_x_subs = kernel_x_eval.subs({a: A, b: B, c: C, d: D, e: E})\n",
    "# Производная по y.\n",
    "kernel_y = sympy.diff(kernel_func(x, y), y, evaluate=False)\n",
    "kernel_y_eval = kernel_y.doit()\n",
    "kernel_y_subs = kernel_y_eval.subs({a: A, b: B, c: C, d: D, e: E})"
   ]
  },
  {
   "cell_type": "code",
   "execution_count": 293,
   "id": "8a532ebec30db0f7",
   "metadata": {
    "ExecuteTime": {
     "end_time": "2024-03-24T12:48:59.775193Z",
     "start_time": "2024-03-24T12:48:59.747915Z"
    },
    "collapsed": false,
    "jupyter": {
     "outputs_hidden": false
    }
   },
   "outputs": [
    {
     "data": {
      "text/latex": [
       "$\\displaystyle \\frac{\\partial}{\\partial x} \\left(a x^{2} + b y^{2} + c x y + d x + e y\\right) = 2 a x + c y + d$"
      ],
      "text/plain": [
       "Eq(Derivative(a*x**2 + b*y**2 + c*x*y + d*x + e*y, x), 2*a*x + c*y + d)"
      ]
     },
     "metadata": {},
     "output_type": "display_data"
    },
    {
     "data": {
      "text/latex": [
       "$\\displaystyle 2.0 a x + c y + d = - 10.0 x + 3.33 y - 0.667$"
      ],
      "text/plain": [
       "Eq(2.0*a*x + c*y + d, -10.0*x + 3.33*y - 0.667)"
      ]
     },
     "execution_count": 293,
     "metadata": {},
     "output_type": "execute_result"
    }
   ],
   "source": [
    "display(Eq(kernel_x, kernel_x_eval))\n",
    "N(Eq(kernel_x_eval, kernel_x_subs), ROUND_CONST)"
   ]
  },
  {
   "cell_type": "code",
   "execution_count": 294,
   "id": "7051f6d1-d33d-4d1b-8e6e-3f947b333d36",
   "metadata": {
    "ExecuteTime": {
     "end_time": "2024-03-24T12:48:59.807968Z",
     "start_time": "2024-03-24T12:48:59.776398Z"
    }
   },
   "outputs": [
    {
     "data": {
      "text/latex": [
       "$\\displaystyle \\frac{\\partial}{\\partial y} \\left(a x^{2} + b y^{2} + c x y + d x + e y\\right) = 2 b y + c x + e$"
      ],
      "text/plain": [
       "Eq(Derivative(a*x**2 + b*y**2 + c*x*y + d*x + e*y, y), 2*b*y + c*x + e)"
      ]
     },
     "metadata": {},
     "output_type": "display_data"
    },
    {
     "data": {
      "text/latex": [
       "$\\displaystyle 2.0 b y + c x + e = 3.33 x + 0.833 y - 1.33$"
      ],
      "text/plain": [
       "Eq(2.0*b*y + c*x + e, 3.33*x + 0.833*y - 1.33)"
      ]
     },
     "execution_count": 294,
     "metadata": {},
     "output_type": "execute_result"
    }
   ],
   "source": [
    "display(Eq(kernel_y, kernel_y_eval))\n",
    "N(Eq(kernel_y_eval, kernel_y_subs), ROUND_CONST)"
   ]
  },
  {
   "cell_type": "markdown",
   "id": "f8d1ac9d-71ca-4d6b-9cb9-b6711ddb0da3",
   "metadata": {},
   "source": [
    "После приравнивания производных к нулю получим"
   ]
  },
  {
   "cell_type": "code",
   "execution_count": 295,
   "id": "f099f279-d855-438f-b94f-46ef6ce71464",
   "metadata": {
    "ExecuteTime": {
     "end_time": "2024-03-24T12:48:59.845418Z",
     "start_time": "2024-03-24T12:48:59.809268Z"
    }
   },
   "outputs": [],
   "source": [
    "# Выражаем решение производной через x.\n",
    "zero_kernel_x, = sympy.solve(Eq(kernel_x_eval, 0), x)\n",
    "zero_kernel_x_subs = zero_kernel_x.subs({a: A, b: B, c: C, d: D, e: E})\n",
    "# Выражаем решение производной через y.\n",
    "zero_kernel_y, = sympy.solve(Eq(kernel_y_eval, 0), y)\n",
    "zero_kernel_y_subs = zero_kernel_y.subs({a: A, b: B, c: C, d: D, e: E})"
   ]
  },
  {
   "cell_type": "code",
   "execution_count": 296,
   "id": "5f2f4adf95106134",
   "metadata": {
    "ExecuteTime": {
     "end_time": "2024-03-24T12:48:59.865869Z",
     "start_time": "2024-03-24T12:48:59.849338Z"
    },
    "collapsed": false,
    "jupyter": {
     "outputs_hidden": false
    }
   },
   "outputs": [
    {
     "data": {
      "text/latex": [
       "$\\displaystyle x = \\frac{- c y - d}{2 a}$"
      ],
      "text/plain": [
       "Eq(x, (-c*y - d)/(2*a))"
      ]
     },
     "metadata": {},
     "output_type": "display_data"
    },
    {
     "data": {
      "text/latex": [
       "$\\displaystyle x = 0.333 y - 0.0667$"
      ],
      "text/plain": [
       "Eq(x, 0.333*y - 0.0667)"
      ]
     },
     "metadata": {},
     "output_type": "display_data"
    }
   ],
   "source": [
    "display(Eq(x, zero_kernel_x))\n",
    "display(N(Eq(x, zero_kernel_x_subs), ROUND_CONST))"
   ]
  },
  {
   "cell_type": "code",
   "execution_count": 297,
   "id": "9507fbe03ccb1a11",
   "metadata": {
    "ExecuteTime": {
     "end_time": "2024-03-24T12:48:59.882536Z",
     "start_time": "2024-03-24T12:48:59.866659Z"
    },
    "collapsed": false,
    "jupyter": {
     "outputs_hidden": false
    }
   },
   "outputs": [
    {
     "data": {
      "text/latex": [
       "$\\displaystyle y = \\frac{- c x - e}{2 b}$"
      ],
      "text/plain": [
       "Eq(y, (-c*x - e)/(2*b))"
      ]
     },
     "metadata": {},
     "output_type": "display_data"
    },
    {
     "data": {
      "text/latex": [
       "$\\displaystyle y = 1.6 - 4.0 x$"
      ],
      "text/plain": [
       "Eq(y, 1.6 - 4.0*x)"
      ]
     },
     "metadata": {},
     "output_type": "display_data"
    }
   ],
   "source": [
    "display(Eq(y, zero_kernel_y))\n",
    "display(N(Eq(y, zero_kernel_y_subs), ROUND_CONST))"
   ]
  },
  {
   "cell_type": "markdown",
   "id": "5adc0daf-bf9f-4418-bfe2-559cfe9da78e",
   "metadata": {},
   "source": [
    "Учитывая, что $х,y \\ge 0$, для оптимальных стратегий имеем:"
   ]
  },
  {
   "cell_type": "code",
   "execution_count": 298,
   "id": "96f993fa-c735-4545-9c9a-bd3f7e21d3ac",
   "metadata": {
    "ExecuteTime": {
     "end_time": "2024-03-24T12:48:59.896807Z",
     "start_time": "2024-03-24T12:48:59.883958Z"
    }
   },
   "outputs": [],
   "source": [
    "# Кусочно заданная функция относительно y.\n",
    "psi_y = sympy.Piecewise(\n",
    "    (zero_kernel_x, y >= -d / c),\n",
    "    (0, y < -d / c)\n",
    ")\n",
    "psi_y_subs = psi_y.subs({a: A, b: B, c: C, d: D, e: E})\n",
    "# Кусочно заданная функция относительно x.\n",
    "phi_x = sympy.Piecewise(\n",
    "    (zero_kernel_y, x <= -e / c),\n",
    "    (0, x > -e / c)\n",
    ")\n",
    "phi_x_subs = phi_x.subs({a: A, b: B, c: C, d: D, e: E})"
   ]
  },
  {
   "cell_type": "code",
   "execution_count": 299,
   "id": "20bd0bf08514cb96",
   "metadata": {
    "ExecuteTime": {
     "end_time": "2024-03-24T12:48:59.916095Z",
     "start_time": "2024-03-24T12:48:59.897957Z"
    },
    "collapsed": false,
    "jupyter": {
     "outputs_hidden": false
    }
   },
   "outputs": [
    {
     "data": {
      "text/latex": [
       "$\\displaystyle \\psi = \\begin{cases} \\frac{- c y - d}{2 a} & \\text{for}\\: y \\geq - \\frac{d}{c} \\\\0 & \\text{otherwise} \\end{cases}$"
      ],
      "text/plain": [
       "Eq(psi, Piecewise(((-c*y - d)/(2*a), y >= -d/c), (0, True)))"
      ]
     },
     "metadata": {},
     "output_type": "display_data"
    },
    {
     "data": {
      "text/latex": [
       "$\\displaystyle \\psi = \\begin{cases} 0.333 y - 0.0667 & \\text{for}\\: y \\geq 0.2 \\\\0 & \\text{otherwise} \\end{cases}$"
      ],
      "text/plain": [
       "Eq(psi, Piecewise((0.333*y - 0.0667, y >= 0.2), (0, True)))"
      ]
     },
     "metadata": {},
     "output_type": "display_data"
    }
   ],
   "source": [
    "display(Eq(abc.psi, psi_y))\n",
    "display(N(Eq(abc.psi, psi_y_subs), ROUND_CONST))"
   ]
  },
  {
   "cell_type": "code",
   "execution_count": 300,
   "id": "ab98836e92015ce4",
   "metadata": {
    "ExecuteTime": {
     "end_time": "2024-03-24T12:48:59.934271Z",
     "start_time": "2024-03-24T12:48:59.916940Z"
    },
    "collapsed": false,
    "jupyter": {
     "outputs_hidden": false
    }
   },
   "outputs": [
    {
     "data": {
      "text/latex": [
       "$\\displaystyle \\phi = \\begin{cases} \\frac{- c x - e}{2 b} & \\text{for}\\: x \\leq - \\frac{e}{c} \\\\0 & \\text{otherwise} \\end{cases}$"
      ],
      "text/plain": [
       "Eq(phi, Piecewise(((-c*x - e)/(2*b), x <= -e/c), (0, True)))"
      ]
     },
     "metadata": {},
     "output_type": "display_data"
    },
    {
     "data": {
      "text/latex": [
       "$\\displaystyle \\phi = \\begin{cases} 1.6 - 4.0 x & \\text{for}\\: x \\leq 0.4 \\\\0 & \\text{otherwise} \\end{cases}$"
      ],
      "text/plain": [
       "Eq(phi, Piecewise((1.6 - 4.0*x, x <= 0.4), (0, True)))"
      ]
     },
     "metadata": {},
     "output_type": "display_data"
    }
   ],
   "source": [
    "display(Eq(abc.phi, phi_x))\n",
    "display(N(Eq(abc.phi, phi_x_subs), ROUND_CONST))"
   ]
  },
  {
   "cell_type": "code",
   "execution_count": 301,
   "id": "e7d1987a23e1be25",
   "metadata": {
    "ExecuteTime": {
     "end_time": "2024-03-24T12:48:59.961456Z",
     "start_time": "2024-03-24T12:48:59.936672Z"
    },
    "collapsed": false,
    "jupyter": {
     "outputs_hidden": false
    }
   },
   "outputs": [
    {
     "name": "stdout",
     "output_type": "stream",
     "text": [
      "Решение игры: \n",
      "H(0.20, 0.80) = -0.60\n"
     ]
    }
   ],
   "source": [
    "optimal_solution = sympy.solve((\n",
    "    Eq(x, zero_kernel_x_subs),\n",
    "    Eq(y, zero_kernel_y_subs),\n",
    "))\n",
    "x_opt, y_opt = optimal_solution.values()\n",
    "\n",
    "saddle_point_value = float(kernel_func_subs(x_opt, y_opt))\n",
    "print(f\"Решение игры: \\n\"\n",
    "      f\"H({x_opt:.2f}, {y_opt:.2f}) = {saddle_point_value:.2f}\")"
   ]
  },
  {
   "cell_type": "markdown",
   "id": "38e5ff661d2917e1",
   "metadata": {
    "collapsed": false,
    "jupyter": {
     "outputs_hidden": false
    }
   },
   "source": [
    "## 2. Численное решение\n",
    "Для решения игры с непрерывным ядром используем метод аппроксимации функции выигрышей на сетке. "
   ]
  },
  {
   "cell_type": "code",
   "execution_count": 302,
   "id": "560b71e34830aa81",
   "metadata": {
    "ExecuteTime": {
     "end_time": "2024-03-24T12:48:59.967816Z",
     "start_time": "2024-03-24T12:48:59.964516Z"
    },
    "collapsed": false,
    "jupyter": {
     "outputs_hidden": false
    }
   },
   "outputs": [],
   "source": [
    "numeric_method = NumericMethod(kernel_func_subs)"
   ]
  },
  {
   "cell_type": "code",
   "execution_count": 303,
   "id": "1949b3b32f41b3cf",
   "metadata": {
    "ExecuteTime": {
     "end_time": "2024-03-24T12:49:00.167995Z",
     "start_time": "2024-03-24T12:48:59.969617Z"
    }
   },
   "outputs": [
    {
     "name": "stderr",
     "output_type": "stream",
     "text": [
      "N = 2 (шаг: 0.500)\n",
      "+-----------------------------------------------------------+\n",
      "|                Таблица стратегий (игрока А)               |\n",
      "+----------------+--------+--------+--------+---------------+\n",
      "|   Стратегии    |   b1   |   b2   |   b3   | MIN выигрыш A |\n",
      "+----------------+--------+--------+--------+---------------+\n",
      "|       a1       | 0.000  | -0.562 | -0.917 |     -0.917    |\n",
      "|       a2       | -1.583 | -1.312 | -0.833 |     -1.583    |\n",
      "|       a3       | -5.667 | -4.562 | -3.250 |     -5.667    |\n",
      "| MAX проигрыш B | 0.000  | -0.562 | -0.833 |               |\n",
      "+----------------+--------+--------+--------+---------------+\n",
      "Седловой точки нет. Решение методом Брауна-Робинсон:\n",
      "x = 0.000; y = 0.500; H = -0.872\n",
      "\n",
      "N = 3 (шаг: 0.333)\n",
      "+--------------------------------------------------------------------+\n",
      "|                    Таблица стратегий (игрока А)                    |\n",
      "+----------------+--------+--------+--------+--------+---------------+\n",
      "|   Стратегии    |   b1   |   b2   |   b3   |   b4   | MIN выигрыш A |\n",
      "+----------------+--------+--------+--------+--------+---------------+\n",
      "|       a1       | 0.000  | -0.398 | -0.704 | -0.917 |     -0.917    |\n",
      "|       a2       | -0.778 | -0.806 | -0.741 | -0.583 |     -0.806    |\n",
      "|       a3       | -2.667 | -2.324 | -1.889 | -1.361 |     -2.667    |\n",
      "|       a4       | -5.667 | -4.954 | -4.148 | -3.250 |     -5.667    |\n",
      "| MAX проигрыш B | 0.000  | -0.398 | -0.704 | -0.583 |               |\n",
      "+----------------+--------+--------+--------+--------+---------------+\n",
      "Седловой точки нет. Решение методом Брауна-Робинсон:\n",
      "x = 0.000; y = 0.000; H = -0.727\n",
      "\n",
      "N = 4 (шаг: 0.250)\n",
      "+-----------------------------------------------------------------------------+\n",
      "|                         Таблица стратегий (игрока А)                        |\n",
      "+----------------+--------+--------+--------+--------+--------+---------------+\n",
      "|   Стратегии    |   b1   |   b2   |   b3   |   b4   |   b5   | MIN выигрыш A |\n",
      "+----------------+--------+--------+--------+--------+--------+---------------+\n",
      "|       a1       | 0.000  | -0.307 | -0.562 | -0.766 | -0.917 |     -0.917    |\n",
      "|       a2       | -0.479 | -0.578 | -0.625 | -0.620 | -0.562 |     -0.625    |\n",
      "|       a3       | -1.583 | -1.474 | -1.312 | -1.099 | -0.833 |     -1.583    |\n",
      "|       a4       | -3.312 | -2.995 | -2.625 | -2.203 | -1.729 |     -3.312    |\n",
      "|       a5       | -5.667 | -5.141 | -4.562 | -3.932 | -3.250 |     -5.667    |\n",
      "| MAX проигрыш B | 0.000  | -0.307 | -0.562 | -0.620 | -0.562 |               |\n",
      "+----------------+--------+--------+--------+--------+--------+---------------+\n",
      "Седловой точки нет. Решение методом Брауна-Робинсон:\n",
      "x = 0.000; y = 0.500; H = -0.591\n",
      "\n",
      "N = 5 (шаг: 0.200)\n",
      "+--------------------------------------------------------------------------------------+\n",
      "|                             Таблица стратегий (игрока А)                             |\n",
      "+----------------+--------+--------+--------+--------+--------+--------+---------------+\n",
      "|   Стратегии    |   b1   |   b2   |   b3   |   b4   |   b5   |   b6   | MIN выигрыш A |\n",
      "+----------------+--------+--------+--------+--------+--------+--------+---------------+\n",
      "|       a1       | 0.000  | -0.250 | -0.467 | -0.650 | -0.800 | -0.917 |     -0.917    |\n",
      "|       a2       | -0.333 | -0.450 | -0.533 | -0.583 | -0.600 | -0.583 |     -0.600    |\n",
      "|       a3       | -1.067 | -1.050 | -1.000 | -0.917 | -0.800 | -0.650 |     -1.067    |\n",
      "|       a4       | -2.200 | -2.050 | -1.867 | -1.650 | -1.400 | -1.117 |     -2.200    |\n",
      "|       a5       | -3.733 | -3.450 | -3.133 | -2.783 | -2.400 | -1.983 |     -3.733    |\n",
      "|       a6       | -5.667 | -5.250 | -4.800 | -4.317 | -3.800 | -3.250 |     -5.667    |\n",
      "| MAX проигрыш B | 0.000  | -0.250 | -0.467 | -0.583 | -0.600 | -0.583 |               |\n",
      "+----------------+--------+--------+--------+--------+--------+--------+---------------+\n",
      "Седловая точка найдена:\n",
      "x = 0.200; y = 0.800; H = -0.600\n",
      "\n",
      "N = 6 (шаг: 0.167)\n",
      "+-----------------------------------------------------------------------------------------------+\n",
      "|                                  Таблица стратегий (игрока А)                                 |\n",
      "+----------------+--------+--------+--------+--------+--------+--------+--------+---------------+\n",
      "|   Стратегии    |   b1   |   b2   |   b3   |   b4   |   b5   |   b6   |   b7   | MIN выигрыш A |\n",
      "+----------------+--------+--------+--------+--------+--------+--------+--------+---------------+\n",
      "|       a1       | 0.000  | -0.211 | -0.398 | -0.562 | -0.704 | -0.822 | -0.917 |     -0.917    |\n",
      "|       a2       | -0.250 | -0.368 | -0.463 | -0.535 | -0.583 | -0.609 | -0.611 |     -0.611    |\n",
      "|       a3       | -0.778 | -0.803 | -0.806 | -0.785 | -0.741 | -0.674 | -0.583 |     -0.806    |\n",
      "|       a4       | -1.583 | -1.516 | -1.426 | -1.312 | -1.176 | -1.016 | -0.833 |     -1.583    |\n",
      "|       a5       | -2.667 | -2.507 | -2.324 | -2.118 | -1.889 | -1.637 | -1.361 |     -2.667    |\n",
      "|       a6       | -4.028 | -3.775 | -3.500 | -3.201 | -2.880 | -2.535 | -2.167 |     -4.028    |\n",
      "|       a7       | -5.667 | -5.322 | -4.954 | -4.562 | -4.148 | -3.711 | -3.250 |     -5.667    |\n",
      "| MAX проигрыш B | 0.000  | -0.211 | -0.398 | -0.535 | -0.583 | -0.609 | -0.583 |               |\n",
      "+----------------+--------+--------+--------+--------+--------+--------+--------+---------------+\n",
      "Седловой точки нет. Решение методом Брауна-Робинсон:\n",
      "x = 0.167; y = 0.667; H = -0.642\n",
      "\n",
      "N = 7 (шаг: 0.143)\n",
      "+--------------------------------------------------------------------------------------------------------+\n",
      "|                                      Таблица стратегий (игрока А)                                      |\n",
      "+----------------+--------+--------+--------+--------+--------+--------+--------+--------+---------------+\n",
      "|   Стратегии    |   b1   |   b2   |   b3   |   b4   |   b5   |   b6   |   b7   |   b8   | MIN выигрыш A |\n",
      "+----------------+--------+--------+--------+--------+--------+--------+--------+--------+---------------+\n",
      "|       a1       | 0.000  | -0.182 | -0.347 | -0.495 | -0.626 | -0.740 | -0.837 | -0.917 |     -0.917    |\n",
      "|       a2       | -0.197 | -0.311 | -0.408 | -0.488 | -0.551 | -0.597 | -0.626 | -0.638 |     -0.638    |\n",
      "|       a3       | -0.599 | -0.645 | -0.673 | -0.685 | -0.680 | -0.658 | -0.619 | -0.563 |     -0.685    |\n",
      "|       a4       | -1.204 | -1.182 | -1.143 | -1.087 | -1.014 | -0.923 | -0.816 | -0.692 |     -1.204    |\n",
      "|       a5       | -2.014 | -1.923 | -1.816 | -1.692 | -1.551 | -1.393 | -1.218 | -1.026 |     -2.014    |\n",
      "|       a6       | -3.027 | -2.869 | -2.694 | -2.502 | -2.293 | -2.066 | -1.823 | -1.563 |     -3.027    |\n",
      "|       a7       | -4.245 | -4.019 | -3.776 | -3.515 | -3.238 | -2.944 | -2.633 | -2.304 |     -4.245    |\n",
      "|       a8       | -5.667 | -5.372 | -5.061 | -4.733 | -4.388 | -4.026 | -3.646 | -3.250 |     -5.667    |\n",
      "| MAX проигрыш B | 0.000  | -0.182 | -0.347 | -0.488 | -0.551 | -0.597 | -0.619 | -0.563 |               |\n",
      "+----------------+--------+--------+--------+--------+--------+--------+--------+--------+---------------+\n",
      "Седловой точки нет. Решение методом Брауна-Робинсон:\n",
      "x = 0.286; y = 0.714; H = -0.645\n",
      "\n",
      "Таким образом численно найдено решение задачи:\n",
      "x ≈ 0.217; y ≈ 0.727; H ≈ -0.629\n"
     ]
    }
   ],
   "source": [
    "x_opt, y_opt, game_price_estimate = numeric_method.solve()"
   ]
  },
  {
   "cell_type": "code",
   "execution_count": 304,
   "id": "9221c61bfab6cace",
   "metadata": {
    "ExecuteTime": {
     "end_time": "2024-03-24T12:49:00.173796Z",
     "start_time": "2024-03-24T12:49:00.169012Z"
    },
    "collapsed": false,
    "jupyter": {
     "outputs_hidden": false
    }
   },
   "outputs": [
    {
     "name": "stdout",
     "output_type": "stream",
     "text": [
      "Решение игры: \n",
      "x ≈ 0.22, y ≈ 0.73; H ≈ -0.63\n"
     ]
    }
   ],
   "source": [
    "print(f\"Решение игры: \\n\"\n",
    "      f\"x ≈ {x_opt:.2f}, y ≈ {y_opt:.2f}; H ≈ {game_price_estimate:.2f}\")"
   ]
  }
 ],
 "metadata": {
  "kernelspec": {
   "display_name": "Python 3 (ipykernel)",
   "language": "python",
   "name": "python3"
  },
  "language_info": {
   "codemirror_mode": {
    "name": "ipython",
    "version": 3
   },
   "file_extension": ".py",
   "mimetype": "text/x-python",
   "name": "python",
   "nbconvert_exporter": "python",
   "pygments_lexer": "ipython3",
   "version": "3.11.4"
  }
 },
 "nbformat": 4,
 "nbformat_minor": 5
}
