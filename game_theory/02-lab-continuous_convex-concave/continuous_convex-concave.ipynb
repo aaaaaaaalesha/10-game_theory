{
 "cells": [
  {
   "cell_type": "markdown",
   "id": "b10c4d08d09da559",
   "metadata": {
    "collapsed": false
   },
   "source": [
    "# Лабораторная работа №2\n",
    "**\"Непрерывные выпукло-вогнутые игры\"**\n",
    "\n",
    "**Выполнил: Александров А. Н., ИУ8-104**\n",
    "\n",
    "**Вариант: 1**\n",
    "\n",
    "## Задание\n",
    "Функция ядра имеет вид:\n",
    "\n",
    "$$H(x, y) = ax^2 + by^2 + cxy + dx + ey,$$\n",
    "\n",
    "где:\n",
    "\n",
    "|  a |   b  |   c  |   d  |   e  |\n",
    "|:--:|:----:|:----:|:----:|:----:|\n",
    "| -5 | 5/12 | 10/3 | -2/3 | -4/3 |\n",
    "\n",
    "Найти оптимальные стратегии непрерывной выпукло-вогнутой антагонистической игры аналитическим и численным методами."
   ]
  },
  {
   "cell_type": "code",
   "execution_count": 56,
   "id": "1d6c8f9de0f36dae",
   "metadata": {
    "collapsed": false,
    "ExecuteTime": {
     "end_time": "2024-03-22T12:17:24.306692Z",
     "start_time": "2024-03-22T12:17:24.300202Z"
    }
   },
   "outputs": [],
   "source": [
    "import logging\n",
    "\n",
    "import sympy\n",
    "from sympy import N, Eq, abc\n",
    "# To represent multiple expressions in output of single cell.\n",
    "from IPython.display import display\n",
    "\n",
    "# from game_theory.utils.matrix_games.brown_robinson.brown_robinson import BrownRobinson\n",
    "\n",
    "logging.basicConfig(level=logging.INFO, format='%(message)s')"
   ]
  },
  {
   "cell_type": "code",
   "execution_count": 57,
   "id": "8b8d848d-702e-424e-a5c1-3727bbc6bef5",
   "metadata": {
    "ExecuteTime": {
     "end_time": "2024-03-22T12:17:24.348372Z",
     "start_time": "2024-03-22T12:17:24.345147Z"
    }
   },
   "outputs": [],
   "source": [
    "ROUND_CONST: int = 3\n",
    "A, B, C, D, E = (\n",
    "    round(-5,     ROUND_CONST),\n",
    "    round(5 / 12, ROUND_CONST),\n",
    "    round(10 / 3, ROUND_CONST),\n",
    "    round(-2 / 3, ROUND_CONST),\n",
    "    round(-4 / 3, ROUND_CONST),\n",
    ")"
   ]
  },
  {
   "cell_type": "markdown",
   "source": [
    "## 1. Аналитическое решение"
   ],
   "metadata": {
    "collapsed": false
   },
   "id": "f6cf0005f191ae8c"
  },
  {
   "cell_type": "code",
   "execution_count": 58,
   "id": "2a6f5074e0cd97b2",
   "metadata": {
    "collapsed": false,
    "ExecuteTime": {
     "end_time": "2024-03-22T12:17:24.377108Z",
     "start_time": "2024-03-22T12:17:24.358476Z"
    }
   },
   "outputs": [
    {
     "data": {
      "text/plain": "Lambda((x, y), a*x**2 + b*y**2 + c*x*y + d*x + e*y)",
      "text/latex": "$\\displaystyle \\left( \\left( x, \\  y\\right) \\mapsto a x^{2} + b y^{2} + c x y + d x + e y \\right)$"
     },
     "metadata": {},
     "output_type": "display_data"
    },
    {
     "data": {
      "text/plain": "Lambda((x, y), -5*x**2 + 3.333*x*y - 0.667*x + 0.417*y**2 - 1.333*y)",
      "text/latex": "$\\displaystyle \\left( \\left( x, \\  y\\right) \\mapsto - 5 x^{2} + 3.333 x y - 0.667 x + 0.417 y^{2} - 1.333 y \\right)$"
     },
     "execution_count": 58,
     "metadata": {},
     "output_type": "execute_result"
    }
   ],
   "source": [
    "# Входные параметры: коэффициенты функции ядра.\n",
    "a, b, c, d, e = sympy.var((\"a\", \"b\", \"c\", \"d\", \"e\"))\n",
    "# Переменные.\n",
    "x, y = sympy.symbols((\"x\", \"y\"))\n",
    "\n",
    "# Задание функции ядра. \n",
    "kernel_func = sympy.Lambda(\n",
    "    (x, y),\n",
    "    a * x ** 2 + b * y ** 2 + c * x * y + d * x + e * y,\n",
    ")\n",
    "kernel_func_subs = kernel_func.subs({a: A, b: B, c: C, d: D, e: E})\n",
    "\n",
    "display(kernel_func)\n",
    "kernel_func_subs"
   ]
  },
  {
   "cell_type": "code",
   "execution_count": 59,
   "id": "98e6cf4d3fac1093",
   "metadata": {
    "collapsed": false,
    "ExecuteTime": {
     "end_time": "2024-03-22T12:17:24.387981Z",
     "start_time": "2024-03-22T12:17:24.379941Z"
    }
   },
   "outputs": [
    {
     "data": {
      "text/plain": "Eq(Derivative(a*x**2 + b*y**2 + c*x*y + d*x + e*y, (x, 2)), 2*a)",
      "text/latex": "$\\displaystyle \\frac{\\partial^{2}}{\\partial x^{2}} \\left(a x^{2} + b y^{2} + c x y + d x + e y\\right) = 2 a$"
     },
     "metadata": {},
     "output_type": "display_data"
    },
    {
     "data": {
      "text/plain": "Eq(2*a, -10)",
      "text/latex": "$\\displaystyle 2 a = -10$"
     },
     "execution_count": 59,
     "metadata": {},
     "output_type": "execute_result"
    }
   ],
   "source": [
    "kernel_xx = sympy.diff(kernel_func(x, y), x, 2, evaluate=False)\n",
    "kernel_xx_eval = kernel_xx.doit()\n",
    "kernel_xx_subs: float = kernel_xx_eval.subs({a: A, b: B, c: C, d: D, e: E})\n",
    "\n",
    "display(Eq(kernel_xx, kernel_xx_eval))\n",
    "Eq(kernel_xx_eval, kernel_xx_subs)"
   ]
  },
  {
   "cell_type": "code",
   "execution_count": 60,
   "id": "c3a72bb540fb0b25",
   "metadata": {
    "collapsed": false,
    "ExecuteTime": {
     "end_time": "2024-03-22T12:17:24.398527Z",
     "start_time": "2024-03-22T12:17:24.390705Z"
    }
   },
   "outputs": [
    {
     "data": {
      "text/plain": "Eq(Derivative(a*x**2 + b*y**2 + c*x*y + d*x + e*y, (y, 2)), 2*b)",
      "text/latex": "$\\displaystyle \\frac{\\partial^{2}}{\\partial y^{2}} \\left(a x^{2} + b y^{2} + c x y + d x + e y\\right) = 2 b$"
     },
     "metadata": {},
     "output_type": "display_data"
    },
    {
     "data": {
      "text/plain": "Eq(2*b, 0.834)",
      "text/latex": "$\\displaystyle 2 b = 0.834$"
     },
     "execution_count": 60,
     "metadata": {},
     "output_type": "execute_result"
    }
   ],
   "source": [
    "kernel_yy = sympy.diff(kernel_func(x, y), y, 2, evaluate=False)\n",
    "kernel_yy_eval = kernel_yy.doit()\n",
    "kernel_yy_subs: float = kernel_yy_eval.subs({a: A, b: B, c: C, d: D, e: E})\n",
    "\n",
    "display(Eq(kernel_yy, kernel_yy_eval))\n",
    "Eq(kernel_yy_eval, kernel_yy_subs)"
   ]
  },
  {
   "cell_type": "code",
   "execution_count": 61,
   "id": "2b253382-d64d-4d0a-ae31-63cd39e07bde",
   "metadata": {
    "ExecuteTime": {
     "end_time": "2024-03-22T12:17:24.403226Z",
     "start_time": "2024-03-22T12:17:24.400865Z"
    }
   },
   "outputs": [],
   "source": [
    "is_convex_concave: bool = kernel_xx_subs < 0 < kernel_yy_subs\n",
    "assert is_convex_concave, (\n",
    "    \"Игра не является выпукло-вогнутой, т.к. для функции ядра одновременно не выполняется оба условия: \\n\"\n",
    "    f\"H_xx = {2 * a:.2f} < 0 и H_yy = {2 * b:.2f} > 0\"\n",
    ")"
   ]
  },
  {
   "cell_type": "markdown",
   "id": "39871967-1a83-4a8e-ad08-21f71d1e8f7a",
   "metadata": {},
   "source": [
    "Для нахождения оптимальных стратегий найдем производные функции ядра по каждой переменной"
   ]
  },
  {
   "cell_type": "code",
   "execution_count": 62,
   "id": "64ca4cc4-350d-4520-bf41-2a71a83626e8",
   "metadata": {
    "ExecuteTime": {
     "end_time": "2024-03-22T12:17:24.410626Z",
     "start_time": "2024-03-22T12:17:24.406184Z"
    }
   },
   "outputs": [],
   "source": [
    "# Производная по x.\n",
    "kernel_x = sympy.diff(kernel_func(x, y), x, evaluate=False)\n",
    "kernel_x_eval = kernel_x.doit()\n",
    "kernel_x_subs = kernel_x_eval.subs({a: A, b: B, c: C, d: D, e: E})\n",
    "# Производная по y.\n",
    "kernel_y = sympy.diff(kernel_func(x, y), y, evaluate=False)\n",
    "kernel_y_eval = kernel_y.doit()\n",
    "kernel_y_subs = kernel_y_eval.subs({a: A, b: B, c: C, d: D, e: E})"
   ]
  },
  {
   "cell_type": "code",
   "outputs": [
    {
     "data": {
      "text/plain": "Eq(Derivative(a*x**2 + b*y**2 + c*x*y + d*x + e*y, x), 2*a*x + c*y + d)",
      "text/latex": "$\\displaystyle \\frac{\\partial}{\\partial x} \\left(a x^{2} + b y^{2} + c x y + d x + e y\\right) = 2 a x + c y + d$"
     },
     "metadata": {},
     "output_type": "display_data"
    },
    {
     "data": {
      "text/plain": "Eq(2*a*x + c*y + d, -10*x + 3.333*y - 0.667)",
      "text/latex": "$\\displaystyle 2 a x + c y + d = - 10 x + 3.333 y - 0.667$"
     },
     "execution_count": 63,
     "metadata": {},
     "output_type": "execute_result"
    }
   ],
   "source": [
    "display(Eq(kernel_x, kernel_x_eval))\n",
    "Eq(kernel_x_eval, kernel_x_subs)"
   ],
   "metadata": {
    "collapsed": false,
    "ExecuteTime": {
     "end_time": "2024-03-22T12:17:24.418416Z",
     "start_time": "2024-03-22T12:17:24.411946Z"
    }
   },
   "id": "8a532ebec30db0f7",
   "execution_count": 63
  },
  {
   "cell_type": "code",
   "execution_count": 64,
   "id": "7051f6d1-d33d-4d1b-8e6e-3f947b333d36",
   "metadata": {
    "ExecuteTime": {
     "end_time": "2024-03-22T12:17:24.429182Z",
     "start_time": "2024-03-22T12:17:24.419225Z"
    }
   },
   "outputs": [
    {
     "data": {
      "text/plain": "Eq(Derivative(a*x**2 + b*y**2 + c*x*y + d*x + e*y, y), 2*b*y + c*x + e)",
      "text/latex": "$\\displaystyle \\frac{\\partial}{\\partial y} \\left(a x^{2} + b y^{2} + c x y + d x + e y\\right) = 2 b y + c x + e$"
     },
     "metadata": {},
     "output_type": "display_data"
    },
    {
     "data": {
      "text/plain": "Eq(2*b*y + c*x + e, 3.333*x + 0.834*y - 1.333)",
      "text/latex": "$\\displaystyle 2 b y + c x + e = 3.333 x + 0.834 y - 1.333$"
     },
     "execution_count": 64,
     "metadata": {},
     "output_type": "execute_result"
    }
   ],
   "source": [
    "display(Eq(kernel_y, kernel_y_eval))\n",
    "Eq(kernel_y_eval, kernel_y_subs)"
   ]
  },
  {
   "cell_type": "markdown",
   "id": "f8d1ac9d-71ca-4d6b-9cb9-b6711ddb0da3",
   "metadata": {},
   "source": [
    "После приравнивания производных к нулю получим"
   ]
  },
  {
   "cell_type": "code",
   "execution_count": 65,
   "id": "f099f279-d855-438f-b94f-46ef6ce71464",
   "metadata": {
    "ExecuteTime": {
     "end_time": "2024-03-22T12:17:24.458059Z",
     "start_time": "2024-03-22T12:17:24.435453Z"
    }
   },
   "outputs": [],
   "source": [
    "# Выражаем решение производной через x.\n",
    "zero_kernel_x, = sympy.solve(Eq(kernel_x_eval, 0), x)\n",
    "zero_kernel_x_subs = zero_kernel_x.subs({a: A, b: B, c: C, d: D, e: E})\n",
    "# Выражаем решение производной через y.\n",
    "zero_kernel_y, = sympy.solve(Eq(kernel_y_eval, 0), y)\n",
    "zero_kernel_y_subs = zero_kernel_y.subs({a: A, b: B, c: C, d: D, e: E})"
   ]
  },
  {
   "cell_type": "code",
   "outputs": [
    {
     "data": {
      "text/plain": "Eq(x, (-c*y - d)/(2*a))",
      "text/latex": "$\\displaystyle x = \\frac{- c y - d}{2 a}$"
     },
     "metadata": {},
     "output_type": "display_data"
    },
    {
     "data": {
      "text/plain": "Eq(x, 0.333*y - 0.0667)",
      "text/latex": "$\\displaystyle x = 0.333 y - 0.0667$"
     },
     "metadata": {},
     "output_type": "display_data"
    }
   ],
   "source": [
    "display(Eq(x, zero_kernel_x))\n",
    "display(N(Eq(x, zero_kernel_x_subs), ROUND_CONST))"
   ],
   "metadata": {
    "collapsed": false,
    "ExecuteTime": {
     "end_time": "2024-03-22T12:17:24.467813Z",
     "start_time": "2024-03-22T12:17:24.459680Z"
    }
   },
   "id": "5f2f4adf95106134",
   "execution_count": 66
  },
  {
   "cell_type": "code",
   "outputs": [
    {
     "data": {
      "text/plain": "Eq(y, (-c*x - e)/(2*b))",
      "text/latex": "$\\displaystyle y = \\frac{- c x - e}{2 b}$"
     },
     "metadata": {},
     "output_type": "display_data"
    },
    {
     "data": {
      "text/plain": "Eq(y, 1.6 - 4.0*x)",
      "text/latex": "$\\displaystyle y = 1.6 - 4.0 x$"
     },
     "metadata": {},
     "output_type": "display_data"
    }
   ],
   "source": [
    "display(Eq(y, zero_kernel_y))\n",
    "display(N(Eq(y, zero_kernel_y_subs), ROUND_CONST))"
   ],
   "metadata": {
    "collapsed": false,
    "ExecuteTime": {
     "end_time": "2024-03-22T12:17:24.486575Z",
     "start_time": "2024-03-22T12:17:24.472643Z"
    }
   },
   "id": "9507fbe03ccb1a11",
   "execution_count": 67
  },
  {
   "cell_type": "markdown",
   "id": "5adc0daf-bf9f-4418-bfe2-559cfe9da78e",
   "metadata": {},
   "source": [
    "Учитывая, что $х,y \\ge 0$, для оптимальных стратегий имеем:"
   ]
  },
  {
   "cell_type": "code",
   "execution_count": 68,
   "id": "96f993fa-c735-4545-9c9a-bd3f7e21d3ac",
   "metadata": {
    "ExecuteTime": {
     "end_time": "2024-03-22T12:17:24.533005Z",
     "start_time": "2024-03-22T12:17:24.524573Z"
    }
   },
   "outputs": [],
   "source": [
    "# Кусочно заданная функция относительно y.\n",
    "psi_y = sympy.Piecewise(\n",
    "    (zero_kernel_x, y >= -d / c),\n",
    "    (0, y < -d / c)\n",
    ")\n",
    "psi_y_subs = psi_y.subs({a: A, b: B, c: C, d: D, e: E})\n",
    "# Кусочно заданная функция относительно x.\n",
    "phi_x = sympy.Piecewise(\n",
    "    (zero_kernel_y, x <= -e / c),\n",
    "    (0, x > -e / c)\n",
    ")\n",
    "phi_x_subs = phi_x.subs({a: A, b: B, c: C, d: D, e: E})"
   ]
  },
  {
   "cell_type": "code",
   "outputs": [
    {
     "data": {
      "text/plain": "Eq(psi, Piecewise(((-c*y - d)/(2*a), y >= -d/c), (0, True)))",
      "text/latex": "$\\displaystyle \\psi = \\begin{cases} \\frac{- c y - d}{2 a} & \\text{for}\\: y \\geq - \\frac{d}{c} \\\\0 & \\text{otherwise} \\end{cases}$"
     },
     "metadata": {},
     "output_type": "display_data"
    },
    {
     "data": {
      "text/plain": "Eq(psi, Piecewise((0.333*y - 0.0667, y >= 0.2001200120012), (0, True)))",
      "text/latex": "$\\displaystyle \\psi = \\begin{cases} 0.333 y - 0.0667 & \\text{for}\\: y \\geq 0.2001200120012 \\\\0 & \\text{otherwise} \\end{cases}$"
     },
     "metadata": {},
     "output_type": "display_data"
    }
   ],
   "source": [
    "display(Eq(abc.psi, psi_y))\n",
    "display(N(Eq(abc.psi, psi_y_subs), ROUND_CONST))"
   ],
   "metadata": {
    "collapsed": false,
    "ExecuteTime": {
     "end_time": "2024-03-22T12:17:24.569086Z",
     "start_time": "2024-03-22T12:17:24.557524Z"
    }
   },
   "id": "20bd0bf08514cb96",
   "execution_count": 69
  },
  {
   "cell_type": "code",
   "outputs": [
    {
     "data": {
      "text/plain": "Eq(phi, Piecewise(((-c*x - e)/(2*b), x <= -e/c), (0, True)))",
      "text/latex": "$\\displaystyle \\phi = \\begin{cases} \\frac{- c x - e}{2 b} & \\text{for}\\: x \\leq - \\frac{e}{c} \\\\0 & \\text{otherwise} \\end{cases}$"
     },
     "metadata": {},
     "output_type": "display_data"
    },
    {
     "data": {
      "text/plain": "Eq(phi, Piecewise((1.6 - 4.0*x, x <= 0.3999399939994), (0, True)))",
      "text/latex": "$\\displaystyle \\phi = \\begin{cases} 1.6 - 4.0 x & \\text{for}\\: x \\leq 0.3999399939994 \\\\0 & \\text{otherwise} \\end{cases}$"
     },
     "metadata": {},
     "output_type": "display_data"
    }
   ],
   "source": [
    "display(Eq(abc.phi, phi_x))\n",
    "display(N(Eq(abc.phi, phi_x_subs), ROUND_CONST))"
   ],
   "metadata": {
    "collapsed": false,
    "ExecuteTime": {
     "end_time": "2024-03-22T12:17:24.695611Z",
     "start_time": "2024-03-22T12:17:24.687924Z"
    }
   },
   "id": "ab98836e92015ce4",
   "execution_count": 70
  },
  {
   "cell_type": "code",
   "execution_count": 71,
   "id": "12cd20b8-6bb5-49f0-9f9c-796d5ea2efae",
   "metadata": {
    "ExecuteTime": {
     "end_time": "2024-03-22T12:17:24.753188Z",
     "start_time": "2024-03-22T12:17:24.750674Z"
    }
   },
   "outputs": [],
   "source": [
    "# sympy.plotting.plot(\n",
    "#     (zero_kernel_x_subs, (y, 0, 1)),\n",
    "#     (zero_kernel_y_subs, (x, 0, 1)),\n",
    "#     xlabel=x,\n",
    "#     ylabel=y,\n",
    "# )"
   ]
  },
  {
   "cell_type": "code",
   "outputs": [
    {
     "name": "stdout",
     "output_type": "stream",
     "text": [
      "Решение игры: \n",
      "H(0.200, 0.800) = -0.600\n"
     ]
    }
   ],
   "source": [
    "optimal_solution = sympy.solve((\n",
    "    Eq(x, zero_kernel_x_subs),\n",
    "    Eq(y, zero_kernel_y_subs),\n",
    "))\n",
    "x_opt, y_opt = optimal_solution.values()\n",
    "\n",
    "saddle_point_value = float(kernel_func_subs(x_opt, y_opt))\n",
    "print(f\"Решение игры: \\n\"\n",
    "      f\"H({x_opt:.3f}, {y_opt:.3f}) = {saddle_point_value:.3f}\")"
   ],
   "metadata": {
    "collapsed": false,
    "ExecuteTime": {
     "end_time": "2024-03-22T12:17:24.876795Z",
     "start_time": "2024-03-22T12:17:24.799393Z"
    }
   },
   "id": "e7d1987a23e1be25",
   "execution_count": 72
  },
  {
   "cell_type": "code",
   "execution_count": 72,
   "id": "f05e4a52-495d-46cd-addd-7f43d7ce7e04",
   "metadata": {
    "ExecuteTime": {
     "end_time": "2024-03-22T12:17:24.883345Z",
     "start_time": "2024-03-22T12:17:24.878031Z"
    }
   },
   "outputs": [],
   "source": []
  }
 ],
 "metadata": {
  "kernelspec": {
   "display_name": "Python 3 (ipykernel)",
   "language": "python",
   "name": "python3"
  },
  "language_info": {
   "codemirror_mode": {
    "name": "ipython",
    "version": 3
   },
   "file_extension": ".py",
   "mimetype": "text/x-python",
   "name": "python",
   "nbconvert_exporter": "python",
   "pygments_lexer": "ipython3",
   "version": "3.11.4"
  }
 },
 "nbformat": 4,
 "nbformat_minor": 5
}
