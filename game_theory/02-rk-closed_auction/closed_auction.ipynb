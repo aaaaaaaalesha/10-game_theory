{
 "cells": [
  {
   "cell_type": "markdown",
   "id": "e46263db3348a799",
   "metadata": {},
   "source": [
    "# Рубежный контроль №2\n",
    "**\"Олигополия. Дуополия. Игры торга\"**\n",
    "\n",
    "**Выполнил: Александров А. Н., ИУ8-104**\n",
    "\n",
    "**Вариант: 1**\n",
    "\n",
    "## Задание.\n",
    "\n",
    "Найти равновесные стратегии покупателей (равновесие по Нэшу), где:\n",
    "- $n$ покупателей одновременно делают ставки;\n",
    "- $i$−й покупатель делает ставку $b_i$;\n",
    "- ценность товара (внутренняя оценка стоимости товара) для $i$−го покупателя – $X_i$;\n",
    "- товар достается тому, кто сделал самую большую ставку;\n",
    "- победитель платит свою ставку;\n",
    "- победитель ожидает прибыль $\\pi_i$.\n",
    "\n",
    "\n",
    "| Номер варианта | Число покупателей n | Число товаров |\n",
    "|:--------------:|:-------------------:|:-------------:|\n",
    "|       11       |          11         |       1       |\n",
    "\n",
    "Внутренняя оценка стоимости товара для $i$−го покупателя $X_i$ – случайное число в отрезке $[0, 20000]$.\n"
   ]
  },
  {
   "cell_type": "code",
   "execution_count": 7,
   "id": "1a3697f747ffa51",
   "metadata": {
    "ExecuteTime": {
     "end_time": "2024-04-08T20:26:54.700710Z",
     "start_time": "2024-04-08T20:26:53.342860Z"
    }
   },
   "outputs": [],
   "source": [
    "import logging\n",
    "from random import randint\n",
    "\n",
    "import numpy as np\n",
    "import sympy\n",
    "# To represent multiple expressions in output of single cell.\n",
    "from IPython.display import display\n",
    "\n",
    "logging.basicConfig(level=logging.INFO, format='%(message)s')"
   ]
  },
  {
   "cell_type": "code",
   "execution_count": 8,
   "id": "5ef79b8301556a37",
   "metadata": {
    "ExecuteTime": {
     "end_time": "2024-04-08T20:26:54.711984Z",
     "start_time": "2024-04-08T20:26:54.704976Z"
    }
   },
   "outputs": [],
   "source": [
    "ROUND_DIGITS = 5"
   ]
  },
  {
   "cell_type": "code",
   "execution_count": 9,
   "id": "1d89f346f76c2e32",
   "metadata": {
    "ExecuteTime": {
     "end_time": "2024-04-08T20:26:54.737311Z",
     "start_time": "2024-04-08T20:26:54.714545Z"
    }
   },
   "outputs": [
    {
     "data": {
      "text/plain": [
       "[5961, 31, 6390, 7343, 18240, 13007, 12305, 19089, 15578, 555, 5539]"
      ]
     },
     "execution_count": 9,
     "metadata": {},
     "output_type": "execute_result"
    }
   ],
   "source": [
    "# Параметры задачи.\n",
    "N = 11\n",
    "RANGE = (0, 20_000)\n",
    "X_VALUES = [randint(*RANGE) for _ in range(N)]\n",
    "\n",
    "X_VALUES"
   ]
  },
  {
   "cell_type": "code",
   "execution_count": 10,
   "id": "76c08bc905a45027",
   "metadata": {
    "ExecuteTime": {
     "end_time": "2024-04-08T20:26:54.810908Z",
     "start_time": "2024-04-08T20:26:54.744526Z"
    }
   },
   "outputs": [
    {
     "data": {
      "text/latex": [
       "$\\displaystyle \\frac{x \\left(n - 1\\right)}{n}$"
      ],
      "text/plain": [
       "x*(n - 1)/n"
      ]
     },
     "execution_count": 10,
     "metadata": {},
     "output_type": "execute_result"
    }
   ],
   "source": [
    "# Равновесная стратегия b(x) - функция от ценности товара.\n",
    "x, n = sympy.var((\"x\", \"n\"))\n",
    "b_func = sympy.Lambda((x, n), (n - 1) * x / n)\n",
    "\n",
    "(n - 1) * x / n"
   ]
  },
  {
   "cell_type": "code",
   "execution_count": 11,
   "id": "48e32c709a781d53",
   "metadata": {
    "ExecuteTime": {
     "end_time": "2024-04-08T20:26:54.905497Z",
     "start_time": "2024-04-08T20:26:54.812835Z"
    }
   },
   "outputs": [
    {
     "name": "stderr",
     "output_type": "stream",
     "text": [
      "Оптимальная по Нэшу ставка a_0:\n"
     ]
    },
    {
     "data": {
      "text/latex": [
       "$\\displaystyle \\frac{5961 \\left(n - 1\\right)}{n} = 5419.1$"
      ],
      "text/plain": [
       "Eq(5961*(n - 1)/n, 5419.1)"
      ]
     },
     "metadata": {},
     "output_type": "display_data"
    },
    {
     "name": "stderr",
     "output_type": "stream",
     "text": [
      "Оптимальная по Нэшу ставка a_1:\n"
     ]
    },
    {
     "data": {
      "text/latex": [
       "$\\displaystyle \\frac{31 \\left(n - 1\\right)}{n} = 28.182$"
      ],
      "text/plain": [
       "Eq(31*(n - 1)/n, 28.182)"
      ]
     },
     "metadata": {},
     "output_type": "display_data"
    },
    {
     "name": "stderr",
     "output_type": "stream",
     "text": [
      "Оптимальная по Нэшу ставка a_2:\n"
     ]
    },
    {
     "data": {
      "text/latex": [
       "$\\displaystyle \\frac{6390 \\left(n - 1\\right)}{n} = 5809.1$"
      ],
      "text/plain": [
       "Eq(6390*(n - 1)/n, 5809.1)"
      ]
     },
     "metadata": {},
     "output_type": "display_data"
    },
    {
     "name": "stderr",
     "output_type": "stream",
     "text": [
      "Оптимальная по Нэшу ставка a_3:\n"
     ]
    },
    {
     "data": {
      "text/latex": [
       "$\\displaystyle \\frac{7343 \\left(n - 1\\right)}{n} = 6675.5$"
      ],
      "text/plain": [
       "Eq(7343*(n - 1)/n, 6675.5)"
      ]
     },
     "metadata": {},
     "output_type": "display_data"
    },
    {
     "name": "stderr",
     "output_type": "stream",
     "text": [
      "Оптимальная по Нэшу ставка a_4:\n"
     ]
    },
    {
     "data": {
      "text/latex": [
       "$\\displaystyle \\frac{18240 \\left(n - 1\\right)}{n} = 16582.0$"
      ],
      "text/plain": [
       "Eq(18240*(n - 1)/n, 16582.0)"
      ]
     },
     "metadata": {},
     "output_type": "display_data"
    },
    {
     "name": "stderr",
     "output_type": "stream",
     "text": [
      "Оптимальная по Нэшу ставка a_5:\n"
     ]
    },
    {
     "data": {
      "text/latex": [
       "$\\displaystyle \\frac{13007 \\left(n - 1\\right)}{n} = 11825.0$"
      ],
      "text/plain": [
       "Eq(13007*(n - 1)/n, 11825.0)"
      ]
     },
     "metadata": {},
     "output_type": "display_data"
    },
    {
     "name": "stderr",
     "output_type": "stream",
     "text": [
      "Оптимальная по Нэшу ставка a_6:\n"
     ]
    },
    {
     "data": {
      "text/latex": [
       "$\\displaystyle \\frac{12305 \\left(n - 1\\right)}{n} = 11186.0$"
      ],
      "text/plain": [
       "Eq(12305*(n - 1)/n, 11186.0)"
      ]
     },
     "metadata": {},
     "output_type": "display_data"
    },
    {
     "name": "stderr",
     "output_type": "stream",
     "text": [
      "Оптимальная по Нэшу ставка a_7:\n"
     ]
    },
    {
     "data": {
      "text/latex": [
       "$\\displaystyle \\frac{19089 \\left(n - 1\\right)}{n} = 17354.0$"
      ],
      "text/plain": [
       "Eq(19089*(n - 1)/n, 17354.0)"
      ]
     },
     "metadata": {},
     "output_type": "display_data"
    },
    {
     "name": "stderr",
     "output_type": "stream",
     "text": [
      "Оптимальная по Нэшу ставка a_8:\n"
     ]
    },
    {
     "data": {
      "text/latex": [
       "$\\displaystyle \\frac{15578 \\left(n - 1\\right)}{n} = 14162.0$"
      ],
      "text/plain": [
       "Eq(15578*(n - 1)/n, 14162.0)"
      ]
     },
     "metadata": {},
     "output_type": "display_data"
    },
    {
     "name": "stderr",
     "output_type": "stream",
     "text": [
      "Оптимальная по Нэшу ставка a_9:\n"
     ]
    },
    {
     "data": {
      "text/latex": [
       "$\\displaystyle \\frac{555 \\left(n - 1\\right)}{n} = 504.55$"
      ],
      "text/plain": [
       "Eq(555*(n - 1)/n, 504.55)"
      ]
     },
     "metadata": {},
     "output_type": "display_data"
    },
    {
     "name": "stderr",
     "output_type": "stream",
     "text": [
      "Оптимальная по Нэшу ставка a_10:\n"
     ]
    },
    {
     "data": {
      "text/latex": [
       "$\\displaystyle \\frac{5539 \\left(n - 1\\right)}{n} = 5035.5$"
      ],
      "text/plain": [
       "Eq(5539*(n - 1)/n, 5035.5)"
      ]
     },
     "metadata": {},
     "output_type": "display_data"
    }
   ],
   "source": [
    "bets = []\n",
    "for i in range(N):\n",
    "    b_subs_x = ((n - 1) * x / n).subs({x: X_VALUES[i]})\n",
    "    b_subs_n = b_subs_x.subs({n: N})\n",
    "    bets.append(float(b_subs_n))\n",
    "    logging.info(f\"Оптимальная по Нэшу ставка a_{i}:\")\n",
    "    display(sympy.Eq(b_subs_x, sympy.N(b_subs_n, ROUND_DIGITS)))"
   ]
  },
  {
   "cell_type": "code",
   "execution_count": 12,
   "id": "8d1ce6876e948aae",
   "metadata": {
    "ExecuteTime": {
     "end_time": "2024-04-08T20:26:54.937475Z",
     "start_time": "2024-04-08T20:26:54.918057Z"
    }
   },
   "outputs": [
    {
     "name": "stderr",
     "output_type": "stream",
     "text": [
      "a_7 выигрывает аукцион с выигрышем: 19089.0000 - 17353.6364 = 1735.3636;\n",
      "цена игры: 17353.6364\n"
     ]
    }
   ],
   "source": [
    "winner_index = np.argmax(bets)\n",
    "winner_score = X_VALUES[winner_index] - bets[winner_index]\n",
    "logging.info(\n",
    "    f\"a_{winner_index} выигрывает аукцион с выигрышем: \"\n",
    "    f\"{X_VALUES[winner_index]:.4f} - {bets[winner_index]:.4f} = {winner_score:.4f};\\n\"\n",
    "    f\"цена игры: {bets[winner_index]:.4f}\"\n",
    ")"
   ]
  }
 ],
 "metadata": {
  "kernelspec": {
   "display_name": "Python 3 (ipykernel)",
   "language": "python",
   "name": "python3"
  },
  "language_info": {
   "codemirror_mode": {
    "name": "ipython",
    "version": 3
   },
   "file_extension": ".py",
   "mimetype": "text/x-python",
   "name": "python",
   "nbconvert_exporter": "python",
   "pygments_lexer": "ipython3",
   "version": "3.11.9"
  }
 },
 "nbformat": 4,
 "nbformat_minor": 5
}
