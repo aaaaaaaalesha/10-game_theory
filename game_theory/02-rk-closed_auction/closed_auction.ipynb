{
 "cells": [
  {
   "metadata": {},
   "cell_type": "markdown",
   "source": [
    "# Рубежный контроль №2\n",
    "**\"Олигополия. Дуополия. Игры торга\"**\n",
    "\n",
    "**Выполнил: Александров А. Н., ИУ8-104**\n",
    "\n",
    "**Вариант: 1**\n",
    "\n",
    "## Задание.\n",
    "\n",
    "\n",
    "Найти равновесные стратегии покупателей (равновесие по Нэшу), где:\n",
    "- $n$ покупателей одновременно делают ставки;\n",
    "- $i$−й покупатель делает ставку $b_i$;\n",
    "- ценность товара (внутренняя оценка стоимости товара) для $i$−го покупателя – $X_i$;\n",
    "- товар достается тому, кто сделал самую большую ставку;\n",
    "- победитель платит свою ставку;\n",
    "- победитель ожидает прибыль $\\pi_i$.\n",
    "\n",
    "\n",
    "| Номер варианта | Число покупателей n | Число товаров |\n",
    "|:--------------:|:-------------------:|:-------------:|\n",
    "|       1        |          6          |       1       |\n",
    "\n",
    "Внутренняя оценка стоимости товара для $i$−го покупателя $X_i$ – случайное число в отрезке $[0, 20000]$.\n"
   ],
   "id": "e46263db3348a799"
  },
  {
   "metadata": {
    "ExecuteTime": {
     "end_time": "2024-04-08T20:26:54.700710Z",
     "start_time": "2024-04-08T20:26:53.342860Z"
    }
   },
   "cell_type": "code",
   "source": [
    "import logging\n",
    "from random import randint\n",
    "\n",
    "import numpy as np\n",
    "import sympy\n",
    "# To represent multiple expressions in output of single cell.\n",
    "from IPython.display import display\n",
    "\n",
    "logging.basicConfig(level=logging.INFO, format='%(message)s')"
   ],
   "id": "1a3697f747ffa51",
   "outputs": [],
   "execution_count": 1
  },
  {
   "metadata": {
    "ExecuteTime": {
     "end_time": "2024-04-08T20:26:54.711984Z",
     "start_time": "2024-04-08T20:26:54.704976Z"
    }
   },
   "cell_type": "code",
   "source": "ROUND_DIGITS = 4",
   "id": "5ef79b8301556a37",
   "outputs": [],
   "execution_count": 2
  },
  {
   "metadata": {
    "ExecuteTime": {
     "end_time": "2024-04-08T20:26:54.737311Z",
     "start_time": "2024-04-08T20:26:54.714545Z"
    }
   },
   "cell_type": "code",
   "source": [
    "# Параметры задачи.\n",
    "N = 6\n",
    "RANGE = (0, 20_000)\n",
    "X_VALUES = [randint(*RANGE) for _ in range(N)]\n",
    "\n",
    "X_VALUES"
   ],
   "id": "1d89f346f76c2e32",
   "outputs": [
    {
     "data": {
      "text/plain": [
       "[10182, 18170, 15034, 18081, 280, 13305]"
      ]
     },
     "execution_count": 3,
     "metadata": {},
     "output_type": "execute_result"
    }
   ],
   "execution_count": 3
  },
  {
   "metadata": {
    "ExecuteTime": {
     "end_time": "2024-04-08T20:26:54.810908Z",
     "start_time": "2024-04-08T20:26:54.744526Z"
    }
   },
   "cell_type": "code",
   "source": [
    "# Равновесная стратегия b(x) - функция от ценности товара.\n",
    "x, n = sympy.var((\"x\", \"n\"))\n",
    "b_func = sympy.Lambda((x, n), (n - 1) * x / n)\n",
    "\n",
    "(n - 1) * x / n"
   ],
   "id": "76c08bc905a45027",
   "outputs": [
    {
     "data": {
      "text/plain": [
       "x*(n - 1)/n"
      ],
      "text/latex": "$\\displaystyle \\frac{x \\left(n - 1\\right)}{n}$"
     },
     "execution_count": 4,
     "metadata": {},
     "output_type": "execute_result"
    }
   ],
   "execution_count": 4
  },
  {
   "metadata": {
    "ExecuteTime": {
     "end_time": "2024-04-08T20:26:54.905497Z",
     "start_time": "2024-04-08T20:26:54.812835Z"
    }
   },
   "cell_type": "code",
   "source": [
    "bets = []\n",
    "for i in range(N):\n",
    "    b_subs_x = ((n - 1) * x / n).subs({x: X_VALUES[i]})\n",
    "    b_subs_n = b_subs_x.subs({n: N})\n",
    "    bets.append(float(b_subs_n))\n",
    "    logging.info(f\"Оптимальная по Нэшу ставка a_{i}:\")\n",
    "    display(sympy.Eq(b_subs_x, sympy.N(b_subs_n, ROUND_DIGITS)))"
   ],
   "id": "48e32c709a781d53",
   "outputs": [
    {
     "name": "stderr",
     "output_type": "stream",
     "text": [
      "Оптимальная по Нэшу ставка a_0:\n"
     ]
    },
    {
     "data": {
      "text/plain": [
       "Eq(10182*(n - 1)/n, 8485.0)"
      ],
      "text/latex": "$\\displaystyle \\frac{10182 \\left(n - 1\\right)}{n} = 8485.0$"
     },
     "metadata": {},
     "output_type": "display_data"
    },
    {
     "name": "stderr",
     "output_type": "stream",
     "text": [
      "Оптимальная по Нэшу ставка a_1:\n"
     ]
    },
    {
     "data": {
      "text/plain": [
       "Eq(18170*(n - 1)/n, 1.514e+4)"
      ],
      "text/latex": "$\\displaystyle \\frac{18170 \\left(n - 1\\right)}{n} = 1.514 \\cdot 10^{4}$"
     },
     "metadata": {},
     "output_type": "display_data"
    },
    {
     "name": "stderr",
     "output_type": "stream",
     "text": [
      "Оптимальная по Нэшу ставка a_2:\n"
     ]
    },
    {
     "data": {
      "text/plain": [
       "Eq(15034*(n - 1)/n, 1.253e+4)"
      ],
      "text/latex": "$\\displaystyle \\frac{15034 \\left(n - 1\\right)}{n} = 1.253 \\cdot 10^{4}$"
     },
     "metadata": {},
     "output_type": "display_data"
    },
    {
     "name": "stderr",
     "output_type": "stream",
     "text": [
      "Оптимальная по Нэшу ставка a_3:\n"
     ]
    },
    {
     "data": {
      "text/plain": [
       "Eq(18081*(n - 1)/n, 1.507e+4)"
      ],
      "text/latex": "$\\displaystyle \\frac{18081 \\left(n - 1\\right)}{n} = 1.507 \\cdot 10^{4}$"
     },
     "metadata": {},
     "output_type": "display_data"
    },
    {
     "name": "stderr",
     "output_type": "stream",
     "text": [
      "Оптимальная по Нэшу ставка a_4:\n"
     ]
    },
    {
     "data": {
      "text/plain": [
       "Eq(280*(n - 1)/n, 233.3)"
      ],
      "text/latex": "$\\displaystyle \\frac{280 \\left(n - 1\\right)}{n} = 233.3$"
     },
     "metadata": {},
     "output_type": "display_data"
    },
    {
     "name": "stderr",
     "output_type": "stream",
     "text": [
      "Оптимальная по Нэшу ставка a_5:\n"
     ]
    },
    {
     "data": {
      "text/plain": [
       "Eq(13305*(n - 1)/n, 1.109e+4)"
      ],
      "text/latex": "$\\displaystyle \\frac{13305 \\left(n - 1\\right)}{n} = 1.109 \\cdot 10^{4}$"
     },
     "metadata": {},
     "output_type": "display_data"
    }
   ],
   "execution_count": 5
  },
  {
   "metadata": {
    "ExecuteTime": {
     "end_time": "2024-04-08T20:26:54.937475Z",
     "start_time": "2024-04-08T20:26:54.918057Z"
    }
   },
   "cell_type": "code",
   "source": [
    "winner_index = np.argmax(bets)\n",
    "winner_score = X_VALUES[winner_index] - bets[winner_index]\n",
    "logging.info(\n",
    "    f\"a_{winner_index} выигрывает аукцион с выигрышем: \"\n",
    "    f\"{X_VALUES[winner_index]:.4f} - {bets[winner_index]:.4f} = {winner_score:.4f};\\n\"\n",
    "    f\"цена игры: {bets[winner_index]:.4f}\"\n",
    ")"
   ],
   "id": "8d1ce6876e948aae",
   "outputs": [
    {
     "name": "stderr",
     "output_type": "stream",
     "text": [
      "a_1 выигрывает аукцион с выигрышем: 18170.0000 - 15141.6667 = 3028.3333;\n",
      "цена игры: 15141.6667\n"
     ]
    }
   ],
   "execution_count": 6
  }
 ],
 "metadata": {
  "kernelspec": {
   "display_name": "Python 3",
   "language": "python",
   "name": "python3"
  },
  "language_info": {
   "codemirror_mode": {
    "name": "ipython",
    "version": 2
   },
   "file_extension": ".py",
   "mimetype": "text/x-python",
   "name": "python",
   "nbconvert_exporter": "python",
   "pygments_lexer": "ipython2",
   "version": "2.7.6"
  }
 },
 "nbformat": 4,
 "nbformat_minor": 5
}
