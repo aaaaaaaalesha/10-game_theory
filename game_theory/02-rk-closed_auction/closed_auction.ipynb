{
 "cells": [
  {
   "metadata": {},
   "cell_type": "markdown",
   "source": [
    "# Рубежный контроль №2\n",
    "**\"Олигополия. Дуополия. Игры торга\"**\n",
    "\n",
    "**Выполнил: Александров А. Н., ИУ8-104**\n",
    "\n",
    "**Вариант: 1**\n",
    "\n",
    "## Задание.\n",
    "\n",
    "\n",
    "Найти равновесные стратегии покупателей (равновесие по Нэшу), где:\n",
    "- $n$ покупателей одновременно делают ставки;\n",
    "- $i$−й покупатель делает ставку $b_i$;\n",
    "- ценность товара (внутренняя оценка стоимости товара) для $i$−го покупателя – $X_i$;\n",
    "- товар достается тому, кто сделал самую большую ставку;\n",
    "- победитель платит свою ставку;\n",
    "- победитель ожидает прибыль $\\pi_i$.\n",
    "\n",
    "\n",
    "| Номер варианта | Число покупателей n | Число товаров |\n",
    "|:--------------:|:-------------------:|:-------------:|\n",
    "|       1        |          6          |       1       |\n",
    "\n",
    "Внутренняя оценка стоимости товара для $i$−го покупателя $X_i$ – случайное число в отрезке $[0, 20000]$.\n"
   ],
   "id": "e46263db3348a799"
  },
  {
   "metadata": {
    "ExecuteTime": {
     "end_time": "2024-04-08T05:54:38.397756Z",
     "start_time": "2024-04-08T05:54:37.619085Z"
    }
   },
   "cell_type": "code",
   "source": [
    "import logging\n",
    "from random import randint\n",
    "\n",
    "import numpy as np\n",
    "import sympy\n",
    "# To represent multiple expressions in output of single cell.\n",
    "from IPython.display import display\n",
    "\n",
    "logging.basicConfig(level=logging.INFO, format='%(message)s')"
   ],
   "id": "1a3697f747ffa51",
   "outputs": [],
   "execution_count": 1
  },
  {
   "metadata": {
    "ExecuteTime": {
     "end_time": "2024-04-08T05:54:38.400116Z",
     "start_time": "2024-04-08T05:54:38.398707Z"
    }
   },
   "cell_type": "code",
   "source": "ROUND_DIGITS = 4",
   "id": "5ef79b8301556a37",
   "outputs": [],
   "execution_count": 2
  },
  {
   "metadata": {
    "ExecuteTime": {
     "end_time": "2024-04-08T05:54:38.403747Z",
     "start_time": "2024-04-08T05:54:38.400730Z"
    }
   },
   "cell_type": "code",
   "source": [
    "# Параметры задачи.\n",
    "N = 6\n",
    "RANGE = (0, 2000)\n",
    "X_VALUES = [randint(*RANGE) for _ in range(N)]\n",
    "\n",
    "X_VALUES"
   ],
   "id": "1d89f346f76c2e32",
   "outputs": [
    {
     "data": {
      "text/plain": [
       "[1761, 330, 1354, 1710, 136, 1322]"
      ]
     },
     "execution_count": 3,
     "metadata": {},
     "output_type": "execute_result"
    }
   ],
   "execution_count": 3
  },
  {
   "metadata": {
    "ExecuteTime": {
     "end_time": "2024-04-08T05:54:38.435583Z",
     "start_time": "2024-04-08T05:54:38.404411Z"
    }
   },
   "cell_type": "code",
   "source": [
    "# Равновесная стратегия b(x) - функция от ценности товара.\n",
    "x, n = sympy.var((\"x\", \"n\"))\n",
    "b_func = sympy.Lambda((x, n), (n - 1) * x / n)\n",
    "\n",
    "(n - 1) * x / n"
   ],
   "id": "76c08bc905a45027",
   "outputs": [
    {
     "data": {
      "text/plain": [
       "x*(n - 1)/n"
      ],
      "text/latex": "$\\displaystyle \\frac{x \\left(n - 1\\right)}{n}$"
     },
     "execution_count": 4,
     "metadata": {},
     "output_type": "execute_result"
    }
   ],
   "execution_count": 4
  },
  {
   "metadata": {
    "ExecuteTime": {
     "end_time": "2024-04-08T05:54:38.460948Z",
     "start_time": "2024-04-08T05:54:38.436964Z"
    }
   },
   "cell_type": "code",
   "source": [
    "bets = []\n",
    "for i in range(N):\n",
    "    b_subs_x = ((n - 1) * x / n).subs({x: X_VALUES[i]})\n",
    "    b_subs_n = b_subs_x.subs({n: N})\n",
    "    bets.append(float(b_subs_n))\n",
    "    logging.info(f\"Оптимальная по Нэшу ставка a_{i}:\")\n",
    "    display(sympy.Eq(b_subs_x, sympy.N(b_subs_n, ROUND_DIGITS)))"
   ],
   "id": "48e32c709a781d53",
   "outputs": [
    {
     "name": "stderr",
     "output_type": "stream",
     "text": [
      "Оптимальная по Нэшу ставка a_0:\n"
     ]
    },
    {
     "data": {
      "text/plain": [
       "Eq(1761*(n - 1)/n, 1468.0)"
      ],
      "text/latex": "$\\displaystyle \\frac{1761 \\left(n - 1\\right)}{n} = 1468.0$"
     },
     "metadata": {},
     "output_type": "display_data"
    },
    {
     "name": "stderr",
     "output_type": "stream",
     "text": [
      "Оптимальная по Нэшу ставка a_1:\n"
     ]
    },
    {
     "data": {
      "text/plain": [
       "Eq(330*(n - 1)/n, 275.0)"
      ],
      "text/latex": "$\\displaystyle \\frac{330 \\left(n - 1\\right)}{n} = 275.0$"
     },
     "metadata": {},
     "output_type": "display_data"
    },
    {
     "name": "stderr",
     "output_type": "stream",
     "text": [
      "Оптимальная по Нэшу ставка a_2:\n"
     ]
    },
    {
     "data": {
      "text/plain": [
       "Eq(1354*(n - 1)/n, 1128.0)"
      ],
      "text/latex": "$\\displaystyle \\frac{1354 \\left(n - 1\\right)}{n} = 1128.0$"
     },
     "metadata": {},
     "output_type": "display_data"
    },
    {
     "name": "stderr",
     "output_type": "stream",
     "text": [
      "Оптимальная по Нэшу ставка a_3:\n"
     ]
    },
    {
     "data": {
      "text/plain": [
       "Eq(1710*(n - 1)/n, 1425.0)"
      ],
      "text/latex": "$\\displaystyle \\frac{1710 \\left(n - 1\\right)}{n} = 1425.0$"
     },
     "metadata": {},
     "output_type": "display_data"
    },
    {
     "name": "stderr",
     "output_type": "stream",
     "text": [
      "Оптимальная по Нэшу ставка a_4:\n"
     ]
    },
    {
     "data": {
      "text/plain": [
       "Eq(136*(n - 1)/n, 113.3)"
      ],
      "text/latex": "$\\displaystyle \\frac{136 \\left(n - 1\\right)}{n} = 113.3$"
     },
     "metadata": {},
     "output_type": "display_data"
    },
    {
     "name": "stderr",
     "output_type": "stream",
     "text": [
      "Оптимальная по Нэшу ставка a_5:\n"
     ]
    },
    {
     "data": {
      "text/plain": [
       "Eq(1322*(n - 1)/n, 1102.0)"
      ],
      "text/latex": "$\\displaystyle \\frac{1322 \\left(n - 1\\right)}{n} = 1102.0$"
     },
     "metadata": {},
     "output_type": "display_data"
    }
   ],
   "execution_count": 5
  },
  {
   "metadata": {
    "ExecuteTime": {
     "end_time": "2024-04-08T05:54:38.463759Z",
     "start_time": "2024-04-08T05:54:38.461655Z"
    }
   },
   "cell_type": "code",
   "source": [
    "winner_index = np.argmax(bets)\n",
    "winner_score = X_VALUES[winner_index] - bets[winner_index]\n",
    "logging.info(\n",
    "    f\"a_{winner_index} выигрывает аукцион с выигрышем: \"\n",
    "    f\"{X_VALUES[winner_index]:.4f} - {bets[winner_index]:.4f} = {winner_score:.4f};\\n\"\n",
    "    f\"цена игры: {bets[winner_index]:.4f}\"\n",
    ")"
   ],
   "id": "8d1ce6876e948aae",
   "outputs": [
    {
     "name": "stderr",
     "output_type": "stream",
     "text": [
      "a_0 выигрывает аукцион с выигрышем: 1761.000 - 1467.500 = 293.500;\n",
      "цена игры: 1467.500\n"
     ]
    }
   ],
   "execution_count": 6
  }
 ],
 "metadata": {
  "kernelspec": {
   "display_name": "Python 3",
   "language": "python",
   "name": "python3"
  },
  "language_info": {
   "codemirror_mode": {
    "name": "ipython",
    "version": 2
   },
   "file_extension": ".py",
   "mimetype": "text/x-python",
   "name": "python",
   "nbconvert_exporter": "python",
   "pygments_lexer": "ipython2",
   "version": "2.7.6"
  }
 },
 "nbformat": 4,
 "nbformat_minor": 5
}
