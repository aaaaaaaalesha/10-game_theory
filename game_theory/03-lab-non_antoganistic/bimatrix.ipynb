{
 "cells": [
  {
   "cell_type": "markdown",
   "id": "45fbc37898be248c",
   "metadata": {
    "collapsed": false,
    "jupyter": {
     "outputs_hidden": false
    }
   },
   "source": [
    "# Лабораторная работа №3\n",
    "### \"Критерии выбора стратегий в неантагонистических бескоалиционных играх:\n",
    "### равновесие Нэша, оптимальность Парето\"\n",
    "\n",
    "**Вариант:** 1\n",
    "\n",
    "**Цель работы:** изучить критерии выбора стратегий в неантагонистической бескоалиционной игре двух игроков на основе \n",
    "равновесия Нэша и оптимальности по Парето. Проверить данные критерии на примере рассмотренных выше игр. \n",
    "Исследовать свойства оптимальных решений неантагонистических бескоалиционных игр на примере биматричных (2×2)-игр."
   ]
  },
  {
   "cell_type": "code",
   "id": "initial_id",
   "metadata": {
    "ExecuteTime": {
     "end_time": "2024-04-09T14:50:09.019231Z",
     "start_time": "2024-04-09T14:50:08.826810Z"
    }
   },
   "source": [
    "import logging\n",
    "\n",
    "import numpy as np\n",
    "\n",
    "from game_theory.utils.bimatrix_games.bimatrix import BimatrixGame\n",
    "\n",
    "logging.basicConfig(level=logging.INFO, format='%(message)s')"
   ],
   "outputs": [],
   "execution_count": 1
  },
  {
   "cell_type": "markdown",
   "id": "b64098ac6ec34933",
   "metadata": {
    "collapsed": false,
    "jupyter": {
     "outputs_hidden": false
    }
   },
   "source": [
    "### 1. Нахождение ситуаций, оптимальных по Парето и равновесных по Нэшу"
   ]
  },
  {
   "cell_type": "markdown",
   "id": "329fd0b0502af763",
   "metadata": {
    "collapsed": false,
    "jupyter": {
     "outputs_hidden": false
    }
   },
   "source": [
    "#### 1.1. Случайная биматричная игра"
   ]
  },
  {
   "cell_type": "code",
   "id": "60984a19fe976b9c",
   "metadata": {
    "collapsed": false,
    "jupyter": {
     "outputs_hidden": false
    },
    "ExecuteTime": {
     "end_time": "2024-04-09T14:50:17.023790Z",
     "start_time": "2024-04-09T14:50:17.013528Z"
    }
   },
   "source": [
    "bimatrix_game = BimatrixGame.from_random_values((10, 10), low=-10, high=10)\n",
    "bimatrix_game"
   ],
   "outputs": [
    {
     "data": {
      "text/plain": [
       "\u001B[3m\u001B[1mЖирным курсивом\u001B[0m\u001B[0m выделены ситуации, оптимальные по Парето.\n",
       "\u001B[4mПодчеркнутым\u001B[0m - ситуации, равновесные по Нэшу.\n",
       "+----------------------------------------------------------------------------------------------------------------+\n",
       "|                                    Случайная биматричная игры размера 10x10                                    |\n",
       "+----------+----------+----------+----------+-----------+-----------+----------+----------+-----------+----------+\n",
       "| (-4, 4)  | (4, -9)  |  (8, 1)  | \u001B[4m\u001B[3m\u001B[1m(10, 10)\u001B[0m\u001B[0m\u001B[0m |  (-9, 3)  |  (9, -6)  | (-2, 8)  | (-10, 3) | (-10, -4) | (-1, 2)  |\n",
       "|  (6, 8)  | (3, 10)  | (-3, 9)  |  (8, 4)  |  (-6, 10) |   (8, 9)  | (4, -8)  | (-9, 7)  |  (10, 4)  | (-2, 6)  |\n",
       "| (4, -9)  | (7, -2)  |  (8, 0)  | (6, -10) | (-10, -3) | (-9, -10) | (-1, -3) | (0, -6)  |   (1, 5)  | \u001B[4m(10, 9)\u001B[0m  |\n",
       "| (2, -9)  | (4, -3)  | (-1, 7)  | (-5, 8)  |   (1, 0)  |   (1, 7)  |  (3, 5)  | (-2, 5)  |   (2, 4)  | (-5, -2) |\n",
       "|  \u001B[4m(9, 9)\u001B[0m  | (-4, -5) |  (5, 2)  | (-5, 6)  |  (-4, -7) |  (-8, -9) | (4, -9)  | (-10, 7) |   (2, 2)  | (9, -10) |\n",
       "| (-7, 7)  | (5, -2)  | (-1, -8) | (7, -8)  |  (5, -8)  |   (5, 2)  |  (9, 2)  |  (9, 9)  |  (-7, 3)  | (-9, -4) |\n",
       "| (-8, 4)  | (9, -1)  |  (3, 3)  | (-7, -6) |   (3, 2)  |  (7, -10) |  (9, 2)  | (-8, 6)  |  (-10, 4) | (-6, 5)  |\n",
       "|  (5, 8)  |  (4, 8)  |  (8, 1)  | (-5, -5) |   (2, 4)  |  (-9, -2) | (1, -2)  | (-4, 0)  |  (-3, 9)  |  (8, 0)  |\n",
       "| (0, 10)  | (-5, 9)  | (8, -4)  | (5, -6)  |  (0, -5)  |   (8, 0)  | (-8, 1)  | (10, 0)  |  (-1, -6) | (-10, 6) |\n",
       "| (-2, -6) | (-1, 6)  | (5, -4)  |  (6, 3)  |  (-8, -5) |  (-2, -6) | (-5, -8) |  (7, 1)  |  (7, -7)  |  (3, 7)  |\n",
       "+----------+----------+----------+----------+-----------+-----------+----------+----------+-----------+----------+\n",
       "\n",
       "Равновесие Нэша: [(9.0, 9.0), (10.0, 9.0), (10.0, 10.0)]\n",
       "Оптимальность Парето: [(10.0, 10.0)]"
      ]
     },
     "execution_count": 14,
     "metadata": {},
     "output_type": "execute_result"
    }
   ],
   "execution_count": 14
  },
  {
   "cell_type": "markdown",
   "id": "51e2caf20cd6aab8",
   "metadata": {
    "collapsed": false,
    "jupyter": {
     "outputs_hidden": false
    }
   },
   "source": [
    "#### 1.2. Игра \"Семейный спор\" (\"Battle of Sexes\")"
   ]
  },
  {
   "cell_type": "code",
   "id": "1dd45437c5b26af5",
   "metadata": {
    "collapsed": false,
    "jupyter": {
     "outputs_hidden": false
    },
    "ExecuteTime": {
     "end_time": "2024-04-09T14:50:20.826543Z",
     "start_time": "2024-04-09T14:50:20.822704Z"
    }
   },
   "source": [
    "bimatrix = np.array([\n",
    "    [(4, 1), (0, 0)],\n",
    "    [(0, 0), (1, 4)],\n",
    "])"
   ],
   "outputs": [],
   "execution_count": 15
  },
  {
   "cell_type": "code",
   "id": "ddcc2e1a97220ec8",
   "metadata": {
    "collapsed": false,
    "jupyter": {
     "outputs_hidden": false
    },
    "ExecuteTime": {
     "end_time": "2024-04-09T14:50:20.982610Z",
     "start_time": "2024-04-09T14:50:20.977681Z"
    }
   },
   "source": [
    "bimatrix_game = BimatrixGame(\n",
    "    bimatrix=bimatrix,\n",
    "    title='Игра \"Семейный спор\" (\"Battle of Sexes\")',\n",
    ")\n",
    "bimatrix_game"
   ],
   "outputs": [
    {
     "data": {
      "text/plain": [
       "\u001B[3m\u001B[1mЖирным курсивом\u001B[0m\u001B[0m выделены ситуации, оптимальные по Парето.\n",
       "\u001B[4mПодчеркнутым\u001B[0m - ситуации, равновесные по Нэшу.\n",
       "+------------------------------------------+\n",
       "| Игра \"Семейный спор\" (\"Battle of Sexes\") |\n",
       "+--------------------+---------------------+\n",
       "|       \u001B[4m\u001B[3m\u001B[1m(4, 1)\u001B[0m\u001B[0m\u001B[0m       |        (0, 0)       |\n",
       "|       (0, 0)       |        \u001B[4m\u001B[3m\u001B[1m(1, 4)\u001B[0m\u001B[0m\u001B[0m       |\n",
       "+--------------------+---------------------+\n",
       "\n",
       "Равновесие Нэша: [(1.0, 4.0), (4.0, 1.0)]\n",
       "Оптимальность Парето: [(1.0, 4.0), (4.0, 1.0)]"
      ]
     },
     "execution_count": 16,
     "metadata": {},
     "output_type": "execute_result"
    }
   ],
   "execution_count": 16
  },
  {
   "cell_type": "markdown",
   "id": "9b13a72725d378bf",
   "metadata": {
    "collapsed": false,
    "jupyter": {
     "outputs_hidden": false
    }
   },
   "source": [
    "#### 1.3. Игра \"Перекрёсток\" (\"Crossroad\")"
   ]
  },
  {
   "cell_type": "code",
   "id": "5337157dc1a4e873",
   "metadata": {
    "collapsed": false,
    "jupyter": {
     "outputs_hidden": false
    },
    "ExecuteTime": {
     "end_time": "2024-04-09T14:50:21.488327Z",
     "start_time": "2024-04-09T14:50:21.485583Z"
    }
   },
   "source": [
    "shift_1, shift_2 = round(np.random.random(), 3), round(np.random.random(), 3)\n",
    "bimatrix = np.array([\n",
    "    [(1, 1), (1 - shift_1, 2)],\n",
    "    [(2, 1 - shift_2), (0, 0)],\n",
    "])"
   ],
   "outputs": [],
   "execution_count": 17
  },
  {
   "cell_type": "code",
   "id": "562dccd54b14bb45",
   "metadata": {
    "collapsed": false,
    "jupyter": {
     "outputs_hidden": false
    },
    "ExecuteTime": {
     "end_time": "2024-04-09T14:50:22.046733Z",
     "start_time": "2024-04-09T14:50:22.042178Z"
    }
   },
   "source": [
    "bimatrix_game = BimatrixGame(\n",
    "    bimatrix=bimatrix,\n",
    "    title='Игра \"Перекрёсток\" (\"Crossroad\")',\n",
    ")\n",
    "bimatrix_game"
   ],
   "outputs": [
    {
     "data": {
      "text/plain": [
       "\u001B[3m\u001B[1mЖирным курсивом\u001B[0m\u001B[0m выделены ситуации, оптимальные по Парето.\n",
       "\u001B[4mПодчеркнутым\u001B[0m - ситуации, равновесные по Нэшу.\n",
       "+----------------------------------+\n",
       "| Игра \"Перекрёсток\" (\"Crossroad\") |\n",
       "+---------------+------------------+\n",
       "|   \u001B[3m\u001B[1m(1.0, 1.0)\u001B[0m\u001B[0m  |   \u001B[4m\u001B[3m\u001B[1m(0.957, 2.0)\u001B[0m\u001B[0m\u001B[0m   |\n",
       "|  \u001B[4m\u001B[3m\u001B[1m(2.0, 0.38)\u001B[0m\u001B[0m\u001B[0m  |    (0.0, 0.0)    |\n",
       "+---------------+------------------+\n",
       "\n",
       "Равновесие Нэша: [(0.957, 2.0), (2.0, 0.38)]\n",
       "Оптимальность Парето: [(0.957, 2.0), (2.0, 0.38), (1.0, 1.0)]"
      ]
     },
     "execution_count": 18,
     "metadata": {},
     "output_type": "execute_result"
    }
   ],
   "execution_count": 18
  },
  {
   "cell_type": "markdown",
   "id": "ac8c41b2b4c19075",
   "metadata": {
    "collapsed": false,
    "jupyter": {
     "outputs_hidden": false
    }
   },
   "source": [
    "#### 1.4. Игра \"Дилемма заключённого\" (\"Prisoner's dilemma\")"
   ]
  },
  {
   "cell_type": "code",
   "id": "6eb4549951528038",
   "metadata": {
    "collapsed": false,
    "jupyter": {
     "outputs_hidden": false
    },
    "ExecuteTime": {
     "end_time": "2024-04-09T14:50:23.128174Z",
     "start_time": "2024-04-09T14:50:23.123951Z"
    }
   },
   "source": [
    "bimatrix = np.array([\n",
    "    [(-5, -5), (0, -10)],\n",
    "    [(-10, 0), (-1, -1)],\n",
    "])"
   ],
   "outputs": [],
   "execution_count": 19
  },
  {
   "cell_type": "code",
   "id": "59b6561f1cc45f9a",
   "metadata": {
    "collapsed": false,
    "jupyter": {
     "outputs_hidden": false
    },
    "ExecuteTime": {
     "end_time": "2024-04-09T14:50:23.449467Z",
     "start_time": "2024-04-09T14:50:23.444922Z"
    }
   },
   "source": [
    "bimatrix_game = BimatrixGame(\n",
    "    bimatrix=bimatrix,\n",
    "    title=\"\"\"Игра \"Дилемма заключённого\" (\"Prisoner's dilemma\")\"\"\",\n",
    ")\n",
    "bimatrix_game"
   ],
   "outputs": [
    {
     "data": {
      "text/plain": [
       "\u001B[3m\u001B[1mЖирным курсивом\u001B[0m\u001B[0m выделены ситуации, оптимальные по Парето.\n",
       "\u001B[4mПодчеркнутым\u001B[0m - ситуации, равновесные по Нэшу.\n",
       "+----------------------------------------------------+\n",
       "| Игра \"Дилемма заключённого\" (\"Prisoner's dilemma\") |\n",
       "+-------------------------+--------------------------+\n",
       "|         \u001B[4m(-5, -5)\u001B[0m        |         \u001B[3m\u001B[1m(0, -10)\u001B[0m\u001B[0m         |\n",
       "|         \u001B[3m\u001B[1m(-10, 0)\u001B[0m\u001B[0m        |         \u001B[3m\u001B[1m(-1, -1)\u001B[0m\u001B[0m         |\n",
       "+-------------------------+--------------------------+\n",
       "\n",
       "Равновесие Нэша: [(-5.0, -5.0)]\n",
       "Оптимальность Парето: [(0.0, -10.0), (-10.0, 0.0), (-1.0, -1.0)]"
      ]
     },
     "execution_count": 20,
     "metadata": {},
     "output_type": "execute_result"
    }
   ],
   "execution_count": 20
  },
  {
   "cell_type": "markdown",
   "id": "ee300440d07f2210",
   "metadata": {
    "collapsed": false,
    "jupyter": {
     "outputs_hidden": false
    }
   },
   "source": [
    "### 2. Нахождения равновесных по Нэшу ситуаций для исходной игры и смешанного дополнения"
   ]
  },
  {
   "cell_type": "code",
   "id": "e085541bc08521b6",
   "metadata": {
    "collapsed": false,
    "jupyter": {
     "outputs_hidden": false
    },
    "ExecuteTime": {
     "end_time": "2024-04-09T14:50:24.550039Z",
     "start_time": "2024-04-09T14:50:24.542934Z"
    }
   },
   "source": [
    "bimatrix = np.array([\n",
    "    [(5, 0), (8, 4)],\n",
    "    [(7, 6), (6, 3)],\n",
    "])"
   ],
   "outputs": [],
   "execution_count": 21
  },
  {
   "cell_type": "code",
   "id": "efe4c661e3fbd8d8",
   "metadata": {
    "collapsed": false,
    "jupyter": {
     "outputs_hidden": false
    },
    "ExecuteTime": {
     "end_time": "2024-04-09T14:50:25.298862Z",
     "start_time": "2024-04-09T14:50:25.288562Z"
    }
   },
   "source": [
    "bimatrix_game = BimatrixGame(\n",
    "    bimatrix=bimatrix,\n",
    "    title=\"Биматричная игра по варианту 1\",\n",
    ")\n",
    "bimatrix_game"
   ],
   "outputs": [
    {
     "data": {
      "text/plain": [
       "\u001B[3m\u001B[1mЖирным курсивом\u001B[0m\u001B[0m выделены ситуации, оптимальные по Парето.\n",
       "\u001B[4mПодчеркнутым\u001B[0m - ситуации, равновесные по Нэшу.\n",
       "+--------------------------------+\n",
       "| Биматричная игра по варианту 1 |\n",
       "+---------------+----------------+\n",
       "|     (5, 0)    |     \u001B[4m\u001B[3m\u001B[1m(8, 4)\u001B[0m\u001B[0m\u001B[0m     |\n",
       "|     \u001B[4m\u001B[3m\u001B[1m(7, 6)\u001B[0m\u001B[0m\u001B[0m    |     (6, 3)     |\n",
       "+---------------+----------------+\n",
       "\n",
       "Равновесие Нэша: [(8.0, 4.0), (7.0, 6.0)]\n",
       "Оптимальность Парето: [(8.0, 4.0), (7.0, 6.0)]"
      ]
     },
     "execution_count": 22,
     "metadata": {},
     "output_type": "execute_result"
    }
   ],
   "execution_count": 22
  },
  {
   "cell_type": "code",
   "id": "c7d45f69644d9781",
   "metadata": {
    "ExecuteTime": {
     "end_time": "2024-04-09T14:50:26.079443Z",
     "start_time": "2024-04-09T14:50:26.069921Z"
    }
   },
   "source": [
    "_, _ = bimatrix_game.get_mixed_balanced_situation()"
   ],
   "outputs": [
    {
     "name": "stderr",
     "output_type": "stream",
     "text": [
      "Равновесные выигрыши: v_1 =  6.500, v_2 =  3.429\n",
      "Вполне смешанная ситуация равновесия:\n",
      "x = [0.429 0.571], y = [0.5 0.5]\n"
     ]
    }
   ],
   "execution_count": 23
  }
 ],
 "metadata": {
  "kernelspec": {
   "display_name": "Python 3 (ipykernel)",
   "language": "python",
   "name": "python3"
  },
  "language_info": {
   "codemirror_mode": {
    "name": "ipython",
    "version": 3
   },
   "file_extension": ".py",
   "mimetype": "text/x-python",
   "name": "python",
   "nbconvert_exporter": "python",
   "pygments_lexer": "ipython3",
   "version": "3.11.9"
  }
 },
 "nbformat": 4,
 "nbformat_minor": 5
}
