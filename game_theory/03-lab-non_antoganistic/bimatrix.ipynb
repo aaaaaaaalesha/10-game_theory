{
 "cells": [
  {
   "cell_type": "markdown",
   "source": [
    "# Лабораторная работа №3\n",
    "### \"Критерии выбора стратегий в неантагонистических бескоалиционных играх:\n",
    "### равновесие Нэша, оптимальность Парето\"\n",
    "\n",
    "**Вариант:** 1\n",
    "\n",
    "**Цель работы:** изучить критерии выбора стратегий в неантагонистической бескоалиционной игре двух игроков на основе \n",
    "равновесия Нэша и оптимальности по Парето. Проверить данные критерии на примере рассмотренных выше игр. \n",
    "Исследовать свойства оптимальных решений неантагонистических бескоалиционных игр на примере биматричных (2×2)-игр."
   ],
   "metadata": {
    "collapsed": false
   },
   "id": "45fbc37898be248c"
  },
  {
   "cell_type": "code",
   "outputs": [],
   "source": [
    "import logging\n",
    "\n",
    "import numpy as np\n",
    "\n",
    "from game_theory.utils.bimatrix_games.bimatrix import BimatrixGame"
   ],
   "metadata": {
    "collapsed": true,
    "ExecuteTime": {
     "end_time": "2024-04-05T10:29:05.978929Z",
     "start_time": "2024-04-05T10:29:05.791249Z"
    }
   },
   "id": "initial_id",
   "execution_count": 1
  },
  {
   "cell_type": "markdown",
   "source": [
    "### 1. Нахождение ситуаций, оптимальных по Парето и равновесных по Нэшу"
   ],
   "metadata": {
    "collapsed": false
   },
   "id": "b64098ac6ec34933"
  },
  {
   "cell_type": "markdown",
   "source": [
    "#### 1.1. Случайная биматричная игра"
   ],
   "metadata": {
    "collapsed": false
   },
   "id": "329fd0b0502af763"
  },
  {
   "cell_type": "code",
   "outputs": [
    {
     "data": {
      "text/plain": "\u001B[3m\u001B[1mЖирным курсивом\u001B[0m\u001B[0m выделены ситуации, оптимальные по Парето.\n\u001B[4mПодчеркнутым\u001B[0m - ситуации, равновесные по Нэшу.\n+---------------------------------------------------------------------------------------------------------------------------------+\n|                                             Случайная биматричная игры размера 10x10                                            |\n+------------+------------+------------+------------+------------+------------+------------+------------+------------+------------+\n|  (49, 15)  |  (52, 96)  | (70, -71)  | (-93, -61) | (-55, 97)  | (34, -21)  | (34, -45)  |  \u001B[3m\u001B[1m(99, 87)\u001B[0m\u001B[0m  | (26, -91)  | (-13, -73) |\n| (-21, 29)  |  (24, 34)  | (-78, 52)  | (-73, -56) | (-61, -95) |  (39, 85)  | (-16, 43)  |  (1, 47)   |  (52, 80)  | (90, -20)  |\n| (-45, -99) |  (-3, 40)  | (-42, 54)  | (49, -55)  | (-33, -36) |  (66, 52)  | (-33, 41)  |  (7, -78)  | (-50, -35) | (95, -77)  |\n| (-10, 77)  | (-24, -98) | (-90, -14) | (-46, 30)  | (-10, 64)  | (-22, -66) |  (72, -9)  | (-83, 17)  | (99, -31)  | (18, -50)  |\n| (42, -10)  |  (18, 44)  | (53, -60)  |  (16, -6)  |  (62, -7)  |  (39, 26)  | (-85, 72)  |  (42, 76)  | (-14, -52) | (81, -51)  |\n| (24, -13)  | (-69, -59) | (27, -85)  | (-98, 84)  |  (43, 29)  | (-71, -33) | (-31, 21)  |  (95, 66)  | (67, -37)  | (21, -14)  |\n|  \u001B[3m\u001B[1m(72, 99)\u001B[0m\u001B[0m  | (-8, -38)  |  (-76, 1)  |  (-9, 66)  | (80, -67)  |  (90, 8)   | (-63, -88) | (51, -70)  | (-28, -75) | (92, -48)  |\n| (-94, 32)  |  (13, 68)  | (-46, 79)  | (-27, -31) | (39, -22)  | (41, -12)  | (32, -49)  | (83, -30)  | (-67, -41) | (-86, 75)  |\n|  (94, 14)  |  (74, 39)  | (-46, -84) | (81, -41)  | (-100, 81) | (-33, -68) | (-15, -71) | (37, -38)  | (-17, 17)  | (-76, -29) |\n| (-16, -98) | (-34, 70)  | (-58, 13)  | (-89, 25)  |  (8, 30)   | (-44, 61)  |  (23, 85)  | (-20, -40) | (-64, -70) | (-85, -33) |\n+------------+------------+------------+------------+------------+------------+------------+------------+------------+------------+\n\nРавновесие Нэша: --\nОптимальность Парето: [(99.0, 87.0), (72.0, 99.0)]"
     },
     "execution_count": 2,
     "metadata": {},
     "output_type": "execute_result"
    }
   ],
   "source": [
    "bimatrix_game = BimatrixGame.from_random_values()\n",
    "bimatrix_game"
   ],
   "metadata": {
    "collapsed": false,
    "ExecuteTime": {
     "end_time": "2024-04-05T10:29:05.991861Z",
     "start_time": "2024-04-05T10:29:05.981968Z"
    }
   },
   "id": "60984a19fe976b9c",
   "execution_count": 2
  },
  {
   "cell_type": "markdown",
   "source": [
    "#### 1.2. Игра \"Семейный спор\" (\"Battle of Sexes\")"
   ],
   "metadata": {
    "collapsed": false
   },
   "id": "51e2caf20cd6aab8"
  },
  {
   "cell_type": "code",
   "outputs": [],
   "source": [
    "bimatrix = np.array([\n",
    "    [(4, 1), (0, 0)],\n",
    "    [(0, 0), (1, 4)],\n",
    "])"
   ],
   "metadata": {
    "collapsed": false,
    "ExecuteTime": {
     "end_time": "2024-04-05T10:29:05.998973Z",
     "start_time": "2024-04-05T10:29:05.994359Z"
    }
   },
   "id": "1dd45437c5b26af5",
   "execution_count": 3
  },
  {
   "cell_type": "code",
   "outputs": [
    {
     "data": {
      "text/plain": "\u001B[3m\u001B[1mЖирным курсивом\u001B[0m\u001B[0m выделены ситуации, оптимальные по Парето.\n\u001B[4mПодчеркнутым\u001B[0m - ситуации, равновесные по Нэшу.\n+------------------------------------------+\n| Игра \"Семейный спор\" (\"Battle of Sexes\") |\n+--------------------+---------------------+\n|       \u001B[4m\u001B[3m\u001B[1m(4, 1)\u001B[0m\u001B[0m\u001B[0m       |        (0, 0)       |\n|       (0, 0)       |        \u001B[4m\u001B[3m\u001B[1m(1, 4)\u001B[0m\u001B[0m\u001B[0m       |\n+--------------------+---------------------+\n\nРавновесие Нэша: [(1.0, 4.0), (4.0, 1.0)]\nОптимальность Парето: [(1.0, 4.0), (4.0, 1.0)]"
     },
     "execution_count": 4,
     "metadata": {},
     "output_type": "execute_result"
    }
   ],
   "source": [
    "bimatrix_game = BimatrixGame(\n",
    "    bimatrix=bimatrix,\n",
    "    title='Игра \"Семейный спор\" (\"Battle of Sexes\")',\n",
    ")\n",
    "bimatrix_game"
   ],
   "metadata": {
    "collapsed": false,
    "ExecuteTime": {
     "end_time": "2024-04-05T10:29:06.007994Z",
     "start_time": "2024-04-05T10:29:06.001024Z"
    }
   },
   "id": "ddcc2e1a97220ec8",
   "execution_count": 4
  },
  {
   "cell_type": "markdown",
   "source": [
    "#### 1.3. Игра \"Перекрёсток\" (\"Crossroad\")"
   ],
   "metadata": {
    "collapsed": false
   },
   "id": "9b13a72725d378bf"
  },
  {
   "cell_type": "code",
   "outputs": [],
   "source": [
    "shift_1, shift_2 = round(np.random.random(), 3), round(np.random.random(), 3)\n",
    "bimatrix = np.array([\n",
    "    [(1, 1), (1 - shift_1, 2)],\n",
    "    [(2, 1 - shift_2), (0, 0)],\n",
    "])"
   ],
   "metadata": {
    "collapsed": false,
    "ExecuteTime": {
     "end_time": "2024-04-05T10:29:06.019993Z",
     "start_time": "2024-04-05T10:29:06.016652Z"
    }
   },
   "id": "5337157dc1a4e873",
   "execution_count": 5
  },
  {
   "cell_type": "code",
   "outputs": [
    {
     "data": {
      "text/plain": "\u001B[3m\u001B[1mЖирным курсивом\u001B[0m\u001B[0m выделены ситуации, оптимальные по Парето.\n\u001B[4mПодчеркнутым\u001B[0m - ситуации, равновесные по Нэшу.\n+----------------------------------+\n| Игра \"Перекрёсток\" (\"Crossroad\") |\n+----------------+-----------------+\n|   \u001B[3m\u001B[1m(1.0, 1.0)\u001B[0m\u001B[0m   |   \u001B[4m\u001B[3m\u001B[1m(0.024, 2.0)\u001B[0m\u001B[0m\u001B[0m  |\n|  \u001B[4m\u001B[3m\u001B[1m(2.0, 0.913)\u001B[0m\u001B[0m\u001B[0m  |    (0.0, 0.0)   |\n+----------------+-----------------+\n\nРавновесие Нэша: [(0.024, 2.0), (2.0, 0.913)]\nОптимальность Парето: [(0.024, 2.0), (2.0, 0.913), (1.0, 1.0)]"
     },
     "execution_count": 6,
     "metadata": {},
     "output_type": "execute_result"
    }
   ],
   "source": [
    "bimatrix_game = BimatrixGame(\n",
    "    bimatrix=bimatrix,\n",
    "    title='Игра \"Перекрёсток\" (\"Crossroad\")',\n",
    ")\n",
    "bimatrix_game"
   ],
   "metadata": {
    "collapsed": false,
    "ExecuteTime": {
     "end_time": "2024-04-05T10:29:06.029448Z",
     "start_time": "2024-04-05T10:29:06.021451Z"
    }
   },
   "id": "562dccd54b14bb45",
   "execution_count": 6
  },
  {
   "cell_type": "markdown",
   "source": [
    "#### 1.4. Игра \"Дилемма заключённого\" (\"Prisoner's dilemma\")"
   ],
   "metadata": {
    "collapsed": false
   },
   "id": "ac8c41b2b4c19075"
  },
  {
   "cell_type": "code",
   "outputs": [],
   "source": [
    "bimatrix = np.array([\n",
    "    [(-5, -5), (0, -10)],\n",
    "    [(-10, 0), (-1, -1)],\n",
    "])"
   ],
   "metadata": {
    "collapsed": false,
    "ExecuteTime": {
     "end_time": "2024-04-05T10:29:06.034476Z",
     "start_time": "2024-04-05T10:29:06.031362Z"
    }
   },
   "id": "6eb4549951528038",
   "execution_count": 7
  },
  {
   "cell_type": "code",
   "outputs": [
    {
     "data": {
      "text/plain": "\u001B[3m\u001B[1mЖирным курсивом\u001B[0m\u001B[0m выделены ситуации, оптимальные по Парето.\n\u001B[4mПодчеркнутым\u001B[0m - ситуации, равновесные по Нэшу.\n+----------------------------------------------------+\n| Игра \"Дилемма заключённого\" (\"Prisoner's dilemma\") |\n+-------------------------+--------------------------+\n|         \u001B[4m(-5, -5)\u001B[0m        |         \u001B[3m\u001B[1m(0, -10)\u001B[0m\u001B[0m         |\n|         \u001B[3m\u001B[1m(-10, 0)\u001B[0m\u001B[0m        |         \u001B[3m\u001B[1m(-1, -1)\u001B[0m\u001B[0m         |\n+-------------------------+--------------------------+\n\nРавновесие Нэша: [(-5.0, -5.0)]\nОптимальность Парето: [(0.0, -10.0), (-10.0, 0.0), (-1.0, -1.0)]"
     },
     "execution_count": 8,
     "metadata": {},
     "output_type": "execute_result"
    }
   ],
   "source": [
    "bimatrix_game = BimatrixGame(\n",
    "    bimatrix=bimatrix,\n",
    "    title=\"\"\"Игра \"Дилемма заключённого\" (\"Prisoner's dilemma\")\"\"\",\n",
    ")\n",
    "bimatrix_game"
   ],
   "metadata": {
    "collapsed": false,
    "ExecuteTime": {
     "end_time": "2024-04-05T10:29:06.043577Z",
     "start_time": "2024-04-05T10:29:06.036440Z"
    }
   },
   "id": "59b6561f1cc45f9a",
   "execution_count": 8
  },
  {
   "cell_type": "markdown",
   "source": [
    "### 2. Нахождения равновесных по Нэшу ситуаций для исходной игры и смешанного дополнения"
   ],
   "metadata": {
    "collapsed": false
   },
   "id": "ee300440d07f2210"
  },
  {
   "cell_type": "code",
   "outputs": [],
   "source": [
    "bimatrix = np.array([\n",
    "    [(5, 0), (8, 4)],\n",
    "    [(7, 6), (6, 3)],\n",
    "])"
   ],
   "metadata": {
    "collapsed": false,
    "ExecuteTime": {
     "end_time": "2024-04-05T10:29:06.050011Z",
     "start_time": "2024-04-05T10:29:06.046559Z"
    }
   },
   "id": "e085541bc08521b6",
   "execution_count": 9
  },
  {
   "cell_type": "code",
   "outputs": [
    {
     "data": {
      "text/plain": "\u001B[3m\u001B[1mЖирным курсивом\u001B[0m\u001B[0m выделены ситуации, оптимальные по Парето.\n\u001B[4mПодчеркнутым\u001B[0m - ситуации, равновесные по Нэшу.\n+--------------------------------+\n| Биматричная игра по варианту 1 |\n+---------------+----------------+\n|     (5, 0)    |     \u001B[4m\u001B[3m\u001B[1m(8, 4)\u001B[0m\u001B[0m\u001B[0m     |\n|     \u001B[4m\u001B[3m\u001B[1m(7, 6)\u001B[0m\u001B[0m\u001B[0m    |     (6, 3)     |\n+---------------+----------------+\n\nРавновесие Нэша: [(8.0, 4.0), (7.0, 6.0)]\nОптимальность Парето: [(8.0, 4.0), (7.0, 6.0)]"
     },
     "execution_count": 10,
     "metadata": {},
     "output_type": "execute_result"
    }
   ],
   "source": [
    "bimatrix_game = BimatrixGame(\n",
    "    bimatrix=bimatrix,\n",
    "    title=\"Биматричная игра по варианту 1\",\n",
    ")\n",
    "bimatrix_game"
   ],
   "metadata": {
    "collapsed": false,
    "ExecuteTime": {
     "end_time": "2024-04-05T10:29:06.061727Z",
     "start_time": "2024-04-05T10:29:06.054277Z"
    }
   },
   "id": "efe4c661e3fbd8d8",
   "execution_count": 10
  },
  {
   "cell_type": "code",
   "outputs": [],
   "source": [],
   "metadata": {
    "collapsed": false,
    "ExecuteTime": {
     "end_time": "2024-04-05T10:29:06.068300Z",
     "start_time": "2024-04-05T10:29:06.065540Z"
    }
   },
   "id": "72b5e5709258a279",
   "execution_count": 10
  }
 ],
 "metadata": {
  "kernelspec": {
   "display_name": "Python 3",
   "language": "python",
   "name": "python3"
  },
  "language_info": {
   "codemirror_mode": {
    "name": "ipython",
    "version": 2
   },
   "file_extension": ".py",
   "mimetype": "text/x-python",
   "name": "python",
   "nbconvert_exporter": "python",
   "pygments_lexer": "ipython2",
   "version": "2.7.6"
  }
 },
 "nbformat": 4,
 "nbformat_minor": 5
}
