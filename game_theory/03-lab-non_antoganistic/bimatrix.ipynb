{
 "cells": [
  {
   "cell_type": "code",
   "execution_count": 16,
   "id": "initial_id",
   "metadata": {
    "collapsed": true,
    "ExecuteTime": {
     "end_time": "2024-04-01T17:59:09.796947Z",
     "start_time": "2024-04-01T17:59:09.793732Z"
    }
   },
   "outputs": [],
   "source": [
    "import logging\n",
    "\n",
    "import numpy as np\n",
    "\n",
    "from game_theory.utils.bimatrix_games.bimatrix import BimatrixGame"
   ]
  },
  {
   "cell_type": "code",
   "outputs": [],
   "source": [
    "# input_bimatrix = np.array()"
   ],
   "metadata": {
    "collapsed": false,
    "ExecuteTime": {
     "end_time": "2024-04-01T17:59:09.803229Z",
     "start_time": "2024-04-01T17:59:09.800337Z"
    }
   },
   "id": "8a5a0efe336d978",
   "execution_count": 17
  },
  {
   "cell_type": "code",
   "outputs": [
    {
     "data": {
      "text/plain": "+------------+------------+------------+------------+------------+------------+------------+------------+------------+------------+\n| (-72, -68) | (-80, -76) | (-54, 45)  | (-36, 32)  | (-74, -86) | (31, -42)  | (84, -80)  | (-29, 50)  | (-26, 23)  | (87, -29)  |\n| (60, -80)  |  (62, 19)  | (26, -45)  | (-22, -19) | (-45, 89)  | (-8, -89)  |  (-3, 68)  | (72, -17)  |  (86, 19)  | (90, -43)  |\n| (-78, 69)  |  (89, -6)  | (-16, -39) | (88, -78)  | (-76, 93)  | (90, -57)  | (-59, -1)  |  (7, 51)   | (-94, 84)  | (-75, -21) |\n| (70, -34)  | (13, -30)  | (-33, 52)  | (-77, 84)  |  (6, 36)   | (-71, 95)  | (-45, -52) | (-22, -96) | (28, -45)  | (-61, -80) |\n| (-6, -100) |  (85, 42)  |  (21, 61)  | (-85, -63) |  (99, 33)  | (-56, -95) |  (-72, 4)  |  (98, 47)  | (-86, -46) |  (62, 37)  |\n| (-85, -3)  | (53, -27)  | (56, -87)  | (-15, 14)  |  (58, 67)  |  (-80, 4)  | (17, -20)  | (-78, -44) |  (2, 28)   | (13, -33)  |\n| (93, -78)  | (-25, 24)  | (80, 100)  |  (8, -49)  | (-38, -14) |  (36, 59)  |  (75, 98)  | (26, -24)  | (22, -25)  | (-40, -14) |\n| (-56, -59) | (-46, -53) |  (-14, 1)  | (-22, -1)  |  (73, 9)   | (-30, -23) |  (86, 78)  | (-50, 52)  | (69, -26)  | (70, -46)  |\n| (-37, -68) |  (17, 46)  |  (42, -9)  | (-25, -80) |  (-46, 3)  | (73, -91)  |  (0, -55)  | (-39, 13)  | (-46, -13) |  (14, 74)  |\n| (82, -100) | (-60, 74)  | (91, -19)  | (-87, -27) |  (43, 98)  | (52, -44)  |  (5, -85)  |  (71, 27)  |  (24, 73)  |  (5, 50)   |\n+------------+------------+------------+------------+------------+------------+------------+------------+------------+------------+"
     },
     "execution_count": 18,
     "metadata": {},
     "output_type": "execute_result"
    }
   ],
   "source": [
    "bimatrix_game = BimatrixGame.from_random_values()\n",
    "bimatrix_game"
   ],
   "metadata": {
    "collapsed": false,
    "ExecuteTime": {
     "end_time": "2024-04-01T17:59:09.817832Z",
     "start_time": "2024-04-01T17:59:09.806612Z"
    }
   },
   "id": "60984a19fe976b9c",
   "execution_count": 18
  },
  {
   "cell_type": "code",
   "outputs": [],
   "source": [],
   "metadata": {
    "collapsed": false,
    "ExecuteTime": {
     "end_time": "2024-04-01T17:59:09.825133Z",
     "start_time": "2024-04-01T17:59:09.821340Z"
    }
   },
   "id": "8068c4fff9b08c08",
   "execution_count": 18
  }
 ],
 "metadata": {
  "kernelspec": {
   "display_name": "Python 3",
   "language": "python",
   "name": "python3"
  },
  "language_info": {
   "codemirror_mode": {
    "name": "ipython",
    "version": 2
   },
   "file_extension": ".py",
   "mimetype": "text/x-python",
   "name": "python",
   "nbconvert_exporter": "python",
   "pygments_lexer": "ipython2",
   "version": "2.7.6"
  }
 },
 "nbformat": 4,
 "nbformat_minor": 5
}
