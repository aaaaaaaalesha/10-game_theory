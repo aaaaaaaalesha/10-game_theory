{
 "cells": [
  {
   "cell_type": "markdown",
   "source": [
    "# Лабораторная работа №3\n",
    "### \"Критерии выбора стратегий в неантагонистических бескоалиционных играх:\n",
    "### равновесие Нэша, оптимальность Парето\"\n",
    "\n",
    "**__Цель работы:__** изучить критерии выбора стратегий в неантагонистической бескоалиционной игре двух игроков на основе \n",
    "равновесия Нэша и оптимальности по Парето. Проверить данные критерии на примере рассмотренных выше игр. \n",
    "Исследовать свойства оптимальных решений неантагонистических бескоалиционных игр на примере биматричных (2×2)-игр."
   ],
   "metadata": {
    "collapsed": false
   },
   "id": "45fbc37898be248c"
  },
  {
   "cell_type": "code",
   "outputs": [],
   "source": [
    "import logging\n",
    "\n",
    "import numpy as np\n",
    "\n",
    "from game_theory.utils.bimatrix_games.bimatrix import BimatrixGame"
   ],
   "metadata": {
    "collapsed": true,
    "ExecuteTime": {
     "end_time": "2024-04-05T10:05:09.454553Z",
     "start_time": "2024-04-05T10:05:09.178894Z"
    }
   },
   "id": "initial_id",
   "execution_count": 1
  },
  {
   "cell_type": "markdown",
   "source": [
    "### 1. Нахождение ситуаций, оптимальных по Парето и равновесных по Нэшу"
   ],
   "metadata": {
    "collapsed": false
   },
   "id": "b64098ac6ec34933"
  },
  {
   "cell_type": "markdown",
   "source": [
    "#### 1.1. Случайная биматричная игра"
   ],
   "metadata": {
    "collapsed": false
   },
   "id": "329fd0b0502af763"
  },
  {
   "cell_type": "code",
   "outputs": [
    {
     "data": {
      "text/plain": "\u001B[3m\u001B[1mЖирным курсивом\u001B[0m\u001B[0m выделены ситуации, оптимальные по Парето.\n\u001B[4mПодчеркнутым\u001B[0m - ситуации, равновесные по Нэшу.\n+--------------------------------------------------------------------------------------------------------------------------------+\n|                                            Случайная биматричная игры размера 10x10                                            |\n+------------+------------+------------+------------+------------+------------+-----------+------------+------------+------------+\n|  (91, 44)  | (-70, 27)  | (41, -43)  | (-76, -43) |  (8, 70)   | (-13, 24)  |  \u001B[4m(76, 90)\u001B[0m | (-56, -64) |  (94, 9)   | (-16, 41)  |\n| (-69, 57)  | (-29, -45) | (-77, 90)  | \u001B[3m\u001B[1m(100, -17)\u001B[0m\u001B[0m |  (74, 97)  |  (3, 63)   |  (-9, 29) | (69, -96)  | (-74, 87)  |  (6, 46)   |\n| (-40, -74) |  (-5, 89)  |  (3, -68)  | (89, -74)  | (-71, -8)  | (-95, -12) |  (6, 65)  | (35, -12)  | (11, -54)  |  (-6, 4)   |\n| (27, -99)  |  (24, 73)  | (-52, 47)  | (73, -89)  |  (8, 65)   |  (11, 36)  | (-71, 76) | (72, -31)  | (-21, -27) | (-53, -84) |\n|  (29, 87)  |  (91, 24)  | (-65, -76) | (-75, -39) |  (13, 95)  |  (11, 1)   |  \u001B[3m\u001B[1m(74, 99)\u001B[0m\u001B[0m | (-53, -6)  | (-50, 52)  | (-41, 42)  |\n|  (37, 52)  |  (73, 44)  | (-19, -17) | (13, -46)  | (-33, 29)  |  (61, 43)  | (63, -56) | (-82, 91)  |  (-7, 49)  |  (5, 99)   |\n| (11, -52)  | (-75, 58)  | (-35, 16)  | (-89, 68)  | (90, -63)  |  (6, -51)  |  (21, 66) |  \u001B[4m(97, 82)\u001B[0m  | (-54, -30) |  (40, 7)   |\n|  (-6, 59)  |  (-76, 1)  | (-42, -17) |  (65, -2)  | (-95, -36) | (37, -76)  | (-60, 54) | (-39, 70)  | (71, -16)  | (-66, -30) |\n| (26, -41)  | (-35, 60)  |  (-26, 2)  | (-12, 87)  | (13, -70)  | (-80, -85) |  (15, 5)  |  (77, 48)  | (-68, 32)  | (62, -57)  |\n| (49, -44)  | (-59, 74)  | (-84, 31)  |  (5, -83)  |  \u001B[4m\u001B[3m\u001B[1m(97, 92)\u001B[0m\u001B[0m\u001B[0m  | (98, -98)  | (-37, 86) | (-58, 28)  | (100, -78) | (16, -99)  |\n+------------+------------+------------+------------+------------+------------+-----------+------------+------------+------------+\n\nРавновесие Нэша: [(97.0, 82.0), (97.0, 92.0), (76.0, 90.0)]\nОптимальность Парето: [(74.0, 99.0), (100.0, -17.0), (97.0, 92.0)]"
     },
     "execution_count": 2,
     "metadata": {},
     "output_type": "execute_result"
    }
   ],
   "source": [
    "bimatrix_game = BimatrixGame.from_random_values()\n",
    "bimatrix_game"
   ],
   "metadata": {
    "collapsed": false,
    "ExecuteTime": {
     "end_time": "2024-04-05T10:05:09.470349Z",
     "start_time": "2024-04-05T10:05:09.459938Z"
    }
   },
   "id": "60984a19fe976b9c",
   "execution_count": 2
  },
  {
   "cell_type": "markdown",
   "source": [
    "#### 1.2. Игра \"Семейный спор\" (\"Battle of Sexes\")"
   ],
   "metadata": {
    "collapsed": false
   },
   "id": "51e2caf20cd6aab8"
  },
  {
   "cell_type": "code",
   "outputs": [],
   "source": [
    "bimatrix = np.array([\n",
    "    [(4, 1), (0, 0)],\n",
    "    [(0, 0), (1, 4)],\n",
    "])"
   ],
   "metadata": {
    "collapsed": false,
    "ExecuteTime": {
     "end_time": "2024-04-05T10:05:09.478987Z",
     "start_time": "2024-04-05T10:05:09.471281Z"
    }
   },
   "id": "1dd45437c5b26af5",
   "execution_count": 3
  },
  {
   "cell_type": "code",
   "outputs": [
    {
     "data": {
      "text/plain": "\u001B[3m\u001B[1mЖирным курсивом\u001B[0m\u001B[0m выделены ситуации, оптимальные по Парето.\n\u001B[4mПодчеркнутым\u001B[0m - ситуации, равновесные по Нэшу.\n+------------------------------------------+\n| Игра \"Семейный спор\" (\"Battle of Sexes\") |\n+--------------------+---------------------+\n|       \u001B[4m\u001B[3m\u001B[1m(4, 1)\u001B[0m\u001B[0m\u001B[0m       |        (0, 0)       |\n|       (0, 0)       |        \u001B[4m\u001B[3m\u001B[1m(1, 4)\u001B[0m\u001B[0m\u001B[0m       |\n+--------------------+---------------------+\n\nРавновесие Нэша: [(1.0, 4.0), (4.0, 1.0)]\nОптимальность Парето: [(1.0, 4.0), (4.0, 1.0)]"
     },
     "execution_count": 4,
     "metadata": {},
     "output_type": "execute_result"
    }
   ],
   "source": [
    "bimatrix_game = BimatrixGame(\n",
    "    bimatrix=bimatrix,\n",
    "    title='Игра \"Семейный спор\" (\"Battle of Sexes\")',\n",
    ")\n",
    "bimatrix_game"
   ],
   "metadata": {
    "collapsed": false,
    "ExecuteTime": {
     "end_time": "2024-04-05T10:05:09.494538Z",
     "start_time": "2024-04-05T10:05:09.484353Z"
    }
   },
   "id": "ddcc2e1a97220ec8",
   "execution_count": 4
  },
  {
   "cell_type": "markdown",
   "source": [
    "#### 1.3. Игра \"Перекрёсток\" (\"Crossroad\")"
   ],
   "metadata": {
    "collapsed": false
   },
   "id": "9b13a72725d378bf"
  },
  {
   "cell_type": "code",
   "outputs": [],
   "source": [
    "EPSILON = 0.0001\n",
    "bimatrix = np.array([\n",
    "    [(1, 1), (1 - EPSILON, 2)],\n",
    "    [(2, 1 - EPSILON), (0, 0)],\n",
    "])"
   ],
   "metadata": {
    "collapsed": false,
    "ExecuteTime": {
     "end_time": "2024-04-05T10:05:09.503376Z",
     "start_time": "2024-04-05T10:05:09.499574Z"
    }
   },
   "id": "5337157dc1a4e873",
   "execution_count": 5
  },
  {
   "cell_type": "code",
   "outputs": [
    {
     "data": {
      "text/plain": "\u001B[3m\u001B[1mЖирным курсивом\u001B[0m\u001B[0m выделены ситуации, оптимальные по Парето.\n\u001B[4mПодчеркнутым\u001B[0m - ситуации, равновесные по Нэшу.\n+----------------------------------+\n| Игра \"Перекрёсток\" (\"Crossroad\") |\n+----------------+-----------------+\n|   \u001B[3m\u001B[1m(1.0, 1.0)\u001B[0m\u001B[0m   |    \u001B[4m\u001B[3m\u001B[1m(1.0, 2.0)\u001B[0m\u001B[0m\u001B[0m   |\n|   \u001B[4m\u001B[3m\u001B[1m(2.0, 1.0)\u001B[0m\u001B[0m\u001B[0m   |    (0.0, 0.0)   |\n+----------------+-----------------+\n\nРавновесие Нэша: [(1.0, 2.0), (2.0, 1.0)]\nОптимальность Парето: [(1.0, 2.0), (2.0, 1.0), (1.0, 1.0)]"
     },
     "execution_count": 6,
     "metadata": {},
     "output_type": "execute_result"
    }
   ],
   "source": [
    "bimatrix_game = BimatrixGame(\n",
    "    bimatrix=bimatrix,\n",
    "    title='Игра \"Перекрёсток\" (\"Crossroad\")',\n",
    ")\n",
    "bimatrix_game"
   ],
   "metadata": {
    "collapsed": false,
    "ExecuteTime": {
     "end_time": "2024-04-05T10:05:09.514717Z",
     "start_time": "2024-04-05T10:05:09.506032Z"
    }
   },
   "id": "562dccd54b14bb45",
   "execution_count": 6
  },
  {
   "cell_type": "markdown",
   "source": [
    "#### 1.4. Игра \"Дилемма заключённого\" (\"Prisoner's dilemma\")"
   ],
   "metadata": {
    "collapsed": false
   },
   "id": "ac8c41b2b4c19075"
  },
  {
   "cell_type": "code",
   "outputs": [],
   "source": [
    "bimatrix = np.array([\n",
    "    [(-5, -5), (0, -10)],\n",
    "    [(-10, 0), (-1, -1)],\n",
    "])"
   ],
   "metadata": {
    "collapsed": false,
    "ExecuteTime": {
     "end_time": "2024-04-05T10:05:09.520836Z",
     "start_time": "2024-04-05T10:05:09.516765Z"
    }
   },
   "id": "6eb4549951528038",
   "execution_count": 7
  },
  {
   "cell_type": "code",
   "outputs": [
    {
     "data": {
      "text/plain": "\u001B[3m\u001B[1mЖирным курсивом\u001B[0m\u001B[0m выделены ситуации, оптимальные по Парето.\n\u001B[4mПодчеркнутым\u001B[0m - ситуации, равновесные по Нэшу.\n+----------------------------------------------------+\n| Игра \"Дилемма заключённого\" (\"Prisoner's dilemma\") |\n+-------------------------+--------------------------+\n|         \u001B[4m(-5, -5)\u001B[0m        |         \u001B[3m\u001B[1m(0, -10)\u001B[0m\u001B[0m         |\n|         \u001B[3m\u001B[1m(-10, 0)\u001B[0m\u001B[0m        |         \u001B[3m\u001B[1m(-1, -1)\u001B[0m\u001B[0m         |\n+-------------------------+--------------------------+\n\nРавновесие Нэша: [(-5.0, -5.0)]\nОптимальность Парето: [(0.0, -10.0), (-10.0, 0.0), (-1.0, -1.0)]"
     },
     "execution_count": 8,
     "metadata": {},
     "output_type": "execute_result"
    }
   ],
   "source": [
    "bimatrix_game = BimatrixGame(\n",
    "    bimatrix=bimatrix,\n",
    "    title=\"\"\"Игра \"Дилемма заключённого\" (\"Prisoner's dilemma\")\"\"\",\n",
    ")\n",
    "bimatrix_game"
   ],
   "metadata": {
    "collapsed": false,
    "ExecuteTime": {
     "end_time": "2024-04-05T10:05:09.528591Z",
     "start_time": "2024-04-05T10:05:09.522737Z"
    }
   },
   "id": "59b6561f1cc45f9a",
   "execution_count": 8
  },
  {
   "cell_type": "code",
   "outputs": [],
   "source": [],
   "metadata": {
    "collapsed": false,
    "ExecuteTime": {
     "end_time": "2024-04-05T10:05:09.532042Z",
     "start_time": "2024-04-05T10:05:09.530061Z"
    }
   },
   "id": "df5038c70b817b9b",
   "execution_count": 8
  },
  {
   "cell_type": "code",
   "outputs": [],
   "source": [],
   "metadata": {
    "collapsed": false,
    "ExecuteTime": {
     "end_time": "2024-04-05T10:05:09.535026Z",
     "start_time": "2024-04-05T10:05:09.533338Z"
    }
   },
   "id": "e085541bc08521b6",
   "execution_count": 8
  }
 ],
 "metadata": {
  "kernelspec": {
   "display_name": "Python 3",
   "language": "python",
   "name": "python3"
  },
  "language_info": {
   "codemirror_mode": {
    "name": "ipython",
    "version": 2
   },
   "file_extension": ".py",
   "mimetype": "text/x-python",
   "name": "python",
   "nbconvert_exporter": "python",
   "pygments_lexer": "ipython2",
   "version": "2.7.6"
  }
 },
 "nbformat": 4,
 "nbformat_minor": 5
}
