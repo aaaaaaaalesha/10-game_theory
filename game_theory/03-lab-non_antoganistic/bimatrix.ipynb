{
 "cells": [
  {
   "cell_type": "markdown",
   "id": "45fbc37898be248c",
   "metadata": {
    "collapsed": false,
    "jupyter": {
     "outputs_hidden": false
    }
   },
   "source": [
    "# Лабораторная работа №3\n",
    "### \"Критерии выбора стратегий в неантагонистических бескоалиционных играх:\n",
    "### равновесие Нэша, оптимальность Парето\"\n",
    "\n",
    "**Вариант:** 1\n",
    "\n",
    "**Цель работы:** изучить критерии выбора стратегий в неантагонистической бескоалиционной игре двух игроков на основе \n",
    "равновесия Нэша и оптимальности по Парето. Проверить данные критерии на примере рассмотренных выше игр. \n",
    "Исследовать свойства оптимальных решений неантагонистических бескоалиционных игр на примере биматричных (2×2)-игр."
   ]
  },
  {
   "cell_type": "code",
   "execution_count": 1,
   "id": "initial_id",
   "metadata": {
    "ExecuteTime": {
     "end_time": "2024-04-09T16:55:01.568295Z",
     "start_time": "2024-04-09T16:55:01.276303Z"
    }
   },
   "outputs": [],
   "source": [
    "import logging\n",
    "\n",
    "import numpy as np\n",
    "\n",
    "from game_theory.utils.bimatrix_games.bimatrix import BimatrixGame\n",
    "\n",
    "logging.basicConfig(level=logging.INFO, format='%(message)s')"
   ]
  },
  {
   "cell_type": "markdown",
   "id": "b64098ac6ec34933",
   "metadata": {
    "collapsed": false,
    "jupyter": {
     "outputs_hidden": false
    }
   },
   "source": [
    "### 1. Нахождение ситуаций, оптимальных по Парето и равновесных по Нэшу"
   ]
  },
  {
   "cell_type": "markdown",
   "id": "329fd0b0502af763",
   "metadata": {
    "collapsed": false,
    "jupyter": {
     "outputs_hidden": false
    }
   },
   "source": [
    "#### 1.1. Случайная биматричная игра"
   ]
  },
  {
   "cell_type": "code",
   "execution_count": 2,
   "id": "60984a19fe976b9c",
   "metadata": {
    "ExecuteTime": {
     "end_time": "2024-04-09T16:55:27.387821Z",
     "start_time": "2024-04-09T16:55:27.376688Z"
    },
    "collapsed": false,
    "jupyter": {
     "outputs_hidden": false
    }
   },
   "outputs": [
    {
     "data": {
      "text/plain": [
       "\u001b[3m\u001b[1mЖирным курсивом\u001b[0m\u001b[0m выделены ситуации, оптимальные по Парето.\n",
       "\u001b[4mПодчеркнутым\u001b[0m - ситуации, равновесные по Нэшу.\n",
       "+--------------------------------------------------------------------------------------------------------------------------------+\n",
       "|                                            Случайная биматричная игры размера 10x10                                            |\n",
       "+-----------+------------+------------+------------+------------+------------+------------+------------+------------+------------+\n",
       "|  (68, -8) | (-11, -10) | (-25, -69) | (-1, -46)  | (-77, -3)  |  (42, 50)  |  (76, 37)  |  (84, 20)  | (-41, 95)  | (-5, -53)  |\n",
       "|  (91, 11) |  (44, 78)  |  (27, 25)  | (-2, -38)  | (-23, -36) | (34, -10)  | (-35, -31) | (-94, -72) | (97, -77)  | (-49, 77)  |\n",
       "| (-80, 32) | (67, -54)  | (-95, 98)  | (-71, 50)  | (-13, 98)  |  \u001b[3m\u001b[1m(68, 99)\u001b[0m\u001b[0m  | (37, -59)  | (-33, -91) | (27, -57)  | (-48, -38) |\n",
       "|  (22, -3) | (-12, -24) | (-83, -23) |  (63, 86)  | (89, -82)  |  (23, 3)   | (73, -75)  | (-83, -97) |  (1, -6)   |  (42, 84)  |\n",
       "|  (89, 40) | (-12, 92)  | (-49, 72)  |  (21, 96)  |  (4, 88)   | (-35, 71)  | (-97, 34)  |  (75, 25)  |  (2, 79)   | (-87, 39)  |\n",
       "|  \u001b[4m\u001b[3m\u001b[1m(97, 54)\u001b[0m\u001b[0m\u001b[0m |  (44, 29)  |  (-47, 7)  | (-19, 34)  | (-55, 26)  |  (6, -40)  | (-33, 48)  | (56, -65)  | (65, -88)  |  (95, 41)  |\n",
       "|  \u001b[3m\u001b[1m(88, 60)\u001b[0m\u001b[0m | (-62, 57)  | (-67, 30)  | (73, -59)  | (-33, 88)  | (92, -37)  | (-25, -46) | (10, -49)  | (-90, -73) | (-72, 29)  |\n",
       "| (75, -16) | (-25, 83)  | (-69, -4)  | (-1, -98)  | (3, -100)  | (-47, 19)  |  (5, -61)  | (54, -48)  | (-41, -2)  |  (63, 31)  |\n",
       "| (-96, 10) | (-16, 54)  |  (43, 78)  | (-33, 50)  |  (11, 22)  | (-24, -23) | (-48, 35)  | (-5, -96)  | (86, -58)  |  (55, 49)  |\n",
       "|  (30, 18) | (97, -19)  | (55, -53)  | (-92, -12) |  (38, 48)  | (96, -13)  | (-96, 78)  |  (25, 55)  | (76, -38)  |  (81, 57)  |\n",
       "+-----------+------------+------------+------------+------------+------------+------------+------------+------------+------------+\n",
       "\n",
       "Равновесие Нэша: [(97.0, 54.0)]\n",
       "Оптимальность Парето: [(68.0, 99.0), (97.0, 54.0), (88.0, 60.0)]"
      ]
     },
     "execution_count": 2,
     "metadata": {},
     "output_type": "execute_result"
    }
   ],
   "source": [
    "bimatrix_game = BimatrixGame.from_random_values()\n",
    "bimatrix_game"
   ]
  },
  {
   "cell_type": "markdown",
   "id": "51e2caf20cd6aab8",
   "metadata": {
    "collapsed": false,
    "jupyter": {
     "outputs_hidden": false
    }
   },
   "source": [
    "#### 1.2. Игра \"Семейный спор\" (\"Battle of Sexes\")"
   ]
  },
  {
   "cell_type": "code",
   "execution_count": 3,
   "id": "1dd45437c5b26af5",
   "metadata": {
    "ExecuteTime": {
     "end_time": "2024-04-09T16:55:01.590533Z",
     "start_time": "2024-04-09T16:55:01.587710Z"
    },
    "collapsed": false,
    "jupyter": {
     "outputs_hidden": false
    }
   },
   "outputs": [],
   "source": [
    "bimatrix = np.array([\n",
    "    [(4, 1), (0, 0)],\n",
    "    [(0, 0), (1, 4)],\n",
    "])"
   ]
  },
  {
   "cell_type": "code",
   "execution_count": 4,
   "id": "ddcc2e1a97220ec8",
   "metadata": {
    "ExecuteTime": {
     "end_time": "2024-04-09T16:55:01.598367Z",
     "start_time": "2024-04-09T16:55:01.593720Z"
    },
    "collapsed": false,
    "jupyter": {
     "outputs_hidden": false
    }
   },
   "outputs": [
    {
     "data": {
      "text/plain": [
       "\u001b[3m\u001b[1mЖирным курсивом\u001b[0m\u001b[0m выделены ситуации, оптимальные по Парето.\n",
       "\u001b[4mПодчеркнутым\u001b[0m - ситуации, равновесные по Нэшу.\n",
       "+------------------------------------------+\n",
       "| Игра \"Семейный спор\" (\"Battle of Sexes\") |\n",
       "+--------------------+---------------------+\n",
       "|       \u001b[4m\u001b[3m\u001b[1m(4, 1)\u001b[0m\u001b[0m\u001b[0m       |        (0, 0)       |\n",
       "|       (0, 0)       |        \u001b[4m\u001b[3m\u001b[1m(1, 4)\u001b[0m\u001b[0m\u001b[0m       |\n",
       "+--------------------+---------------------+\n",
       "\n",
       "Равновесие Нэша: [(1.0, 4.0), (4.0, 1.0)]\n",
       "Оптимальность Парето: [(1.0, 4.0), (4.0, 1.0)]"
      ]
     },
     "execution_count": 4,
     "metadata": {},
     "output_type": "execute_result"
    }
   ],
   "source": [
    "bimatrix_game = BimatrixGame(\n",
    "    bimatrix=bimatrix,\n",
    "    title='Игра \"Семейный спор\" (\"Battle of Sexes\")',\n",
    ")\n",
    "bimatrix_game"
   ]
  },
  {
   "cell_type": "markdown",
   "id": "9b13a72725d378bf",
   "metadata": {
    "collapsed": false,
    "jupyter": {
     "outputs_hidden": false
    }
   },
   "source": [
    "#### 1.3. Игра \"Перекрёсток\" (\"Crossroad\")"
   ]
  },
  {
   "cell_type": "code",
   "execution_count": 5,
   "id": "5337157dc1a4e873",
   "metadata": {
    "ExecuteTime": {
     "end_time": "2024-04-09T16:55:01.603578Z",
     "start_time": "2024-04-09T16:55:01.599769Z"
    },
    "collapsed": false,
    "jupyter": {
     "outputs_hidden": false
    }
   },
   "outputs": [],
   "source": [
    "shift_1, shift_2 = round(np.random.random(), 3), round(np.random.random(), 3)\n",
    "bimatrix = np.array([\n",
    "    [(1, 1), (1 - shift_1, 2)],\n",
    "    [(2, 1 - shift_2), (0, 0)],\n",
    "])"
   ]
  },
  {
   "cell_type": "code",
   "execution_count": 6,
   "id": "562dccd54b14bb45",
   "metadata": {
    "ExecuteTime": {
     "end_time": "2024-04-09T16:55:01.610188Z",
     "start_time": "2024-04-09T16:55:01.605558Z"
    },
    "collapsed": false,
    "jupyter": {
     "outputs_hidden": false
    }
   },
   "outputs": [
    {
     "data": {
      "text/plain": [
       "\u001b[3m\u001b[1mЖирным курсивом\u001b[0m\u001b[0m выделены ситуации, оптимальные по Парето.\n",
       "\u001b[4mПодчеркнутым\u001b[0m - ситуации, равновесные по Нэшу.\n",
       "+----------------------------------+\n",
       "| Игра \"Перекрёсток\" (\"Crossroad\") |\n",
       "+----------------+-----------------+\n",
       "|   \u001b[3m\u001b[1m(1.0, 1.0)\u001b[0m\u001b[0m   |   \u001b[4m\u001b[3m\u001b[1m(0.968, 2.0)\u001b[0m\u001b[0m\u001b[0m  |\n",
       "|  \u001b[4m\u001b[3m\u001b[1m(2.0, 0.374)\u001b[0m\u001b[0m\u001b[0m  |    (0.0, 0.0)   |\n",
       "+----------------+-----------------+\n",
       "\n",
       "Равновесие Нэша: [(0.968, 2.0), (2.0, 0.374)]\n",
       "Оптимальность Парето: [(0.968, 2.0), (2.0, 0.374), (1.0, 1.0)]"
      ]
     },
     "execution_count": 6,
     "metadata": {},
     "output_type": "execute_result"
    }
   ],
   "source": [
    "bimatrix_game = BimatrixGame(\n",
    "    bimatrix=bimatrix,\n",
    "    title='Игра \"Перекрёсток\" (\"Crossroad\")',\n",
    ")\n",
    "bimatrix_game"
   ]
  },
  {
   "cell_type": "markdown",
   "id": "ac8c41b2b4c19075",
   "metadata": {
    "collapsed": false,
    "jupyter": {
     "outputs_hidden": false
    }
   },
   "source": [
    "#### 1.4. Игра \"Дилемма заключённого\" (\"Prisoner's dilemma\")"
   ]
  },
  {
   "cell_type": "code",
   "execution_count": 7,
   "id": "6eb4549951528038",
   "metadata": {
    "ExecuteTime": {
     "end_time": "2024-04-09T16:55:01.614077Z",
     "start_time": "2024-04-09T16:55:01.611361Z"
    },
    "collapsed": false,
    "jupyter": {
     "outputs_hidden": false
    }
   },
   "outputs": [],
   "source": [
    "bimatrix = np.array([\n",
    "    [(-5, -5), (0, -10)],\n",
    "    [(-10, 0), (-1, -1)],\n",
    "])"
   ]
  },
  {
   "cell_type": "code",
   "execution_count": 8,
   "id": "59b6561f1cc45f9a",
   "metadata": {
    "ExecuteTime": {
     "end_time": "2024-04-09T16:55:01.621760Z",
     "start_time": "2024-04-09T16:55:01.615103Z"
    },
    "collapsed": false,
    "jupyter": {
     "outputs_hidden": false
    }
   },
   "outputs": [
    {
     "data": {
      "text/plain": [
       "\u001b[3m\u001b[1mЖирным курсивом\u001b[0m\u001b[0m выделены ситуации, оптимальные по Парето.\n",
       "\u001b[4mПодчеркнутым\u001b[0m - ситуации, равновесные по Нэшу.\n",
       "+----------------------------------------------------+\n",
       "| Игра \"Дилемма заключённого\" (\"Prisoner's dilemma\") |\n",
       "+-------------------------+--------------------------+\n",
       "|         \u001b[4m(-5, -5)\u001b[0m        |         \u001b[3m\u001b[1m(0, -10)\u001b[0m\u001b[0m         |\n",
       "|         \u001b[3m\u001b[1m(-10, 0)\u001b[0m\u001b[0m        |         \u001b[3m\u001b[1m(-1, -1)\u001b[0m\u001b[0m         |\n",
       "+-------------------------+--------------------------+\n",
       "\n",
       "Равновесие Нэша: [(-5.0, -5.0)]\n",
       "Оптимальность Парето: [(0.0, -10.0), (-10.0, 0.0), (-1.0, -1.0)]"
      ]
     },
     "execution_count": 8,
     "metadata": {},
     "output_type": "execute_result"
    }
   ],
   "source": [
    "bimatrix_game = BimatrixGame(\n",
    "    bimatrix=bimatrix,\n",
    "    title=\"\"\"Игра \"Дилемма заключённого\" (\"Prisoner's dilemma\")\"\"\",\n",
    ")\n",
    "bimatrix_game"
   ]
  },
  {
   "cell_type": "markdown",
   "id": "ee300440d07f2210",
   "metadata": {
    "collapsed": false,
    "jupyter": {
     "outputs_hidden": false
    }
   },
   "source": [
    "### 2. Нахождения равновесных по Нэшу ситуаций для исходной игры и смешанного дополнения"
   ]
  },
  {
   "cell_type": "code",
   "execution_count": 9,
   "id": "e085541bc08521b6",
   "metadata": {
    "ExecuteTime": {
     "end_time": "2024-04-09T16:55:01.625527Z",
     "start_time": "2024-04-09T16:55:01.622952Z"
    },
    "collapsed": false,
    "jupyter": {
     "outputs_hidden": false
    }
   },
   "outputs": [],
   "source": [
    "bimatrix = np.array([\n",
    "    [(5, 0), (8, 4)],\n",
    "    [(7, 6), (6, 3)],\n",
    "])"
   ]
  },
  {
   "cell_type": "code",
   "execution_count": 10,
   "id": "efe4c661e3fbd8d8",
   "metadata": {
    "ExecuteTime": {
     "end_time": "2024-04-09T16:55:01.633880Z",
     "start_time": "2024-04-09T16:55:01.629755Z"
    },
    "collapsed": false,
    "jupyter": {
     "outputs_hidden": false
    }
   },
   "outputs": [
    {
     "data": {
      "text/plain": [
       "\u001b[3m\u001b[1mЖирным курсивом\u001b[0m\u001b[0m выделены ситуации, оптимальные по Парето.\n",
       "\u001b[4mПодчеркнутым\u001b[0m - ситуации, равновесные по Нэшу.\n",
       "+--------------------------------+\n",
       "| Биматричная игра по варианту 1 |\n",
       "+---------------+----------------+\n",
       "|     (5, 0)    |     \u001b[4m\u001b[3m\u001b[1m(8, 4)\u001b[0m\u001b[0m\u001b[0m     |\n",
       "|     \u001b[4m\u001b[3m\u001b[1m(7, 6)\u001b[0m\u001b[0m\u001b[0m    |     (6, 3)     |\n",
       "+---------------+----------------+\n",
       "\n",
       "Равновесие Нэша: [(8.0, 4.0), (7.0, 6.0)]\n",
       "Оптимальность Парето: [(8.0, 4.0), (7.0, 6.0)]"
      ]
     },
     "execution_count": 10,
     "metadata": {},
     "output_type": "execute_result"
    }
   ],
   "source": [
    "bimatrix_game = BimatrixGame(\n",
    "    bimatrix=bimatrix,\n",
    "    title=\"Биматричная игра по варианту 1\",\n",
    ")\n",
    "bimatrix_game"
   ]
  },
  {
   "cell_type": "code",
   "execution_count": 11,
   "id": "c7d45f69644d9781",
   "metadata": {
    "ExecuteTime": {
     "end_time": "2024-04-09T16:55:01.639913Z",
     "start_time": "2024-04-09T16:55:01.635224Z"
    }
   },
   "outputs": [
    {
     "name": "stderr",
     "output_type": "stream",
     "text": [
      "Равновесные выигрыши: v_1 =  6.500, v_2 =  3.429\n",
      "Вполне смешанная ситуация равновесия:\n",
      "x = [0.429 0.571], y = [0.5 0.5]\n"
     ]
    }
   ],
   "source": [
    "_, _ = bimatrix_game.get_mixed_balanced_situation()"
   ]
  }
 ],
 "metadata": {
  "kernelspec": {
   "display_name": "Python 3 (ipykernel)",
   "language": "python",
   "name": "python3"
  },
  "language_info": {
   "codemirror_mode": {
    "name": "ipython",
    "version": 3
   },
   "file_extension": ".py",
   "mimetype": "text/x-python",
   "name": "python",
   "nbconvert_exporter": "python",
   "pygments_lexer": "ipython3",
   "version": "3.11.9"
  }
 },
 "nbformat": 4,
 "nbformat_minor": 5
}
