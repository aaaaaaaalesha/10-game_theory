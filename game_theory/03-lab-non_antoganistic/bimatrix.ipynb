{
 "cells": [
  {
   "cell_type": "markdown",
   "source": [
    "# Лабораторная работа №3\n",
    "### \"Критерии выбора стратегий в неантагонистических бескоалиционных играх:\n",
    "### равновесие Нэша, оптимальность Парето\"\n",
    "\n",
    "**Вариант:** 1\n",
    "\n",
    "**Цель работы:** изучить критерии выбора стратегий в неантагонистической бескоалиционной игре двух игроков на основе \n",
    "равновесия Нэша и оптимальности по Парето. Проверить данные критерии на примере рассмотренных выше игр. \n",
    "Исследовать свойства оптимальных решений неантагонистических бескоалиционных игр на примере биматричных (2×2)-игр."
   ],
   "metadata": {
    "collapsed": false
   },
   "id": "45fbc37898be248c"
  },
  {
   "cell_type": "code",
   "source": [
    "import logging\n",
    "\n",
    "import numpy as np\n",
    "\n",
    "from game_theory.utils.bimatrix_games.bimatrix import BimatrixGame\n",
    "\n",
    "logging.basicConfig(level=logging.INFO, format='%(message)s')"
   ],
   "metadata": {
    "collapsed": true,
    "ExecuteTime": {
     "end_time": "2024-04-07T16:08:33.576797Z",
     "start_time": "2024-04-07T16:08:33.571284Z"
    }
   },
   "id": "initial_id",
   "outputs": [],
   "execution_count": 12
  },
  {
   "cell_type": "markdown",
   "source": [
    "### 1. Нахождение ситуаций, оптимальных по Парето и равновесных по Нэшу"
   ],
   "metadata": {
    "collapsed": false
   },
   "id": "b64098ac6ec34933"
  },
  {
   "cell_type": "markdown",
   "source": [
    "#### 1.1. Случайная биматричная игра"
   ],
   "metadata": {
    "collapsed": false
   },
   "id": "329fd0b0502af763"
  },
  {
   "cell_type": "code",
   "source": [
    "bimatrix_game = BimatrixGame.from_random_values()\n",
    "bimatrix_game"
   ],
   "metadata": {
    "collapsed": false,
    "ExecuteTime": {
     "end_time": "2024-04-07T16:08:33.616002Z",
     "start_time": "2024-04-07T16:08:33.607683Z"
    }
   },
   "id": "60984a19fe976b9c",
   "outputs": [
    {
     "data": {
      "text/plain": [
       "\u001B[3m\u001B[1mЖирным курсивом\u001B[0m\u001B[0m выделены ситуации, оптимальные по Парето.\n",
       "\u001B[4mПодчеркнутым\u001B[0m - ситуации, равновесные по Нэшу.\n",
       "+------------------------------------------------------------------------------------------------------------------------------+\n",
       "|                                           Случайная биматричная игры размера 10x10                                           |\n",
       "+------------+-----------+-----------+------------+------------+------------+------------+------------+-----------+------------+\n",
       "|  (31, 87)  | (83, -22) | (95, -67) | (-69, -92) |  (28, 81)  |  (21, 28)  |  (-9, 94)  |  (62, 99)  | (24, -67) | (70, -51)  |\n",
       "| (80, -98)  | (49, -38) |  (-74, 1) |  (76, 45)  | (45, -77)  | (-51, -63) |  (75, 52)  | (-46, -8)  |  (0, -79) | (-49, 80)  |\n",
       "|  (94, 14)  | (17, -12) | (-80, 82) |  (-50, 6)  | (-37, 87)  | (-22, 10)  | (-24, 34)  |  (87, -3)  |  (-22, 9) | (-20, -28) |\n",
       "|  (-9, 88)  |  (84, 65) |  \u001B[3m\u001B[1m(95, 74)\u001B[0m\u001B[0m |  (62, 2)   |  (72, 55)  |  (-7, 17)  | (-79, 46)  | (-95, 46)  |  (64, 59) | (95, -82)  |\n",
       "| (37, -17)  | (90, -67) |  (-65, 2) | (45, -27)  |  (55, 43)  |  (90, -7)  | (-77, -64) | (-88, -75) | (44, -14) | (-83, -10) |\n",
       "| (-33, 34)  |  (26, 5)  |  (16, 31) |  \u001B[3m\u001B[1m(92, 99)\u001B[0m\u001B[0m  | (-2, -41)  | (93, -10)  | (76, -86)  | (-43, 81)  |  (33, 95) |  (19, 94)  |\n",
       "| (-32, 29)  |  (55, 54) |  (86, -6) | (-24, -29) | (-28, -32) | (65, -35)  | (-55, -37) | (-38, -98) | (-6, -43) | \u001B[3m\u001B[1m(97, -32)\u001B[0m\u001B[0m  |\n",
       "| (-66, 68)  | (-72, 22) | (27, -94) | (95, -15)  |  (19, -5)  | (-14, -6)  |  (-99, 7)  |  (92, 39)  |  (3, 40)  | (-94, 39)  |\n",
       "| (-19, -95) | (61, -32) |  (63, 79) | (96, -39)  | (-40, -51) |  (5, 57)   | (-49, -79) | (32, -35)  | (-81, 30) |  (-7, 78)  |\n",
       "| (-13, 46)  | (-85, 35) | (45, -58) | (90, -50)  | (59, -84)  |  (47, 97)  |  (47, 52)  | (70, -77)  | (91, -11) | (59, -97)  |\n",
       "+------------+-----------+-----------+------------+------------+------------+------------+------------+-----------+------------+\n",
       "\n",
       "Равновесие Нэша: --\n",
       "Оптимальность Парето: [(92.0, 99.0), (95.0, 74.0), (97.0, -32.0)]"
      ]
     },
     "execution_count": 13,
     "metadata": {},
     "output_type": "execute_result"
    }
   ],
   "execution_count": 13
  },
  {
   "cell_type": "markdown",
   "source": [
    "#### 1.2. Игра \"Семейный спор\" (\"Battle of Sexes\")"
   ],
   "metadata": {
    "collapsed": false
   },
   "id": "51e2caf20cd6aab8"
  },
  {
   "cell_type": "code",
   "source": [
    "bimatrix = np.array([\n",
    "    [(4, 1), (0, 0)],\n",
    "    [(0, 0), (1, 4)],\n",
    "])"
   ],
   "metadata": {
    "collapsed": false,
    "ExecuteTime": {
     "end_time": "2024-04-07T16:08:33.622113Z",
     "start_time": "2024-04-07T16:08:33.619412Z"
    }
   },
   "id": "1dd45437c5b26af5",
   "outputs": [],
   "execution_count": 14
  },
  {
   "cell_type": "code",
   "source": [
    "bimatrix_game = BimatrixGame(\n",
    "    bimatrix=bimatrix,\n",
    "    title='Игра \"Семейный спор\" (\"Battle of Sexes\")',\n",
    ")\n",
    "bimatrix_game"
   ],
   "metadata": {
    "collapsed": false,
    "ExecuteTime": {
     "end_time": "2024-04-07T16:08:33.630910Z",
     "start_time": "2024-04-07T16:08:33.626788Z"
    }
   },
   "id": "ddcc2e1a97220ec8",
   "outputs": [
    {
     "data": {
      "text/plain": [
       "\u001B[3m\u001B[1mЖирным курсивом\u001B[0m\u001B[0m выделены ситуации, оптимальные по Парето.\n",
       "\u001B[4mПодчеркнутым\u001B[0m - ситуации, равновесные по Нэшу.\n",
       "+------------------------------------------+\n",
       "| Игра \"Семейный спор\" (\"Battle of Sexes\") |\n",
       "+--------------------+---------------------+\n",
       "|       \u001B[4m\u001B[3m\u001B[1m(4, 1)\u001B[0m\u001B[0m\u001B[0m       |        (0, 0)       |\n",
       "|       (0, 0)       |        \u001B[4m\u001B[3m\u001B[1m(1, 4)\u001B[0m\u001B[0m\u001B[0m       |\n",
       "+--------------------+---------------------+\n",
       "\n",
       "Равновесие Нэша: [(1.0, 4.0), (4.0, 1.0)]\n",
       "Оптимальность Парето: [(1.0, 4.0), (4.0, 1.0)]"
      ]
     },
     "execution_count": 15,
     "metadata": {},
     "output_type": "execute_result"
    }
   ],
   "execution_count": 15
  },
  {
   "cell_type": "markdown",
   "source": [
    "#### 1.3. Игра \"Перекрёсток\" (\"Crossroad\")"
   ],
   "metadata": {
    "collapsed": false
   },
   "id": "9b13a72725d378bf"
  },
  {
   "cell_type": "code",
   "source": [
    "shift_1, shift_2 = round(np.random.random(), 3), round(np.random.random(), 3)\n",
    "bimatrix = np.array([\n",
    "    [(1, 1), (1 - shift_1, 2)],\n",
    "    [(2, 1 - shift_2), (0, 0)],\n",
    "])"
   ],
   "metadata": {
    "collapsed": false,
    "ExecuteTime": {
     "end_time": "2024-04-07T16:08:33.635418Z",
     "start_time": "2024-04-07T16:08:33.632744Z"
    }
   },
   "id": "5337157dc1a4e873",
   "outputs": [],
   "execution_count": 16
  },
  {
   "cell_type": "code",
   "source": [
    "bimatrix_game = BimatrixGame(\n",
    "    bimatrix=bimatrix,\n",
    "    title='Игра \"Перекрёсток\" (\"Crossroad\")',\n",
    ")\n",
    "bimatrix_game"
   ],
   "metadata": {
    "collapsed": false,
    "ExecuteTime": {
     "end_time": "2024-04-07T16:08:33.670818Z",
     "start_time": "2024-04-07T16:08:33.665219Z"
    }
   },
   "id": "562dccd54b14bb45",
   "outputs": [
    {
     "data": {
      "text/plain": [
       "\u001B[3m\u001B[1mЖирным курсивом\u001B[0m\u001B[0m выделены ситуации, оптимальные по Парето.\n",
       "\u001B[4mПодчеркнутым\u001B[0m - ситуации, равновесные по Нэшу.\n",
       "+----------------------------------+\n",
       "| Игра \"Перекрёсток\" (\"Crossroad\") |\n",
       "+----------------+-----------------+\n",
       "|   \u001B[3m\u001B[1m(1.0, 1.0)\u001B[0m\u001B[0m   |   \u001B[4m\u001B[3m\u001B[1m(0.066, 2.0)\u001B[0m\u001B[0m\u001B[0m  |\n",
       "|  \u001B[4m\u001B[3m\u001B[1m(2.0, 0.905)\u001B[0m\u001B[0m\u001B[0m  |    (0.0, 0.0)   |\n",
       "+----------------+-----------------+\n",
       "\n",
       "Равновесие Нэша: [(0.066, 2.0), (2.0, 0.905)]\n",
       "Оптимальность Парето: [(0.066, 2.0), (2.0, 0.905), (1.0, 1.0)]"
      ]
     },
     "execution_count": 17,
     "metadata": {},
     "output_type": "execute_result"
    }
   ],
   "execution_count": 17
  },
  {
   "cell_type": "markdown",
   "source": [
    "#### 1.4. Игра \"Дилемма заключённого\" (\"Prisoner's dilemma\")"
   ],
   "metadata": {
    "collapsed": false
   },
   "id": "ac8c41b2b4c19075"
  },
  {
   "cell_type": "code",
   "source": [
    "bimatrix = np.array([\n",
    "    [(-5, -5), (0, -10)],\n",
    "    [(-10, 0), (-1, -1)],\n",
    "])"
   ],
   "metadata": {
    "collapsed": false,
    "ExecuteTime": {
     "end_time": "2024-04-07T16:08:33.678152Z",
     "start_time": "2024-04-07T16:08:33.675226Z"
    }
   },
   "id": "6eb4549951528038",
   "outputs": [],
   "execution_count": 18
  },
  {
   "cell_type": "code",
   "source": [
    "bimatrix_game = BimatrixGame(\n",
    "    bimatrix=bimatrix,\n",
    "    title=\"\"\"Игра \"Дилемма заключённого\" (\"Prisoner's dilemma\")\"\"\",\n",
    ")\n",
    "bimatrix_game"
   ],
   "metadata": {
    "collapsed": false,
    "ExecuteTime": {
     "end_time": "2024-04-07T16:08:33.683304Z",
     "start_time": "2024-04-07T16:08:33.679826Z"
    }
   },
   "id": "59b6561f1cc45f9a",
   "outputs": [
    {
     "data": {
      "text/plain": [
       "\u001B[3m\u001B[1mЖирным курсивом\u001B[0m\u001B[0m выделены ситуации, оптимальные по Парето.\n",
       "\u001B[4mПодчеркнутым\u001B[0m - ситуации, равновесные по Нэшу.\n",
       "+----------------------------------------------------+\n",
       "| Игра \"Дилемма заключённого\" (\"Prisoner's dilemma\") |\n",
       "+-------------------------+--------------------------+\n",
       "|         \u001B[4m(-5, -5)\u001B[0m        |         \u001B[3m\u001B[1m(0, -10)\u001B[0m\u001B[0m         |\n",
       "|         \u001B[3m\u001B[1m(-10, 0)\u001B[0m\u001B[0m        |         \u001B[3m\u001B[1m(-1, -1)\u001B[0m\u001B[0m         |\n",
       "+-------------------------+--------------------------+\n",
       "\n",
       "Равновесие Нэша: [(-5.0, -5.0)]\n",
       "Оптимальность Парето: [(0.0, -10.0), (-10.0, 0.0), (-1.0, -1.0)]"
      ]
     },
     "execution_count": 19,
     "metadata": {},
     "output_type": "execute_result"
    }
   ],
   "execution_count": 19
  },
  {
   "cell_type": "markdown",
   "source": [
    "### 2. Нахождения равновесных по Нэшу ситуаций для исходной игры и смешанного дополнения"
   ],
   "metadata": {
    "collapsed": false
   },
   "id": "ee300440d07f2210"
  },
  {
   "cell_type": "code",
   "source": [
    "bimatrix = np.array([\n",
    "    [(5, 0), (8, 4)],\n",
    "    [(7, 6), (6, 3)],\n",
    "])"
   ],
   "metadata": {
    "collapsed": false,
    "ExecuteTime": {
     "end_time": "2024-04-07T16:08:33.687332Z",
     "start_time": "2024-04-07T16:08:33.685069Z"
    }
   },
   "id": "e085541bc08521b6",
   "outputs": [],
   "execution_count": 20
  },
  {
   "cell_type": "code",
   "source": [
    "bimatrix_game = BimatrixGame(\n",
    "    bimatrix=bimatrix,\n",
    "    title=\"Биматричная игра по варианту 1\",\n",
    ")\n",
    "bimatrix_game"
   ],
   "metadata": {
    "collapsed": false,
    "ExecuteTime": {
     "end_time": "2024-04-07T16:08:33.705643Z",
     "start_time": "2024-04-07T16:08:33.701282Z"
    }
   },
   "id": "efe4c661e3fbd8d8",
   "outputs": [
    {
     "data": {
      "text/plain": [
       "\u001B[3m\u001B[1mЖирным курсивом\u001B[0m\u001B[0m выделены ситуации, оптимальные по Парето.\n",
       "\u001B[4mПодчеркнутым\u001B[0m - ситуации, равновесные по Нэшу.\n",
       "+--------------------------------+\n",
       "| Биматричная игра по варианту 1 |\n",
       "+---------------+----------------+\n",
       "|     (5, 0)    |     \u001B[4m\u001B[3m\u001B[1m(8, 4)\u001B[0m\u001B[0m\u001B[0m     |\n",
       "|     \u001B[4m\u001B[3m\u001B[1m(7, 6)\u001B[0m\u001B[0m\u001B[0m    |     (6, 3)     |\n",
       "+---------------+----------------+\n",
       "\n",
       "Равновесие Нэша: [(8.0, 4.0), (7.0, 6.0)]\n",
       "Оптимальность Парето: [(8.0, 4.0), (7.0, 6.0)]"
      ]
     },
     "execution_count": 21,
     "metadata": {},
     "output_type": "execute_result"
    }
   ],
   "execution_count": 21
  },
  {
   "metadata": {
    "ExecuteTime": {
     "end_time": "2024-04-07T16:08:33.712675Z",
     "start_time": "2024-04-07T16:08:33.708076Z"
    }
   },
   "cell_type": "code",
   "source": "bimatrix_game.get_mixed_balanced_situation()",
   "id": "c7d45f69644d9781",
   "outputs": [
    {
     "name": "stderr",
     "output_type": "stream",
     "text": [
      "Равновесные выигрыши: v_1 =  6.500, v_2 =  3.429\n",
      "Вполне смешанная ситуация равновесия:\n",
      "x = [0.429 0.571], y = [0.5 0.5]\n"
     ]
    }
   ],
   "execution_count": 22
  }
 ],
 "metadata": {
  "kernelspec": {
   "display_name": "Python 3",
   "language": "python",
   "name": "python3"
  },
  "language_info": {
   "codemirror_mode": {
    "name": "ipython",
    "version": 2
   },
   "file_extension": ".py",
   "mimetype": "text/x-python",
   "name": "python",
   "nbconvert_exporter": "python",
   "pygments_lexer": "ipython2",
   "version": "2.7.6"
  }
 },
 "nbformat": 4,
 "nbformat_minor": 5
}
