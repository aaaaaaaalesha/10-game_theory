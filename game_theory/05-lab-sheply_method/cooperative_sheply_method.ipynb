{
 "cells": [
  {
   "cell_type": "markdown",
   "id": "85dad192f02ac695",
   "metadata": {},
   "source": [
    "# Лабораторная работа №5\n",
    "### \"РАЦИОНАЛЬНЫЙ ДЕЛЕЖ В КООПЕРАТИВНЫХ ИГРАХ: метод Шепли\"\n",
    "\n",
    "**Вариант:** 1\n",
    "\n",
    "**Цель работы:** изучить постановку кооперативной игры и найти оптимальное распределение выигрыша (дележ) между игроками путем вычисления компонент вектора Шепли."
   ]
  },
  {
   "cell_type": "code",
   "execution_count": 1,
   "id": "292e0bcb178da52b",
   "metadata": {
    "ExecuteTime": {
     "end_time": "2024-05-01T09:41:48.833915Z",
     "start_time": "2024-05-01T09:41:48.601277Z"
    }
   },
   "outputs": [],
   "source": [
    "import logging\n",
    "\n",
    "from utils.cooperative.sheply import CooperativeGame\n",
    "\n",
    "logging.basicConfig(level=logging.INFO, format='%(message)s')"
   ]
  },
  {
   "cell_type": "code",
   "execution_count": 2,
   "id": "b77a2c954e11d9e5",
   "metadata": {
    "ExecuteTime": {
     "end_time": "2024-04-30T20:00:22.156236Z",
     "start_time": "2024-04-30T20:00:22.153027Z"
    }
   },
   "outputs": [],
   "source": [
    "# Number of players.\n",
    "N = 4\n",
    "# Characteristic function values in combination order.\n",
    "CHAR_VALUES = (0, 4, 1, 3, 1, 6, 8, 6, 5, 3, 5, 9, 8, 10, 7, 11)"
   ]
  },
  {
   "cell_type": "code",
   "execution_count": 3,
   "id": "6cfef43397783d7",
   "metadata": {
    "ExecuteTime": {
     "end_time": "2024-04-30T20:00:23.143801Z",
     "start_time": "2024-04-30T20:00:23.141475Z"
    }
   },
   "outputs": [],
   "source": [
    "coop_game = CooperativeGame(N, CHAR_VALUES)"
   ]
  },
  {
   "cell_type": "markdown",
   "id": "14d088dd70b41d59",
   "metadata": {},
   "source": [
    "### 1. Проверка игры на супераддитивность и выпуклость\n",
    "\n",
    "__Опр.__ Кооперативная игра называется **супераддитивной**, если\n",
    "$$\\forall S,T \\subseteq I(S \\cap T = \\varnothing): v(S \\cup T) \\geq v(S) + v(T).$$"
   ]
  },
  {
   "cell_type": "code",
   "execution_count": 4,
   "id": "8d3f1023628ffc42",
   "metadata": {
    "ExecuteTime": {
     "end_time": "2024-04-30T20:00:24.403369Z",
     "start_time": "2024-04-30T20:00:24.397231Z"
    }
   },
   "outputs": [
    {
     "data": {
      "text/plain": [
       "True"
      ]
     },
     "execution_count": 4,
     "metadata": {},
     "output_type": "execute_result"
    }
   ],
   "source": [
    "coop_game.is_superadditive_game()"
   ]
  },
  {
   "cell_type": "markdown",
   "id": "abc3a34dac482078",
   "metadata": {},
   "source": [
    "__Опр.__ Кооперативная игра называется **выпуклой**, если\n",
    "$$\\forall S,T \\subseteq I: v(S \\cup T) + v(S \\cap T) \\geq v(S) + v(T).$$"
   ]
  },
  {
   "cell_type": "code",
   "execution_count": 5,
   "id": "a114e428e8e7f454",
   "metadata": {
    "ExecuteTime": {
     "end_time": "2024-04-30T20:00:26.004302Z",
     "start_time": "2024-04-30T20:00:25.990464Z"
    }
   },
   "outputs": [
    {
     "name": "stderr",
     "output_type": "stream",
     "text": [
      "Игра не является выпуклой, так как, к примеру, для коалиций S = {1, 2} и Т = {1, 3} имеем\n",
      "v((1, 2, 3)) + v((1,)) < v({1, 2}) + v({1, 3})\n",
      "9 + 4 < 6 + 8\n"
     ]
    },
    {
     "data": {
      "text/plain": [
       "False"
      ]
     },
     "execution_count": 5,
     "metadata": {},
     "output_type": "execute_result"
    }
   ],
   "source": [
    "is_convex, (first_subcoalition, second_subcoalition) = coop_game.is_convex()\n",
    "is_convex"
   ]
  },
  {
   "cell_type": "markdown",
   "id": "339cf39f3dbe0505",
   "metadata": {},
   "source": [
    "### 2. Расчёт вектора Шепли"
   ]
  },
  {
   "cell_type": "code",
   "execution_count": 6,
   "id": "c4bb47ed01a7b177",
   "metadata": {
    "ExecuteTime": {
     "end_time": "2024-04-30T20:00:50.873776Z",
     "start_time": "2024-04-30T20:00:50.865993Z"
    }
   },
   "outputs": [
    {
     "name": "stdout",
     "output_type": "stream",
     "text": [
      "( 4.417, 1.417, 3.417, 1.750 )\n"
     ]
    }
   ],
   "source": [
    "shapley_vector = coop_game.get_shapley_vector()\n",
    "print('(', ', '.join(format(f, '.3f') for f in shapley_vector), ')')"
   ]
  },
  {
   "cell_type": "markdown",
   "id": "42e89e536ae69a0e",
   "metadata": {},
   "source": [
    "### 3. Условия индивидуальной и групповой рационализации"
   ]
  },
  {
   "cell_type": "code",
   "execution_count": 7,
   "id": "f0925e51e451e5f1",
   "metadata": {
    "ExecuteTime": {
     "end_time": "2024-04-30T20:00:52.254191Z",
     "start_time": "2024-04-30T20:00:52.249293Z"
    }
   },
   "outputs": [],
   "source": [
    "assert coop_game.is_group_rationalization()"
   ]
  },
  {
   "cell_type": "code",
   "execution_count": 8,
   "id": "3ba1d6708bab2280",
   "metadata": {
    "ExecuteTime": {
     "end_time": "2024-04-30T20:00:52.640153Z",
     "start_time": "2024-04-30T20:00:52.637324Z"
    }
   },
   "outputs": [],
   "source": [
    "assert coop_game.is_individual_rationalization()"
   ]
  }
 ],
 "metadata": {
  "kernelspec": {
   "display_name": "Python 3 (ipykernel)",
   "language": "python",
   "name": "python3"
  },
  "language_info": {
   "codemirror_mode": {
    "name": "ipython",
    "version": 3
   },
   "file_extension": ".py",
   "mimetype": "text/x-python",
   "name": "python",
   "nbconvert_exporter": "python",
   "pygments_lexer": "ipython3",
   "version": "3.11.9"
  }
 },
 "nbformat": 4,
 "nbformat_minor": 5
}
