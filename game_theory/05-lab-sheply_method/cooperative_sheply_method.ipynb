{
 "cells": [
  {
   "metadata": {},
   "cell_type": "markdown",
   "source": [
    "# Лабораторная работа №5\n",
    "### \"РАЦИОНАЛЬНЫЙ ДЕЛЕЖ В КООПЕРАТИВНЫХ ИГРАХ: метод Шепли\"\n",
    "\n",
    "**Вариант:** 1\n",
    "\n",
    "**Цель работы:** изучить постановку кооперативной игры и найти оптимальное распределение выигрыша (дележ) между игроками путем вычисления компонент вектора Шепли."
   ],
   "id": "85dad192f02ac695"
  },
  {
   "metadata": {
    "ExecuteTime": {
     "end_time": "2024-04-30T20:00:21.825797Z",
     "start_time": "2024-04-30T20:00:21.591633Z"
    }
   },
   "cell_type": "code",
   "source": [
    "import logging\n",
    "\n",
    "from utils.cooperative.sheply import CooperativeGame\n",
    "\n",
    "logging.basicConfig(level=logging.INFO, format='%(message)s')"
   ],
   "id": "292e0bcb178da52b",
   "outputs": [],
   "execution_count": 1
  },
  {
   "metadata": {
    "ExecuteTime": {
     "end_time": "2024-04-30T20:00:22.156236Z",
     "start_time": "2024-04-30T20:00:22.153027Z"
    }
   },
   "cell_type": "code",
   "source": [
    "# Number of players.\n",
    "N = 4\n",
    "# Characteristic function values in combination order.\n",
    "CHAR_VALUES = (0, 4, 1, 3, 1, 6, 8, 6, 5, 3, 5, 9, 8, 10, 7, 11)"
   ],
   "id": "b77a2c954e11d9e5",
   "outputs": [],
   "execution_count": 2
  },
  {
   "metadata": {
    "ExecuteTime": {
     "end_time": "2024-04-30T20:00:23.143801Z",
     "start_time": "2024-04-30T20:00:23.141475Z"
    }
   },
   "cell_type": "code",
   "source": "coop_game = CooperativeGame(N, CHAR_VALUES)",
   "id": "6cfef43397783d7",
   "outputs": [],
   "execution_count": 3
  },
  {
   "metadata": {},
   "cell_type": "markdown",
   "source": [
    "### 1. Проверка игры на супераддитивность и выпуклость\n",
    "\n",
    "__Опр.__ Кооперативная игра называется **супераддитивной**, если\n",
    "$$\\forall S,T \\subseteq I(S \\cap T = \\varnothing): v(S \\cup T) \\leq v(S) + v(T).$$"
   ],
   "id": "14d088dd70b41d59"
  },
  {
   "metadata": {
    "ExecuteTime": {
     "end_time": "2024-04-30T20:00:24.403369Z",
     "start_time": "2024-04-30T20:00:24.397231Z"
    }
   },
   "cell_type": "code",
   "source": "coop_game.is_superadditive_game()",
   "id": "8d3f1023628ffc42",
   "outputs": [
    {
     "data": {
      "text/plain": [
       "True"
      ]
     },
     "execution_count": 4,
     "metadata": {},
     "output_type": "execute_result"
    }
   ],
   "execution_count": 4
  },
  {
   "metadata": {},
   "cell_type": "markdown",
   "source": [
    "__Опр.__ Кооперативная игра называется **выпуклой**, если\n",
    "$$\\forall S,T \\subseteq I: v(S \\cup T) + v(S \\cap T) \\leq v(S) + v(T).$$"
   ],
   "id": "abc3a34dac482078"
  },
  {
   "metadata": {
    "ExecuteTime": {
     "end_time": "2024-04-30T20:00:26.004302Z",
     "start_time": "2024-04-30T20:00:25.990464Z"
    }
   },
   "cell_type": "code",
   "source": "is_convex, (first_subcoalition, second_subcoalition) = coop_game.is_convex()",
   "id": "a114e428e8e7f454",
   "outputs": [
    {
     "name": "stderr",
     "output_type": "stream",
     "text": [
      "Игра не является выпуклой, так как, к примеру, для коалиций S = {1, 2} и Т = {1, 3} имеем\n",
      "v((1, 2, 3)) + v((1,)) < v({1, 2}) + v({1, 3})\n",
      "9 + 4 < 6 + 8\n"
     ]
    }
   ],
   "execution_count": 5
  },
  {
   "metadata": {},
   "cell_type": "markdown",
   "source": "### 2. Расчёт вектора Шепли",
   "id": "339cf39f3dbe0505"
  },
  {
   "metadata": {
    "ExecuteTime": {
     "end_time": "2024-04-30T20:00:50.873776Z",
     "start_time": "2024-04-30T20:00:50.865993Z"
    }
   },
   "cell_type": "code",
   "source": [
    "shapley_vector = coop_game.get_shapley_vector()\n",
    "', '.join(format(f, '.3f') for f in shapley_vector)"
   ],
   "id": "c4bb47ed01a7b177",
   "outputs": [
    {
     "data": {
      "text/plain": [
       "'4.417, 1.417, 3.417, 1.750'"
      ]
     },
     "execution_count": 6,
     "metadata": {},
     "output_type": "execute_result"
    }
   ],
   "execution_count": 6
  },
  {
   "metadata": {},
   "cell_type": "markdown",
   "source": "### 3. Условия индивидуальной и групповой рационализации",
   "id": "42e89e536ae69a0e"
  },
  {
   "metadata": {
    "ExecuteTime": {
     "end_time": "2024-04-30T20:00:52.254191Z",
     "start_time": "2024-04-30T20:00:52.249293Z"
    }
   },
   "cell_type": "code",
   "source": "assert coop_game.is_individual_rationalization()",
   "id": "f0925e51e451e5f1",
   "outputs": [],
   "execution_count": 7
  },
  {
   "metadata": {
    "ExecuteTime": {
     "end_time": "2024-04-30T20:00:52.640153Z",
     "start_time": "2024-04-30T20:00:52.637324Z"
    }
   },
   "cell_type": "code",
   "source": "assert coop_game.is_group_rationalization()",
   "id": "3ba1d6708bab2280",
   "outputs": [],
   "execution_count": 8
  }
 ],
 "metadata": {
  "kernelspec": {
   "display_name": "Python 3",
   "language": "python",
   "name": "python3"
  },
  "language_info": {
   "codemirror_mode": {
    "name": "ipython",
    "version": 2
   },
   "file_extension": ".py",
   "mimetype": "text/x-python",
   "name": "python",
   "nbconvert_exporter": "python",
   "pygments_lexer": "ipython2",
   "version": "2.7.6"
  }
 },
 "nbformat": 4,
 "nbformat_minor": 5
}
