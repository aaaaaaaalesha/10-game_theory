{
 "cells": [
  {
   "metadata": {},
   "cell_type": "markdown",
   "source": [
    "# Лабораторная работа №5\n",
    "### \"РАЦИОНАЛЬНЫЙ ДЕЛЕЖ В КООПЕРАТИВНЫХ ИГРАХ: метод Шепли\"\n",
    "\n",
    "**Вариант:** 1\n",
    "\n",
    "**Цель работы:** изучить постановку кооперативной игры и найти оптимальное распределение выигрыша (дележ) между игроками путем вычисления компонент вектора Шепли."
   ],
   "id": "85dad192f02ac695"
  },
  {
   "metadata": {
    "ExecuteTime": {
     "end_time": "2024-04-29T20:43:20.309890Z",
     "start_time": "2024-04-29T20:43:20.082877Z"
    }
   },
   "cell_type": "code",
   "source": "from utils.cooperative.sheply import CooperativeGame",
   "id": "292e0bcb178da52b",
   "outputs": [],
   "execution_count": 1
  },
  {
   "metadata": {
    "ExecuteTime": {
     "end_time": "2024-04-29T20:43:20.314874Z",
     "start_time": "2024-04-29T20:43:20.312028Z"
    }
   },
   "cell_type": "code",
   "source": [
    "# Number of players.\n",
    "N = 4\n",
    "# Characteristic function values in combination order.\n",
    "CHAR_VALUES = (0, 4, 1, 3, 1, 6, 8, 6, 5, 3, 5, 9, 8, 10, 7, 11)"
   ],
   "id": "b77a2c954e11d9e5",
   "outputs": [],
   "execution_count": 2
  },
  {
   "metadata": {
    "ExecuteTime": {
     "end_time": "2024-04-29T20:43:20.319951Z",
     "start_time": "2024-04-29T20:43:20.315989Z"
    }
   },
   "cell_type": "code",
   "source": "coop_game = CooperativeGame(N, CHAR_VALUES)",
   "id": "6cfef43397783d7",
   "outputs": [],
   "execution_count": 3
  },
  {
   "metadata": {},
   "cell_type": "markdown",
   "source": [
    "### 1. Проверка игры на супераддитивность и выпуклость\n",
    "\n",
    "__Опр.__ Кооперативная игра называется **супераддитивной**, если\n",
    "$$\\forall S,T \\subseteq I(S \\cap T = \\varnothing): v(S \\cup T) \\leq v(S) + v(T).$$"
   ],
   "id": "14d088dd70b41d59"
  },
  {
   "metadata": {
    "ExecuteTime": {
     "end_time": "2024-04-29T20:43:20.327593Z",
     "start_time": "2024-04-29T20:43:20.321579Z"
    }
   },
   "cell_type": "code",
   "source": "coop_game.is_superadditive_game()",
   "id": "8d3f1023628ffc42",
   "outputs": [
    {
     "data": {
      "text/plain": [
       "True"
      ]
     },
     "execution_count": 4,
     "metadata": {},
     "output_type": "execute_result"
    }
   ],
   "execution_count": 4
  },
  {
   "metadata": {},
   "cell_type": "markdown",
   "source": [
    "__Опр.__ Кооперативная игра называется **выпуклой**, если\n",
    "$$\\forall S,T \\subseteq I: v(S \\cup T) + v(S \\cap T) \\leq v(S) + v(T).$$"
   ],
   "id": "abc3a34dac482078"
  },
  {
   "metadata": {
    "ExecuteTime": {
     "end_time": "2024-04-29T20:43:20.334078Z",
     "start_time": "2024-04-29T20:43:20.330476Z"
    }
   },
   "cell_type": "code",
   "source": "coop_game.is_convex()",
   "id": "a114e428e8e7f454",
   "outputs": [
    {
     "data": {
      "text/plain": [
       "False"
      ]
     },
     "execution_count": 5,
     "metadata": {},
     "output_type": "execute_result"
    }
   ],
   "execution_count": 5
  },
  {
   "metadata": {},
   "cell_type": "markdown",
   "source": "### 2. Расчёт вектора Шепли",
   "id": "339cf39f3dbe0505"
  },
  {
   "metadata": {
    "ExecuteTime": {
     "end_time": "2024-04-29T20:43:20.339096Z",
     "start_time": "2024-04-29T20:43:20.335047Z"
    }
   },
   "cell_type": "code",
   "source": [
    "shapley_vector = coop_game.get_shapley_vector()\n",
    "', '.join(format(f, '.3f') for f in shapley_vector)"
   ],
   "id": "c4bb47ed01a7b177",
   "outputs": [
    {
     "data": {
      "text/plain": [
       "'4.417, 1.417, 3.417, 1.750'"
      ]
     },
     "execution_count": 6,
     "metadata": {},
     "output_type": "execute_result"
    }
   ],
   "execution_count": 6
  },
  {
   "metadata": {},
   "cell_type": "markdown",
   "source": "### 3. Условия индивидуальной и групповой рационализации",
   "id": "42e89e536ae69a0e"
  },
  {
   "metadata": {
    "ExecuteTime": {
     "end_time": "2024-04-29T20:43:20.343593Z",
     "start_time": "2024-04-29T20:43:20.340408Z"
    }
   },
   "cell_type": "code",
   "source": "assert coop_game.is_individual_rationalization()",
   "id": "f0925e51e451e5f1",
   "outputs": [],
   "execution_count": 7
  },
  {
   "metadata": {
    "ExecuteTime": {
     "end_time": "2024-04-29T20:43:20.347729Z",
     "start_time": "2024-04-29T20:43:20.345262Z"
    }
   },
   "cell_type": "code",
   "source": "assert coop_game.is_group_rationalization()",
   "id": "3ba1d6708bab2280",
   "outputs": [],
   "execution_count": 8
  }
 ],
 "metadata": {
  "kernelspec": {
   "display_name": "Python 3",
   "language": "python",
   "name": "python3"
  },
  "language_info": {
   "codemirror_mode": {
    "name": "ipython",
    "version": 2
   },
   "file_extension": ".py",
   "mimetype": "text/x-python",
   "name": "python",
   "nbconvert_exporter": "python",
   "pygments_lexer": "ipython2",
   "version": "2.7.6"
  }
 },
 "nbformat": 4,
 "nbformat_minor": 5
}
