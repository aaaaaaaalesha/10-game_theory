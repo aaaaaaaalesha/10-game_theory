{
 "cells": [
  {
   "metadata": {},
   "cell_type": "markdown",
   "source": [
    "# Лабораторная работа №5\n",
    "### \"РАЦИОНАЛЬНЫЙ ДЕЛЕЖ В КООПЕРАТИВНЫХ ИГРАХ: метод Шепли\"\n",
    "\n",
    "**Вариант:** 1\n",
    "\n",
    "**Цель работы:** изучить постановку кооперативной игры и найти оптимальное распределение выигрыша (дележ) между игроками путем вычисления компонент вектора Шепли."
   ],
   "id": "85dad192f02ac695"
  },
  {
   "metadata": {
    "ExecuteTime": {
     "end_time": "2024-04-29T09:50:41.751274Z",
     "start_time": "2024-04-29T09:50:41.742248Z"
    }
   },
   "cell_type": "code",
   "source": "from utils.cooperative.sheply import CooperativeGame",
   "id": "292e0bcb178da52b",
   "outputs": [],
   "execution_count": 57
  },
  {
   "metadata": {
    "ExecuteTime": {
     "end_time": "2024-04-29T09:50:42.212391Z",
     "start_time": "2024-04-29T09:50:42.209470Z"
    }
   },
   "cell_type": "code",
   "source": [
    "# Number of players.\n",
    "N = 4\n",
    "# Characteristic function values in combination order.\n",
    "CHAR_VALUES = (0, 4, 1, 3, 1, 6, 8, 6, 5, 3, 5, 9, 8, 10, 7, 11)"
   ],
   "id": "b77a2c954e11d9e5",
   "outputs": [],
   "execution_count": 58
  },
  {
   "metadata": {
    "ExecuteTime": {
     "end_time": "2024-04-29T09:50:42.608222Z",
     "start_time": "2024-04-29T09:50:42.605794Z"
    }
   },
   "cell_type": "code",
   "source": "coop_game = CooperativeGame(N, CHAR_VALUES)",
   "id": "6cfef43397783d7",
   "outputs": [],
   "execution_count": 59
  },
  {
   "metadata": {},
   "cell_type": "markdown",
   "source": [
    "### 1. Проверка игры на супераддитивность и выпуклость\n",
    "\n",
    "__Опр.__ Кооперативная игра называется **супераддитивной**, если\n",
    "$$\\forall S,T \\subseteq I(S \\cap T = \\varnothing): v(S \\cup T) \\leq v(S) + v(T).$$"
   ],
   "id": "14d088dd70b41d59"
  },
  {
   "metadata": {
    "ExecuteTime": {
     "end_time": "2024-04-29T09:50:43.623616Z",
     "start_time": "2024-04-29T09:50:43.620480Z"
    }
   },
   "cell_type": "code",
   "source": "coop_game.is_superadditive_game()",
   "id": "a114e428e8e7f454",
   "outputs": [
    {
     "data": {
      "text/plain": [
       "True"
      ]
     },
     "execution_count": 60,
     "metadata": {},
     "output_type": "execute_result"
    }
   ],
   "execution_count": 60
  },
  {
   "metadata": {
    "ExecuteTime": {
     "end_time": "2024-04-29T09:50:51.723383Z",
     "start_time": "2024-04-29T09:50:51.716445Z"
    }
   },
   "cell_type": "code",
   "source": "coop_game.is_convex()",
   "id": "8d3f1023628ffc42",
   "outputs": [
    {
     "data": {
      "text/plain": [
       "False"
      ]
     },
     "execution_count": 61,
     "metadata": {},
     "output_type": "execute_result"
    }
   ],
   "execution_count": 61
  },
  {
   "metadata": {},
   "cell_type": "code",
   "outputs": [],
   "execution_count": null,
   "source": "",
   "id": "8366aaf0c2b29830"
  }
 ],
 "metadata": {
  "kernelspec": {
   "display_name": "Python 3",
   "language": "python",
   "name": "python3"
  },
  "language_info": {
   "codemirror_mode": {
    "name": "ipython",
    "version": 2
   },
   "file_extension": ".py",
   "mimetype": "text/x-python",
   "name": "python",
   "nbconvert_exporter": "python",
   "pygments_lexer": "ipython2",
   "version": "2.7.6"
  }
 },
 "nbformat": 4,
 "nbformat_minor": 5
}
