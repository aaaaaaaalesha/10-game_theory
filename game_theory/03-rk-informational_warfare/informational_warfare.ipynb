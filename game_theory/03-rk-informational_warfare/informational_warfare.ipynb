{
 "cells": [
  {
   "cell_type": "markdown",
   "id": "9e6e0d1cc72eca2",
   "metadata": {},
   "source": [
    "# Рубежный контроль №3\n",
    "**\"Информационное противоборство.\"**\n",
    "\n",
    "**Выполнил: Александров А. Н., ИУ8-104**\n",
    "\n",
    "**Вариант: 1**\n",
    "\n",
    "## Задание.\n",
    "\n",
    "1. Для 10 агентов случайным образом сгенерировать стохастическую матрицу доверия.\n",
    "2. Получить результирующую матрицу доверия.\n",
    "3. Случайным образом выбрать номера агентов из общего числа агентов для первого и второго игроков.\n",
    "4. Определить функции выигрыша, целевые функции, точку утопии, найти аналитическое решение игры с не противоположными интересами двух игроков.\n",
    "\n",
    "| Номер варианта | a | b | c | d | g_f | g_s |\n",
    "|:--------------:|:-:|:-:|:-:|:-:|:---:|:---:|\n",
    "|        1       | 1 | 2 | 1 | 5 |  1  |  2  |"
   ]
  },
  {
   "cell_type": "code",
   "id": "70d54f7e06433099",
   "metadata": {
    "ExecuteTime": {
     "end_time": "2024-05-04T19:01:10.187324Z",
     "start_time": "2024-05-04T19:01:10.181883Z"
    }
   },
   "source": [
    "import logging\n",
    "\n",
    "import sympy\n",
    "import numpy as np\n",
    "# To represent multiple expressions in output of single cell.\n",
    "from IPython.display import display\n",
    "\n",
    "np.set_printoptions(precision=2, suppress=True)\n",
    "logging.basicConfig(level=logging.INFO, format='%(message)s')"
   ],
   "outputs": [],
   "execution_count": 39
  },
  {
   "cell_type": "code",
   "id": "94d9cc139e3130ea",
   "metadata": {
    "ExecuteTime": {
     "end_time": "2024-05-04T19:01:10.257741Z",
     "start_time": "2024-05-04T19:01:10.253421Z"
    }
   },
   "source": [
    "# Размерность матрицы (количество агентов)\n",
    "N = 10\n",
    "# Входные параметры.\n",
    "a, b, c, d = 1, 2, 1, 5\n",
    "g_f, g_s = 1, 2"
   ],
   "outputs": [],
   "execution_count": 40
  },
  {
   "cell_type": "markdown",
   "id": "ad634312faebc072",
   "metadata": {},
   "source": [
    "### 1. Генерация стохастической матрицы\n",
    "В модели социальной сети рассматриваются агенты ($i \\in N = {1,2,..., n}, n \\in \\mathbb{N}$), составляющие эту сеть, и их\n",
    "мнения $х_i$, зависящие от дискретного момента времени: $x_i = x_i(t), t = 0, 1, 2, ...$. \n",
    "\n",
    "В каждый момент времени мнения агентов изменяются под влиянием мнений других агентов. Степень этого влияния определяется неотрицательной стохастической по строкам матрицей $А = (a_{ij})$, где $a_{ij}$ — степень доверия $і$-го агента $j$-му агенту (в том числе и самому себе)."
   ]
  },
  {
   "cell_type": "code",
   "id": "1348edde50cd3a3e",
   "metadata": {
    "ExecuteTime": {
     "end_time": "2024-05-04T19:01:10.288159Z",
     "start_time": "2024-05-04T19:01:10.273618Z"
    }
   },
   "source": [
    "def generate_trust_matrix(n_agents):\n",
    "    matrix = np.random.rand(n_agents, n_agents)\n",
    "    # Нормализуем строки и столбцы, чтобы сумма значений в каждой строке была равна 1.\n",
    "    return matrix / matrix.sum(axis=1, keepdims=True)\n",
    "\n",
    "\n",
    "# Функция для проверки стохастичности матрицы\n",
    "def is_stochastic(matrix):\n",
    "    rows_sum = np.sum(matrix, axis=1)\n",
    "    logging.info(f\"Сумма по строкам: {rows_sum}\")\n",
    "    # Проверяем, что сумма значений в строках равна 1.\n",
    "    return np.allclose(rows_sum, 1)\n",
    "\n",
    "\n",
    "# Генерируем стохастическую матрицу доверия\n",
    "trust_matrix = generate_trust_matrix(N)\n",
    "trust_matrix"
   ],
   "outputs": [
    {
     "data": {
      "text/plain": [
       "array([[0.13, 0.14, 0.1 , 0.01, 0.23, 0.12, 0.03, 0.05, 0.18, 0.  ],\n",
       "       [0.1 , 0.  , 0.18, 0.09, 0.07, 0.1 , 0.08, 0.08, 0.09, 0.21],\n",
       "       [0.07, 0.02, 0.03, 0.23, 0.08, 0.02, 0.23, 0.1 , 0.12, 0.11],\n",
       "       [0.11, 0.03, 0.17, 0.05, 0.07, 0.07, 0.08, 0.08, 0.17, 0.17],\n",
       "       [0.06, 0.24, 0.05, 0.01, 0.19, 0.15, 0.03, 0.09, 0.06, 0.13],\n",
       "       [0.08, 0.11, 0.05, 0.04, 0.21, 0.03, 0.27, 0.15, 0.06, 0.01],\n",
       "       [0.15, 0.15, 0.01, 0.18, 0.09, 0.  , 0.01, 0.2 , 0.05, 0.13],\n",
       "       [0.16, 0.11, 0.16, 0.11, 0.06, 0.08, 0.14, 0.01, 0.04, 0.13],\n",
       "       [0.09, 0.08, 0.05, 0.08, 0.01, 0.17, 0.  , 0.24, 0.17, 0.12],\n",
       "       [0.13, 0.11, 0.1 , 0.06, 0.1 , 0.05, 0.1 , 0.11, 0.2 , 0.04]])"
      ]
     },
     "execution_count": 41,
     "metadata": {},
     "output_type": "execute_result"
    }
   ],
   "execution_count": 41
  },
  {
   "cell_type": "code",
   "id": "e4037067ed48f65b",
   "metadata": {
    "ExecuteTime": {
     "end_time": "2024-05-04T19:01:10.301361Z",
     "start_time": "2024-05-04T19:01:10.294258Z"
    }
   },
   "source": [
    "is_stochastic(trust_matrix)"
   ],
   "outputs": [
    {
     "name": "stderr",
     "output_type": "stream",
     "text": [
      "Сумма по строкам: [1. 1. 1. 1. 1. 1. 1. 1. 1. 1.]\n"
     ]
    },
    {
     "data": {
      "text/plain": [
       "True"
      ]
     },
     "execution_count": 42,
     "metadata": {},
     "output_type": "execute_result"
    }
   ],
   "execution_count": 42
  },
  {
   "cell_type": "markdown",
   "id": "4e7d4347f2ea4e8",
   "metadata": {},
   "source": [
    "### 2. Мнение агентов\n",
    "\n",
    "Вектор мнений $X = (x_1, x_2, ..., x_n)$ задан для начального момента времени ($X(0)$) и изменяется следующим образом:\n",
    "$$x_i(t) = \\sum_{j = 0}^{n} a_{ij}x_{j}(t - 1)$$\n",
    "\n",
    "Этот закон можно записать иначе:\n",
    "$$X(t) = A \\cdot X(t ー 1)$$\n",
    "\n",
    "При достаточно долгом взаимодействии агентов вектор мнений сходится к итоговому значению:\n",
    "$$X = A^{\\infty} \\cdot X(0)$$\n",
    ", где $A^{\\infty} = \\lim_{t \\to \\infty} A^{t}$."
   ]
  },
  {
   "cell_type": "code",
   "id": "501db75641b200ed",
   "metadata": {
    "ExecuteTime": {
     "end_time": "2024-05-04T19:01:10.322216Z",
     "start_time": "2024-05-04T19:01:10.317946Z"
    }
   },
   "source": [
    "def compute_final_opinions(trust_matrix, initial_opinions, epsilon=1e-6):\n",
    "    i = 0\n",
    "    logging.info(f\"x({i}) = {initial_opinions}\")\n",
    "    current_opinions = initial_opinions.copy()\n",
    "    previous_opinions = np.zeros_like(initial_opinions)\n",
    "    res_trust_matrix = trust_matrix.copy()\n",
    "    while np.linalg.norm(current_opinions - previous_opinions) > epsilon:\n",
    "        previous_opinions = current_opinions\n",
    "        current_opinions = np.dot(trust_matrix, current_opinions)\n",
    "        res_trust_matrix = np.dot(res_trust_matrix, trust_matrix)\n",
    "        i += 1\n",
    "        logging.info(f\"x({i}) = {current_opinions}\")\n",
    "\n",
    "    return current_opinions, res_trust_matrix"
   ],
   "outputs": [],
   "execution_count": 43
  },
  {
   "cell_type": "code",
   "id": "6ec9cd67efb6018b",
   "metadata": {
    "ExecuteTime": {
     "end_time": "2024-05-04T19:01:10.348240Z",
     "start_time": "2024-05-04T19:01:10.328649Z"
    }
   },
   "source": [
    "a, b = 1, 20\n",
    "# Генерируем начальные мнения агентов.\n",
    "initial_opinions = np.random.randint(a, b + 1, N)\n",
    "final_opinions, res_trust_matrix = compute_final_opinions(trust_matrix, initial_opinions)\n",
    "print(f\"После взаимодействия агентов, вектор мнений сходится к значению:\\nX = {final_opinions}\")\n",
    "print(f\"Результирующая матрица доверия:\\n{res_trust_matrix}\")"
   ],
   "outputs": [
    {
     "name": "stderr",
     "output_type": "stream",
     "text": [
      "x(0) = [ 7  8 13 20 12 13 20  1  7 11]\n",
      "x(1) = [ 9.98 11.62 13.46 10.69  9.8  11.73  9.56 12.56  8.49 10.13]\n",
      "x(2) = [10.59 10.9  10.31 10.72 10.94 10.55 10.86 10.84 10.98 10.58]\n",
      "x(3) = [10.78 10.65 10.78 10.69 10.76 10.82 10.76 10.67 10.74 10.77]\n",
      "x(4) = [10.75 10.76 10.73 10.75 10.74 10.74 10.71 10.75 10.73 10.74]\n",
      "x(5) = [10.74 10.74 10.74 10.74 10.74 10.74 10.75 10.74 10.74 10.74]\n",
      "x(6) = [10.74 10.74 10.74 10.74 10.74 10.74 10.74 10.74 10.74 10.74]\n",
      "x(7) = [10.74 10.74 10.74 10.74 10.74 10.74 10.74 10.74 10.74 10.74]\n",
      "x(8) = [10.74 10.74 10.74 10.74 10.74 10.74 10.74 10.74 10.74 10.74]\n",
      "x(9) = [10.74 10.74 10.74 10.74 10.74 10.74 10.74 10.74 10.74 10.74]\n",
      "x(10) = [10.74 10.74 10.74 10.74 10.74 10.74 10.74 10.74 10.74 10.74]\n",
      "x(11) = [10.74 10.74 10.74 10.74 10.74 10.74 10.74 10.74 10.74 10.74]\n",
      "x(12) = [10.74 10.74 10.74 10.74 10.74 10.74 10.74 10.74 10.74 10.74]\n",
      "x(13) = [10.74 10.74 10.74 10.74 10.74 10.74 10.74 10.74 10.74 10.74]\n"
     ]
    },
    {
     "name": "stdout",
     "output_type": "stream",
     "text": [
      "После взаимодействия агентов, вектор мнений сходится к значению:\n",
      "X = [10.74 10.74 10.74 10.74 10.74 10.74 10.74 10.74 10.74 10.74]\n",
      "Результирующая матрица доверия:\n",
      "[[0.11 0.1  0.09 0.08 0.11 0.08 0.09 0.11 0.11 0.11]\n",
      " [0.11 0.1  0.09 0.08 0.11 0.08 0.09 0.11 0.11 0.11]\n",
      " [0.11 0.1  0.09 0.08 0.11 0.08 0.09 0.11 0.11 0.11]\n",
      " [0.11 0.1  0.09 0.08 0.11 0.08 0.09 0.11 0.11 0.11]\n",
      " [0.11 0.1  0.09 0.08 0.11 0.08 0.09 0.11 0.11 0.11]\n",
      " [0.11 0.1  0.09 0.08 0.11 0.08 0.09 0.11 0.11 0.11]\n",
      " [0.11 0.1  0.09 0.08 0.11 0.08 0.09 0.11 0.11 0.11]\n",
      " [0.11 0.1  0.09 0.08 0.11 0.08 0.09 0.11 0.11 0.11]\n",
      " [0.11 0.1  0.09 0.08 0.11 0.08 0.09 0.11 0.11 0.11]\n",
      " [0.11 0.1  0.09 0.08 0.11 0.08 0.09 0.11 0.11 0.11]]\n"
     ]
    }
   ],
   "execution_count": 44
  },
  {
   "cell_type": "markdown",
   "id": "9b66b35707f73d8c",
   "metadata": {},
   "source": [
    "### 3. Информационное управление\n",
    "Для информационного управления необходимо наличие нескольких игроков (в данном случае - двух), которые могут влиять на начальные мнения некоторых агентов. Случайным образом выберем число и номера агентов первого игрока и аналогично число и номера агентов второго игрока (они не должны пересекаться, так как эта ситуация выходит за рамки данной работы). Следует обратить внимание, что число агентов влияния первого игрока не обязательно должно совпадать с числом агентов влияния второго игрока."
   ]
  },
  {
   "cell_type": "code",
   "id": "404a8423cf6b8c5",
   "metadata": {
    "ExecuteTime": {
     "end_time": "2024-05-04T19:01:10.354086Z",
     "start_time": "2024-05-04T19:01:10.350178Z"
    }
   },
   "source": [
    "def get_player_agents_indices(n_agents):\n",
    "    # Генерируем случайное число агентов для каждого игрока (необязательно равное).\n",
    "    player1_count = np.random.randint(1, n_agents)\n",
    "    # Учитываем уже выбранных агентов для первого игрока.\n",
    "    player2_count = np.random.randint(1, n_agents - player1_count + 1)\n",
    "\n",
    "    # Генерируем случайные неповторяющиеся индексы агентов для каждого игрока\n",
    "    player1_indices = np.random.choice(\n",
    "        range(n_agents),\n",
    "        size=player1_count, replace=False)\n",
    "    player2_indices = np.random.choice(\n",
    "        [idx for idx in range(n_agents) if idx not in player1_indices],\n",
    "        size=player2_count, replace=False)\n",
    "\n",
    "    player1_indices.sort()\n",
    "    player2_indices.sort()\n",
    "    return player1_indices, player2_indices"
   ],
   "outputs": [],
   "execution_count": 45
  },
  {
   "cell_type": "code",
   "id": "2cb1f6b84204e8cc",
   "metadata": {
    "ExecuteTime": {
     "end_time": "2024-05-04T19:01:10.359939Z",
     "start_time": "2024-05-04T19:01:10.355470Z"
    }
   },
   "source": [
    "player1_influence_indices, player2_influence_indices = get_player_agents_indices(N)\n",
    "print(f\"Индексы агентов влияния для первого игрока: {player1_influence_indices}\")\n",
    "print(f\"Индексы агентов влияния для второго игрока: {player2_influence_indices}\")"
   ],
   "outputs": [
    {
     "name": "stdout",
     "output_type": "stream",
     "text": [
      "Индексы агентов влияния для первого игрока: [0 2 3 4 5 7]\n",
      "Индексы агентов влияния для второго игрока: [1 8 9]\n"
     ]
    }
   ],
   "execution_count": 46
  },
  {
   "cell_type": "markdown",
   "id": "1295f9d7ea7f938",
   "metadata": {},
   "source": [
    "Затем сгенерируем случайным образом управление для агентов влияния первого и второго игроков.\n",
    "Сформируем вектор начальных мнений агентов с учетом информационного влияния, нейтральным агентам назначим случайные стартовые мнения. "
   ]
  },
  {
   "cell_type": "code",
   "id": "d5446b48a5ed3607",
   "metadata": {
    "ExecuteTime": {
     "end_time": "2024-05-04T19:01:10.368440Z",
     "start_time": "2024-05-04T19:01:10.364537Z"
    }
   },
   "source": [
    "ABS_MAX_INFLUENCE = 100\n",
    "DIFF = 20\n",
    "player1_influence = np.random.randint(0, ABS_MAX_INFLUENCE)\n",
    "print(f\"Начальное мнение агентов 1 игрока: {player1_influence}\")\n",
    "player2_influence = np.random.randint(\n",
    "    player1_influence - DIFF,\n",
    "    player1_influence + DIFF,\n",
    ")\n",
    "print(f\"Начальное мнение агентов 2 игрока: {player2_influence}\")"
   ],
   "outputs": [
    {
     "name": "stdout",
     "output_type": "stream",
     "text": [
      "Начальное мнение агентов 1 игрока: 80\n",
      "Начальное мнение агентов 2 игрока: 87\n"
     ]
    }
   ],
   "execution_count": 47
  },
  {
   "cell_type": "code",
   "id": "8d61ada53e10a7",
   "metadata": {
    "ExecuteTime": {
     "end_time": "2024-05-04T19:01:10.398887Z",
     "start_time": "2024-05-04T19:01:10.383287Z"
    }
   },
   "source": [
    "# Модифицируем начальные мнения агентов с учётом влияния.\n",
    "for i in player1_influence_indices:\n",
    "    initial_opinions[i] = player1_influence\n",
    "\n",
    "for i in player2_influence_indices:\n",
    "    initial_opinions[i] = player2_influence\n",
    "\n",
    "final_opinions, res_trust_matrix = compute_final_opinions(trust_matrix, initial_opinions)\n",
    "print(f\"После взаимодействия агентов, вектор мнений сходится к значению:\\nX = {final_opinions}\")\n",
    "print(f\"Результирующая матрица доверия:\\n{res_trust_matrix}\")"
   ],
   "outputs": [
    {
     "name": "stderr",
     "output_type": "stream",
     "text": [
      "x(0) = [80 87 80 80 80 80 20 80 87 87]\n",
      "x(1) = [80.19 77.13 67.78 77.78 81.44 65.28 81.65 73.54 82.46 76.18]\n",
      "x(2) = [77.08 75.3  78.52 76.19 75.82 78.48 77.45 76.22 75.07 77.54]\n",
      "x(3) = [76.45 77.19 76.63 76.93 76.58 76.55 76.33 77.07 76.66 76.48]\n",
      "x(4) = [76.69 76.61 76.66 76.63 76.75 76.66 76.81 76.63 76.76 76.7 ]\n",
      "x(5) = [76.7  76.69 76.71 76.7  76.68 76.71 76.66 76.69 76.67 76.7 ]\n",
      "x(6) = [76.69 76.69 76.68 76.69 76.69 76.68 76.69 76.69 76.69 76.69]\n",
      "x(7) = [76.69 76.69 76.69 76.69 76.69 76.69 76.69 76.69 76.69 76.69]\n",
      "x(8) = [76.69 76.69 76.69 76.69 76.69 76.69 76.69 76.69 76.69 76.69]\n",
      "x(9) = [76.69 76.69 76.69 76.69 76.69 76.69 76.69 76.69 76.69 76.69]\n",
      "x(10) = [76.69 76.69 76.69 76.69 76.69 76.69 76.69 76.69 76.69 76.69]\n",
      "x(11) = [76.69 76.69 76.69 76.69 76.69 76.69 76.69 76.69 76.69 76.69]\n",
      "x(12) = [76.69 76.69 76.69 76.69 76.69 76.69 76.69 76.69 76.69 76.69]\n",
      "x(13) = [76.69 76.69 76.69 76.69 76.69 76.69 76.69 76.69 76.69 76.69]\n",
      "x(14) = [76.69 76.69 76.69 76.69 76.69 76.69 76.69 76.69 76.69 76.69]\n"
     ]
    },
    {
     "name": "stdout",
     "output_type": "stream",
     "text": [
      "После взаимодействия агентов, вектор мнений сходится к значению:\n",
      "X = [76.69 76.69 76.69 76.69 76.69 76.69 76.69 76.69 76.69 76.69]\n",
      "Результирующая матрица доверия:\n",
      "[[0.11 0.1  0.09 0.08 0.11 0.08 0.09 0.11 0.11 0.11]\n",
      " [0.11 0.1  0.09 0.08 0.11 0.08 0.09 0.11 0.11 0.11]\n",
      " [0.11 0.1  0.09 0.08 0.11 0.08 0.09 0.11 0.11 0.11]\n",
      " [0.11 0.1  0.09 0.08 0.11 0.08 0.09 0.11 0.11 0.11]\n",
      " [0.11 0.1  0.09 0.08 0.11 0.08 0.09 0.11 0.11 0.11]\n",
      " [0.11 0.1  0.09 0.08 0.11 0.08 0.09 0.11 0.11 0.11]\n",
      " [0.11 0.1  0.09 0.08 0.11 0.08 0.09 0.11 0.11 0.11]\n",
      " [0.11 0.1  0.09 0.08 0.11 0.08 0.09 0.11 0.11 0.11]\n",
      " [0.11 0.1  0.09 0.08 0.11 0.08 0.09 0.11 0.11 0.11]\n",
      " [0.11 0.1  0.09 0.08 0.11 0.08 0.09 0.11 0.11 0.11]]\n"
     ]
    }
   ],
   "execution_count": 48
  },
  {
   "metadata": {},
   "cell_type": "markdown",
   "source": "### 4. Определение победителя",
   "id": "3255e4ef8cbe3adb"
  },
  {
   "metadata": {
    "ExecuteTime": {
     "end_time": "2024-05-04T19:01:10.414479Z",
     "start_time": "2024-05-04T19:01:10.411041Z"
    }
   },
   "cell_type": "code",
   "source": [
    "r_f = sum(res_trust_matrix[0][player1_influence_indices])\n",
    "r_s = sum(res_trust_matrix[1][player2_influence_indices])\n",
    "r_f, r_s"
   ],
   "id": "aa9f4c7a426c360f",
   "outputs": [
    {
     "data": {
      "text/plain": [
       "(0.5852131662273325, 0.3220461589765842)"
      ]
     },
     "execution_count": 49,
     "metadata": {},
     "output_type": "execute_result"
    }
   ],
   "execution_count": 49
  },
  {
   "metadata": {
    "ExecuteTime": {
     "end_time": "2024-05-04T19:01:10.457226Z",
     "start_time": "2024-05-04T19:01:10.443518Z"
    }
   },
   "cell_type": "code",
   "source": [
    "u, v = sympy.symbols(\"u v\")\n",
    "# Задаём целевые функции обоих игроков.\n",
    "X = u * r_f + v * r_s\n",
    "target_f = a * X - b * X ** 2 - g_f * u ** 2 / 2\n",
    "target_s = c * X - d * X ** 2 - g_s * v ** 2 / 2\n",
    "print(f\"Целевые функции игроков:\\n\"\n",
    "      f\"Ф_f(u, v) = {sympy.N(target_f, 3)}\\n\"\n",
    "      f\"Ф_s(u, v) = {sympy.N(target_s, 3)}\")"
   ],
   "id": "7673ce21cc305763",
   "outputs": [
    {
     "name": "stdout",
     "output_type": "stream",
     "text": [
      "Целевые функции игроков:\n",
      "Ф_f(u, v) = -0.5*u**2 + 0.585*u + 0.322*v - 6.85*(u + 0.55*v)**2\n",
      "Ф_s(u, v) = 0.585*u - v**2 + 0.322*v - 1.71*(u + 0.55*v)**2\n"
     ]
    }
   ],
   "execution_count": 50
  },
  {
   "metadata": {
    "ExecuteTime": {
     "end_time": "2024-05-04T19:01:10.494702Z",
     "start_time": "2024-05-04T19:01:10.475232Z"
    }
   },
   "cell_type": "code",
   "source": [
    "target_f_diff = target_f.diff(u)\n",
    "target_s_diff = target_f.diff(v)\n",
    "print(f\"Частные производные целевые функций:\\n\"\n",
    "      f\"Ф_f(u, v)|_u = {sympy.N(target_f_diff, 3)}\\n\"\n",
    "      f\"Ф_s(u, v)|_v = {sympy.N(target_s_diff, 3)}\")"
   ],
   "id": "6970c9d41236b553",
   "outputs": [
    {
     "name": "stdout",
     "output_type": "stream",
     "text": [
      "Частные производные целевые функций:\n",
      "Ф_f(u, v)|_u = -14.7*u - 7.54*v + 0.585\n",
      "Ф_s(u, v)|_v = -7.54*u - 4.15*v + 0.322\n"
     ]
    }
   ],
   "execution_count": 51
  },
  {
   "metadata": {
    "ExecuteTime": {
     "end_time": "2024-05-04T19:01:10.618848Z",
     "start_time": "2024-05-04T19:01:10.500111Z"
    }
   },
   "cell_type": "code",
   "source": [
    "# Находим значения начальных мнений агентов `u` и `v`.\n",
    "solution = sympy.solve(\n",
    "    (\n",
    "        sympy.Eq(target_f.diff(u), 0),\n",
    "        sympy.Eq(target_s.diff(v), 0)\n",
    "    ),\n",
    "    (u, v),\n",
    ")\n",
    "u, v = solution[u], solution[v]\n",
    "print(f\"Решая систему, получим: u = {u:.3f}, v = {v:.3f}\")"
   ],
   "id": "effa75dd08580cf2",
   "outputs": [
    {
     "name": "stdout",
     "output_type": "stream",
     "text": [
      "Решая систему, получим: u = -0.021, v = 0.119\n"
     ]
    }
   ],
   "execution_count": 52
  },
  {
   "metadata": {
    "ExecuteTime": {
     "end_time": "2024-05-04T19:01:10.625256Z",
     "start_time": "2024-05-04T19:01:10.622137Z"
    }
   },
   "cell_type": "code",
   "source": [
    "X = float(u * r_f + v * r_s)\n",
    "print(f\"Найдём точку утопии X = {X:.3f}\")"
   ],
   "id": "d1ecffb8f3baa5e8",
   "outputs": [
    {
     "name": "stdout",
     "output_type": "stream",
     "text": [
      "Найдём точку утопии X = 0.026\n"
     ]
    }
   ],
   "execution_count": 53
  },
  {
   "metadata": {
    "ExecuteTime": {
     "end_time": "2024-05-04T19:01:10.630637Z",
     "start_time": "2024-05-04T19:01:10.626492Z"
    }
   },
   "cell_type": "code",
   "source": [
    "x_max_f, x_max_s = a / (2 * b), c / (2 * d)\n",
    "delta_x_f = abs(X - x_max_f)\n",
    "delta_x_s = abs(X - x_max_s)\n",
    "print(f\"При X_max_f ={x_max_f}, X_max_s= {x_max_s} найдем расстояния:\\n\"\n",
    "      f\"𝛥𝑥_𝑓 = {delta_x_f:.3f}\\n\"\n",
    "      f\"𝛥𝑥_𝑠 = {delta_x_s:.3f}\")\n",
    "if delta_x_f < delta_x_s:\n",
    "    print(\"Как мы видим 𝛥𝑥_𝑓 < 𝛥𝑥_𝑠, поэтому выиграл первый игрок.\")\n",
    "else:\n",
    "    print(\"Как мы видим 𝛥𝑥_𝑓 > 𝛥𝑥_𝑠, поэтому выиграл второй игрок.\")"
   ],
   "id": "8386b039979ba027",
   "outputs": [
    {
     "name": "stdout",
     "output_type": "stream",
     "text": [
      "При X_max_f =0.025, X_max_s= 0.1 найдем расстояния:\n",
      "𝛥𝑥_𝑓 = 0.001\n",
      "𝛥𝑥_𝑠 = 0.074\n",
      "Как мы видим 𝛥𝑥_𝑓 < 𝛥𝑥_𝑠, поэтому выиграл первый игрок.\n"
     ]
    }
   ],
   "execution_count": 54
  }
 ],
 "metadata": {
  "kernelspec": {
   "display_name": "Python 3 (ipykernel)",
   "language": "python",
   "name": "python3"
  },
  "language_info": {
   "codemirror_mode": {
    "name": "ipython",
    "version": 3
   },
   "file_extension": ".py",
   "mimetype": "text/x-python",
   "name": "python",
   "nbconvert_exporter": "python",
   "pygments_lexer": "ipython3",
   "version": "3.11.9"
  }
 },
 "nbformat": 4,
 "nbformat_minor": 5
}
