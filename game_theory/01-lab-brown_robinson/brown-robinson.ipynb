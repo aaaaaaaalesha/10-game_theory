{
 "cells": [
  {
   "cell_type": "markdown",
   "source": [
    "# Лабораторная работа №1. \n",
    "**\"Аналитический и численный (Брауна-Робинсон) методы решения антагонистической игры в смешанных стратегиях**\n",
    "\n",
    "**Выполнил: Александров А. Н., ИУ8-104**\n",
    "\n",
    "**Вариант: 1**\n",
    "\n",
    "## Задание\n",
    "Найти цену игры и оптимальные стратегии обоих игроков методами обратной матрицы (аналитически) и Брауна-Робинсон. Сравните полученные результаты.\n",
    "\n",
    "Игра Г размера (3 x 3) задана матрицей:\n",
    " \n",
    "| 1  | 11 | 11 |\n",
    "|:--:|:--:|:--:|\n",
    "| 7  | 5  | 8  | \n",
    "| 16 | 6  | 2  | \n"
   ],
   "metadata": {
    "collapsed": false
   },
   "id": "2c5744ffc8d91f7c"
  },
  {
   "cell_type": "code",
   "execution_count": 2233,
   "outputs": [],
   "source": [
    "import logging\n",
    "from pathlib import Path\n",
    "from copy import deepcopy\n",
    "\n",
    "import numpy as np\n",
    "\n",
    "from game_theory.utils.matrix_games.brown_robinson.brown_robinson import BrownRobinson\n",
    "from game_theory.utils.matrix_games.brown_robinson.labels import (\n",
    "    MAXMIN_ESTIMATION_LABEL,\n",
    "    MINMAX_ESTIMATION_LABEL,\n",
    "    ACCURACY_LABEL,\n",
    ")\n",
    "from game_theory.utils.matrix_games.analytical import AnalyticalSolver\n",
    "from game_theory.utils.matrix_games.game_matrix import GameMatrix\n",
    "from game_theory.utils.matrix_games.mixed_strategies import (\n",
    "    check_resulted_game_price,\n",
    "    get_resulted_mixed_strategies,\n",
    ")\n",
    "\n",
    "logging.basicConfig(level=logging.INFO, format='%(message)s')"
   ],
   "metadata": {
    "collapsed": false,
    "ExecuteTime": {
     "end_time": "2024-03-03T16:51:41.810546Z",
     "start_time": "2024-03-03T16:51:41.645678Z"
    }
   },
   "id": "fa6b44581dfdc337"
  },
  {
   "cell_type": "code",
   "execution_count": 2234,
   "outputs": [
    {
     "data": {
      "text/plain": "+-----------------------------------------------+\n|          Таблица стратегий (игрока А)         |\n+----------------+----+----+----+---------------+\n|   Стратегии    | b1 | b2 | b3 | MIN выигрыш A |\n+----------------+----+----+----+---------------+\n|       a1       | 1  | 11 | 11 |       1       |\n|       a2       | 7  | 5  | 8  |       5       |\n|       a3       | 16 | 6  | -2 |       -2      |\n| MAX проигрыш B | 16 | 11 | 11 |               |\n+----------------+----+----+----+---------------+"
     },
     "execution_count": 2234,
     "metadata": {},
     "output_type": "execute_result"
    }
   ],
   "source": [
    "# Входная матрица прямоугольной игры с нулевой суммой.\n",
    "original_game_matrix = GameMatrix(\n",
    "    matrix=np.array(\n",
    "        [\n",
    "            [1, 11, 11],\n",
    "            [7, 5, 8],\n",
    "            [16, 6, -2],\n",
    "        ],\n",
    "        dtype=int,\n",
    "    )\n",
    ")\n",
    "original_game_matrix"
   ],
   "metadata": {
    "collapsed": false,
    "ExecuteTime": {
     "end_time": "2024-03-03T16:51:41.883134Z",
     "start_time": "2024-03-03T16:51:41.652662Z"
    }
   },
   "id": "83b1461621cdb7c1"
  },
  {
   "cell_type": "code",
   "execution_count": 2235,
   "outputs": [
    {
     "name": "stdout",
     "output_type": "stream",
     "text": [
      "Нижняя цена игры:  5\n",
      "Верхняя цена игры: 11\n"
     ]
    }
   ],
   "source": [
    "print(f\"Нижняя цена игры:  {original_game_matrix.lowest_game_price[1]}\\n\"\n",
    "      f\"Верхняя цена игры: {original_game_matrix.highest_game_price[1]}\")"
   ],
   "metadata": {
    "collapsed": false,
    "ExecuteTime": {
     "end_time": "2024-03-03T16:51:41.979207Z",
     "start_time": "2024-03-03T16:51:41.659308Z"
    }
   },
   "id": "bafa37d5fb491966"
  },
  {
   "cell_type": "code",
   "execution_count": 2236,
   "outputs": [
    {
     "name": "stderr",
     "output_type": "stream",
     "text": [
      "Прибавили ко всем элементам исходной матрицы 2\n"
     ]
    },
    {
     "data": {
      "text/plain": "+-----------------------------------------------+\n|          Таблица стратегий (игрока А)         |\n+----------------+----+----+----+---------------+\n|   Стратегии    | b1 | b2 | b3 | MIN выигрыш A |\n+----------------+----+----+----+---------------+\n|       a1       | 3  | 13 | 13 |       3       |\n|       a2       | 9  | 7  | 10 |       7       |\n|       a3       | 18 | 8  | 0  |       0       |\n| MAX проигрыш B | 18 | 13 | 13 |               |\n+----------------+----+----+----+---------------+"
     },
     "execution_count": 2236,
     "metadata": {},
     "output_type": "execute_result"
    }
   ],
   "source": [
    "game_matrix: GameMatrix = deepcopy(original_game_matrix)\n",
    "normalizer: int = game_matrix.normalize_matrix()\n",
    "game_matrix"
   ],
   "metadata": {
    "collapsed": false,
    "ExecuteTime": {
     "end_time": "2024-03-03T16:51:41.979526Z",
     "start_time": "2024-03-03T16:51:41.669632Z"
    }
   },
   "id": "b6dbabe0dc43fd0"
  },
  {
   "cell_type": "code",
   "execution_count": 2237,
   "outputs": [
    {
     "name": "stdout",
     "output_type": "stream",
     "text": [
      "Нижняя цена игры:  7\n",
      "Верхняя цена игры: 13\n"
     ]
    }
   ],
   "source": [
    "print(f\"Нижняя цена игры:  {game_matrix.lowest_game_price[1]}\\n\"\n",
    "      f\"Верхняя цена игры: {game_matrix.highest_game_price[1]}\")"
   ],
   "metadata": {
    "collapsed": false,
    "ExecuteTime": {
     "end_time": "2024-03-03T16:51:41.979647Z",
     "start_time": "2024-03-03T16:51:41.676135Z"
    }
   },
   "id": "fb44f94933916363"
  },
  {
   "cell_type": "code",
   "execution_count": 2238,
   "outputs": [
    {
     "data": {
      "text/plain": "+-----------------------------------------------+\n|          Таблица стратегий (игрока А)         |\n+----------------+----+----+----+---------------+\n|   Стратегии    | b1 | b2 | b3 | MIN выигрыш A |\n+----------------+----+----+----+---------------+\n|       a1       | 3  | 13 | 13 |       3       |\n|       a2       | 9  | 7  | 10 |       7       |\n|       a3       | 18 | 8  | 0  |       0       |\n| MAX проигрыш B | 18 | 13 | 13 |               |\n+----------------+----+----+----+---------------+"
     },
     "execution_count": 2238,
     "metadata": {},
     "output_type": "execute_result"
    }
   ],
   "source": [
    "reduced_game: GameMatrix = game_matrix.reduce_dimension(method='dominant_absorption')\n",
    "reduced_game"
   ],
   "metadata": {
    "collapsed": false,
    "ExecuteTime": {
     "end_time": "2024-03-03T16:51:41.980393Z",
     "start_time": "2024-03-03T16:51:41.691441Z"
    }
   },
   "id": "4c1acf0c8a697d8e"
  },
  {
   "cell_type": "code",
   "execution_count": 2239,
   "outputs": [
    {
     "name": "stdout",
     "output_type": "stream",
     "text": [
      "Нижняя цена игры:  7\n",
      "Верхняя цена игры: 13\n"
     ]
    }
   ],
   "source": [
    "print(f\"Нижняя цена игры:  {reduced_game.lowest_game_price[1]}\\n\"\n",
    "      f\"Верхняя цена игры: {reduced_game.highest_game_price[1]}\")"
   ],
   "metadata": {
    "collapsed": false,
    "ExecuteTime": {
     "end_time": "2024-03-03T16:51:41.980510Z",
     "start_time": "2024-03-03T16:51:41.698526Z"
    }
   },
   "id": "c9a05c5bb72846d8"
  },
  {
   "cell_type": "markdown",
   "source": [
    "### 1. Аналитический (матричный) метод"
   ],
   "metadata": {
    "collapsed": false
   },
   "id": "2c0dfd79d995c8df"
  },
  {
   "cell_type": "markdown",
   "source": [
    "#### 1.1. Обратная матрица для игрока A\n",
    "\n",
    "Для игрока $A$ ($h$ - цена игры; $y_1, ..., y_m$ - смешанные стратегии игрока $A$):\n",
    "![analytical_A](./img/analytical_A.png)"
   ],
   "metadata": {
    "collapsed": false
   },
   "id": "17c4ea16894590a1"
  },
  {
   "cell_type": "code",
   "execution_count": 2240,
   "outputs": [],
   "source": [
    "analytical_solver = AnalyticalSolver(reduced_game)\n",
    "(\n",
    "    first_mixed_strategy,\n",
    "    second_mixed_strategy,\n",
    "    third_mixed_strategy,\n",
    "    game_price_value,\n",
    ") = analytical_solver.player_a_solve()"
   ],
   "metadata": {
    "collapsed": false,
    "ExecuteTime": {
     "end_time": "2024-03-03T16:51:41.980570Z",
     "start_time": "2024-03-03T16:51:41.709892Z"
    }
   },
   "id": "b173bb2636890852"
  },
  {
   "cell_type": "code",
   "execution_count": 2241,
   "outputs": [
    {
     "name": "stderr",
     "output_type": "stream",
     "text": [
      "Цена игры: 7 <= 8.962 <= 13\n"
     ]
    },
    {
     "name": "stdout",
     "output_type": "stream",
     "text": [
      "+------------------------------+\n",
      "| Смешанные стратегии игрока A |\n",
      "+---------+---------+----------+\n",
      "|    a1   |    a2   |    a3    |\n",
      "+---------+---------+----------+\n",
      "|  0.295  |  0.513  |  0.192   |\n",
      "+---------+---------+----------+\n"
     ]
    }
   ],
   "source": [
    "# Смешанные стратегии игрока A и цена игры.\n",
    "assert check_resulted_game_price(\n",
    "    game_matrix=reduced_game,\n",
    "    game_price_value=game_price_value,\n",
    ")\n",
    "\n",
    "mixed_strategies = get_resulted_mixed_strategies(\n",
    "    player_labels=game_matrix.player_a_strategy_labels,\n",
    "    labels_to_probability=dict(zip(\n",
    "        reduced_game.player_a_strategy_labels,\n",
    "        (first_mixed_strategy, second_mixed_strategy, third_mixed_strategy),\n",
    "    )),\n",
    "    player_name=\"A\",\n",
    ")\n",
    "print(mixed_strategies)"
   ],
   "metadata": {
    "collapsed": false,
    "ExecuteTime": {
     "end_time": "2024-03-03T16:51:41.980747Z",
     "start_time": "2024-03-03T16:51:41.714638Z"
    }
   },
   "id": "fcff25e8d290b76e"
  },
  {
   "cell_type": "code",
   "execution_count": 2242,
   "outputs": [
    {
     "data": {
      "text/plain": "1.0"
     },
     "execution_count": 2242,
     "metadata": {},
     "output_type": "execute_result"
    }
   ],
   "source": [
    "sum((first_mixed_strategy, second_mixed_strategy, third_mixed_strategy,))"
   ],
   "metadata": {
    "collapsed": false,
    "ExecuteTime": {
     "end_time": "2024-03-03T16:51:41.981048Z",
     "start_time": "2024-03-03T16:51:41.725978Z"
    }
   },
   "id": "b55bcc697be8b69b"
  },
  {
   "cell_type": "markdown",
   "source": [
    "#### 2.2.1. Прямая матрица для игрока B\n",
    "Для игрока $B$ ($g$ - цена игры; $x_1, ..., y_n$ - смешанные стратегии игрока $B$):\n",
    "![analytical_B](./img/analytical_B.png)"
   ],
   "metadata": {
    "collapsed": false
   },
   "id": "d10ae8247fa47fa8"
  },
  {
   "cell_type": "code",
   "execution_count": 2243,
   "outputs": [],
   "source": [
    "analytical_solver = AnalyticalSolver(reduced_game)\n",
    "(\n",
    "    first_mixed_strategy,\n",
    "    second_mixed_strategy,\n",
    "    third_mixed_strategy,\n",
    "    game_price_value,\n",
    ") = analytical_solver.player_b_solve()"
   ],
   "metadata": {
    "collapsed": false,
    "ExecuteTime": {
     "end_time": "2024-03-03T16:51:41.981488Z",
     "start_time": "2024-03-03T16:51:41.738121Z"
    }
   },
   "id": "dd43b57d2e89163"
  },
  {
   "cell_type": "code",
   "execution_count": 2244,
   "outputs": [
    {
     "name": "stderr",
     "output_type": "stream",
     "text": [
      "Цена игры: 7 <= 8.962 <= 13\n"
     ]
    },
    {
     "name": "stdout",
     "output_type": "stream",
     "text": [
      "+------------------------------+\n",
      "| Смешанные стратегии игрока B |\n",
      "+---------+---------+----------+\n",
      "|    b1   |    b2   |    b3    |\n",
      "+---------+---------+----------+\n",
      "|  0.404  |  0.212  |  0.385   |\n",
      "+---------+---------+----------+\n"
     ]
    }
   ],
   "source": [
    "# Смешанные стратегии игрока B и цена игры.\n",
    "assert check_resulted_game_price(\n",
    "    game_matrix=reduced_game,\n",
    "    game_price_value=game_price_value,\n",
    ")\n",
    "\n",
    "mixed_strategies = get_resulted_mixed_strategies(\n",
    "    player_labels=game_matrix.player_b_strategy_labels,\n",
    "    labels_to_probability=dict(zip(\n",
    "        reduced_game.player_b_strategy_labels,\n",
    "        (first_mixed_strategy, second_mixed_strategy, third_mixed_strategy),\n",
    "    )),\n",
    "    player_name=\"B\",\n",
    ")\n",
    "print(mixed_strategies)"
   ],
   "metadata": {
    "collapsed": false,
    "ExecuteTime": {
     "end_time": "2024-03-03T16:51:41.983269Z",
     "start_time": "2024-03-03T16:51:41.752679Z"
    }
   },
   "id": "1660520b2a078185"
  },
  {
   "cell_type": "code",
   "execution_count": 2245,
   "outputs": [
    {
     "data": {
      "text/plain": "1.0"
     },
     "execution_count": 2245,
     "metadata": {},
     "output_type": "execute_result"
    }
   ],
   "source": [
    "sum((first_mixed_strategy, second_mixed_strategy, third_mixed_strategy,))"
   ],
   "metadata": {
    "collapsed": false,
    "ExecuteTime": {
     "end_time": "2024-03-03T16:51:41.983471Z",
     "start_time": "2024-03-03T16:51:41.777482Z"
    }
   },
   "id": "ab131a7b645dfae8"
  },
  {
   "cell_type": "markdown",
   "source": [
    "### Вернёмся к цене игры для исходной матрицы"
   ],
   "metadata": {
    "collapsed": false
   },
   "id": "6634695c34ad1780"
  },
  {
   "cell_type": "code",
   "execution_count": 2246,
   "outputs": [
    {
     "name": "stderr",
     "output_type": "stream",
     "text": [
      "Цена игры: 5 <= 6.962 <= 11\n"
     ]
    }
   ],
   "source": [
    "assert check_resulted_game_price(\n",
    "    game_matrix=original_game_matrix,\n",
    "    # Уменьшаем ЦИ на слагаемое, используемое при нормализации матрицы.\n",
    "    game_price_value=game_price_value - normalizer,\n",
    ")"
   ],
   "metadata": {
    "collapsed": false,
    "ExecuteTime": {
     "end_time": "2024-03-03T16:51:41.983589Z",
     "start_time": "2024-03-03T16:51:41.796085Z"
    }
   },
   "id": "9243452773744f02"
  },
  {
   "cell_type": "markdown",
   "source": [
    "### 2. Численный метод Брауна-Робинсон\n",
    "\n",
    "Уровень погрешности: $\\varepsilon \\le 0,1$"
   ],
   "metadata": {
    "collapsed": false
   },
   "id": "7ccbfae6f96ea080"
  },
  {
   "cell_type": "code",
   "execution_count": 2247,
   "outputs": [
    {
     "data": {
      "text/plain": "+-----------------------------------------------+\n|          Таблица стратегий (игрока А)         |\n+----------------+----+----+----+---------------+\n|   Стратегии    | b1 | b2 | b3 | MIN выигрыш A |\n+----------------+----+----+----+---------------+\n|       a1       | 3  | 13 | 13 |       3       |\n|       a2       | 9  | 7  | 10 |       7       |\n|       a3       | 18 | 8  | 0  |       0       |\n| MAX проигрыш B | 18 | 13 | 13 |               |\n+----------------+----+----+----+---------------+"
     },
     "execution_count": 2247,
     "metadata": {},
     "output_type": "execute_result"
    }
   ],
   "source": [
    "reduced_game"
   ],
   "metadata": {
    "collapsed": false,
    "ExecuteTime": {
     "end_time": "2024-03-03T16:51:41.983773Z",
     "start_time": "2024-03-03T16:51:41.801402Z"
    }
   },
   "id": "9097104197c49e1b"
  },
  {
   "cell_type": "code",
   "execution_count": 2248,
   "outputs": [
    {
     "data": {
      "text/plain": "     k   A   B   a1   a2   a3   b1   b2   b3     ВЦИ    НЦИ       ε\n0    1  a3  b2   13    7    8   18    8    0  13.000  0.000  13.000\n1    2  a1  b3   26   17    8   21   21   13  13.000  6.500   6.500\n2    3  a1  b3   39   27    8   24   34   26  13.000  8.000   5.000\n3    4  a1  b1   42   36   26   27   47   39  10.500  6.750   2.500\n4    5  a1  b1   45   45   44   30   60   52   9.000  6.000   1.000\n..  ..  ..  ..  ...  ...  ...  ...  ...  ...     ...    ...     ...\n60  61  a1  b3  593  587  368  570  536  528   9.721  8.656   0.250\n61  62  a1  b3  606  597  368  573  549  541   9.774  8.726   0.250\n62  63  a1  b3  619  607  368  576  562  554   9.825  8.794   0.206\n63  64  a1  b3  632  617  368  579  575  567   9.875  8.859   0.141\n64  65  a1  b3  645  627  368  582  588  580   9.923  8.923   0.077\n\n[65 rows x 12 columns]",
      "text/html": "<div>\n<style scoped>\n    .dataframe tbody tr th:only-of-type {\n        vertical-align: middle;\n    }\n\n    .dataframe tbody tr th {\n        vertical-align: top;\n    }\n\n    .dataframe thead th {\n        text-align: right;\n    }\n</style>\n<table border=\"1\" class=\"dataframe\">\n  <thead>\n    <tr style=\"text-align: right;\">\n      <th></th>\n      <th>k</th>\n      <th>A</th>\n      <th>B</th>\n      <th>a1</th>\n      <th>a2</th>\n      <th>a3</th>\n      <th>b1</th>\n      <th>b2</th>\n      <th>b3</th>\n      <th>ВЦИ</th>\n      <th>НЦИ</th>\n      <th>ε</th>\n    </tr>\n  </thead>\n  <tbody>\n    <tr>\n      <th>0</th>\n      <td>1</td>\n      <td>a3</td>\n      <td>b2</td>\n      <td>13</td>\n      <td>7</td>\n      <td>8</td>\n      <td>18</td>\n      <td>8</td>\n      <td>0</td>\n      <td>13.000</td>\n      <td>0.000</td>\n      <td>13.000</td>\n    </tr>\n    <tr>\n      <th>1</th>\n      <td>2</td>\n      <td>a1</td>\n      <td>b3</td>\n      <td>26</td>\n      <td>17</td>\n      <td>8</td>\n      <td>21</td>\n      <td>21</td>\n      <td>13</td>\n      <td>13.000</td>\n      <td>6.500</td>\n      <td>6.500</td>\n    </tr>\n    <tr>\n      <th>2</th>\n      <td>3</td>\n      <td>a1</td>\n      <td>b3</td>\n      <td>39</td>\n      <td>27</td>\n      <td>8</td>\n      <td>24</td>\n      <td>34</td>\n      <td>26</td>\n      <td>13.000</td>\n      <td>8.000</td>\n      <td>5.000</td>\n    </tr>\n    <tr>\n      <th>3</th>\n      <td>4</td>\n      <td>a1</td>\n      <td>b1</td>\n      <td>42</td>\n      <td>36</td>\n      <td>26</td>\n      <td>27</td>\n      <td>47</td>\n      <td>39</td>\n      <td>10.500</td>\n      <td>6.750</td>\n      <td>2.500</td>\n    </tr>\n    <tr>\n      <th>4</th>\n      <td>5</td>\n      <td>a1</td>\n      <td>b1</td>\n      <td>45</td>\n      <td>45</td>\n      <td>44</td>\n      <td>30</td>\n      <td>60</td>\n      <td>52</td>\n      <td>9.000</td>\n      <td>6.000</td>\n      <td>1.000</td>\n    </tr>\n    <tr>\n      <th>...</th>\n      <td>...</td>\n      <td>...</td>\n      <td>...</td>\n      <td>...</td>\n      <td>...</td>\n      <td>...</td>\n      <td>...</td>\n      <td>...</td>\n      <td>...</td>\n      <td>...</td>\n      <td>...</td>\n      <td>...</td>\n    </tr>\n    <tr>\n      <th>60</th>\n      <td>61</td>\n      <td>a1</td>\n      <td>b3</td>\n      <td>593</td>\n      <td>587</td>\n      <td>368</td>\n      <td>570</td>\n      <td>536</td>\n      <td>528</td>\n      <td>9.721</td>\n      <td>8.656</td>\n      <td>0.250</td>\n    </tr>\n    <tr>\n      <th>61</th>\n      <td>62</td>\n      <td>a1</td>\n      <td>b3</td>\n      <td>606</td>\n      <td>597</td>\n      <td>368</td>\n      <td>573</td>\n      <td>549</td>\n      <td>541</td>\n      <td>9.774</td>\n      <td>8.726</td>\n      <td>0.250</td>\n    </tr>\n    <tr>\n      <th>62</th>\n      <td>63</td>\n      <td>a1</td>\n      <td>b3</td>\n      <td>619</td>\n      <td>607</td>\n      <td>368</td>\n      <td>576</td>\n      <td>562</td>\n      <td>554</td>\n      <td>9.825</td>\n      <td>8.794</td>\n      <td>0.206</td>\n    </tr>\n    <tr>\n      <th>63</th>\n      <td>64</td>\n      <td>a1</td>\n      <td>b3</td>\n      <td>632</td>\n      <td>617</td>\n      <td>368</td>\n      <td>579</td>\n      <td>575</td>\n      <td>567</td>\n      <td>9.875</td>\n      <td>8.859</td>\n      <td>0.141</td>\n    </tr>\n    <tr>\n      <th>64</th>\n      <td>65</td>\n      <td>a1</td>\n      <td>b3</td>\n      <td>645</td>\n      <td>627</td>\n      <td>368</td>\n      <td>582</td>\n      <td>588</td>\n      <td>580</td>\n      <td>9.923</td>\n      <td>8.923</td>\n      <td>0.077</td>\n    </tr>\n  </tbody>\n</table>\n<p>65 rows × 12 columns</p>\n</div>"
     },
     "execution_count": 2248,
     "metadata": {},
     "output_type": "execute_result"
    }
   ],
   "source": [
    "brown_robinson = BrownRobinson(game_matrix=reduced_game)\n",
    "df = brown_robinson.solve(out=Path(\"iterations_table.csv\"))\n",
    "df"
   ],
   "metadata": {
    "collapsed": false,
    "ExecuteTime": {
     "end_time": "2024-03-03T16:51:42.326643Z",
     "start_time": "2024-03-03T16:51:41.810982Z"
    }
   },
   "id": "f4073ad0e8eaad35"
  },
  {
   "cell_type": "code",
   "execution_count": 2249,
   "outputs": [],
   "source": [
    "# Приближенная цена игры игроков.\n",
    "game_price_value = brown_robinson.game_price_estimation\n",
    "# Приближенные смешанные стратегии игроков.\n",
    "(\n",
    "    (strategy_a_1, strategy_a_2, strategy_a_3),\n",
    "    (strategy_b_1, strategy_b_2, strategy_b_3),\n",
    ") = brown_robinson.mixed_strategies"
   ],
   "metadata": {
    "collapsed": false,
    "ExecuteTime": {
     "end_time": "2024-03-03T16:51:42.326774Z",
     "start_time": "2024-03-03T16:51:41.920220Z"
    }
   },
   "id": "a33cdbecb29ba27d"
  },
  {
   "cell_type": "code",
   "execution_count": 2250,
   "outputs": [
    {
     "name": "stderr",
     "output_type": "stream",
     "text": [
      "Цена игры: 7 <= 9.423 <= 13\n"
     ]
    }
   ],
   "source": [
    "# Смешанные стратегии игрока A и цена игры.\n",
    "assert check_resulted_game_price(\n",
    "    game_matrix=reduced_game,\n",
    "    game_price_value=game_price_value,\n",
    ")"
   ],
   "metadata": {
    "collapsed": false,
    "ExecuteTime": {
     "end_time": "2024-03-03T16:51:42.326911Z",
     "start_time": "2024-03-03T16:51:41.922391Z"
    }
   },
   "id": "a2ab77587064c655"
  },
  {
   "cell_type": "code",
   "execution_count": 2251,
   "outputs": [
    {
     "name": "stdout",
     "output_type": "stream",
     "text": [
      "+------------------------------+\n",
      "| Смешанные стратегии игрока A |\n",
      "+---------+---------+----------+\n",
      "|    a1   |    a2   |    a3    |\n",
      "+---------+---------+----------+\n",
      "|  0.308  |  0.492  |  0.200   |\n",
      "+---------+---------+----------+\n"
     ]
    }
   ],
   "source": [
    "mixed_strategies = get_resulted_mixed_strategies(\n",
    "    player_labels=game_matrix.player_a_strategy_labels,\n",
    "    labels_to_probability=dict(zip(\n",
    "        reduced_game.player_a_strategy_labels,\n",
    "        (strategy_a_1, strategy_a_2, strategy_a_3),\n",
    "    )),\n",
    "    player_name=\"A\",\n",
    ")\n",
    "print(mixed_strategies)"
   ],
   "metadata": {
    "collapsed": false,
    "ExecuteTime": {
     "end_time": "2024-03-03T16:51:42.327024Z",
     "start_time": "2024-03-03T16:51:41.929146Z"
    }
   },
   "id": "a5dd5d051e669aea"
  },
  {
   "cell_type": "code",
   "execution_count": 2252,
   "outputs": [
    {
     "data": {
      "text/plain": "1.0"
     },
     "execution_count": 2252,
     "metadata": {},
     "output_type": "execute_result"
    }
   ],
   "source": [
    "sum((strategy_a_1, strategy_a_2, strategy_a_3))"
   ],
   "metadata": {
    "collapsed": false,
    "ExecuteTime": {
     "end_time": "2024-03-03T16:51:42.327150Z",
     "start_time": "2024-03-03T16:51:41.934011Z"
    }
   },
   "id": "562918e8925e1ae7"
  },
  {
   "cell_type": "code",
   "execution_count": 2253,
   "outputs": [
    {
     "name": "stdout",
     "output_type": "stream",
     "text": [
      "+------------------------------+\n",
      "| Смешанные стратегии игрока B |\n",
      "+---------+---------+----------+\n",
      "|    b1   |    b2   |    b3    |\n",
      "+---------+---------+----------+\n",
      "|  0.308  |  0.015  |  0.677   |\n",
      "+---------+---------+----------+\n"
     ]
    }
   ],
   "source": [
    "mixed_strategies = get_resulted_mixed_strategies(\n",
    "    player_labels=game_matrix.player_b_strategy_labels,\n",
    "    labels_to_probability=dict(zip(\n",
    "        reduced_game.player_b_strategy_labels,\n",
    "        (strategy_b_1, strategy_b_2, strategy_b_3),\n",
    "    )),\n",
    "    player_name=\"B\",\n",
    ")\n",
    "print(mixed_strategies)"
   ],
   "metadata": {
    "collapsed": false,
    "ExecuteTime": {
     "end_time": "2024-03-03T16:51:42.327261Z",
     "start_time": "2024-03-03T16:51:41.940253Z"
    }
   },
   "id": "32d4e9caaff5ec60"
  },
  {
   "cell_type": "code",
   "execution_count": 2254,
   "outputs": [
    {
     "data": {
      "text/plain": "1.0"
     },
     "execution_count": 2254,
     "metadata": {},
     "output_type": "execute_result"
    }
   ],
   "source": [
    "sum((strategy_b_1, strategy_b_2, strategy_b_3))"
   ],
   "metadata": {
    "collapsed": false,
    "ExecuteTime": {
     "end_time": "2024-03-03T16:51:42.327378Z",
     "start_time": "2024-03-03T16:51:41.944326Z"
    }
   },
   "id": "9e73bb6b49302738"
  },
  {
   "cell_type": "code",
   "execution_count": 2255,
   "outputs": [
    {
     "data": {
      "text/plain": "<Axes: title={'center': 'График сходимости верхней и нижней цен игры в алгоритме Брауна-Робинсон'}, xlabel='Итерации алгоритма', ylabel='Значения цен игры'>"
     },
     "execution_count": 2255,
     "metadata": {},
     "output_type": "execute_result"
    },
    {
     "data": {
      "text/plain": "<Figure size 640x480 with 1 Axes>",
      "image/png": "[encoded data removed]"
     },
     "metadata": {},
     "output_type": "display_data"
    }
   ],
   "source": [
    "df[[MAXMIN_ESTIMATION_LABEL, MINMAX_ESTIMATION_LABEL]].plot(\n",
    "    title=\"График сходимости верхней и нижней цен игры в алгоритме Брауна-Робинсон\",\n",
    "    xlabel=\"Итерации алгоритма\",\n",
    "    ylabel=\"Значения цен игры\",\n",
    "    xlim=(1, None),\n",
    "    grid=True,\n",
    ")"
   ],
   "metadata": {
    "collapsed": false,
    "ExecuteTime": {
     "end_time": "2024-03-03T16:51:42.477085Z",
     "start_time": "2024-03-03T16:51:41.951125Z"
    }
   },
   "id": "ef1b59794d9dc707"
  },
  {
   "cell_type": "code",
   "execution_count": 2256,
   "outputs": [
    {
     "data": {
      "text/plain": "<Figure size 640x480 with 1 Axes>",
      "image/png": "[encoded data removed]"
     },
     "metadata": {},
     "output_type": "display_data"
    }
   ],
   "source": [
    "plt = df[ACCURACY_LABEL].plot(\n",
    "    title=\"График оценки погрешности алгоритма Брауна-Робинсон\",\n",
    "    xlabel=\"Итерации алгоритма\",\n",
    "    ylabel=\"Значение погрешности ε\",\n",
    "    xlim=(1, None),\n",
    "    ylim=(0, None),\n",
    "    grid=True,\n",
    ")"
   ],
   "metadata": {
    "collapsed": false,
    "ExecuteTime": {
     "end_time": "2024-03-03T16:51:42.713272Z",
     "start_time": "2024-03-03T16:51:42.307207Z"
    }
   },
   "id": "d41bdb2e2e549aca"
  }
 ],
 "metadata": {
  "kernelspec": {
   "display_name": "Python 3",
   "language": "python",
   "name": "python3"
  },
  "language_info": {
   "codemirror_mode": {
    "name": "ipython",
    "version": 2
   },
   "file_extension": ".py",
   "mimetype": "text/x-python",
   "name": "python",
   "nbconvert_exporter": "python",
   "pygments_lexer": "ipython2",
   "version": "2.7.6"
  }
 },
 "nbformat": 4,
 "nbformat_minor": 5
}
