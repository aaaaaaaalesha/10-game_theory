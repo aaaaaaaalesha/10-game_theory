{
 "cells": [
  {
   "cell_type": "markdown",
   "id": "2c5744ffc8d91f7c",
   "metadata": {
    "collapsed": false
   },
   "source": [
    "# Лабораторная работа №1. \n",
    "**\"Аналитический и численный (Брауна-Робинсон) методы решения антагонистической игры в смешанных стратегиях**\n",
    "\n",
    "**Выполнил: Александров А. Н., ИУ8-104**\n",
    "\n",
    "**Вариант: 1**\n",
    "\n",
    "## Задание\n",
    "Найти цену игры и оптимальные стратегии обоих игроков методами обратной матрицы (аналитически) и Брауна-Робинсон. Сравните полученные результаты.\n",
    "\n",
    "Игра Г размера (3 x 3) задана матрицей:\n",
    " \n",
    "| 1  | 11 | 11 |\n",
    "|:--:|:--:|:--:|\n",
    "| 7  | 5  | 8  | \n",
    "| 16 | 6  | 2  | \n"
   ]
  },
  {
   "cell_type": "code",
   "execution_count": 876,
   "id": "fa6b44581dfdc337",
   "metadata": {
    "collapsed": false,
    "ExecuteTime": {
     "end_time": "2024-03-03T17:17:08.024390Z",
     "start_time": "2024-03-03T17:17:07.754187Z"
    }
   },
   "outputs": [],
   "source": [
    "import logging\n",
    "from pathlib import Path\n",
    "from copy import deepcopy\n",
    "\n",
    "import numpy as np\n",
    "\n",
    "from game_theory.utils.matrix_games.brown_robinson.brown_robinson import BrownRobinson\n",
    "from game_theory.utils.matrix_games.brown_robinson.labels import (\n",
    "    MAXMIN_ESTIMATION_LABEL,\n",
    "    MINMAX_ESTIMATION_LABEL,\n",
    "    ACCURACY_LABEL,\n",
    ")\n",
    "from game_theory.utils.matrix_games.analytical import AnalyticalSolver\n",
    "from game_theory.utils.matrix_games.game_matrix import GameMatrix\n",
    "from game_theory.utils.matrix_games.mixed_strategies import (\n",
    "    check_resulted_game_price,\n",
    "    get_resulted_mixed_strategies,\n",
    ")\n",
    "\n",
    "logging.basicConfig(level=logging.INFO, format='%(message)s')"
   ]
  },
  {
   "cell_type": "code",
   "execution_count": 877,
   "id": "83b1461621cdb7c1",
   "metadata": {
    "collapsed": false,
    "ExecuteTime": {
     "end_time": "2024-03-03T17:17:08.119499Z",
     "start_time": "2024-03-03T17:17:07.773727Z"
    }
   },
   "outputs": [
    {
     "data": {
      "text/plain": "+-----------------------------------------------+\n|          Таблица стратегий (игрока А)         |\n+----------------+----+----+----+---------------+\n|   Стратегии    | b1 | b2 | b3 | MIN выигрыш A |\n+----------------+----+----+----+---------------+\n|       a1       | 1  | 11 | 11 |       1       |\n|       a2       | 7  | 5  | 8  |       5       |\n|       a3       | 16 | 6  | -2 |       -2      |\n| MAX проигрыш B | 16 | 11 | 11 |               |\n+----------------+----+----+----+---------------+"
     },
     "execution_count": 877,
     "metadata": {},
     "output_type": "execute_result"
    }
   ],
   "source": [
    "# Входная матрица прямоугольной игры с нулевой суммой.\n",
    "original_game_matrix = GameMatrix(\n",
    "    matrix=np.array(\n",
    "        [\n",
    "            [1, 11, 11],\n",
    "            [7, 5, 8],\n",
    "            [16, 6, -2],\n",
    "        ],\n",
    "        dtype=int,\n",
    "    )\n",
    ")\n",
    "original_game_matrix"
   ]
  },
  {
   "cell_type": "code",
   "execution_count": 878,
   "id": "bafa37d5fb491966",
   "metadata": {
    "collapsed": false,
    "ExecuteTime": {
     "end_time": "2024-03-03T17:17:08.119773Z",
     "start_time": "2024-03-03T17:17:07.781546Z"
    }
   },
   "outputs": [
    {
     "name": "stdout",
     "output_type": "stream",
     "text": [
      "Нижняя цена игры:  5\n",
      "Верхняя цена игры: 11\n"
     ]
    }
   ],
   "source": [
    "print(f\"Нижняя цена игры:  {original_game_matrix.lowest_game_price[1]}\\n\"\n",
    "      f\"Верхняя цена игры: {original_game_matrix.highest_game_price[1]}\")"
   ]
  },
  {
   "cell_type": "code",
   "execution_count": 879,
   "id": "b6dbabe0dc43fd0",
   "metadata": {
    "collapsed": false,
    "ExecuteTime": {
     "end_time": "2024-03-03T17:17:08.122983Z",
     "start_time": "2024-03-03T17:17:07.786953Z"
    }
   },
   "outputs": [
    {
     "name": "stderr",
     "output_type": "stream",
     "text": [
      "Прибавили ко всем элементам исходной матрицы 2\n"
     ]
    },
    {
     "data": {
      "text/plain": "+-----------------------------------------------+\n|          Таблица стратегий (игрока А)         |\n+----------------+----+----+----+---------------+\n|   Стратегии    | b1 | b2 | b3 | MIN выигрыш A |\n+----------------+----+----+----+---------------+\n|       a1       | 3  | 13 | 13 |       3       |\n|       a2       | 9  | 7  | 10 |       7       |\n|       a3       | 18 | 8  | 0  |       0       |\n| MAX проигрыш B | 18 | 13 | 13 |               |\n+----------------+----+----+----+---------------+"
     },
     "execution_count": 879,
     "metadata": {},
     "output_type": "execute_result"
    }
   ],
   "source": [
    "game_matrix: GameMatrix = deepcopy(original_game_matrix)\n",
    "normalizer: int = game_matrix.normalize_matrix()\n",
    "game_matrix"
   ]
  },
  {
   "cell_type": "code",
   "execution_count": 880,
   "id": "fb44f94933916363",
   "metadata": {
    "collapsed": false,
    "ExecuteTime": {
     "end_time": "2024-03-03T17:17:08.123679Z",
     "start_time": "2024-03-03T17:17:07.799686Z"
    }
   },
   "outputs": [
    {
     "name": "stdout",
     "output_type": "stream",
     "text": [
      "Нижняя цена игры:  7\n",
      "Верхняя цена игры: 13\n"
     ]
    }
   ],
   "source": [
    "print(f\"Нижняя цена игры:  {game_matrix.lowest_game_price[1]}\\n\"\n",
    "      f\"Верхняя цена игры: {game_matrix.highest_game_price[1]}\")"
   ]
  },
  {
   "cell_type": "code",
   "execution_count": 881,
   "id": "4c1acf0c8a697d8e",
   "metadata": {
    "collapsed": false,
    "ExecuteTime": {
     "end_time": "2024-03-03T17:17:08.124009Z",
     "start_time": "2024-03-03T17:17:07.806700Z"
    }
   },
   "outputs": [
    {
     "data": {
      "text/plain": "+-----------------------------------------------+\n|          Таблица стратегий (игрока А)         |\n+----------------+----+----+----+---------------+\n|   Стратегии    | b1 | b2 | b3 | MIN выигрыш A |\n+----------------+----+----+----+---------------+\n|       a1       | 3  | 13 | 13 |       3       |\n|       a2       | 9  | 7  | 10 |       7       |\n|       a3       | 18 | 8  | 0  |       0       |\n| MAX проигрыш B | 18 | 13 | 13 |               |\n+----------------+----+----+----+---------------+"
     },
     "execution_count": 881,
     "metadata": {},
     "output_type": "execute_result"
    }
   ],
   "source": [
    "reduced_game: GameMatrix = game_matrix.reduce_dimension(method='dominant_absorption')\n",
    "reduced_game"
   ]
  },
  {
   "cell_type": "code",
   "execution_count": 882,
   "id": "c9a05c5bb72846d8",
   "metadata": {
    "collapsed": false,
    "ExecuteTime": {
     "end_time": "2024-03-03T17:17:08.124114Z",
     "start_time": "2024-03-03T17:17:07.811808Z"
    }
   },
   "outputs": [
    {
     "name": "stdout",
     "output_type": "stream",
     "text": [
      "Нижняя цена игры:  7\n",
      "Верхняя цена игры: 13\n"
     ]
    }
   ],
   "source": [
    "print(f\"Нижняя цена игры:  {reduced_game.lowest_game_price[1]}\\n\"\n",
    "      f\"Верхняя цена игры: {reduced_game.highest_game_price[1]}\")"
   ]
  },
  {
   "cell_type": "markdown",
   "id": "2c0dfd79d995c8df",
   "metadata": {
    "collapsed": false
   },
   "source": [
    "### 1. Аналитический (матричный) метод"
   ]
  },
  {
   "cell_type": "markdown",
   "id": "17c4ea16894590a1",
   "metadata": {
    "collapsed": false
   },
   "source": [
    "#### 1.1. Обратная матрица для игрока A\n",
    "\n",
    "Для игрока $A$ ($h$ - цена игры; $y_1, ..., y_m$ - смешанные стратегии игрока $A$):\n",
    "\n",
    "![analytical_A](./img/analytical_A.png)"
   ]
  },
  {
   "cell_type": "code",
   "execution_count": 883,
   "id": "b173bb2636890852",
   "metadata": {
    "collapsed": false,
    "ExecuteTime": {
     "end_time": "2024-03-03T17:17:08.124173Z",
     "start_time": "2024-03-03T17:17:07.817258Z"
    }
   },
   "outputs": [],
   "source": [
    "analytical_solver = AnalyticalSolver(reduced_game)\n",
    "(\n",
    "    first_mixed_strategy,\n",
    "    second_mixed_strategy,\n",
    "    third_mixed_strategy,\n",
    "    game_price_value,\n",
    ") = analytical_solver.player_a_solve()"
   ]
  },
  {
   "cell_type": "code",
   "execution_count": 884,
   "id": "fcff25e8d290b76e",
   "metadata": {
    "collapsed": false,
    "ExecuteTime": {
     "end_time": "2024-03-03T17:17:08.124330Z",
     "start_time": "2024-03-03T17:17:07.823045Z"
    }
   },
   "outputs": [
    {
     "name": "stderr",
     "output_type": "stream",
     "text": [
      "Цена игры: 7 <= 8.962 <= 13\n"
     ]
    },
    {
     "name": "stdout",
     "output_type": "stream",
     "text": [
      "+------------------------------+\n",
      "| Смешанные стратегии игрока A |\n",
      "+---------+---------+----------+\n",
      "|    a1   |    a2   |    a3    |\n",
      "+---------+---------+----------+\n",
      "|  0.295  |  0.513  |  0.192   |\n",
      "+---------+---------+----------+\n"
     ]
    }
   ],
   "source": [
    "# Смешанные стратегии игрока A и цена игры.\n",
    "assert check_resulted_game_price(\n",
    "    game_matrix=reduced_game,\n",
    "    game_price_value=game_price_value,\n",
    ")\n",
    "\n",
    "mixed_strategies = get_resulted_mixed_strategies(\n",
    "    player_labels=game_matrix.player_a_strategy_labels,\n",
    "    labels_to_probability=dict(zip(\n",
    "        reduced_game.player_a_strategy_labels,\n",
    "        (first_mixed_strategy, second_mixed_strategy, third_mixed_strategy),\n",
    "    )),\n",
    "    player_name=\"A\",\n",
    ")\n",
    "print(mixed_strategies)"
   ]
  },
  {
   "cell_type": "code",
   "execution_count": 885,
   "id": "b55bcc697be8b69b",
   "metadata": {
    "collapsed": false,
    "ExecuteTime": {
     "end_time": "2024-03-03T17:17:08.125280Z",
     "start_time": "2024-03-03T17:17:07.835108Z"
    }
   },
   "outputs": [
    {
     "data": {
      "text/plain": "1.0"
     },
     "execution_count": 885,
     "metadata": {},
     "output_type": "execute_result"
    }
   ],
   "source": [
    "sum((first_mixed_strategy, second_mixed_strategy, third_mixed_strategy,))"
   ]
  },
  {
   "cell_type": "markdown",
   "id": "d10ae8247fa47fa8",
   "metadata": {
    "collapsed": false
   },
   "source": [
    "#### 2.2.1. Прямая матрица для игрока B\n",
    "Для игрока $B$ ($g$ - цена игры; $x_1, ..., y_n$ - смешанные стратегии игрока $B$):\n",
    "\n",
    "![analytical_B](./img/analytical_B.png)"
   ]
  },
  {
   "cell_type": "code",
   "execution_count": 886,
   "id": "dd43b57d2e89163",
   "metadata": {
    "collapsed": false,
    "ExecuteTime": {
     "end_time": "2024-03-03T17:17:08.125398Z",
     "start_time": "2024-03-03T17:17:07.842550Z"
    }
   },
   "outputs": [],
   "source": [
    "analytical_solver = AnalyticalSolver(reduced_game)\n",
    "(\n",
    "    first_mixed_strategy,\n",
    "    second_mixed_strategy,\n",
    "    third_mixed_strategy,\n",
    "    game_price_value,\n",
    ") = analytical_solver.player_b_solve()"
   ]
  },
  {
   "cell_type": "code",
   "execution_count": 887,
   "id": "1660520b2a078185",
   "metadata": {
    "collapsed": false,
    "ExecuteTime": {
     "end_time": "2024-03-03T17:17:08.125573Z",
     "start_time": "2024-03-03T17:17:07.847398Z"
    }
   },
   "outputs": [
    {
     "name": "stderr",
     "output_type": "stream",
     "text": [
      "Цена игры: 7 <= 8.962 <= 13\n"
     ]
    },
    {
     "name": "stdout",
     "output_type": "stream",
     "text": [
      "+------------------------------+\n",
      "| Смешанные стратегии игрока B |\n",
      "+---------+---------+----------+\n",
      "|    b1   |    b2   |    b3    |\n",
      "+---------+---------+----------+\n",
      "|  0.404  |  0.212  |  0.385   |\n",
      "+---------+---------+----------+\n"
     ]
    }
   ],
   "source": [
    "# Смешанные стратегии игрока B и цена игры.\n",
    "assert check_resulted_game_price(\n",
    "    game_matrix=reduced_game,\n",
    "    game_price_value=game_price_value,\n",
    ")\n",
    "\n",
    "mixed_strategies = get_resulted_mixed_strategies(\n",
    "    player_labels=game_matrix.player_b_strategy_labels,\n",
    "    labels_to_probability=dict(zip(\n",
    "        reduced_game.player_b_strategy_labels,\n",
    "        (first_mixed_strategy, second_mixed_strategy, third_mixed_strategy),\n",
    "    )),\n",
    "    player_name=\"B\",\n",
    ")\n",
    "print(mixed_strategies)"
   ]
  },
  {
   "cell_type": "code",
   "execution_count": 888,
   "id": "ab131a7b645dfae8",
   "metadata": {
    "collapsed": false,
    "ExecuteTime": {
     "end_time": "2024-03-03T17:17:08.125687Z",
     "start_time": "2024-03-03T17:17:07.857711Z"
    }
   },
   "outputs": [
    {
     "data": {
      "text/plain": "1.0"
     },
     "execution_count": 888,
     "metadata": {},
     "output_type": "execute_result"
    }
   ],
   "source": [
    "sum((first_mixed_strategy, second_mixed_strategy, third_mixed_strategy,))"
   ]
  },
  {
   "cell_type": "markdown",
   "id": "6634695c34ad1780",
   "metadata": {
    "collapsed": false
   },
   "source": [
    "### Возврат к цене игры для исходной матрицы"
   ]
  },
  {
   "cell_type": "code",
   "execution_count": 889,
   "id": "9243452773744f02",
   "metadata": {
    "collapsed": false,
    "ExecuteTime": {
     "end_time": "2024-03-03T17:17:08.125792Z",
     "start_time": "2024-03-03T17:17:07.868442Z"
    }
   },
   "outputs": [
    {
     "name": "stderr",
     "output_type": "stream",
     "text": [
      "Цена игры: 5 <= 6.962 <= 11\n"
     ]
    }
   ],
   "source": [
    "assert check_resulted_game_price(\n",
    "    game_matrix=original_game_matrix,\n",
    "    # Уменьшаем ЦИ на слагаемое, используемое при нормализации матрицы.\n",
    "    game_price_value=game_price_value - normalizer,\n",
    ")"
   ]
  },
  {
   "cell_type": "markdown",
   "id": "7ccbfae6f96ea080",
   "metadata": {
    "collapsed": false
   },
   "source": [
    "### 2. Численный метод Брауна-Робинсон\n",
    "\n",
    "Уровень погрешности: $\\varepsilon \\le 0,1$"
   ]
  },
  {
   "cell_type": "code",
   "execution_count": 890,
   "id": "9097104197c49e1b",
   "metadata": {
    "collapsed": false,
    "ExecuteTime": {
     "end_time": "2024-03-03T17:17:08.125975Z",
     "start_time": "2024-03-03T17:17:07.873901Z"
    }
   },
   "outputs": [
    {
     "data": {
      "text/plain": "+-----------------------------------------------+\n|          Таблица стратегий (игрока А)         |\n+----------------+----+----+----+---------------+\n|   Стратегии    | b1 | b2 | b3 | MIN выигрыш A |\n+----------------+----+----+----+---------------+\n|       a1       | 3  | 13 | 13 |       3       |\n|       a2       | 9  | 7  | 10 |       7       |\n|       a3       | 18 | 8  | 0  |       0       |\n| MAX проигрыш B | 18 | 13 | 13 |               |\n+----------------+----+----+----+---------------+"
     },
     "execution_count": 890,
     "metadata": {},
     "output_type": "execute_result"
    }
   ],
   "source": [
    "reduced_game"
   ]
  },
  {
   "cell_type": "code",
   "execution_count": 891,
   "id": "f4073ad0e8eaad35",
   "metadata": {
    "collapsed": false,
    "ExecuteTime": {
     "end_time": "2024-03-03T17:17:08.500793Z",
     "start_time": "2024-03-03T17:17:07.877241Z"
    }
   },
   "outputs": [
    {
     "data": {
      "text/plain": "       k   A   B    a1    a2    a3    b1    b2    b3     ВЦИ    НЦИ       ε\n0      1  a3  b1     3     9    18    18     8     0  18.000  0.000  18.000\n1      2  a3  b3    16    19    18    36    16     0   9.500  0.000   9.500\n2      3  a2  b3    29    29    18    45    23    10   9.667  3.333   6.167\n3      4  a2  b3    42    39    18    54    30    20  10.500  5.000   4.500\n4      5  a1  b3    55    49    18    57    43    33  11.000  6.600   2.900\n..   ...  ..  ..   ...   ...   ...   ...   ...   ...     ...    ...     ...\n125  126  a3  b3  1108  1126  1170  1170  1146  1077   9.286  8.548   0.171\n126  127  a3  b3  1121  1136  1170  1188  1154  1077   9.213  8.480   0.171\n127  128  a3  b3  1134  1146  1170  1206  1162  1077   9.141  8.414   0.171\n128  129  a3  b3  1147  1156  1170  1224  1170  1077   9.070  8.349   0.169\n129  130  a3  b3  1160  1166  1170  1242  1178  1077   9.000  8.285   0.099\n\n[130 rows x 12 columns]",
      "text/html": "<div>\n<style scoped>\n    .dataframe tbody tr th:only-of-type {\n        vertical-align: middle;\n    }\n\n    .dataframe tbody tr th {\n        vertical-align: top;\n    }\n\n    .dataframe thead th {\n        text-align: right;\n    }\n</style>\n<table border=\"1\" class=\"dataframe\">\n  <thead>\n    <tr style=\"text-align: right;\">\n      <th></th>\n      <th>k</th>\n      <th>A</th>\n      <th>B</th>\n      <th>a1</th>\n      <th>a2</th>\n      <th>a3</th>\n      <th>b1</th>\n      <th>b2</th>\n      <th>b3</th>\n      <th>ВЦИ</th>\n      <th>НЦИ</th>\n      <th>ε</th>\n    </tr>\n  </thead>\n  <tbody>\n    <tr>\n      <th>0</th>\n      <td>1</td>\n      <td>a3</td>\n      <td>b1</td>\n      <td>3</td>\n      <td>9</td>\n      <td>18</td>\n      <td>18</td>\n      <td>8</td>\n      <td>0</td>\n      <td>18.000</td>\n      <td>0.000</td>\n      <td>18.000</td>\n    </tr>\n    <tr>\n      <th>1</th>\n      <td>2</td>\n      <td>a3</td>\n      <td>b3</td>\n      <td>16</td>\n      <td>19</td>\n      <td>18</td>\n      <td>36</td>\n      <td>16</td>\n      <td>0</td>\n      <td>9.500</td>\n      <td>0.000</td>\n      <td>9.500</td>\n    </tr>\n    <tr>\n      <th>2</th>\n      <td>3</td>\n      <td>a2</td>\n      <td>b3</td>\n      <td>29</td>\n      <td>29</td>\n      <td>18</td>\n      <td>45</td>\n      <td>23</td>\n      <td>10</td>\n      <td>9.667</td>\n      <td>3.333</td>\n      <td>6.167</td>\n    </tr>\n    <tr>\n      <th>3</th>\n      <td>4</td>\n      <td>a2</td>\n      <td>b3</td>\n      <td>42</td>\n      <td>39</td>\n      <td>18</td>\n      <td>54</td>\n      <td>30</td>\n      <td>20</td>\n      <td>10.500</td>\n      <td>5.000</td>\n      <td>4.500</td>\n    </tr>\n    <tr>\n      <th>4</th>\n      <td>5</td>\n      <td>a1</td>\n      <td>b3</td>\n      <td>55</td>\n      <td>49</td>\n      <td>18</td>\n      <td>57</td>\n      <td>43</td>\n      <td>33</td>\n      <td>11.000</td>\n      <td>6.600</td>\n      <td>2.900</td>\n    </tr>\n    <tr>\n      <th>...</th>\n      <td>...</td>\n      <td>...</td>\n      <td>...</td>\n      <td>...</td>\n      <td>...</td>\n      <td>...</td>\n      <td>...</td>\n      <td>...</td>\n      <td>...</td>\n      <td>...</td>\n      <td>...</td>\n      <td>...</td>\n    </tr>\n    <tr>\n      <th>125</th>\n      <td>126</td>\n      <td>a3</td>\n      <td>b3</td>\n      <td>1108</td>\n      <td>1126</td>\n      <td>1170</td>\n      <td>1170</td>\n      <td>1146</td>\n      <td>1077</td>\n      <td>9.286</td>\n      <td>8.548</td>\n      <td>0.171</td>\n    </tr>\n    <tr>\n      <th>126</th>\n      <td>127</td>\n      <td>a3</td>\n      <td>b3</td>\n      <td>1121</td>\n      <td>1136</td>\n      <td>1170</td>\n      <td>1188</td>\n      <td>1154</td>\n      <td>1077</td>\n      <td>9.213</td>\n      <td>8.480</td>\n      <td>0.171</td>\n    </tr>\n    <tr>\n      <th>127</th>\n      <td>128</td>\n      <td>a3</td>\n      <td>b3</td>\n      <td>1134</td>\n      <td>1146</td>\n      <td>1170</td>\n      <td>1206</td>\n      <td>1162</td>\n      <td>1077</td>\n      <td>9.141</td>\n      <td>8.414</td>\n      <td>0.171</td>\n    </tr>\n    <tr>\n      <th>128</th>\n      <td>129</td>\n      <td>a3</td>\n      <td>b3</td>\n      <td>1147</td>\n      <td>1156</td>\n      <td>1170</td>\n      <td>1224</td>\n      <td>1170</td>\n      <td>1077</td>\n      <td>9.070</td>\n      <td>8.349</td>\n      <td>0.169</td>\n    </tr>\n    <tr>\n      <th>129</th>\n      <td>130</td>\n      <td>a3</td>\n      <td>b3</td>\n      <td>1160</td>\n      <td>1166</td>\n      <td>1170</td>\n      <td>1242</td>\n      <td>1178</td>\n      <td>1077</td>\n      <td>9.000</td>\n      <td>8.285</td>\n      <td>0.099</td>\n    </tr>\n  </tbody>\n</table>\n<p>130 rows × 12 columns</p>\n</div>"
     },
     "execution_count": 891,
     "metadata": {},
     "output_type": "execute_result"
    }
   ],
   "source": [
    "brown_robinson = BrownRobinson(game_matrix=reduced_game, accuracy=0.1)\n",
    "df = brown_robinson.solve(out=Path(\"iterations_table.csv\"))\n",
    "df"
   ]
  },
  {
   "cell_type": "code",
   "execution_count": 892,
   "id": "a33cdbecb29ba27d",
   "metadata": {
    "collapsed": false,
    "ExecuteTime": {
     "end_time": "2024-03-03T17:17:08.500937Z",
     "start_time": "2024-03-03T17:17:08.060320Z"
    }
   },
   "outputs": [],
   "source": [
    "# Приближенная цена игры игроков.\n",
    "game_price_value = brown_robinson.game_price_estimation\n",
    "# Приближенные смешанные стратегии игроков.\n",
    "(\n",
    "    (strategy_a_1, strategy_a_2, strategy_a_3),\n",
    "    (strategy_b_1, strategy_b_2, strategy_b_3),\n",
    ") = brown_robinson.mixed_strategies"
   ]
  },
  {
   "cell_type": "code",
   "execution_count": 893,
   "id": "a2ab77587064c655",
   "metadata": {
    "collapsed": false,
    "ExecuteTime": {
     "end_time": "2024-03-03T17:17:08.501083Z",
     "start_time": "2024-03-03T17:17:08.067989Z"
    }
   },
   "outputs": [
    {
     "name": "stderr",
     "output_type": "stream",
     "text": [
      "Цена игры: 7 <= 8.285 <= 13\n"
     ]
    }
   ],
   "source": [
    "# Смешанные стратегии игрока A и цена игры.\n",
    "assert check_resulted_game_price(\n",
    "    game_matrix=reduced_game,\n",
    "    game_price_value=game_price_value,\n",
    ")"
   ]
  },
  {
   "cell_type": "code",
   "execution_count": 894,
   "id": "a5dd5d051e669aea",
   "metadata": {
    "collapsed": false,
    "ExecuteTime": {
     "end_time": "2024-03-03T17:17:08.501190Z",
     "start_time": "2024-03-03T17:17:08.073350Z"
    }
   },
   "outputs": [
    {
     "name": "stdout",
     "output_type": "stream",
     "text": [
      "+------------------------------+\n",
      "| Смешанные стратегии игрока A |\n",
      "+---------+---------+----------+\n",
      "|    a1   |    a2   |    a3    |\n",
      "+---------+---------+----------+\n",
      "|  0.300  |  0.438  |  0.262   |\n",
      "+---------+---------+----------+\n"
     ]
    }
   ],
   "source": [
    "mixed_strategies = get_resulted_mixed_strategies(\n",
    "    player_labels=game_matrix.player_a_strategy_labels,\n",
    "    labels_to_probability=dict(zip(\n",
    "        reduced_game.player_a_strategy_labels,\n",
    "        (strategy_a_1, strategy_a_2, strategy_a_3),\n",
    "    )),\n",
    "    player_name=\"A\",\n",
    ")\n",
    "print(mixed_strategies)"
   ]
  },
  {
   "cell_type": "code",
   "execution_count": 895,
   "id": "562918e8925e1ae7",
   "metadata": {
    "collapsed": false,
    "ExecuteTime": {
     "end_time": "2024-03-03T17:17:08.501308Z",
     "start_time": "2024-03-03T17:17:08.078160Z"
    }
   },
   "outputs": [
    {
     "data": {
      "text/plain": "1.0"
     },
     "execution_count": 895,
     "metadata": {},
     "output_type": "execute_result"
    }
   ],
   "source": [
    "sum((strategy_a_1, strategy_a_2, strategy_a_3))"
   ]
  },
  {
   "cell_type": "code",
   "execution_count": 896,
   "id": "32d4e9caaff5ec60",
   "metadata": {
    "collapsed": false,
    "ExecuteTime": {
     "end_time": "2024-03-03T17:17:08.501410Z",
     "start_time": "2024-03-03T17:17:08.084203Z"
    }
   },
   "outputs": [
    {
     "name": "stdout",
     "output_type": "stream",
     "text": [
      "+------------------------------+\n",
      "| Смешанные стратегии игрока B |\n",
      "+---------+---------+----------+\n",
      "|    b1   |    b2   |    b3    |\n",
      "+---------+---------+----------+\n",
      "|  0.408  |  0.208  |  0.385   |\n",
      "+---------+---------+----------+\n"
     ]
    }
   ],
   "source": [
    "mixed_strategies = get_resulted_mixed_strategies(\n",
    "    player_labels=game_matrix.player_b_strategy_labels,\n",
    "    labels_to_probability=dict(zip(\n",
    "        reduced_game.player_b_strategy_labels,\n",
    "        (strategy_b_1, strategy_b_2, strategy_b_3),\n",
    "    )),\n",
    "    player_name=\"B\",\n",
    ")\n",
    "print(mixed_strategies)"
   ]
  },
  {
   "cell_type": "code",
   "execution_count": 897,
   "id": "9e73bb6b49302738",
   "metadata": {
    "collapsed": false,
    "ExecuteTime": {
     "end_time": "2024-03-03T17:17:08.501514Z",
     "start_time": "2024-03-03T17:17:08.088445Z"
    }
   },
   "outputs": [
    {
     "data": {
      "text/plain": "1.0"
     },
     "execution_count": 897,
     "metadata": {},
     "output_type": "execute_result"
    }
   ],
   "source": [
    "sum((strategy_b_1, strategy_b_2, strategy_b_3))"
   ]
  },
  {
   "cell_type": "code",
   "execution_count": 898,
   "id": "ef1b59794d9dc707",
   "metadata": {
    "collapsed": false,
    "ExecuteTime": {
     "end_time": "2024-03-03T17:17:08.619019Z",
     "start_time": "2024-03-03T17:17:08.098660Z"
    }
   },
   "outputs": [
    {
     "data": {
      "text/plain": "<Axes: title={'center': 'График сходимости верхней и нижней цен игры в алгоритме Брауна-Робинсон'}, xlabel='Итерации алгоритма', ylabel='Значения цен игры'>"
     },
     "execution_count": 898,
     "metadata": {},
     "output_type": "execute_result"
    },
    {
     "data": {
      "text/plain": "<Figure size 640x480 with 1 Axes>",
      "image/png": "[encoded data removed]"
     },
     "metadata": {},
     "output_type": "display_data"
    }
   ],
   "source": [
    "df[[MAXMIN_ESTIMATION_LABEL, MINMAX_ESTIMATION_LABEL]].plot(\n",
    "    title=\"График сходимости верхней и нижней цен игры в алгоритме Брауна-Робинсон\",\n",
    "    xlabel=\"Итерации алгоритма\",\n",
    "    ylabel=\"Значения цен игры\",\n",
    "    xlim=(1, None),\n",
    "    grid=True,\n",
    ")"
   ]
  },
  {
   "cell_type": "code",
   "execution_count": 899,
   "id": "d41bdb2e2e549aca",
   "metadata": {
    "collapsed": false,
    "ExecuteTime": {
     "end_time": "2024-03-03T17:17:08.889799Z",
     "start_time": "2024-03-03T17:17:08.434865Z"
    }
   },
   "outputs": [
    {
     "data": {
      "text/plain": "<Figure size 640x480 with 1 Axes>",
      "image/png": "[encoded data removed]"
     },
     "metadata": {},
     "output_type": "display_data"
    }
   ],
   "source": [
    "plt = df[ACCURACY_LABEL].plot(\n",
    "    title=\"График оценки погрешности алгоритма Брауна-Робинсон\",\n",
    "    xlabel=\"Итерации алгоритма\",\n",
    "    ylabel=\"Значение погрешности ε\",\n",
    "    xlim=(1, None),\n",
    "    ylim=(0, None),\n",
    "    grid=True,\n",
    ")"
   ]
  },
  {
   "cell_type": "markdown",
   "source": [
    "### Возврат к цене игры для исходной матрицы"
   ],
   "metadata": {
    "collapsed": false
   },
   "id": "74402f0ce393243d"
  },
  {
   "cell_type": "code",
   "execution_count": 900,
   "outputs": [
    {
     "name": "stderr",
     "output_type": "stream",
     "text": [
      "Цена игры: 5 <= 6.285 <= 11\n"
     ]
    }
   ],
   "source": [
    "assert check_resulted_game_price(\n",
    "    game_matrix=original_game_matrix,\n",
    "    # Уменьшаем ЦИ на слагаемое, используемое при нормализации матрицы.\n",
    "    game_price_value=game_price_value - normalizer,\n",
    ")"
   ],
   "metadata": {
    "collapsed": false,
    "ExecuteTime": {
     "end_time": "2024-03-03T17:17:08.889955Z",
     "start_time": "2024-03-03T17:17:08.640937Z"
    }
   },
   "id": "3175ba0fd7190f7d"
  }
 ],
 "metadata": {
  "kernelspec": {
   "display_name": "Python 3 (ipykernel)",
   "language": "python",
   "name": "python3"
  },
  "language_info": {
   "codemirror_mode": {
    "name": "ipython",
    "version": 3
   },
   "file_extension": ".py",
   "mimetype": "text/x-python",
   "name": "python",
   "nbconvert_exporter": "python",
   "pygments_lexer": "ipython3",
   "version": "3.11.4"
  }
 },
 "nbformat": 4,
 "nbformat_minor": 5
}
