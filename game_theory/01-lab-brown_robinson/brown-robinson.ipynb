{
 "cells": [
  {
   "cell_type": "markdown",
   "id": "2c5744ffc8d91f7c",
   "metadata": {
    "collapsed": false
   },
   "source": [
    "# Лабораторная работа №1. \n",
    "**\"Аналитический и численный (Брауна-Робинсон) методы решения антагонистической игры в смешанных стратегиях**\n",
    "\n",
    "**Выполнил: Александров А. Н., ИУ8-104**\n",
    "\n",
    "**Вариант: 1**\n",
    "\n",
    "## Задание\n",
    "Найти цену игры и оптимальные стратегии обоих игроков методами обратной матрицы (аналитически) и Брауна-Робинсон. Сравнить полученные результаты.\n",
    "\n",
    "Игра Г размера (3 x 3) задана матрицей:\n",
    " \n",
    "| 1  | 11 | 11 |\n",
    "|:--:|:--:|:--:|\n",
    "| 7  | 5  | 8  | \n",
    "| 16 | 6  | 2  | \n"
   ]
  },
  {
   "cell_type": "code",
   "execution_count": 827,
   "id": "fa6b44581dfdc337",
   "metadata": {
    "collapsed": false,
    "ExecuteTime": {
     "end_time": "2024-03-04T17:35:47.289365Z",
     "start_time": "2024-03-04T17:35:47.256743Z"
    }
   },
   "outputs": [],
   "source": [
    "import logging\n",
    "from pathlib import Path\n",
    "from copy import deepcopy\n",
    "\n",
    "import numpy as np\n",
    "\n",
    "from game_theory.utils.matrix_games.brown_robinson.brown_robinson import BrownRobinson\n",
    "from game_theory.utils.matrix_games.brown_robinson.labels import (\n",
    "    MAXMIN_ESTIMATION_LABEL,\n",
    "    MINMAX_ESTIMATION_LABEL,\n",
    "    ACCURACY_LABEL,\n",
    ")\n",
    "from game_theory.utils.matrix_games.analytical import AnalyticalSolver\n",
    "from game_theory.utils.matrix_games.game_matrix import GameMatrix\n",
    "from game_theory.utils.matrix_games.mixed_strategies import (\n",
    "    check_resulted_game_price,\n",
    "    get_resulted_mixed_strategies,\n",
    ")\n",
    "\n",
    "logging.basicConfig(level=logging.INFO, format='%(message)s')"
   ]
  },
  {
   "cell_type": "code",
   "execution_count": 828,
   "id": "83b1461621cdb7c1",
   "metadata": {
    "collapsed": false,
    "ExecuteTime": {
     "end_time": "2024-03-04T17:35:47.318616Z",
     "start_time": "2024-03-04T17:35:47.262780Z"
    }
   },
   "outputs": [
    {
     "data": {
      "text/plain": "+-----------------------------------------------+\n|          Таблица стратегий (игрока А)         |\n+----------------+----+----+----+---------------+\n|   Стратегии    | b1 | b2 | b3 | MIN выигрыш A |\n+----------------+----+----+----+---------------+\n|       a1       | 1  | 11 | 11 |       1       |\n|       a2       | 7  | 5  | 8  |       5       |\n|       a3       | 16 | 6  | 2  |       2       |\n| MAX проигрыш B | 16 | 11 | 11 |               |\n+----------------+----+----+----+---------------+"
     },
     "execution_count": 828,
     "metadata": {},
     "output_type": "execute_result"
    }
   ],
   "source": [
    "# Входная матрица прямоугольной игры с нулевой суммой.\n",
    "game_matrix = GameMatrix(\n",
    "    matrix=np.array(\n",
    "        [\n",
    "            [1, 11, 11],\n",
    "            [7,  5,  8],\n",
    "            [16, 6,  2],\n",
    "        ],\n",
    "        dtype=int,\n",
    "    )\n",
    ")\n",
    "game_matrix"
   ]
  },
  {
   "cell_type": "code",
   "execution_count": 829,
   "id": "bafa37d5fb491966",
   "metadata": {
    "collapsed": false,
    "ExecuteTime": {
     "end_time": "2024-03-04T17:35:47.318898Z",
     "start_time": "2024-03-04T17:35:47.265503Z"
    }
   },
   "outputs": [
    {
     "name": "stdout",
     "output_type": "stream",
     "text": [
      "Нижняя цена игры:  5\n",
      "Верхняя цена игры: 11\n"
     ]
    }
   ],
   "source": [
    "print(f\"Нижняя цена игры:  {game_matrix.lowest_game_price[1]}\\n\"\n",
    "      f\"Верхняя цена игры: {game_matrix.highest_game_price[1]}\")"
   ]
  },
  {
   "cell_type": "code",
   "execution_count": 830,
   "outputs": [
    {
     "data": {
      "text/plain": "+-----------------------------------------------+\n|          Таблица стратегий (игрока А)         |\n+----------------+----+----+----+---------------+\n|   Стратегии    | b1 | b2 | b3 | MIN выигрыш A |\n+----------------+----+----+----+---------------+\n|       a1       | 1  | 11 | 11 |       1       |\n|       a2       | 7  | 5  | 8  |       5       |\n|       a3       | 16 | 6  | 2  |       2       |\n| MAX проигрыш B | 16 | 11 | 11 |               |\n+----------------+----+----+----+---------------+"
     },
     "execution_count": 830,
     "metadata": {},
     "output_type": "execute_result"
    }
   ],
   "source": [
    "reduced_game: GameMatrix = game_matrix.reduce_dimension(method='dominant_absorption')\n",
    "reduced_game"
   ],
   "metadata": {
    "collapsed": false,
    "ExecuteTime": {
     "end_time": "2024-03-04T17:35:47.319317Z",
     "start_time": "2024-03-04T17:35:47.269055Z"
    }
   },
   "id": "4c1acf0c8a697d8e"
  },
  {
   "cell_type": "markdown",
   "id": "2c0dfd79d995c8df",
   "metadata": {
    "collapsed": false
   },
   "source": [
    "### 1. Аналитический (матричный) метод"
   ]
  },
  {
   "cell_type": "markdown",
   "id": "17c4ea16894590a1",
   "metadata": {
    "collapsed": false
   },
   "source": [
    "#### 1.1. Обратная матрица для игрока A\n",
    "\n",
    "Для игрока $A$ ($h$ - цена игры; $y_1, ..., y_m$ - смешанные стратегии игрока $A$):\n",
    "\n",
    "![analytical_A](./img/analytical_A.png)"
   ]
  },
  {
   "cell_type": "code",
   "execution_count": 831,
   "id": "b173bb2636890852",
   "metadata": {
    "collapsed": false,
    "ExecuteTime": {
     "end_time": "2024-03-04T17:35:47.346685Z",
     "start_time": "2024-03-04T17:35:47.273176Z"
    }
   },
   "outputs": [],
   "source": [
    "analytical_solver = AnalyticalSolver(reduced_game)\n",
    "(\n",
    "    first_mixed_strategy,\n",
    "    second_mixed_strategy,\n",
    "    third_mixed_strategy,\n",
    "    game_price_value,\n",
    ") = analytical_solver.player_a_solve()"
   ]
  },
  {
   "cell_type": "code",
   "execution_count": 832,
   "id": "fcff25e8d290b76e",
   "metadata": {
    "jupyter": {
     "source_hidden": true
    },
    "ExecuteTime": {
     "end_time": "2024-03-04T17:35:47.346893Z",
     "start_time": "2024-03-04T17:35:47.276020Z"
    }
   },
   "outputs": [
    {
     "name": "stderr",
     "output_type": "stream",
     "text": [
      "Цена игры: 5 <= 7.389 <= 11\n"
     ]
    },
    {
     "name": "stdout",
     "output_type": "stream",
     "text": [
      "+------------------------------+\n",
      "| Смешанные стратегии игрока A |\n",
      "+---------+---------+----------+\n",
      "|    a1   |    a2   |    a3    |\n",
      "+---------+---------+----------+\n",
      "|  0.352  |  0.370  |  0.278   |\n",
      "+---------+---------+----------+\n"
     ]
    }
   ],
   "source": [
    "# Смешанные стратегии игрока A и цена игры.\n",
    "assert check_resulted_game_price(\n",
    "    game_matrix=reduced_game,\n",
    "    game_price_value=game_price_value,\n",
    ")\n",
    "\n",
    "mixed_strategies = get_resulted_mixed_strategies(\n",
    "    player_labels=game_matrix.player_a_strategy_labels,\n",
    "    labels_to_probability=dict(zip(\n",
    "        reduced_game.player_a_strategy_labels,\n",
    "        (first_mixed_strategy, second_mixed_strategy, third_mixed_strategy),\n",
    "    )),\n",
    "    player_name=\"A\",\n",
    ")\n",
    "print(mixed_strategies)"
   ]
  },
  {
   "cell_type": "code",
   "execution_count": 833,
   "id": "b55bcc697be8b69b",
   "metadata": {
    "collapsed": false,
    "ExecuteTime": {
     "end_time": "2024-03-04T17:35:47.347017Z",
     "start_time": "2024-03-04T17:35:47.278824Z"
    }
   },
   "outputs": [
    {
     "data": {
      "text/plain": "1.0"
     },
     "execution_count": 833,
     "metadata": {},
     "output_type": "execute_result"
    }
   ],
   "source": [
    "sum((first_mixed_strategy, second_mixed_strategy, third_mixed_strategy,))"
   ]
  },
  {
   "cell_type": "markdown",
   "id": "d10ae8247fa47fa8",
   "metadata": {
    "collapsed": false
   },
   "source": [
    "#### 2.2.1. Прямая матрица для игрока B\n",
    "Для игрока $B$ ($g$ - цена игры; $x_1, ..., y_n$ - смешанные стратегии игрока $B$):\n",
    "\n",
    "![analytical_B](./img/analytical_B.png)"
   ]
  },
  {
   "cell_type": "code",
   "execution_count": 834,
   "id": "dd43b57d2e89163",
   "metadata": {
    "collapsed": false,
    "ExecuteTime": {
     "end_time": "2024-03-04T17:35:47.347056Z",
     "start_time": "2024-03-04T17:35:47.282658Z"
    }
   },
   "outputs": [],
   "source": [
    "analytical_solver = AnalyticalSolver(reduced_game)\n",
    "(\n",
    "    first_mixed_strategy,\n",
    "    second_mixed_strategy,\n",
    "    third_mixed_strategy,\n",
    "    game_price_value,\n",
    ") = analytical_solver.player_b_solve()"
   ]
  },
  {
   "cell_type": "code",
   "execution_count": 835,
   "id": "1660520b2a078185",
   "metadata": {
    "jupyter": {
     "source_hidden": true
    },
    "ExecuteTime": {
     "end_time": "2024-03-04T17:35:47.347427Z",
     "start_time": "2024-03-04T17:35:47.285497Z"
    }
   },
   "outputs": [
    {
     "name": "stderr",
     "output_type": "stream",
     "text": [
      "Цена игры: 5 <= 7.389 <= 11\n"
     ]
    },
    {
     "name": "stdout",
     "output_type": "stream",
     "text": [
      "+------------------------------+\n",
      "| Смешанные стратегии игрока B |\n",
      "+---------+---------+----------+\n",
      "|    b1   |    b2   |    b3    |\n",
      "+---------+---------+----------+\n",
      "|  0.361  |  0.083  |  0.556   |\n",
      "+---------+---------+----------+\n"
     ]
    }
   ],
   "source": [
    "# Смешанные стратегии игрока B и цена игры.\n",
    "assert check_resulted_game_price(\n",
    "    game_matrix=reduced_game,\n",
    "    game_price_value=game_price_value,\n",
    ")\n",
    "\n",
    "mixed_strategies = get_resulted_mixed_strategies(\n",
    "    player_labels=game_matrix.player_b_strategy_labels,\n",
    "    labels_to_probability=dict(zip(\n",
    "        reduced_game.player_b_strategy_labels,\n",
    "        (first_mixed_strategy, second_mixed_strategy, third_mixed_strategy),\n",
    "    )),\n",
    "    player_name=\"B\",\n",
    ")\n",
    "print(mixed_strategies)"
   ]
  },
  {
   "cell_type": "code",
   "execution_count": 836,
   "id": "ab131a7b645dfae8",
   "metadata": {
    "collapsed": false,
    "ExecuteTime": {
     "end_time": "2024-03-04T17:35:47.347889Z",
     "start_time": "2024-03-04T17:35:47.288897Z"
    }
   },
   "outputs": [
    {
     "data": {
      "text/plain": "1.0"
     },
     "execution_count": 836,
     "metadata": {},
     "output_type": "execute_result"
    }
   ],
   "source": [
    "sum((first_mixed_strategy, second_mixed_strategy, third_mixed_strategy,))"
   ]
  },
  {
   "cell_type": "markdown",
   "id": "7ccbfae6f96ea080",
   "metadata": {
    "collapsed": false
   },
   "source": [
    "### 2. Численный метод Брауна-Робинсон\n",
    "\n",
    "Уровень погрешности: $\\varepsilon \\le 0,1$"
   ]
  },
  {
   "cell_type": "code",
   "execution_count": 837,
   "id": "9097104197c49e1b",
   "metadata": {
    "collapsed": false,
    "ExecuteTime": {
     "end_time": "2024-03-04T17:35:47.347983Z",
     "start_time": "2024-03-04T17:35:47.291994Z"
    }
   },
   "outputs": [
    {
     "data": {
      "text/plain": "+-----------------------------------------------+\n|          Таблица стратегий (игрока А)         |\n+----------------+----+----+----+---------------+\n|   Стратегии    | b1 | b2 | b3 | MIN выигрыш A |\n+----------------+----+----+----+---------------+\n|       a1       | 1  | 11 | 11 |       1       |\n|       a2       | 7  | 5  | 8  |       5       |\n|       a3       | 16 | 6  | 2  |       2       |\n| MAX проигрыш B | 16 | 11 | 11 |               |\n+----------------+----+----+----+---------------+"
     },
     "execution_count": 837,
     "metadata": {},
     "output_type": "execute_result"
    }
   ],
   "source": [
    "reduced_game"
   ]
  },
  {
   "cell_type": "code",
   "execution_count": 838,
   "id": "f4073ad0e8eaad35",
   "metadata": {
    "collapsed": false,
    "ExecuteTime": {
     "end_time": "2024-03-04T17:35:47.467172Z",
     "start_time": "2024-03-04T17:35:47.295251Z"
    }
   },
   "outputs": [
    {
     "data": {
      "text/plain": "       k   A   B    a1    a2    a3    b1    b2    b3        ВЦИ       НЦИ  \\\n0      1  a1  b3    11     8     2     1    11    11  11.000000  1.000000   \n1      2  a1  b1    12    15    18     2    22    22   9.000000  1.000000   \n2      3  a3  b1    13    22    34    18    28    24  11.333333  6.000000   \n3      4  a3  b1    14    29    50    34    34    26  12.500000  6.500000   \n4      5  a3  b3    25    37    52    50    40    28  10.400000  5.600000   \n..   ...  ..  ..   ...   ...   ...   ...   ...   ...        ...       ...   \n234  235  a1  b1  1775  1733  1692  1645  1775  1790   7.553191  7.000000   \n235  236  a1  b1  1776  1740  1708  1646  1786  1801   7.525424  6.974576   \n236  237  a1  b1  1777  1747  1724  1647  1797  1812   7.497890  6.949367   \n237  238  a1  b1  1778  1754  1740  1648  1808  1823   7.470588  6.924370   \n238  239  a1  b1  1779  1761  1756  1649  1819  1834   7.443515  6.899582   \n\n             ε  \n0    10.000000  \n1     8.000000  \n2     3.000000  \n3     2.500000  \n4     2.500000  \n..         ...  \n234   0.190691  \n235   0.162924  \n236   0.135390  \n237   0.108088  \n238   0.081015  \n\n[239 rows x 12 columns]",
      "text/html": "<div>\n<style scoped>\n    .dataframe tbody tr th:only-of-type {\n        vertical-align: middle;\n    }\n\n    .dataframe tbody tr th {\n        vertical-align: top;\n    }\n\n    .dataframe thead th {\n        text-align: right;\n    }\n</style>\n<table border=\"1\" class=\"dataframe\">\n  <thead>\n    <tr style=\"text-align: right;\">\n      <th></th>\n      <th>k</th>\n      <th>A</th>\n      <th>B</th>\n      <th>a1</th>\n      <th>a2</th>\n      <th>a3</th>\n      <th>b1</th>\n      <th>b2</th>\n      <th>b3</th>\n      <th>ВЦИ</th>\n      <th>НЦИ</th>\n      <th>ε</th>\n    </tr>\n  </thead>\n  <tbody>\n    <tr>\n      <th>0</th>\n      <td>1</td>\n      <td>a1</td>\n      <td>b3</td>\n      <td>11</td>\n      <td>8</td>\n      <td>2</td>\n      <td>1</td>\n      <td>11</td>\n      <td>11</td>\n      <td>11.000000</td>\n      <td>1.000000</td>\n      <td>10.000000</td>\n    </tr>\n    <tr>\n      <th>1</th>\n      <td>2</td>\n      <td>a1</td>\n      <td>b1</td>\n      <td>12</td>\n      <td>15</td>\n      <td>18</td>\n      <td>2</td>\n      <td>22</td>\n      <td>22</td>\n      <td>9.000000</td>\n      <td>1.000000</td>\n      <td>8.000000</td>\n    </tr>\n    <tr>\n      <th>2</th>\n      <td>3</td>\n      <td>a3</td>\n      <td>b1</td>\n      <td>13</td>\n      <td>22</td>\n      <td>34</td>\n      <td>18</td>\n      <td>28</td>\n      <td>24</td>\n      <td>11.333333</td>\n      <td>6.000000</td>\n      <td>3.000000</td>\n    </tr>\n    <tr>\n      <th>3</th>\n      <td>4</td>\n      <td>a3</td>\n      <td>b1</td>\n      <td>14</td>\n      <td>29</td>\n      <td>50</td>\n      <td>34</td>\n      <td>34</td>\n      <td>26</td>\n      <td>12.500000</td>\n      <td>6.500000</td>\n      <td>2.500000</td>\n    </tr>\n    <tr>\n      <th>4</th>\n      <td>5</td>\n      <td>a3</td>\n      <td>b3</td>\n      <td>25</td>\n      <td>37</td>\n      <td>52</td>\n      <td>50</td>\n      <td>40</td>\n      <td>28</td>\n      <td>10.400000</td>\n      <td>5.600000</td>\n      <td>2.500000</td>\n    </tr>\n    <tr>\n      <th>...</th>\n      <td>...</td>\n      <td>...</td>\n      <td>...</td>\n      <td>...</td>\n      <td>...</td>\n      <td>...</td>\n      <td>...</td>\n      <td>...</td>\n      <td>...</td>\n      <td>...</td>\n      <td>...</td>\n      <td>...</td>\n    </tr>\n    <tr>\n      <th>234</th>\n      <td>235</td>\n      <td>a1</td>\n      <td>b1</td>\n      <td>1775</td>\n      <td>1733</td>\n      <td>1692</td>\n      <td>1645</td>\n      <td>1775</td>\n      <td>1790</td>\n      <td>7.553191</td>\n      <td>7.000000</td>\n      <td>0.190691</td>\n    </tr>\n    <tr>\n      <th>235</th>\n      <td>236</td>\n      <td>a1</td>\n      <td>b1</td>\n      <td>1776</td>\n      <td>1740</td>\n      <td>1708</td>\n      <td>1646</td>\n      <td>1786</td>\n      <td>1801</td>\n      <td>7.525424</td>\n      <td>6.974576</td>\n      <td>0.162924</td>\n    </tr>\n    <tr>\n      <th>236</th>\n      <td>237</td>\n      <td>a1</td>\n      <td>b1</td>\n      <td>1777</td>\n      <td>1747</td>\n      <td>1724</td>\n      <td>1647</td>\n      <td>1797</td>\n      <td>1812</td>\n      <td>7.497890</td>\n      <td>6.949367</td>\n      <td>0.135390</td>\n    </tr>\n    <tr>\n      <th>237</th>\n      <td>238</td>\n      <td>a1</td>\n      <td>b1</td>\n      <td>1778</td>\n      <td>1754</td>\n      <td>1740</td>\n      <td>1648</td>\n      <td>1808</td>\n      <td>1823</td>\n      <td>7.470588</td>\n      <td>6.924370</td>\n      <td>0.108088</td>\n    </tr>\n    <tr>\n      <th>238</th>\n      <td>239</td>\n      <td>a1</td>\n      <td>b1</td>\n      <td>1779</td>\n      <td>1761</td>\n      <td>1756</td>\n      <td>1649</td>\n      <td>1819</td>\n      <td>1834</td>\n      <td>7.443515</td>\n      <td>6.899582</td>\n      <td>0.081015</td>\n    </tr>\n  </tbody>\n</table>\n<p>239 rows × 12 columns</p>\n</div>"
     },
     "execution_count": 838,
     "metadata": {},
     "output_type": "execute_result"
    }
   ],
   "source": [
    "brown_robinson = BrownRobinson(game_matrix=reduced_game, accuracy=0.1)\n",
    "df = brown_robinson.solve(out=Path(\"iterations_table.csv\"), mode=\"previous\")\n",
    "df"
   ]
  },
  {
   "cell_type": "code",
   "execution_count": 839,
   "id": "a33cdbecb29ba27d",
   "metadata": {
    "ExecuteTime": {
     "end_time": "2024-03-04T17:35:47.467412Z",
     "start_time": "2024-03-04T17:35:47.445989Z"
    }
   },
   "outputs": [],
   "source": [
    "# Приближенная цена игры игроков.\n",
    "game_price_value = brown_robinson.game_price_estimation\n",
    "# Приближенные смешанные стратегии игроков.\n",
    "(\n",
    "    (strategy_a_1, strategy_a_2, strategy_a_3),\n",
    "    (strategy_b_1, strategy_b_2, strategy_b_3),\n",
    ") = brown_robinson.mixed_strategies"
   ]
  },
  {
   "cell_type": "code",
   "execution_count": 840,
   "id": "a2ab77587064c655",
   "metadata": {
    "jupyter": {
     "source_hidden": true
    },
    "ExecuteTime": {
     "end_time": "2024-03-04T17:35:47.467637Z",
     "start_time": "2024-03-04T17:35:47.450518Z"
    }
   },
   "outputs": [
    {
     "name": "stderr",
     "output_type": "stream",
     "text": [
      "Цена игры: 5 <= 7.403 <= 11\n"
     ]
    }
   ],
   "source": [
    "# Смешанные стратегии игрока A и цена игры.\n",
    "assert check_resulted_game_price(\n",
    "    game_matrix=reduced_game,\n",
    "    game_price_value=game_price_value,\n",
    ")"
   ]
  },
  {
   "cell_type": "code",
   "execution_count": 841,
   "id": "a5dd5d051e669aea",
   "metadata": {
    "jupyter": {
     "source_hidden": true
    },
    "ExecuteTime": {
     "end_time": "2024-03-04T17:35:47.467736Z",
     "start_time": "2024-03-04T17:35:47.452812Z"
    }
   },
   "outputs": [
    {
     "name": "stdout",
     "output_type": "stream",
     "text": [
      "+------------------------------+\n",
      "| Смешанные стратегии игрока A |\n",
      "+---------+---------+----------+\n",
      "|    a1   |    a2   |    a3    |\n",
      "+---------+---------+----------+\n",
      "|  0.393  |  0.356  |  0.251   |\n",
      "+---------+---------+----------+\n"
     ]
    }
   ],
   "source": [
    "mixed_strategies = get_resulted_mixed_strategies(\n",
    "    player_labels=game_matrix.player_a_strategy_labels,\n",
    "    labels_to_probability=dict(zip(\n",
    "        reduced_game.player_a_strategy_labels,\n",
    "        (strategy_a_1, strategy_a_2, strategy_a_3),\n",
    "    )),\n",
    "    player_name=\"A\",\n",
    ")\n",
    "print(mixed_strategies)"
   ]
  },
  {
   "cell_type": "code",
   "execution_count": 842,
   "id": "562918e8925e1ae7",
   "metadata": {
    "collapsed": false,
    "ExecuteTime": {
     "end_time": "2024-03-04T17:35:47.467891Z",
     "start_time": "2024-03-04T17:35:47.455608Z"
    }
   },
   "outputs": [
    {
     "data": {
      "text/plain": "1.0"
     },
     "execution_count": 842,
     "metadata": {},
     "output_type": "execute_result"
    }
   ],
   "source": [
    "sum((strategy_a_1, strategy_a_2, strategy_a_3))"
   ]
  },
  {
   "cell_type": "code",
   "execution_count": 843,
   "id": "32d4e9caaff5ec60",
   "metadata": {
    "jupyter": {
     "source_hidden": true
    },
    "ExecuteTime": {
     "end_time": "2024-03-04T17:35:47.468493Z",
     "start_time": "2024-03-04T17:35:47.460187Z"
    }
   },
   "outputs": [
    {
     "name": "stdout",
     "output_type": "stream",
     "text": [
      "+------------------------------+\n",
      "| Смешанные стратегии игрока B |\n",
      "+---------+---------+----------+\n",
      "|    b1   |    b2   |    b3    |\n",
      "+---------+---------+----------+\n",
      "|  0.356  |  0.092  |  0.552   |\n",
      "+---------+---------+----------+\n"
     ]
    }
   ],
   "source": [
    "mixed_strategies = get_resulted_mixed_strategies(\n",
    "    player_labels=game_matrix.player_b_strategy_labels,\n",
    "    labels_to_probability=dict(zip(\n",
    "        reduced_game.player_b_strategy_labels,\n",
    "        (strategy_b_1, strategy_b_2, strategy_b_3),\n",
    "    )),\n",
    "    player_name=\"B\",\n",
    ")\n",
    "print(mixed_strategies)"
   ]
  },
  {
   "cell_type": "code",
   "execution_count": 844,
   "id": "9e73bb6b49302738",
   "metadata": {
    "collapsed": false,
    "ExecuteTime": {
     "end_time": "2024-03-04T17:35:47.492487Z",
     "start_time": "2024-03-04T17:35:47.467710Z"
    }
   },
   "outputs": [
    {
     "data": {
      "text/plain": "1.0"
     },
     "execution_count": 844,
     "metadata": {},
     "output_type": "execute_result"
    }
   ],
   "source": [
    "sum((strategy_b_1, strategy_b_2, strategy_b_3))"
   ]
  },
  {
   "cell_type": "code",
   "execution_count": 845,
   "id": "ef1b59794d9dc707",
   "metadata": {
    "collapsed": false,
    "ExecuteTime": {
     "end_time": "2024-03-04T17:35:47.629583Z",
     "start_time": "2024-03-04T17:35:47.472066Z"
    }
   },
   "outputs": [
    {
     "data": {
      "text/plain": "<Axes: title={'center': 'График сходимости верхней и нижней цен игры в алгоритме Брауна-Робинсон'}, xlabel='Итерации алгоритма', ylabel='Значения цен игры'>"
     },
     "execution_count": 845,
     "metadata": {},
     "output_type": "execute_result"
    },
    {
     "data": {
      "text/plain": "<Figure size 640x480 with 1 Axes>",
      "image/png": "[encoded data removed]"
     },
     "metadata": {},
     "output_type": "display_data"
    }
   ],
   "source": [
    "df[[MAXMIN_ESTIMATION_LABEL, MINMAX_ESTIMATION_LABEL]].plot(\n",
    "    title=\"График сходимости верхней и нижней цен игры в алгоритме Брауна-Робинсон\",\n",
    "    xlabel=\"Итерации алгоритма\",\n",
    "    ylabel=\"Значения цен игры\",\n",
    "    xlim=(1, None),\n",
    "    grid=True,\n",
    ")"
   ]
  },
  {
   "cell_type": "code",
   "execution_count": 846,
   "id": "d41bdb2e2e549aca",
   "metadata": {
    "collapsed": false,
    "ExecuteTime": {
     "end_time": "2024-03-04T17:35:47.776217Z",
     "start_time": "2024-03-04T17:35:47.621515Z"
    }
   },
   "outputs": [
    {
     "data": {
      "text/plain": "<Figure size 640x480 with 1 Axes>",
      "image/png": "[encoded data removed]"
     },
     "metadata": {},
     "output_type": "display_data"
    }
   ],
   "source": [
    "plt = df[ACCURACY_LABEL].plot(\n",
    "    title=\"График оценки погрешности алгоритма Брауна-Робинсон\",\n",
    "    xlabel=\"Итерации алгоритма\",\n",
    "    ylabel=\"Значение погрешности ε\",\n",
    "    xlim=(1, None),\n",
    "    ylim=(0, None),\n",
    "    grid=True,\n",
    ")"
   ]
  }
 ],
 "metadata": {
  "kernelspec": {
   "display_name": "Python 3 (ipykernel)",
   "language": "python",
   "name": "python3"
  },
  "language_info": {
   "codemirror_mode": {
    "name": "ipython",
    "version": 3
   },
   "file_extension": ".py",
   "mimetype": "text/x-python",
   "name": "python",
   "nbconvert_exporter": "python",
   "pygments_lexer": "ipython3",
   "version": "3.11.4"
  }
 },
 "nbformat": 4,
 "nbformat_minor": 5
}
