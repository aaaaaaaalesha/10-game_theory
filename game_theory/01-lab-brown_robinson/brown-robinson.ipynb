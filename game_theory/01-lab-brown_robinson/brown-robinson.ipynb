{
 "cells": [
  {
   "cell_type": "markdown",
   "source": [
    "# Лабораторная работа №1. \n",
    "**\"Аналитический и численный (Брауна-Робинсон) методы решения антагонистической игры в смешанных стратегиях**\n",
    "\n",
    "**Выполнил: Александров А. Н., ИУ8-104**\n",
    "\n",
    "**Вариант: 1**\n",
    "\n",
    "## Задание\n",
    "Найти цену игры и оптимальные стратегии обоих игроков методами обратной матрицы (аналитически) и Брауна-Робинсон. Сравните полученные результаты.\n",
    "\n",
    "Игра Г размера (3 x 3) задана матрицей:\n",
    " \n",
    "| 1  | 11 | 11 |\n",
    "|:--:|:--:|:--:|\n",
    "| 7  | 5  | 8  | \n",
    "| 16 | 6  | 2  | \n"
   ],
   "metadata": {
    "collapsed": false
   },
   "id": "2c5744ffc8d91f7c"
  },
  {
   "cell_type": "code",
   "execution_count": 1,
   "outputs": [],
   "source": [
    "import logging\n",
    "from copy import deepcopy\n",
    "\n",
    "import numpy as np\n",
    "\n",
    "from game_theory.utils.matrix_games.analytical import AnalyticalSolver\n",
    "from game_theory.utils.matrix_games.game_matrix import GameMatrix\n",
    "from game_theory.utils.matrix_games.mixed_strategies import (\n",
    "    check_resulted_game_price,\n",
    "    get_resulted_mixed_strategies,\n",
    ")\n",
    "\n",
    "logging.basicConfig(level=logging.INFO, format='%(message)s')"
   ],
   "metadata": {
    "collapsed": false,
    "ExecuteTime": {
     "end_time": "2024-03-01T19:11:40.922453Z",
     "start_time": "2024-03-01T19:11:40.613110Z"
    }
   },
   "id": "fa6b44581dfdc337"
  },
  {
   "cell_type": "code",
   "execution_count": 2,
   "outputs": [
    {
     "data": {
      "text/plain": "+-----------------------------------------------+\n|          Таблица стратегий (игрока А)         |\n+----------------+----+----+----+---------------+\n|   Стратегии    | b1 | b2 | b3 | MIN выигрыш A |\n+----------------+----+----+----+---------------+\n|       a1       | 1  | 11 | 11 |       1       |\n|       a2       | 7  | 5  | 8  |       5       |\n|       a3       | 16 | 6  | -2 |       -2      |\n| MAX проигрыш B | 16 | 11 | 11 |               |\n+----------------+----+----+----+---------------+"
     },
     "execution_count": 2,
     "metadata": {},
     "output_type": "execute_result"
    }
   ],
   "source": [
    "# Входная матрица прямоугольной игры с нулевой суммой.\n",
    "original_game_matrix = GameMatrix(\n",
    "    matrix=np.array(\n",
    "        [\n",
    "            [1, 11, 11],\n",
    "            [7, 5, 8],\n",
    "            [16, 6, -2],\n",
    "        ],\n",
    "        dtype=int,\n",
    "    )\n",
    ")\n",
    "original_game_matrix"
   ],
   "metadata": {
    "collapsed": false,
    "ExecuteTime": {
     "end_time": "2024-03-01T19:11:40.923546Z",
     "start_time": "2024-03-01T19:11:40.906181Z"
    }
   },
   "id": "83b1461621cdb7c1"
  },
  {
   "cell_type": "code",
   "execution_count": 3,
   "outputs": [
    {
     "name": "stdout",
     "output_type": "stream",
     "text": [
      "Нижняя цена игры:  5\n",
      "Верхняя цена игры: 11\n"
     ]
    }
   ],
   "source": [
    "print(f\"Нижняя цена игры:  {original_game_matrix.lowest_game_price[1]}\\n\"\n",
    "      f\"Верхняя цена игры: {original_game_matrix.highest_game_price[1]}\")"
   ],
   "metadata": {
    "collapsed": false,
    "ExecuteTime": {
     "end_time": "2024-03-01T19:11:40.923820Z",
     "start_time": "2024-03-01T19:11:40.910689Z"
    }
   },
   "id": "bafa37d5fb491966"
  },
  {
   "cell_type": "code",
   "execution_count": 4,
   "outputs": [
    {
     "name": "stderr",
     "output_type": "stream",
     "text": [
      "Прибавили ко всем элементам исходной матрицы 2\n"
     ]
    },
    {
     "data": {
      "text/plain": "+-----------------------------------------------+\n|          Таблица стратегий (игрока А)         |\n+----------------+----+----+----+---------------+\n|   Стратегии    | b1 | b2 | b3 | MIN выигрыш A |\n+----------------+----+----+----+---------------+\n|       a1       | 3  | 13 | 13 |       3       |\n|       a2       | 9  | 7  | 10 |       7       |\n|       a3       | 18 | 8  | 0  |       0       |\n| MAX проигрыш B | 18 | 13 | 13 |               |\n+----------------+----+----+----+---------------+"
     },
     "execution_count": 4,
     "metadata": {},
     "output_type": "execute_result"
    }
   ],
   "source": [
    "game_matrix: GameMatrix = deepcopy(original_game_matrix)\n",
    "normalizer: int = game_matrix.normalize_matrix()\n",
    "game_matrix"
   ],
   "metadata": {
    "collapsed": false,
    "ExecuteTime": {
     "end_time": "2024-03-01T19:11:40.924082Z",
     "start_time": "2024-03-01T19:11:40.914709Z"
    }
   },
   "id": "b6dbabe0dc43fd0"
  },
  {
   "cell_type": "code",
   "execution_count": 5,
   "outputs": [
    {
     "name": "stdout",
     "output_type": "stream",
     "text": [
      "Нижняя цена игры:  7\n",
      "Верхняя цена игры: 13\n"
     ]
    }
   ],
   "source": [
    "print(f\"Нижняя цена игры:  {game_matrix.lowest_game_price[1]}\\n\"\n",
    "      f\"Верхняя цена игры: {game_matrix.highest_game_price[1]}\")"
   ],
   "metadata": {
    "collapsed": false,
    "ExecuteTime": {
     "end_time": "2024-03-01T19:11:40.944754Z",
     "start_time": "2024-03-01T19:11:40.923439Z"
    }
   },
   "id": "fb44f94933916363"
  },
  {
   "cell_type": "code",
   "execution_count": 6,
   "outputs": [
    {
     "data": {
      "text/plain": "+-----------------------------------------------+\n|          Таблица стратегий (игрока А)         |\n+----------------+----+----+----+---------------+\n|   Стратегии    | b1 | b2 | b3 | MIN выигрыш A |\n+----------------+----+----+----+---------------+\n|       a1       | 3  | 13 | 13 |       3       |\n|       a2       | 9  | 7  | 10 |       7       |\n|       a3       | 18 | 8  | 0  |       0       |\n| MAX проигрыш B | 18 | 13 | 13 |               |\n+----------------+----+----+----+---------------+"
     },
     "execution_count": 6,
     "metadata": {},
     "output_type": "execute_result"
    }
   ],
   "source": [
    "reduced_game: GameMatrix = game_matrix.reduce_dimension(method='dominant_absorption')\n",
    "reduced_game"
   ],
   "metadata": {
    "collapsed": false,
    "ExecuteTime": {
     "end_time": "2024-03-01T19:11:40.945371Z",
     "start_time": "2024-03-01T19:11:40.928539Z"
    }
   },
   "id": "4c1acf0c8a697d8e"
  },
  {
   "cell_type": "code",
   "execution_count": 7,
   "outputs": [
    {
     "name": "stdout",
     "output_type": "stream",
     "text": [
      "Нижняя цена игры:  7\n",
      "Верхняя цена игры: 13\n"
     ]
    }
   ],
   "source": [
    "print(f\"Нижняя цена игры:  {reduced_game.lowest_game_price[1]}\\n\"\n",
    "      f\"Верхняя цена игры: {reduced_game.highest_game_price[1]}\")"
   ],
   "metadata": {
    "collapsed": false,
    "ExecuteTime": {
     "end_time": "2024-03-01T19:11:40.945537Z",
     "start_time": "2024-03-01T19:11:40.931595Z"
    }
   },
   "id": "c9a05c5bb72846d8"
  },
  {
   "cell_type": "markdown",
   "source": [
    "### 1. Аналитический (матричный) метод"
   ],
   "metadata": {
    "collapsed": false
   },
   "id": "2c0dfd79d995c8df"
  },
  {
   "cell_type": "markdown",
   "source": [
    "#### 1.1. Обратная матрица для игрока A\n",
    "\n",
    "Для игрока $A$ ($h$ - цена игры; $y_1, ..., y_m$ - смешанные стратегии игрока $A$):\n",
    "![analytical_A](./img/analytical_A.png)"
   ],
   "metadata": {
    "collapsed": false
   },
   "id": "17c4ea16894590a1"
  },
  {
   "cell_type": "code",
   "execution_count": 8,
   "outputs": [],
   "source": [
    "analytical_solver = AnalyticalSolver(reduced_game)\n",
    "(\n",
    "    first_mixed_strategy,\n",
    "    second_mixed_strategy,\n",
    "    third_mixed_strategy,\n",
    "    game_price_value,\n",
    ") = analytical_solver.player_a_solve()"
   ],
   "metadata": {
    "collapsed": false,
    "ExecuteTime": {
     "end_time": "2024-03-01T19:11:40.945605Z",
     "start_time": "2024-03-01T19:11:40.934529Z"
    }
   },
   "id": "b173bb2636890852"
  },
  {
   "cell_type": "code",
   "execution_count": 9,
   "outputs": [
    {
     "name": "stderr",
     "output_type": "stream",
     "text": [
      "Цена игры: 7 <= 8.962 <= 13\n"
     ]
    },
    {
     "name": "stdout",
     "output_type": "stream",
     "text": [
      "+------------------------------+\n",
      "| Смешанные стратегии игрока A |\n",
      "+---------+---------+----------+\n",
      "|    a1   |    a2   |    a3    |\n",
      "+---------+---------+----------+\n",
      "|  0.295  |  0.513  |  0.192   |\n",
      "+---------+---------+----------+\n"
     ]
    }
   ],
   "source": [
    "# Смешанные стратегии игрока A и цена игры.\n",
    "assert check_resulted_game_price(\n",
    "    game_matrix=reduced_game,\n",
    "    game_price_value=game_price_value,\n",
    ")\n",
    "\n",
    "mixed_strategies = get_resulted_mixed_strategies(\n",
    "    player_labels=game_matrix.player_a_strategy_labels,\n",
    "    labels_to_probability=dict(zip(\n",
    "        reduced_game.player_a_strategy_labels,\n",
    "        (first_mixed_strategy, second_mixed_strategy, third_mixed_strategy),\n",
    "    )),\n",
    "    player_name=\"A\",\n",
    ")\n",
    "print(mixed_strategies)"
   ],
   "metadata": {
    "collapsed": false,
    "ExecuteTime": {
     "end_time": "2024-03-01T19:11:40.945828Z",
     "start_time": "2024-03-01T19:11:40.937505Z"
    }
   },
   "id": "fcff25e8d290b76e"
  },
  {
   "cell_type": "code",
   "execution_count": 10,
   "outputs": [
    {
     "data": {
      "text/plain": "1.0"
     },
     "execution_count": 10,
     "metadata": {},
     "output_type": "execute_result"
    }
   ],
   "source": [
    "sum((first_mixed_strategy, second_mixed_strategy, third_mixed_strategy,))"
   ],
   "metadata": {
    "collapsed": false,
    "ExecuteTime": {
     "end_time": "2024-03-01T19:11:41.012184Z",
     "start_time": "2024-03-01T19:11:40.942659Z"
    }
   },
   "id": "b55bcc697be8b69b"
  },
  {
   "cell_type": "markdown",
   "source": [
    "#### 2.2.1. Прямая матрица для игрока B\n",
    "Для игрока $B$ ($g$ - цена игры; $x_1, ..., y_n$ - смешанные стратегии игрока $B$):\n",
    "![analytical_B](./img/analytical_B.png)"
   ],
   "metadata": {
    "collapsed": false
   },
   "id": "d10ae8247fa47fa8"
  },
  {
   "cell_type": "code",
   "execution_count": 11,
   "outputs": [],
   "source": [
    "analytical_solver = AnalyticalSolver(reduced_game)\n",
    "(\n",
    "    first_mixed_strategy,\n",
    "    second_mixed_strategy,\n",
    "    third_mixed_strategy,\n",
    "    game_price_value,\n",
    ") = analytical_solver.player_b_solve()"
   ],
   "metadata": {
    "collapsed": false,
    "ExecuteTime": {
     "end_time": "2024-03-01T19:11:41.012738Z",
     "start_time": "2024-03-01T19:11:40.949361Z"
    }
   },
   "id": "dd43b57d2e89163"
  },
  {
   "cell_type": "code",
   "execution_count": 12,
   "outputs": [
    {
     "name": "stderr",
     "output_type": "stream",
     "text": [
      "Цена игры: 7 <= 8.962 <= 13\n"
     ]
    },
    {
     "name": "stdout",
     "output_type": "stream",
     "text": [
      "+------------------------------+\n",
      "| Смешанные стратегии игрока B |\n",
      "+---------+---------+----------+\n",
      "|    b1   |    b2   |    b3    |\n",
      "+---------+---------+----------+\n",
      "|  0.404  |  0.212  |  0.385   |\n",
      "+---------+---------+----------+\n"
     ]
    }
   ],
   "source": [
    "# Смешанные стратегии игрока B и цена игры.\n",
    "assert check_resulted_game_price(\n",
    "    game_matrix=reduced_game,\n",
    "    game_price_value=game_price_value,\n",
    ")\n",
    "\n",
    "mixed_strategies = get_resulted_mixed_strategies(\n",
    "    player_labels=game_matrix.player_b_strategy_labels,\n",
    "    labels_to_probability=dict(zip(\n",
    "        reduced_game.player_b_strategy_labels,\n",
    "        (first_mixed_strategy, second_mixed_strategy, third_mixed_strategy),\n",
    "    )),\n",
    "    player_name=\"B\",\n",
    ")\n",
    "print(mixed_strategies)"
   ],
   "metadata": {
    "collapsed": false,
    "ExecuteTime": {
     "end_time": "2024-03-01T19:11:41.025046Z",
     "start_time": "2024-03-01T19:11:40.954971Z"
    }
   },
   "id": "1660520b2a078185"
  },
  {
   "cell_type": "code",
   "execution_count": 13,
   "outputs": [
    {
     "data": {
      "text/plain": "1.0"
     },
     "execution_count": 13,
     "metadata": {},
     "output_type": "execute_result"
    }
   ],
   "source": [
    "sum((first_mixed_strategy, second_mixed_strategy, third_mixed_strategy,))"
   ],
   "metadata": {
    "collapsed": false,
    "ExecuteTime": {
     "end_time": "2024-03-01T19:11:41.025494Z",
     "start_time": "2024-03-01T19:11:40.960494Z"
    }
   },
   "id": "ab131a7b645dfae8"
  },
  {
   "cell_type": "markdown",
   "source": [
    "### Вернёмся к цене игры для исходной матрицы"
   ],
   "metadata": {
    "collapsed": false
   },
   "id": "6634695c34ad1780"
  },
  {
   "cell_type": "code",
   "execution_count": 14,
   "outputs": [
    {
     "name": "stderr",
     "output_type": "stream",
     "text": [
      "Цена игры: 5 <= 6.962 <= 11\n"
     ]
    }
   ],
   "source": [
    "assert check_resulted_game_price(\n",
    "    game_matrix=original_game_matrix,\n",
    "    # Уменьшаем ЦИ на слагаемое, используемое при нормализации матрицы.\n",
    "    game_price_value=game_price_value - normalizer,\n",
    ")"
   ],
   "metadata": {
    "collapsed": false,
    "ExecuteTime": {
     "end_time": "2024-03-01T19:11:41.025786Z",
     "start_time": "2024-03-01T19:11:40.966820Z"
    }
   },
   "id": "9243452773744f02"
  },
  {
   "cell_type": "markdown",
   "source": [
    "### 2. Численный метод Брауна-Робинсон\n",
    "\n",
    "Уровень погрешности: $\\varepsilon \\le 0,1$"
   ],
   "metadata": {
    "collapsed": false
   },
   "id": "7ccbfae6f96ea080"
  },
  {
   "cell_type": "markdown",
   "source": [
    "### Для игрока A"
   ],
   "metadata": {
    "collapsed": false
   },
   "id": "b19bdaff7e862245"
  },
  {
   "cell_type": "code",
   "execution_count": 14,
   "outputs": [],
   "source": [],
   "metadata": {
    "collapsed": false,
    "ExecuteTime": {
     "end_time": "2024-03-01T19:15:34.104973Z",
     "start_time": "2024-03-01T19:15:34.102388Z"
    }
   },
   "id": "f4073ad0e8eaad35"
  },
  {
   "cell_type": "markdown",
   "source": [
    "### Для игрока B"
   ],
   "metadata": {
    "collapsed": false
   },
   "id": "ebf90da2df62b465"
  },
  {
   "cell_type": "code",
   "execution_count": null,
   "outputs": [],
   "source": [],
   "metadata": {
    "collapsed": false
   },
   "id": "712a44451b9e472f"
  }
 ],
 "metadata": {
  "kernelspec": {
   "display_name": "Python 3",
   "language": "python",
   "name": "python3"
  },
  "language_info": {
   "codemirror_mode": {
    "name": "ipython",
    "version": 2
   },
   "file_extension": ".py",
   "mimetype": "text/x-python",
   "name": "python",
   "nbconvert_exporter": "python",
   "pygments_lexer": "ipython2",
   "version": "2.7.6"
  }
 },
 "nbformat": 4,
 "nbformat_minor": 5
}
