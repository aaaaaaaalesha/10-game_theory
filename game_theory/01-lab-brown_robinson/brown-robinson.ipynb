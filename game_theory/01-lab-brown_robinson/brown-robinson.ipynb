{
 "cells": [
  {
   "cell_type": "markdown",
   "source": [
    "# Лабораторная работа №1. \n",
    "**\"Аналитический и численный (Брауна-Робинсон) методы решения антагонистической игры в смешанных стратегиях**\n",
    "\n",
    "**Выполнил: Александров А. Н., ИУ8-104**\n",
    "\n",
    "**Вариант: 1**\n",
    "\n",
    "## Задание\n",
    "Найти цену игры и оптимальные стратегии обоих игроков методами обратной матрицы (аналитически) и Брауна-Робинсон. Сравните полученные результаты.\n",
    "\n",
    "Игра Г размера (3 x 3) задана матрицей:\n",
    " \n",
    "| 1  | 11 | 11 |\n",
    "|:--:|:--:|:--:|\n",
    "| 7  | 5  | 8  | \n",
    "| 16 | 6  | 2  | \n"
   ],
   "metadata": {
    "collapsed": false
   },
   "id": "2c5744ffc8d91f7c"
  },
  {
   "cell_type": "code",
   "execution_count": 1,
   "outputs": [],
   "source": [
    "import logging\n",
    "from copy import deepcopy\n",
    "\n",
    "import numpy as np\n",
    "\n",
    "from game_theory.utils.matrix_games.brown_robinson.brown_robinson import BrownRobinson\n",
    "from game_theory.utils.matrix_games.analytical import AnalyticalSolver\n",
    "from game_theory.utils.matrix_games.game_matrix import GameMatrix\n",
    "from game_theory.utils.matrix_games.mixed_strategies import (\n",
    "    check_resulted_game_price,\n",
    "    get_resulted_mixed_strategies,\n",
    ")\n",
    "\n",
    "logging.basicConfig(level=logging.INFO, format='%(message)s')"
   ],
   "metadata": {
    "collapsed": false,
    "ExecuteTime": {
     "end_time": "2024-03-02T12:41:47.203105Z",
     "start_time": "2024-03-02T12:41:46.608209Z"
    }
   },
   "id": "fa6b44581dfdc337"
  },
  {
   "cell_type": "code",
   "execution_count": 2,
   "outputs": [
    {
     "data": {
      "text/plain": "+-----------------------------------------------+\n|          Таблица стратегий (игрока А)         |\n+----------------+----+----+----+---------------+\n|   Стратегии    | b1 | b2 | b3 | MIN выигрыш A |\n+----------------+----+----+----+---------------+\n|       a1       | 1  | 11 | 11 |       1       |\n|       a2       | 7  | 5  | 8  |       5       |\n|       a3       | 16 | 6  | -2 |       -2      |\n| MAX проигрыш B | 16 | 11 | 11 |               |\n+----------------+----+----+----+---------------+"
     },
     "execution_count": 2,
     "metadata": {},
     "output_type": "execute_result"
    }
   ],
   "source": [
    "# Входная матрица прямоугольной игры с нулевой суммой.\n",
    "original_game_matrix = GameMatrix(\n",
    "    matrix=np.array(\n",
    "        [\n",
    "            [1, 11, 11],\n",
    "            [7, 5, 8],\n",
    "            [16, 6, -2],\n",
    "        ],\n",
    "        dtype=int,\n",
    "    )\n",
    ")\n",
    "original_game_matrix"
   ],
   "metadata": {
    "collapsed": false,
    "ExecuteTime": {
     "end_time": "2024-03-02T12:41:47.206280Z",
     "start_time": "2024-03-02T12:41:47.204364Z"
    }
   },
   "id": "83b1461621cdb7c1"
  },
  {
   "cell_type": "code",
   "execution_count": 3,
   "outputs": [
    {
     "name": "stdout",
     "output_type": "stream",
     "text": [
      "Нижняя цена игры:  5\n",
      "Верхняя цена игры: 11\n"
     ]
    }
   ],
   "source": [
    "print(f\"Нижняя цена игры:  {original_game_matrix.lowest_game_price[1]}\\n\"\n",
    "      f\"Верхняя цена игры: {original_game_matrix.highest_game_price[1]}\")"
   ],
   "metadata": {
    "collapsed": false,
    "ExecuteTime": {
     "end_time": "2024-03-02T12:41:47.208239Z",
     "start_time": "2024-03-02T12:41:47.206699Z"
    }
   },
   "id": "bafa37d5fb491966"
  },
  {
   "cell_type": "code",
   "execution_count": 4,
   "outputs": [
    {
     "name": "stderr",
     "output_type": "stream",
     "text": [
      "Прибавили ко всем элементам исходной матрицы 2\n"
     ]
    },
    {
     "data": {
      "text/plain": "+-----------------------------------------------+\n|          Таблица стратегий (игрока А)         |\n+----------------+----+----+----+---------------+\n|   Стратегии    | b1 | b2 | b3 | MIN выигрыш A |\n+----------------+----+----+----+---------------+\n|       a1       | 3  | 13 | 13 |       3       |\n|       a2       | 9  | 7  | 10 |       7       |\n|       a3       | 18 | 8  | 0  |       0       |\n| MAX проигрыш B | 18 | 13 | 13 |               |\n+----------------+----+----+----+---------------+"
     },
     "execution_count": 4,
     "metadata": {},
     "output_type": "execute_result"
    }
   ],
   "source": [
    "game_matrix: GameMatrix = deepcopy(original_game_matrix)\n",
    "normalizer: int = game_matrix.normalize_matrix()\n",
    "game_matrix"
   ],
   "metadata": {
    "collapsed": false,
    "ExecuteTime": {
     "end_time": "2024-03-02T12:41:47.211905Z",
     "start_time": "2024-03-02T12:41:47.209507Z"
    }
   },
   "id": "b6dbabe0dc43fd0"
  },
  {
   "cell_type": "code",
   "execution_count": 5,
   "outputs": [
    {
     "name": "stdout",
     "output_type": "stream",
     "text": [
      "Нижняя цена игры:  7\n",
      "Верхняя цена игры: 13\n"
     ]
    }
   ],
   "source": [
    "print(f\"Нижняя цена игры:  {game_matrix.lowest_game_price[1]}\\n\"\n",
    "      f\"Верхняя цена игры: {game_matrix.highest_game_price[1]}\")"
   ],
   "metadata": {
    "collapsed": false,
    "ExecuteTime": {
     "end_time": "2024-03-02T12:41:47.214908Z",
     "start_time": "2024-03-02T12:41:47.213490Z"
    }
   },
   "id": "fb44f94933916363"
  },
  {
   "cell_type": "code",
   "execution_count": 6,
   "outputs": [
    {
     "data": {
      "text/plain": "+-----------------------------------------------+\n|          Таблица стратегий (игрока А)         |\n+----------------+----+----+----+---------------+\n|   Стратегии    | b1 | b2 | b3 | MIN выигрыш A |\n+----------------+----+----+----+---------------+\n|       a1       | 3  | 13 | 13 |       3       |\n|       a2       | 9  | 7  | 10 |       7       |\n|       a3       | 18 | 8  | 0  |       0       |\n| MAX проигрыш B | 18 | 13 | 13 |               |\n+----------------+----+----+----+---------------+"
     },
     "execution_count": 6,
     "metadata": {},
     "output_type": "execute_result"
    }
   ],
   "source": [
    "reduced_game: GameMatrix = game_matrix.reduce_dimension(method='dominant_absorption')\n",
    "reduced_game"
   ],
   "metadata": {
    "collapsed": false,
    "ExecuteTime": {
     "end_time": "2024-03-02T12:41:47.218271Z",
     "start_time": "2024-03-02T12:41:47.216851Z"
    }
   },
   "id": "4c1acf0c8a697d8e"
  },
  {
   "cell_type": "code",
   "execution_count": 7,
   "outputs": [
    {
     "name": "stdout",
     "output_type": "stream",
     "text": [
      "Нижняя цена игры:  7\n",
      "Верхняя цена игры: 13\n"
     ]
    }
   ],
   "source": [
    "print(f\"Нижняя цена игры:  {reduced_game.lowest_game_price[1]}\\n\"\n",
    "      f\"Верхняя цена игры: {reduced_game.highest_game_price[1]}\")"
   ],
   "metadata": {
    "collapsed": false,
    "ExecuteTime": {
     "end_time": "2024-03-02T12:41:47.220458Z",
     "start_time": "2024-03-02T12:41:47.218977Z"
    }
   },
   "id": "c9a05c5bb72846d8"
  },
  {
   "cell_type": "markdown",
   "source": [
    "### 1. Аналитический (матричный) метод"
   ],
   "metadata": {
    "collapsed": false
   },
   "id": "2c0dfd79d995c8df"
  },
  {
   "cell_type": "markdown",
   "source": [
    "#### 1.1. Обратная матрица для игрока A\n",
    "\n",
    "Для игрока $A$ ($h$ - цена игры; $y_1, ..., y_m$ - смешанные стратегии игрока $A$):\n",
    "![analytical_A](./img/analytical_A.png)"
   ],
   "metadata": {
    "collapsed": false
   },
   "id": "17c4ea16894590a1"
  },
  {
   "cell_type": "code",
   "execution_count": 8,
   "outputs": [],
   "source": [
    "analytical_solver = AnalyticalSolver(reduced_game)\n",
    "(\n",
    "    first_mixed_strategy,\n",
    "    second_mixed_strategy,\n",
    "    third_mixed_strategy,\n",
    "    game_price_value,\n",
    ") = analytical_solver.player_a_solve()"
   ],
   "metadata": {
    "collapsed": false,
    "ExecuteTime": {
     "end_time": "2024-03-02T12:41:47.222456Z",
     "start_time": "2024-03-02T12:41:47.221242Z"
    }
   },
   "id": "b173bb2636890852"
  },
  {
   "cell_type": "code",
   "execution_count": 9,
   "outputs": [
    {
     "name": "stderr",
     "output_type": "stream",
     "text": [
      "Цена игры: 7 <= 8.962 <= 13\n"
     ]
    },
    {
     "name": "stdout",
     "output_type": "stream",
     "text": [
      "+------------------------------+\n",
      "| Смешанные стратегии игрока A |\n",
      "+---------+---------+----------+\n",
      "|    a1   |    a2   |    a3    |\n",
      "+---------+---------+----------+\n",
      "|  0.295  |  0.513  |  0.192   |\n",
      "+---------+---------+----------+\n"
     ]
    }
   ],
   "source": [
    "# Смешанные стратегии игрока A и цена игры.\n",
    "assert check_resulted_game_price(\n",
    "    game_matrix=reduced_game,\n",
    "    game_price_value=game_price_value,\n",
    ")\n",
    "\n",
    "mixed_strategies = get_resulted_mixed_strategies(\n",
    "    player_labels=game_matrix.player_a_strategy_labels,\n",
    "    labels_to_probability=dict(zip(\n",
    "        reduced_game.player_a_strategy_labels,\n",
    "        (first_mixed_strategy, second_mixed_strategy, third_mixed_strategy),\n",
    "    )),\n",
    "    player_name=\"A\",\n",
    ")\n",
    "print(mixed_strategies)"
   ],
   "metadata": {
    "collapsed": false,
    "ExecuteTime": {
     "end_time": "2024-03-02T12:41:47.267314Z",
     "start_time": "2024-03-02T12:41:47.223478Z"
    }
   },
   "id": "fcff25e8d290b76e"
  },
  {
   "cell_type": "code",
   "execution_count": 10,
   "outputs": [
    {
     "data": {
      "text/plain": "1.0"
     },
     "execution_count": 10,
     "metadata": {},
     "output_type": "execute_result"
    }
   ],
   "source": [
    "sum((first_mixed_strategy, second_mixed_strategy, third_mixed_strategy,))"
   ],
   "metadata": {
    "collapsed": false,
    "ExecuteTime": {
     "end_time": "2024-03-02T12:41:47.267513Z",
     "start_time": "2024-03-02T12:41:47.226077Z"
    }
   },
   "id": "b55bcc697be8b69b"
  },
  {
   "cell_type": "markdown",
   "source": [
    "#### 2.2.1. Прямая матрица для игрока B\n",
    "Для игрока $B$ ($g$ - цена игры; $x_1, ..., y_n$ - смешанные стратегии игрока $B$):\n",
    "![analytical_B](./img/analytical_B.png)"
   ],
   "metadata": {
    "collapsed": false
   },
   "id": "d10ae8247fa47fa8"
  },
  {
   "cell_type": "code",
   "execution_count": 11,
   "outputs": [],
   "source": [
    "analytical_solver = AnalyticalSolver(reduced_game)\n",
    "(\n",
    "    first_mixed_strategy,\n",
    "    second_mixed_strategy,\n",
    "    third_mixed_strategy,\n",
    "    game_price_value,\n",
    ") = analytical_solver.player_b_solve()"
   ],
   "metadata": {
    "collapsed": false,
    "ExecuteTime": {
     "end_time": "2024-03-02T12:41:47.267686Z",
     "start_time": "2024-03-02T12:41:47.228028Z"
    }
   },
   "id": "dd43b57d2e89163"
  },
  {
   "cell_type": "code",
   "execution_count": 12,
   "outputs": [
    {
     "name": "stderr",
     "output_type": "stream",
     "text": [
      "Цена игры: 7 <= 8.962 <= 13\n"
     ]
    },
    {
     "name": "stdout",
     "output_type": "stream",
     "text": [
      "+------------------------------+\n",
      "| Смешанные стратегии игрока B |\n",
      "+---------+---------+----------+\n",
      "|    b1   |    b2   |    b3    |\n",
      "+---------+---------+----------+\n",
      "|  0.404  |  0.212  |  0.385   |\n",
      "+---------+---------+----------+\n"
     ]
    }
   ],
   "source": [
    "# Смешанные стратегии игрока B и цена игры.\n",
    "assert check_resulted_game_price(\n",
    "    game_matrix=reduced_game,\n",
    "    game_price_value=game_price_value,\n",
    ")\n",
    "\n",
    "mixed_strategies = get_resulted_mixed_strategies(\n",
    "    player_labels=game_matrix.player_b_strategy_labels,\n",
    "    labels_to_probability=dict(zip(\n",
    "        reduced_game.player_b_strategy_labels,\n",
    "        (first_mixed_strategy, second_mixed_strategy, third_mixed_strategy),\n",
    "    )),\n",
    "    player_name=\"B\",\n",
    ")\n",
    "print(mixed_strategies)"
   ],
   "metadata": {
    "collapsed": false,
    "ExecuteTime": {
     "end_time": "2024-03-02T12:41:47.267891Z",
     "start_time": "2024-03-02T12:41:47.230359Z"
    }
   },
   "id": "1660520b2a078185"
  },
  {
   "cell_type": "code",
   "execution_count": 13,
   "outputs": [
    {
     "data": {
      "text/plain": "1.0"
     },
     "execution_count": 13,
     "metadata": {},
     "output_type": "execute_result"
    }
   ],
   "source": [
    "sum((first_mixed_strategy, second_mixed_strategy, third_mixed_strategy,))"
   ],
   "metadata": {
    "collapsed": false,
    "ExecuteTime": {
     "end_time": "2024-03-02T12:41:47.267982Z",
     "start_time": "2024-03-02T12:41:47.232948Z"
    }
   },
   "id": "ab131a7b645dfae8"
  },
  {
   "cell_type": "markdown",
   "source": [
    "### Вернёмся к цене игры для исходной матрицы"
   ],
   "metadata": {
    "collapsed": false
   },
   "id": "6634695c34ad1780"
  },
  {
   "cell_type": "code",
   "execution_count": 14,
   "outputs": [
    {
     "name": "stderr",
     "output_type": "stream",
     "text": [
      "Цена игры: 5 <= 6.962 <= 11\n"
     ]
    }
   ],
   "source": [
    "assert check_resulted_game_price(\n",
    "    game_matrix=original_game_matrix,\n",
    "    # Уменьшаем ЦИ на слагаемое, используемое при нормализации матрицы.\n",
    "    game_price_value=game_price_value - normalizer,\n",
    ")"
   ],
   "metadata": {
    "collapsed": false,
    "ExecuteTime": {
     "end_time": "2024-03-02T12:41:47.268085Z",
     "start_time": "2024-03-02T12:41:47.236314Z"
    }
   },
   "id": "9243452773744f02"
  },
  {
   "cell_type": "markdown",
   "source": [
    "### 2. Численный метод Брауна-Робинсон\n",
    "\n",
    "Уровень погрешности: $\\varepsilon \\le 0,1$"
   ],
   "metadata": {
    "collapsed": false
   },
   "id": "7ccbfae6f96ea080"
  },
  {
   "cell_type": "code",
   "execution_count": 15,
   "outputs": [
    {
     "data": {
      "text/plain": "+-----------------------------------------------+\n|          Таблица стратегий (игрока А)         |\n+----------------+----+----+----+---------------+\n|   Стратегии    | b1 | b2 | b3 | MIN выигрыш A |\n+----------------+----+----+----+---------------+\n|       a1       | 3  | 13 | 13 |       3       |\n|       a2       | 9  | 7  | 10 |       7       |\n|       a3       | 18 | 8  | 0  |       0       |\n| MAX проигрыш B | 18 | 13 | 13 |               |\n+----------------+----+----+----+---------------+"
     },
     "execution_count": 15,
     "metadata": {},
     "output_type": "execute_result"
    }
   ],
   "source": [
    "reduced_game"
   ],
   "metadata": {
    "collapsed": false,
    "ExecuteTime": {
     "end_time": "2024-03-02T12:41:47.268226Z",
     "start_time": "2024-03-02T12:41:47.239298Z"
    }
   },
   "id": "9097104197c49e1b"
  },
  {
   "cell_type": "code",
   "execution_count": 16,
   "outputs": [],
   "source": [
    "df = BrownRobinson(game_matrix=reduced_game).solve()"
   ],
   "metadata": {
    "collapsed": false,
    "ExecuteTime": {
     "end_time": "2024-03-02T12:41:49.865307Z",
     "start_time": "2024-03-02T12:41:47.242382Z"
    }
   },
   "id": "f4073ad0e8eaad35"
  },
  {
   "cell_type": "code",
   "execution_count": 17,
   "outputs": [
    {
     "data": {
      "text/plain": "      Итерация k Выбор игрока A Выбор игрока B     a1     a2     a3     b1  \\\n0              1             a1             b1      3      9     18      3   \n1              2             a3             b1      6     18     36     21   \n2              3             a3             b3     19     28     36     39   \n3              4             a3             b3     32     38     36     57   \n4              5             a2             b3     45     48     36     66   \n...          ...            ...            ...    ...    ...    ...    ...   \n6206        6207             a1             b1  55941  55674  55006  55314   \n6207        6208             a1             b1  55944  55683  55024  55317   \n6208        6209             a1             b1  55947  55692  55042  55320   \n6209        6210             a1             b1  55950  55701  55060  55323   \n6210        6211             a1             b1  55953  55710  55078  55326   \n\n         b2     b3  Усреднённая оценка ВЦИ  Усреднённая оценка НЦИ  \\\n0        13     13               18.000000                3.000000   \n1        21     13               18.000000                6.500000   \n2        29     13               12.000000                4.333333   \n3        37     13                9.500000                3.250000   \n4        44     23                9.600000                4.600000   \n...     ...    ...                     ...                     ...   \n6206  55908  55794                9.012566                8.911551   \n6207  55921  55807                9.011598                8.910599   \n6208  55934  55820                9.010630                8.909647   \n6209  55947  55833                9.009662                8.908696   \n6210  55960  55846                9.008694                8.907744   \n\n      Погрешность ε  \n0         15.000000  \n1         11.500000  \n2          5.500000  \n3          5.166667  \n4          4.900000  \n...             ...  \n6206       0.100062  \n6207       0.100046  \n6208       0.100031  \n6209       0.100015  \n6210       0.099999  \n\n[6211 rows x 12 columns]",
      "text/html": "<div>\n<style scoped>\n    .dataframe tbody tr th:only-of-type {\n        vertical-align: middle;\n    }\n\n    .dataframe tbody tr th {\n        vertical-align: top;\n    }\n\n    .dataframe thead th {\n        text-align: right;\n    }\n</style>\n<table border=\"1\" class=\"dataframe\">\n  <thead>\n    <tr style=\"text-align: right;\">\n      <th></th>\n      <th>Итерация k</th>\n      <th>Выбор игрока A</th>\n      <th>Выбор игрока B</th>\n      <th>a1</th>\n      <th>a2</th>\n      <th>a3</th>\n      <th>b1</th>\n      <th>b2</th>\n      <th>b3</th>\n      <th>Усреднённая оценка ВЦИ</th>\n      <th>Усреднённая оценка НЦИ</th>\n      <th>Погрешность ε</th>\n    </tr>\n  </thead>\n  <tbody>\n    <tr>\n      <th>0</th>\n      <td>1</td>\n      <td>a1</td>\n      <td>b1</td>\n      <td>3</td>\n      <td>9</td>\n      <td>18</td>\n      <td>3</td>\n      <td>13</td>\n      <td>13</td>\n      <td>18.000000</td>\n      <td>3.000000</td>\n      <td>15.000000</td>\n    </tr>\n    <tr>\n      <th>1</th>\n      <td>2</td>\n      <td>a3</td>\n      <td>b1</td>\n      <td>6</td>\n      <td>18</td>\n      <td>36</td>\n      <td>21</td>\n      <td>21</td>\n      <td>13</td>\n      <td>18.000000</td>\n      <td>6.500000</td>\n      <td>11.500000</td>\n    </tr>\n    <tr>\n      <th>2</th>\n      <td>3</td>\n      <td>a3</td>\n      <td>b3</td>\n      <td>19</td>\n      <td>28</td>\n      <td>36</td>\n      <td>39</td>\n      <td>29</td>\n      <td>13</td>\n      <td>12.000000</td>\n      <td>4.333333</td>\n      <td>5.500000</td>\n    </tr>\n    <tr>\n      <th>3</th>\n      <td>4</td>\n      <td>a3</td>\n      <td>b3</td>\n      <td>32</td>\n      <td>38</td>\n      <td>36</td>\n      <td>57</td>\n      <td>37</td>\n      <td>13</td>\n      <td>9.500000</td>\n      <td>3.250000</td>\n      <td>5.166667</td>\n    </tr>\n    <tr>\n      <th>4</th>\n      <td>5</td>\n      <td>a2</td>\n      <td>b3</td>\n      <td>45</td>\n      <td>48</td>\n      <td>36</td>\n      <td>66</td>\n      <td>44</td>\n      <td>23</td>\n      <td>9.600000</td>\n      <td>4.600000</td>\n      <td>4.900000</td>\n    </tr>\n    <tr>\n      <th>...</th>\n      <td>...</td>\n      <td>...</td>\n      <td>...</td>\n      <td>...</td>\n      <td>...</td>\n      <td>...</td>\n      <td>...</td>\n      <td>...</td>\n      <td>...</td>\n      <td>...</td>\n      <td>...</td>\n      <td>...</td>\n    </tr>\n    <tr>\n      <th>6206</th>\n      <td>6207</td>\n      <td>a1</td>\n      <td>b1</td>\n      <td>55941</td>\n      <td>55674</td>\n      <td>55006</td>\n      <td>55314</td>\n      <td>55908</td>\n      <td>55794</td>\n      <td>9.012566</td>\n      <td>8.911551</td>\n      <td>0.100062</td>\n    </tr>\n    <tr>\n      <th>6207</th>\n      <td>6208</td>\n      <td>a1</td>\n      <td>b1</td>\n      <td>55944</td>\n      <td>55683</td>\n      <td>55024</td>\n      <td>55317</td>\n      <td>55921</td>\n      <td>55807</td>\n      <td>9.011598</td>\n      <td>8.910599</td>\n      <td>0.100046</td>\n    </tr>\n    <tr>\n      <th>6208</th>\n      <td>6209</td>\n      <td>a1</td>\n      <td>b1</td>\n      <td>55947</td>\n      <td>55692</td>\n      <td>55042</td>\n      <td>55320</td>\n      <td>55934</td>\n      <td>55820</td>\n      <td>9.010630</td>\n      <td>8.909647</td>\n      <td>0.100031</td>\n    </tr>\n    <tr>\n      <th>6209</th>\n      <td>6210</td>\n      <td>a1</td>\n      <td>b1</td>\n      <td>55950</td>\n      <td>55701</td>\n      <td>55060</td>\n      <td>55323</td>\n      <td>55947</td>\n      <td>55833</td>\n      <td>9.009662</td>\n      <td>8.908696</td>\n      <td>0.100015</td>\n    </tr>\n    <tr>\n      <th>6210</th>\n      <td>6211</td>\n      <td>a1</td>\n      <td>b1</td>\n      <td>55953</td>\n      <td>55710</td>\n      <td>55078</td>\n      <td>55326</td>\n      <td>55960</td>\n      <td>55846</td>\n      <td>9.008694</td>\n      <td>8.907744</td>\n      <td>0.099999</td>\n    </tr>\n  </tbody>\n</table>\n<p>6211 rows × 12 columns</p>\n</div>"
     },
     "execution_count": 17,
     "metadata": {},
     "output_type": "execute_result"
    }
   ],
   "source": [
    "df"
   ],
   "metadata": {
    "collapsed": false,
    "ExecuteTime": {
     "end_time": "2024-03-02T12:41:49.874326Z",
     "start_time": "2024-03-02T12:41:49.866849Z"
    }
   },
   "id": "a33cdbecb29ba27d"
  },
  {
   "cell_type": "code",
   "execution_count": 17,
   "outputs": [],
   "source": [],
   "metadata": {
    "collapsed": false,
    "ExecuteTime": {
     "end_time": "2024-03-02T12:41:49.876088Z",
     "start_time": "2024-03-02T12:41:49.873771Z"
    }
   },
   "id": "50fe1706eeb9f720"
  }
 ],
 "metadata": {
  "kernelspec": {
   "display_name": "Python 3",
   "language": "python",
   "name": "python3"
  },
  "language_info": {
   "codemirror_mode": {
    "name": "ipython",
    "version": 2
   },
   "file_extension": ".py",
   "mimetype": "text/x-python",
   "name": "python",
   "nbconvert_exporter": "python",
   "pygments_lexer": "ipython2",
   "version": "2.7.6"
  }
 },
 "nbformat": 4,
 "nbformat_minor": 5
}
