{
 "cells": [
  {
   "cell_type": "markdown",
   "id": "9e6e0d1cc72eca2",
   "metadata": {},
   "source": [
    "# Лабораторная работа №6\n",
    "### \"ИНФОРМАЦИОННОЕ ПРОТИВОБОРСТВО\"\n",
    "\n",
    "**Вариант:** 1\n",
    "\n",
    "**Цель работы:** изучить теоретико-игровую модель информационного противоборства в социальных сетях. Промоделировать информационное управление в рамках игры и определить итоговое мнение агентов."
   ]
  },
  {
   "cell_type": "code",
   "execution_count": 15,
   "id": "70d54f7e06433099",
   "metadata": {
    "ExecuteTime": {
     "end_time": "2024-05-01T09:18:34.826140Z",
     "start_time": "2024-05-01T09:18:34.819865Z"
    }
   },
   "outputs": [],
   "source": [
    "import logging\n",
    "\n",
    "import numpy as np\n",
    "\n",
    "np.set_printoptions(precision=2, suppress=True)\n",
    "logging.basicConfig(level=logging.INFO, format='%(message)s')"
   ]
  },
  {
   "cell_type": "code",
   "execution_count": 16,
   "id": "94d9cc139e3130ea",
   "metadata": {
    "ExecuteTime": {
     "end_time": "2024-05-01T09:18:34.837880Z",
     "start_time": "2024-05-01T09:18:34.834328Z"
    }
   },
   "outputs": [],
   "source": [
    "# Размерность матрицы (количество агентов)\n",
    "N = 10"
   ]
  },
  {
   "cell_type": "markdown",
   "id": "ad634312faebc072",
   "metadata": {},
   "source": [
    "### 1. Генерация стохастической матрицы\n",
    "В модели социальной сети рассматриваются агенты ($i \\in N = {1,2,..., n}, n \\in \\mathbb{N}$), составляющие эту сеть, и их\n",
    "мнения $х_i$, зависящие от дискретного момента времени: $x_i = x_i(t), t = 0, 1, 2, ...$. \n",
    "\n",
    "В каждый момент времени мнения агентов изменяются под влиянием мнений других агентов. Степень этого влияния определяется неотрицательной стохастической по строкам матрицей $А = (a_{ij})$, где $a_{ij}$ — степень доверия $і$-го агента $j$-му агенту (в том числе и самому себе)."
   ]
  },
  {
   "cell_type": "code",
   "execution_count": 17,
   "id": "1348edde50cd3a3e",
   "metadata": {
    "ExecuteTime": {
     "end_time": "2024-05-01T09:18:34.898840Z",
     "start_time": "2024-05-01T09:18:34.883166Z"
    }
   },
   "outputs": [
    {
     "data": {
      "text/plain": [
       "array([[0.18, 0.08, 0.02, 0.05, 0.07, 0.17, 0.08, 0.03, 0.16, 0.15],\n",
       "       [0.1 , 0.13, 0.04, 0.13, 0.06, 0.15, 0.08, 0.08, 0.08, 0.15],\n",
       "       [0.03, 0.17, 0.11, 0.02, 0.13, 0.1 , 0.1 , 0.14, 0.15, 0.05],\n",
       "       [0.09, 0.17, 0.11, 0.14, 0.04, 0.11, 0.09, 0.03, 0.13, 0.09],\n",
       "       [0.09, 0.1 , 0.02, 0.08, 0.09, 0.12, 0.13, 0.14, 0.01, 0.22],\n",
       "       [0.13, 0.  , 0.05, 0.01, 0.13, 0.14, 0.14, 0.14, 0.13, 0.14],\n",
       "       [0.07, 0.07, 0.01, 0.2 , 0.08, 0.14, 0.04, 0.01, 0.2 , 0.16],\n",
       "       [0.12, 0.16, 0.18, 0.04, 0.13, 0.11, 0.04, 0.09, 0.08, 0.05],\n",
       "       [0.15, 0.11, 0.06, 0.09, 0.13, 0.12, 0.11, 0.01, 0.12, 0.11],\n",
       "       [0.05, 0.11, 0.09, 0.11, 0.1 , 0.08, 0.16, 0.16, 0.05, 0.11]])"
      ]
     },
     "execution_count": 17,
     "metadata": {},
     "output_type": "execute_result"
    }
   ],
   "source": [
    "def generate_trust_matrix(n_agents):\n",
    "    matrix = np.random.rand(n_agents, n_agents)\n",
    "    # Нормализуем строки и столбцы, чтобы сумма значений в каждой строке была равна 1.\n",
    "    return matrix / matrix.sum(axis=1, keepdims=True)\n",
    "\n",
    "\n",
    "# Функция для проверки стохастичности матрицы\n",
    "def is_stochastic(matrix):\n",
    "    rows_sum = np.sum(matrix, axis=1)\n",
    "    logging.info(f\"Сумма по строкам: {rows_sum}\")\n",
    "    # Проверяем, что сумма значений в строках равна 1.\n",
    "    return np.allclose(rows_sum, 1)\n",
    "\n",
    "\n",
    "# Генерируем стохастическую матрицу доверия\n",
    "trust_matrix = generate_trust_matrix(N)\n",
    "trust_matrix"
   ]
  },
  {
   "cell_type": "code",
   "execution_count": 18,
   "id": "e4037067ed48f65b",
   "metadata": {
    "ExecuteTime": {
     "end_time": "2024-05-01T09:18:34.925074Z",
     "start_time": "2024-05-01T09:18:34.906368Z"
    }
   },
   "outputs": [
    {
     "name": "stderr",
     "output_type": "stream",
     "text": [
      "Сумма по строкам: [1. 1. 1. 1. 1. 1. 1. 1. 1. 1.]\n"
     ]
    },
    {
     "data": {
      "text/plain": [
       "True"
      ]
     },
     "execution_count": 18,
     "metadata": {},
     "output_type": "execute_result"
    }
   ],
   "source": [
    "is_stochastic(trust_matrix)"
   ]
  },
  {
   "cell_type": "markdown",
   "id": "4e7d4347f2ea4e8",
   "metadata": {},
   "source": [
    "### 2. Мнение агентов\n",
    "\n",
    "Вектор мнений $X = (x_1, x_2, ..., x_n)$ задан для начального момента времени ($X(0)$) и изменяется следующим образом:\n",
    "$$x_i(t) = \\sum_{j = 0}^{n} a_{ij}x_{j}(t - 1)$$\n",
    "\n",
    "Этот закон можно записать иначе:\n",
    "$$X(t) = A \\cdot X(t ー 1)$$\n",
    "\n",
    "При достаточно долгом взаимодействии агентов вектор мнений сходится к итоговому значению:\n",
    "$$X = A^{\\infty} \\cdot X(0)$$\n",
    ", где $A^{\\infty} = \\lim_{t \\to \\infty} A^{t}$."
   ]
  },
  {
   "cell_type": "code",
   "execution_count": 19,
   "id": "501db75641b200ed",
   "metadata": {
    "ExecuteTime": {
     "end_time": "2024-05-01T09:18:34.940092Z",
     "start_time": "2024-05-01T09:18:34.934853Z"
    }
   },
   "outputs": [],
   "source": [
    "def compute_final_opinions(trust_matrix, initial_opinions, epsilon=1e-6):\n",
    "    i = 0\n",
    "    logging.info(f\"x({i}) = {initial_opinions}\")\n",
    "    current_opinions = initial_opinions.copy()\n",
    "    previous_opinions = np.zeros_like(initial_opinions)\n",
    "    res_trust_matrix = trust_matrix.copy()\n",
    "    while np.linalg.norm(current_opinions - previous_opinions) > epsilon:\n",
    "        previous_opinions = current_opinions\n",
    "        current_opinions = np.dot(trust_matrix, current_opinions)\n",
    "        res_trust_matrix = np.dot(res_trust_matrix, trust_matrix)\n",
    "        i += 1\n",
    "        logging.info(f\"x({i}) = {current_opinions}\")\n",
    "\n",
    "    return current_opinions, res_trust_matrix"
   ]
  },
  {
   "cell_type": "code",
   "execution_count": 20,
   "id": "6ec9cd67efb6018b",
   "metadata": {
    "ExecuteTime": {
     "end_time": "2024-05-01T09:18:34.970165Z",
     "start_time": "2024-05-01T09:18:34.947361Z"
    }
   },
   "outputs": [
    {
     "name": "stderr",
     "output_type": "stream",
     "text": [
      "x(0) = [ 9  4 13  4  2  1  6  6 20 10]\n",
      "x(1) = [8.21 6.77 7.72 7.92 6.13 7.84 8.29 7.48 7.39 6.65]\n",
      "x(2) = [7.47 7.44 7.29 7.48 7.36 7.44 7.39 7.36 7.43 7.43]\n",
      "x(3) = [7.43 7.43 7.4  7.42 7.42 7.41 7.44 7.4  7.42 7.4 ]\n",
      "x(4) = [7.42 7.42 7.41 7.42 7.41 7.41 7.42 7.41 7.42 7.41]\n",
      "x(5) = [7.42 7.42 7.42 7.42 7.42 7.42 7.42 7.42 7.42 7.42]\n",
      "x(6) = [7.42 7.42 7.42 7.42 7.42 7.42 7.42 7.42 7.42 7.42]\n",
      "x(7) = [7.42 7.42 7.42 7.42 7.42 7.42 7.42 7.42 7.42 7.42]\n",
      "x(8) = [7.42 7.42 7.42 7.42 7.42 7.42 7.42 7.42 7.42 7.42]\n",
      "x(9) = [7.42 7.42 7.42 7.42 7.42 7.42 7.42 7.42 7.42 7.42]\n",
      "x(10) = [7.42 7.42 7.42 7.42 7.42 7.42 7.42 7.42 7.42 7.42]\n"
     ]
    },
    {
     "name": "stdout",
     "output_type": "stream",
     "text": [
      "После взаимодействия агентов, вектор мнений сходится к значению:\n",
      "X = [7.42 7.42 7.42 7.42 7.42 7.42 7.42 7.42 7.42 7.42]\n",
      "Результирующая матрица доверия:\n",
      "[[0.1  0.1  0.07 0.09 0.09 0.12 0.1  0.08 0.11 0.13]\n",
      " [0.1  0.1  0.07 0.09 0.09 0.12 0.1  0.08 0.11 0.13]\n",
      " [0.1  0.1  0.07 0.09 0.09 0.12 0.1  0.08 0.11 0.13]\n",
      " [0.1  0.1  0.07 0.09 0.09 0.12 0.1  0.08 0.11 0.13]\n",
      " [0.1  0.1  0.07 0.09 0.09 0.12 0.1  0.08 0.11 0.13]\n",
      " [0.1  0.1  0.07 0.09 0.09 0.12 0.1  0.08 0.11 0.13]\n",
      " [0.1  0.1  0.07 0.09 0.09 0.12 0.1  0.08 0.11 0.13]\n",
      " [0.1  0.1  0.07 0.09 0.09 0.12 0.1  0.08 0.11 0.13]\n",
      " [0.1  0.1  0.07 0.09 0.09 0.12 0.1  0.08 0.11 0.13]\n",
      " [0.1  0.1  0.07 0.09 0.09 0.12 0.1  0.08 0.11 0.13]]\n"
     ]
    }
   ],
   "source": [
    "a, b = 1, 20\n",
    "# Генерируем начальные мнения агентов.\n",
    "initial_opinions = np.random.randint(a, b + 1, N)\n",
    "final_opinions, res_trust_matrix = compute_final_opinions(trust_matrix, initial_opinions)\n",
    "print(f\"После взаимодействия агентов, вектор мнений сходится к значению:\\nX = {final_opinions}\")\n",
    "print(f\"Результирующая матрица доверия:\\n{res_trust_matrix}\")"
   ]
  },
  {
   "cell_type": "markdown",
   "id": "9b66b35707f73d8c",
   "metadata": {},
   "source": [
    "### 3. Информационное управление\n",
    "Для информационного управления необходимо наличие нескольких игроков (в данном случае - двух), которые могут влиять на начальные мнения некоторых агентов. Случайным образом выберем число и номера агентов первого игрока и аналогично число и номера агентов второго игрока (они не должны пересекаться, так как эта ситуация выходит за рамки данной работы). Следует обратить внимание, что число агентов влияния первого игрока не обязательно должно совпадать с числом агентов влияния второго игрока."
   ]
  },
  {
   "cell_type": "code",
   "execution_count": 21,
   "id": "404a8423cf6b8c5",
   "metadata": {
    "ExecuteTime": {
     "end_time": "2024-05-01T09:18:34.980231Z",
     "start_time": "2024-05-01T09:18:34.973888Z"
    }
   },
   "outputs": [],
   "source": [
    "def get_player_agents_indices(n_agents):\n",
    "    # Генерируем случайное число агентов для каждого игрока (необязательно равное).\n",
    "    player1_count = np.random.randint(1, n_agents)\n",
    "    # Учитываем уже выбранных агентов для первого игрока.\n",
    "    player2_count = np.random.randint(1, n_agents - player1_count + 1)  \n",
    "\n",
    "    # Генерируем случайные неповторяющиеся индексы агентов для каждого игрока\n",
    "    player1_indices = np.random.choice(\n",
    "        range(n_agents), \n",
    "        size=player1_count, replace=False)\n",
    "    player2_indices = np.random.choice(\n",
    "        [idx for idx in range(n_agents) if idx not in player1_indices], \n",
    "        size=player2_count, replace=False)\n",
    "    \n",
    "    player1_indices.sort()\n",
    "    player2_indices.sort()\n",
    "    return player1_indices, player2_indices"
   ]
  },
  {
   "cell_type": "code",
   "execution_count": 22,
   "id": "2cb1f6b84204e8cc",
   "metadata": {
    "ExecuteTime": {
     "end_time": "2024-05-01T09:18:35.008895Z",
     "start_time": "2024-05-01T09:18:35.005534Z"
    }
   },
   "outputs": [
    {
     "name": "stdout",
     "output_type": "stream",
     "text": [
      "Индексы агентов влияния для первого игрока: [0 1 3 4 5 7 9]\n",
      "Индексы агентов влияния для второго игрока: [2 8]\n"
     ]
    }
   ],
   "source": [
    "player1_influence_indices, player2_influence_indices = get_player_agents_indices(N)\n",
    "print(f\"Индексы агентов влияния для первого игрока: {player1_influence_indices}\")\n",
    "print(f\"Индексы агентов влияния для второго игрока: {player2_influence_indices}\")"
   ]
  },
  {
   "cell_type": "markdown",
   "id": "1295f9d7ea7f938",
   "metadata": {},
   "source": [
    "Затем сгенерируем случайным образом управление для агентов влияния первого и второго игроков.\n",
    "Сформируем вектор начальных мнений агентов с учетом информационного влияния, нейтральным агентам назначим случайные стартовые мнения. "
   ]
  },
  {
   "cell_type": "code",
   "execution_count": 23,
   "id": "d5446b48a5ed3607",
   "metadata": {
    "ExecuteTime": {
     "end_time": "2024-05-01T09:18:35.027752Z",
     "start_time": "2024-05-01T09:18:35.023913Z"
    }
   },
   "outputs": [
    {
     "name": "stdout",
     "output_type": "stream",
     "text": [
      "Сформированное начальное мнение агентов первого игрока: 54\n",
      "Сформированное начальное мнение агентов второго игрока: -72\n"
     ]
    }
   ],
   "source": [
    "ABS_MAX_INFLUENCE = 100\n",
    "player1_influence = np.random.randint(0, ABS_MAX_INFLUENCE)\n",
    "print(f\"Сформированное начальное мнение агентов первого игрока: {player1_influence}\")\n",
    "player2_influence = np.random.randint(-ABS_MAX_INFLUENCE, 0)\n",
    "print(f\"Сформированное начальное мнение агентов второго игрока: {player2_influence}\")"
   ]
  },
  {
   "cell_type": "code",
   "execution_count": 24,
   "id": "8d61ada53e10a7",
   "metadata": {
    "ExecuteTime": {
     "end_time": "2024-05-01T09:18:35.065840Z",
     "start_time": "2024-05-01T09:18:35.053069Z"
    }
   },
   "outputs": [
    {
     "name": "stderr",
     "output_type": "stream",
     "text": [
      "x(0) = [ 54  54 -72  54  54  54   6  54 -72  54]\n",
      "x(1) = [27.27 34.82 16.99 19.4  43.83 24.86 24.7  19.32 26.94 29.16]\n",
      "x(2) = [27.79 26.85 27.92 26.4  27.33 27.29 27.06 27.4  28.37 26.4 ]\n",
      "x(3) = [27.34 27.13 27.39 27.25 27.03 27.37 27.19 27.4  27.28 27.17]\n",
      "x(4) = [27.26 27.25 27.25 27.25 27.24 27.26 27.24 27.26 27.24 27.25]\n",
      "x(5) = [27.25 27.25 27.25 27.25 27.25 27.25 27.25 27.25 27.25 27.25]\n",
      "x(6) = [27.25 27.25 27.25 27.25 27.25 27.25 27.25 27.25 27.25 27.25]\n",
      "x(7) = [27.25 27.25 27.25 27.25 27.25 27.25 27.25 27.25 27.25 27.25]\n",
      "x(8) = [27.25 27.25 27.25 27.25 27.25 27.25 27.25 27.25 27.25 27.25]\n",
      "x(9) = [27.25 27.25 27.25 27.25 27.25 27.25 27.25 27.25 27.25 27.25]\n",
      "x(10) = [27.25 27.25 27.25 27.25 27.25 27.25 27.25 27.25 27.25 27.25]\n",
      "x(11) = [27.25 27.25 27.25 27.25 27.25 27.25 27.25 27.25 27.25 27.25]\n"
     ]
    },
    {
     "name": "stdout",
     "output_type": "stream",
     "text": [
      "После взаимодействия агентов, вектор мнений сходится к значению:\n",
      "X = [27.25 27.25 27.25 27.25 27.25 27.25 27.25 27.25 27.25 27.25]\n",
      "Результирующая матрица доверия:\n",
      "[[0.1  0.1  0.07 0.09 0.09 0.12 0.1  0.08 0.11 0.13]\n",
      " [0.1  0.1  0.07 0.09 0.09 0.12 0.1  0.08 0.11 0.13]\n",
      " [0.1  0.1  0.07 0.09 0.09 0.12 0.1  0.08 0.11 0.13]\n",
      " [0.1  0.1  0.07 0.09 0.09 0.12 0.1  0.08 0.11 0.13]\n",
      " [0.1  0.1  0.07 0.09 0.09 0.12 0.1  0.08 0.11 0.13]\n",
      " [0.1  0.1  0.07 0.09 0.09 0.12 0.1  0.08 0.11 0.13]\n",
      " [0.1  0.1  0.07 0.09 0.09 0.12 0.1  0.08 0.11 0.13]\n",
      " [0.1  0.1  0.07 0.09 0.09 0.12 0.1  0.08 0.11 0.13]\n",
      " [0.1  0.1  0.07 0.09 0.09 0.12 0.1  0.08 0.11 0.13]\n",
      " [0.1  0.1  0.07 0.09 0.09 0.12 0.1  0.08 0.11 0.13]]\n"
     ]
    }
   ],
   "source": [
    "# Модифицируем начальные мнения агентов с учётом влияния.\n",
    "for i in player1_influence_indices:\n",
    "    initial_opinions[i] = player1_influence\n",
    "    \n",
    "for i in player2_influence_indices:\n",
    "    initial_opinions[i] = player2_influence\n",
    "\n",
    "final_opinions, res_trust_matrix = compute_final_opinions(trust_matrix, initial_opinions)\n",
    "print(f\"После взаимодействия агентов, вектор мнений сходится к значению:\\nX = {final_opinions}\")\n",
    "print(f\"Результирующая матрица доверия:\\n{res_trust_matrix}\")"
   ]
  },
  {
   "cell_type": "code",
   "execution_count": 25,
   "id": "e99d6bd92410f867",
   "metadata": {
    "ExecuteTime": {
     "end_time": "2024-05-01T09:18:35.071578Z",
     "start_time": "2024-05-01T09:18:35.067718Z"
    }
   },
   "outputs": [
    {
     "name": "stdout",
     "output_type": "stream",
     "text": [
      "Выиграл первый игрок\n"
     ]
    }
   ],
   "source": [
    "if np.isclose(final_opinions[0], 0):\n",
    "    print(\"Ничья\")\n",
    "elif final_opinions[0] > 0:\n",
    "    print(\"Выиграл первый игрок\")\n",
    "else:\n",
    "    print(\"Выиграл второй игрок\") "
   ]
  }
 ],
 "metadata": {
  "kernelspec": {
   "display_name": "Python 3 (ipykernel)",
   "language": "python",
   "name": "python3"
  },
  "language_info": {
   "codemirror_mode": {
    "name": "ipython",
    "version": 3
   },
   "file_extension": ".py",
   "mimetype": "text/x-python",
   "name": "python",
   "nbconvert_exporter": "python",
   "pygments_lexer": "ipython3",
   "version": "3.11.9"
  }
 },
 "nbformat": 4,
 "nbformat_minor": 5
}
