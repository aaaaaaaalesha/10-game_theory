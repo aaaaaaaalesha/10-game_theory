{
 "cells": [
  {
   "cell_type": "markdown",
   "id": "21b8b2da9f5a4bcf",
   "metadata": {
    "collapsed": false
   },
   "source": [
    "# Расчетно-графическое домашнее задание\n",
    "\n",
    "### Выполнил: Александров А. Н., ИУ8-104\n",
    "### Вариант: 1\n",
    "\n",
    "## Задание\n",
    "Задана платежная матрица прямоугольной игры с нулевой суммой.\n",
    "\n",
    "\n",
    "| 4  | -3 | 5  | 6  | 4 |\n",
    "|:--:|:--:|:--:|:--:|:-:|\n",
    "| 6  | 5  | -3 | 4  | 7 |\n",
    "| 6  | 5  | -3 | -3 | 5 |\n",
    "| -3 | -3 | 4  | 4  | 4 |\n",
    "| 7  | 6  | 4  | 5  | 6 |\n",
    "\n",
    "\n",
    "1. Нормализовать матрицу (привести к матрице с неотрицательными элементами) и свести исходную игру к матричной игре 2×2 следующими способами:\n",
    "   - поглощением доминируемых стратегий;\n",
    "   - удалением NBR-стратегий (Never Best Response).\n",
    "2. Найти смешанные стратегии игроков следующими методами:\n",
    "   - графоаналитическим;\n",
    "   - аналитическим (матричным);\n",
    "   - графически (задача ЛП);\n",
    "   - симплекс-методом (задача ЛП).\n",
    "3. Рассчитать цену игры для исходной матрицы.\n"
   ]
  },
  {
   "cell_type": "code",
   "execution_count": 1,
   "id": "initial_id",
   "metadata": {
    "collapsed": false,
    "ExecuteTime": {
     "end_time": "2024-02-13T19:34:21.793036Z",
     "start_time": "2024-02-13T19:34:21.467513Z"
    }
   },
   "outputs": [],
   "source": [
    "import json\n",
    "import logging\n",
    "from pathlib import Path\n",
    "\n",
    "import numpy as np\n",
    "\n",
    "from game_theory.utils.simplex.simplex_problem import SimplexProblem\n",
    "from game_theory.utils.simplex.dual_problem import DualProblem\n",
    "from game_theory.utils.matrix_games.game_matrix import GameMatrix\n",
    "\n",
    "logging.basicConfig(level=logging.INFO, format='%(message)s')"
   ]
  },
  {
   "cell_type": "code",
   "execution_count": 2,
   "id": "abf13d13a3b1a780",
   "metadata": {
    "collapsed": false,
    "ExecuteTime": {
     "end_time": "2024-02-13T19:34:21.801683Z",
     "start_time": "2024-02-13T19:34:21.796853Z"
    }
   },
   "outputs": [
    {
     "data": {
      "text/plain": "+---------------------------------------------------------+\n|               Таблица стратегий (игрока А)              |\n+----------------+----+----+----+----+----+---------------+\n|   Стратегии    | b1 | b2 | b3 | b4 | b5 | MIN выигрыш A |\n+----------------+----+----+----+----+----+---------------+\n|       a1       | 4  | -3 | 5  | 6  | 4  |       -3      |\n|       a2       | 6  | 5  | -3 | 4  | 7  |       -3      |\n|       a3       | 6  | 5  | -3 | -3 | 5  |       -3      |\n|       a4       | -3 | -3 | 4  | 4  | 4  |       -3      |\n|       a5       | 7  | 6  | 4  | 5  | 6  |       4       |\n| MAX проигрыш B | 7  | 6  | 5  | 6  | 7  |               |\n+----------------+----+----+----+----+----+---------------+"
     },
     "execution_count": 2,
     "metadata": {},
     "output_type": "execute_result"
    }
   ],
   "source": [
    "# Входная матрица прямоугольной игры с нулевой суммой.\n",
    "matrix = np.array(\n",
    "    [\n",
    "        [4, -3, 5, 6, 4],\n",
    "        [6, 5, -3, 4, 7],\n",
    "        [6, 5, -3, -3, 5],\n",
    "        [-3, -3, 4, 4, 4],\n",
    "        [7, 6, 4, 5, 6],\n",
    "    ],\n",
    "    dtype=int,\n",
    ")\n",
    "\n",
    "game_matrix = GameMatrix(matrix)\n",
    "game_matrix"
   ]
  },
  {
   "cell_type": "markdown",
   "id": "38c2dae8364d1134",
   "metadata": {
    "collapsed": false,
    "jp-MarkdownHeadingCollapsed": true
   },
   "source": [
    "### 1. Нормализация матрицы. Уменьшение размерности исходной матричной игры"
   ]
  },
  {
   "cell_type": "code",
   "execution_count": 3,
   "id": "b614ac4040cd7f3c",
   "metadata": {
    "collapsed": false,
    "ExecuteTime": {
     "end_time": "2024-02-13T19:34:21.809043Z",
     "start_time": "2024-02-13T19:34:21.801818Z"
    }
   },
   "outputs": [
    {
     "data": {
      "text/plain": "+---------------------------------------------------------+\n|               Таблица стратегий (игрока А)              |\n+----------------+----+----+----+----+----+---------------+\n|   Стратегии    | b1 | b2 | b3 | b4 | b5 | MIN выигрыш A |\n+----------------+----+----+----+----+----+---------------+\n|       a1       | 7  | 0  | 8  | 9  | 7  |       0       |\n|       a2       | 9  | 8  | 0  | 7  | 10 |       0       |\n|       a3       | 9  | 8  | 0  | 0  | 8  |       0       |\n|       a4       | 0  | 0  | 7  | 7  | 7  |       0       |\n|       a5       | 10 | 9  | 7  | 8  | 9  |       7       |\n| MAX проигрыш B | 10 | 9  | 8  | 9  | 10 |               |\n+----------------+----+----+----+----+----+---------------+"
     },
     "execution_count": 3,
     "metadata": {},
     "output_type": "execute_result"
    }
   ],
   "source": [
    "game_matrix.normalize_matrix()\n",
    "game_matrix"
   ]
  },
  {
   "cell_type": "code",
   "execution_count": 4,
   "outputs": [
    {
     "name": "stdout",
     "output_type": "stream",
     "text": [
      "Нижняя цена игры: 7\n",
      "Верхняя цена игры: 8\n"
     ]
    }
   ],
   "source": [
    "print(f\"Нижняя цена игры:  {game_matrix.lowest_game_price[1]}\\n\"\n",
    "      f\"Верхняя цена игры: {game_matrix.highest_game_price[1]}\")"
   ],
   "metadata": {
    "collapsed": false,
    "ExecuteTime": {
     "end_time": "2024-02-13T19:34:21.809174Z",
     "start_time": "2024-02-13T19:34:21.804439Z"
    }
   },
   "id": "bdaf6a2706fffb81"
  },
  {
   "cell_type": "markdown",
   "id": "3a0a874c6d46e78a",
   "metadata": {
    "collapsed": false
   },
   "source": [
    "#### 1.1. Поглощение доминируемых стратегий\n",
    "<u>Опр. **Доминирующая (поглощающая) строка**</u> содержит элементы $\\geq$ элементам другой строки (поглощаемой).\n",
    "\n",
    "<u>Опр. **Доминирующий (поглощающая) столбец**</u> содержит элементы $\\leq$ элементам другого столбца (поглощаемого)."
   ]
  },
  {
   "cell_type": "code",
   "execution_count": 5,
   "id": "d37c4a70-6079-468a-9a9a-2ff49b4b862b",
   "metadata": {
    "ExecuteTime": {
     "end_time": "2024-02-13T19:34:21.812556Z",
     "start_time": "2024-02-13T19:34:21.807994Z"
    }
   },
   "outputs": [
    {
     "name": "stderr",
     "output_type": "stream",
     "text": [
      "Поглощение стратегии a3 доминирующей стратегией a2\n",
      "Поглощение стратегии a4 доминирующей стратегией a1\n",
      "Поглощение стратегии b1 доминирующей стратегией b2\n",
      "Поглощение стратегии b4 доминирующей стратегией b3\n",
      "Поглощение стратегии b5 доминирующей стратегией b2\n",
      "Поглощение стратегии a2 доминирующей стратегией a5\n"
     ]
    },
    {
     "data": {
      "text/plain": "+------------------------------------------+\n|       Таблица стратегий (игрока А)       |\n+----------------+----+----+---------------+\n|   Стратегии    | b2 | b3 | MIN выигрыш A |\n+----------------+----+----+---------------+\n|       a1       | 0  | 8  |       0       |\n|       a5       | 9  | 7  |       7       |\n| MAX проигрыш B | 9  | 8  |               |\n+----------------+----+----+---------------+"
     },
     "execution_count": 5,
     "metadata": {},
     "output_type": "execute_result"
    }
   ],
   "source": [
    "reduced_matrix: GameMatrix = game_matrix.reduce_dimension(mode='dominant_absorption')\n",
    "reduced_matrix"
   ]
  },
  {
   "cell_type": "markdown",
   "id": "99e88d827c41cc52",
   "metadata": {
    "collapsed": false
   },
   "source": [
    "#### 1.2. Удаление NBR-стратегий"
   ]
  },
  {
   "cell_type": "code",
   "execution_count": 6,
   "id": "eb7a191aec92b535",
   "metadata": {
    "collapsed": false,
    "ExecuteTime": {
     "end_time": "2024-02-13T19:34:21.864676Z",
     "start_time": "2024-02-13T19:34:21.814336Z"
    }
   },
   "outputs": [],
   "source": [
    "# reduced_matrix: GameMatrix = game_matrix.reduce_dimension(mode='nbr_drop')\n",
    "# reduced_matrix"
   ]
  },
  {
   "cell_type": "markdown",
   "id": "bb92fa4020975ac8",
   "metadata": {
    "collapsed": false
   },
   "source": [
    "### 2. Нахождение смешанных стратегий и цены игры\n",
    "\n",
    "$S_A = p_1 + p_2 + ... + p_n$ - смешанная стратегия игрока A.\n",
    "\n",
    "$S_B = q_1 + q_2 + ... + q_m$ - смешанная стратегия игрока B."
   ]
  },
  {
   "cell_type": "markdown",
   "id": "17ff14bae03dd695",
   "metadata": {
    "collapsed": false
   },
   "source": [
    "#### 2.1. Графоаналитический метод"
   ]
  },
  {
   "cell_type": "markdown",
   "source": [
    "##### 2.1.1. Для игрока A.\n",
    "Пусть\n",
    "- $x_1$ - вероятность выбора игроком A стратегии $a_1$.\n",
    "- $x_5 = 1 - x_1$ - вероятность выбора игроком A стратегии $a_5$.\n",
    "\n",
    "Ожидаемый выигрыш A при реализации стратегии $b_2$:\n",
    "\n",
    "$PA_{b2} = c_{12}x_{1} + c_{52}x_5 = (c_{12} - c_{52})x_5 + c_{52}$\n",
    "\n",
    "Ожидаемый выигрыш A при реализации стратегии $b_3$:\n",
    "\n",
    "$PA_{b3} = c_{13}x_{1} + c_{53}x_5 = (c_{13} - c_{53})x_5 + c_{53}$\n",
    "\n",
    "Оптимальная стратегия A: $PA_{b2} = PA_{b3}$"
   ],
   "metadata": {
    "collapsed": false
   },
   "id": "879f3b1c655c8a41"
  },
  {
   "cell_type": "code",
   "execution_count": 7,
   "id": "a031ea7294fa8008",
   "metadata": {
    "collapsed": false,
    "ExecuteTime": {
     "end_time": "2024-02-13T19:34:21.864843Z",
     "start_time": "2024-02-13T19:34:21.817399Z"
    }
   },
   "outputs": [],
   "source": [
    "# TODO: тут должно быть изи, только графики нарисовать"
   ]
  },
  {
   "cell_type": "markdown",
   "source": [
    "##### 2.1.2. Для игрока B.\n",
    "Пусть\n",
    "- $y_2$ - вероятность выбора игроком B стратегии $b_2$.\n",
    "- $y_3 = 1 - y_2$ - вероятность выбора игроком B стратегии $b_3$.\n",
    "\n",
    "Ожидаемый выигрыш B при реализации стратегии $a_1$:\n",
    "\n",
    "$PB_{a1} = c_{12}y_2 + c_{13}y_3 = (c_{12} - c_{13})y_2 + c_{13}$\n",
    "\n",
    "Ожидаемый выигрыш B при реализации стратегии $a_5$:\n",
    "\n",
    "$PB_{a5} = c_{52}y_2 + c_{53}y_3 = (c_{52} - c_{53})y_2 + c_{53}$\n",
    "\n",
    "Оптимальная стратегия A: $PB_{a1} = PB_{a5}$"
   ],
   "metadata": {
    "collapsed": false
   },
   "id": "7dcde197f5794fb4"
  },
  {
   "cell_type": "code",
   "execution_count": 8,
   "outputs": [],
   "source": [
    "# TODO: тут должно быть изи, только графики нарисовать"
   ],
   "metadata": {
    "collapsed": false,
    "ExecuteTime": {
     "end_time": "2024-02-13T19:34:21.864899Z",
     "start_time": "2024-02-13T19:34:21.819518Z"
    }
   },
   "id": "cbd51cd7d27e2330"
  },
  {
   "cell_type": "markdown",
   "id": "ba365a010d3bbf61",
   "metadata": {
    "collapsed": false
   },
   "source": [
    "#### 2.2. Аналитический (матричный) метод"
   ]
  },
  {
   "cell_type": "code",
   "execution_count": 8,
   "id": "5ac6f72011f0f5d8",
   "metadata": {
    "collapsed": false,
    "ExecuteTime": {
     "end_time": "2024-02-13T19:34:21.864936Z",
     "start_time": "2024-02-13T19:34:21.821364Z"
    }
   },
   "outputs": [],
   "source": []
  },
  {
   "cell_type": "markdown",
   "id": "7808b337690b451f",
   "metadata": {
    "collapsed": false
   },
   "source": [
    "#### 2.3. Графический метод (задача ЛП)"
   ]
  },
  {
   "cell_type": "code",
   "execution_count": 8,
   "id": "299fc8a7453266c0",
   "metadata": {
    "collapsed": false,
    "ExecuteTime": {
     "end_time": "2024-02-13T19:34:21.864966Z",
     "start_time": "2024-02-13T19:34:21.822691Z"
    }
   },
   "outputs": [],
   "source": []
  },
  {
   "cell_type": "markdown",
   "id": "1f8bb8a9807b625",
   "metadata": {
    "collapsed": false,
    "jp-MarkdownHeadingCollapsed": true
   },
   "source": [
    "#### 2.4. Симплекс-метод (задача ЛП)\n",
    "\n",
    "<div style=\"text-align:center;\">\n",
    "    <img src=\"img/system_matrix_game.png\" alt=\"system_matrix_game\" width=\"450\" height=\"330\">\n",
    "    <img src=\"img/LP_task_01.png\" alt=\"LP_task_01\" width=\"450\" height=\"330\">\n",
    "</div>\n",
    "<div style=\"text-align:center;\">\n",
    "    <img src=\"img/LP_task_02.png\" alt=\"LP_task_02\" width=\"450\" height=\"330\">\n",
    "</div>\n"
   ]
  },
  {
   "cell_type": "code",
   "execution_count": 9,
   "id": "ca01c33c1266ec87",
   "metadata": {
    "collapsed": false,
    "ExecuteTime": {
     "end_time": "2024-02-13T19:34:21.865317Z",
     "start_time": "2024-02-13T19:34:21.825729Z"
    }
   },
   "outputs": [
    {
     "name": "stdout",
     "output_type": "stream",
     "text": [
      "[[0, 8], [9, 7]]\n"
     ]
    },
    {
     "data": {
      "text/plain": "+------------------------------------------+\n|       Таблица стратегий (игрока А)       |\n+----------------+----+----+---------------+\n|   Стратегии    | b2 | b3 | MIN выигрыш A |\n+----------------+----+----+---------------+\n|       a1       | 0  | 8  |       0       |\n|       a5       | 9  | 7  |       7       |\n| MAX проигрыш B | 9  | 8  |               |\n+----------------+----+----+---------------+"
     },
     "execution_count": 9,
     "metadata": {},
     "output_type": "execute_result"
    }
   ],
   "source": [
    "print(reduced_matrix.game_matrix.tolist())\n",
    "type(reduced_matrix.game_matrix)\n",
    "reduced_matrix"
   ]
  },
  {
   "cell_type": "code",
   "execution_count": 10,
   "id": "c2edf8ec6a4ce08a",
   "metadata": {
    "collapsed": false,
    "ExecuteTime": {
     "end_time": "2024-02-13T19:34:21.865524Z",
     "start_time": "2024-02-13T19:34:21.829318Z"
    }
   },
   "outputs": [
    {
     "data": {
      "text/plain": "127"
     },
     "execution_count": 10,
     "metadata": {},
     "output_type": "execute_result"
    }
   ],
   "source": [
    "n_rows, n_cols = reduced_matrix.game_matrix.shape\n",
    "input_data = {\n",
    "    \"obj_func_coffs\": [1] * n_cols,\n",
    "    \"constraint_system_lhs\": reduced_matrix.game_matrix.tolist(),\n",
    "    \"constraint_system_rhs\": [1] * n_rows,\n",
    "    \"func_direction\": \"max\"\n",
    "}\n",
    "\n",
    "input_path = Path('input_simplex.json')\n",
    "input_path.write_text(json.dumps(input_data))"
   ]
  },
  {
   "cell_type": "markdown",
   "id": "940b1eb75acf6faa",
   "metadata": {
    "collapsed": false
   },
   "source": [
    "##### 2.4.1. Двойственная задача ЛП для игрока A"
   ]
  },
  {
   "cell_type": "code",
   "execution_count": 11,
   "id": "1f0440b58b176c7c",
   "metadata": {
    "collapsed": false,
    "ExecuteTime": {
     "end_time": "2024-02-13T19:34:21.865736Z",
     "start_time": "2024-02-13T19:34:21.835220Z"
    }
   },
   "outputs": [
    {
     "name": "stderr",
     "output_type": "stream",
     "text": [
      "F = cx -> min,\n",
      "Ax >= b,\n",
      "x1, x2, ..., xn >= 0\n",
      "C = [1 1]\n",
      "A =\n",
      "[[0 9]\n",
      " [8 7]],\n",
      "b^T = [1 1].\n"
     ]
    }
   ],
   "source": [
    "player_a_problem = DualProblem(input_path)"
   ]
  },
  {
   "cell_type": "code",
   "execution_count": 12,
   "id": "39b2be22091e9839",
   "metadata": {
    "collapsed": false,
    "ExecuteTime": {
     "end_time": "2024-02-13T19:34:21.866199Z",
     "start_time": "2024-02-13T19:34:21.839632Z"
    }
   },
   "outputs": [
    {
     "name": "stderr",
     "output_type": "stream",
     "text": [
      "Процесс решения:\n",
      "Поиск опорного решения: \n",
      "Исходная симплекс-таблица:\n",
      "+----+---------+---------+---------+\n",
      "|    |   Si0   |    x1   |    x2   |\n",
      "+----+---------+---------+---------+\n",
      "| x3 | -1.0000 |  0.0000 | -9.0000 |\n",
      "| x4 | -1.0000 | -8.0000 | -7.0000 |\n",
      "| F  |  0.0000 | -1.0000 | -1.0000 |\n",
      "+----+---------+---------+---------+\n",
      "Разрешающая строка: x3\n",
      "Разрешающий столбец: x2\n",
      "+----+---------+---------+---------+\n",
      "|    |   Si0   |    x1   |    x3   |\n",
      "+----+---------+---------+---------+\n",
      "| x2 |  0.1111 | -0.0000 | -0.1111 |\n",
      "| x4 | -0.2222 | -8.0000 | -0.7778 |\n",
      "| F  |  0.1111 | -1.0000 | -0.1111 |\n",
      "+----+---------+---------+---------+\n",
      "Разрешающая строка: x4\n",
      "Разрешающий столбец: x1\n",
      "+----+--------+---------+---------+\n",
      "|    |  Si0   |    x4   |    x3   |\n",
      "+----+--------+---------+---------+\n",
      "| x2 | 0.1111 | -0.0000 | -0.1111 |\n",
      "| x1 | 0.0278 | -0.1250 |  0.0972 |\n",
      "| F  | 0.1389 | -0.1250 | -0.0139 |\n",
      "+----+--------+---------+---------+\n",
      "Опорное решение найдено!\n",
      "x4 = x3 = 0, \n",
      "x2 = 0.111, x1 = 0.028\n",
      "Целевая функция: F = 0.139\n",
      "Поиск оптимального решения:\n",
      "Оптимальное решение найдено!\n",
      "x4 = x3 = 0, \n",
      "x2 = 0.111, x1 = 0.028\n",
      "Целевая функция: F = 0.139\n"
     ]
    }
   ],
   "source": [
    "player_a_solution = player_a_problem.solve()\n",
    "player_a_var_values, player_a_target_function_value = player_a_solution"
   ]
  },
  {
   "cell_type": "code",
   "execution_count": 13,
   "id": "10e45c75aba08b98",
   "metadata": {
    "collapsed": false,
    "ExecuteTime": {
     "end_time": "2024-02-13T19:34:21.866381Z",
     "start_time": "2024-02-13T19:34:21.853256Z"
    }
   },
   "outputs": [
    {
     "name": "stdout",
     "output_type": "stream",
     "text": [
      "Цена игры: 7 <= 7.200 <= 8\n",
      "Оптимальная смешанная стратегия игрока A:\n",
      "[0.2, 0.8, 0.0, 0.0]\n"
     ]
    }
   ],
   "source": [
    "# Смешанные стратегии игрока A и цена игры.\n",
    "_, lowest_game_price = reduced_matrix.lowest_game_price\n",
    "_, highest_game_price = reduced_matrix.highest_game_price\n",
    "resulted_game_price = 1 / player_a_target_function_value\n",
    "\n",
    "assert lowest_game_price <= resulted_game_price <= highest_game_price\n",
    "\n",
    "print(f\"Цена игры: {lowest_game_price} <= {resulted_game_price:.3f} <= {highest_game_price}\")\n",
    "player_a_mixed_strategies = [round(var_value * resulted_game_price, 3) for var_value in player_a_var_values]\n",
    "print(f\"Оптимальная смешанная стратегия игрока A:\\n\"\n",
    "      f\"{player_a_mixed_strategies}\")"
   ]
  },
  {
   "cell_type": "markdown",
   "id": "15066c95c8cce9a9",
   "metadata": {
    "collapsed": false
   },
   "source": [
    "##### 2.4.2. Прямая задача ЛП для игрока B"
   ]
  },
  {
   "cell_type": "code",
   "execution_count": 14,
   "id": "c2ee351da28967e5",
   "metadata": {
    "collapsed": false,
    "ExecuteTime": {
     "end_time": "2024-02-13T19:34:21.866554Z",
     "start_time": "2024-02-13T19:34:21.855721Z"
    }
   },
   "outputs": [
    {
     "data": {
      "text/plain": "Условие задачи:\nНайти вектор x = (x1,x2,..., xn)^T как решение след. задачи:\nF = cx -> max,\nAx <= b,\nx1,x2, ..., xn >= 0\nC = [-1 -1],\nA =\n[[0 8]\n [9 7]],\nb^T = [1 1]."
     },
     "execution_count": 14,
     "metadata": {},
     "output_type": "execute_result"
    }
   ],
   "source": [
    "player_b_problem = SimplexProblem(input_path)\n",
    "player_b_problem"
   ]
  },
  {
   "cell_type": "code",
   "execution_count": 15,
   "id": "b1fc34db80607244",
   "metadata": {
    "collapsed": false,
    "ExecuteTime": {
     "end_time": "2024-02-13T19:34:21.922027Z",
     "start_time": "2024-02-13T19:34:21.859503Z"
    }
   },
   "outputs": [
    {
     "name": "stderr",
     "output_type": "stream",
     "text": [
      "Процесс решения:\n",
      "Поиск опорного решения: \n",
      "Исходная симплекс-таблица:\n",
      "+----+--------+--------+--------+\n",
      "|    |  Si0   |   x1   |   x2   |\n",
      "+----+--------+--------+--------+\n",
      "| x3 | 1.0000 | 0.0000 | 8.0000 |\n",
      "| x4 | 1.0000 | 9.0000 | 7.0000 |\n",
      "| F  | 0.0000 | 1.0000 | 1.0000 |\n",
      "+----+--------+--------+--------+\n",
      "Опорное решение найдено!\n",
      "x1 = x2 = 0, \n",
      "x3 = 1.000, x4 = 1.000\n",
      "Целевая функция: F = 0.000\n",
      "Поиск оптимального решения:\n",
      "Разрешающая строка: x4\n",
      "Разрешающий столбец: x1\n",
      "+----+---------+---------+--------+\n",
      "|    |   Si0   |    x4   |   x2   |\n",
      "+----+---------+---------+--------+\n",
      "| x3 |  1.0000 | -0.0000 | 8.0000 |\n",
      "| x1 |  0.1111 |  0.1111 | 0.7778 |\n",
      "| F  | -0.1111 | -0.1111 | 0.2222 |\n",
      "+----+---------+---------+--------+\n",
      "Разрешающая строка: x3\n",
      "Разрешающий столбец: x2\n",
      "+----+---------+---------+---------+\n",
      "|    |   Si0   |    x4   |    x3   |\n",
      "+----+---------+---------+---------+\n",
      "| x2 |  0.1250 | -0.0000 |  0.1250 |\n",
      "| x1 |  0.0139 |  0.1111 | -0.0972 |\n",
      "| F  | -0.1389 | -0.1111 | -0.0278 |\n",
      "+----+---------+---------+---------+\n",
      "Оптимальное решение найдено!\n",
      "x4 = x3 = 0, \n",
      "x2 = 0.125, x1 = 0.014\n",
      "Целевая функция: F = 0.139\n"
     ]
    }
   ],
   "source": [
    "player_b_solution = player_b_problem.solve()\n",
    "player_b_var_values, player_b_target_function_value = player_b_solution"
   ]
  },
  {
   "cell_type": "code",
   "execution_count": 16,
   "id": "4ec92f245c7f200a",
   "metadata": {
    "collapsed": false,
    "ExecuteTime": {
     "end_time": "2024-02-13T19:34:21.923192Z",
     "start_time": "2024-02-13T19:34:21.874712Z"
    }
   },
   "outputs": [
    {
     "name": "stdout",
     "output_type": "stream",
     "text": [
      "Цена игры: 7 <= 7.200 <= 8\n",
      "Оптимальная смешанная стратегия игрока B: [0.1, 0.9, 0.0, 0.0]\n"
     ]
    }
   ],
   "source": [
    "# Смешанные стратегии игрока B и цена игры.\n",
    "_, lowest_game_price = reduced_matrix.lowest_game_price\n",
    "_, highest_game_price = reduced_matrix.highest_game_price\n",
    "resulted_game_price = 1 / player_b_target_function_value\n",
    "\n",
    "assert lowest_game_price <= resulted_game_price <= highest_game_price\n",
    "\n",
    "print(f\"Цена игры: {lowest_game_price} <= {resulted_game_price:.3f} <= {highest_game_price}\")\n",
    "player_b_mixed_strategies = [round(var_value * resulted_game_price, 3) for var_value in player_b_var_values]\n",
    "print(f\"Оптимальная смешанная стратегия игрока B: {player_b_mixed_strategies}\")"
   ]
  }
 ],
 "metadata": {
  "kernelspec": {
   "display_name": "Python 3 (ipykernel)",
   "language": "python",
   "name": "python3"
  },
  "language_info": {
   "codemirror_mode": {
    "name": "ipython",
    "version": 3
   },
   "file_extension": ".py",
   "mimetype": "text/x-python",
   "name": "python",
   "nbconvert_exporter": "python",
   "pygments_lexer": "ipython3",
   "version": "3.11.4"
  }
 },
 "nbformat": 4,
 "nbformat_minor": 5
}
