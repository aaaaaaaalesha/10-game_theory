{
 "cells": [
  {
   "cell_type": "markdown",
   "id": "21b8b2da9f5a4bcf",
   "metadata": {
    "collapsed": false
   },
   "source": [
    "# Расчетно-графическое домашнее задание\n",
    "\n",
    "### Выполнил: Александров А. Н., ИУ8-104\n",
    "### Вариант: 1\n",
    "\n",
    "## Задание\n",
    "Задана платежная матрица прямоугольной игры с нулевой суммой.\n",
    "\n",
    "\n",
    "| 4  | -3 | 5  | 6  | 4 |\n",
    "|:--:|:--:|:--:|:--:|:-:|\n",
    "| 6  | 5  | -3 | 4  | 7 |\n",
    "| 6  | 5  | -3 | -3 | 5 |\n",
    "| -3 | -3 | 4  | 4  | 4 |\n",
    "| 7  | 6  | 4  | 5  | 6 |\n",
    "\n",
    "\n",
    "1. Нормализовать матрицу (привести к матрице с неотрицательными элементами) и свести исходную игру к матричной игре 2×2 следующими способами:\n",
    "   - поглощением доминируемых стратегий;\n",
    "   - удалением NBR-стратегий (Never Best Response).\n",
    "2. Найти смешанные стратегии игроков следующими методами:\n",
    "   - графоаналитическим;\n",
    "   - аналитическим (матричным);\n",
    "   - графически (задача ЛП);\n",
    "   - симплекс-методом (задача ЛП).\n",
    "3. Рассчитать цену игры для исходной матрицы.\n"
   ]
  },
  {
   "cell_type": "code",
   "execution_count": 1,
   "id": "initial_id",
   "metadata": {
    "collapsed": false,
    "ExecuteTime": {
     "end_time": "2024-02-13T06:50:39.267333Z",
     "start_time": "2024-02-13T06:50:39.027129Z"
    }
   },
   "outputs": [],
   "source": [
    "import json\n",
    "import logging\n",
    "from pathlib import Path\n",
    "\n",
    "import numpy as np\n",
    "\n",
    "from game_theory.utils.simplex.simplex_problem import SimplexProblem\n",
    "from game_theory.utils.simplex.dual_problem import DualProblem\n",
    "from game_theory.utils.matrix_games.game_matrix import GameMatrix\n",
    "\n",
    "logging.basicConfig(level=logging.INFO, format='%(message)s')"
   ]
  },
  {
   "cell_type": "code",
   "execution_count": 2,
   "outputs": [
    {
     "data": {
      "text/plain": "+---------------------------------------------------------+\n|               Таблица стратегий (игрока А)              |\n+----------------+----+----+----+----+----+---------------+\n|   Стратегии    | b1 | b2 | b3 | b4 | b5 | MIN выигрыш A |\n+----------------+----+----+----+----+----+---------------+\n|       a1       | 4  | -3 | 5  | 6  | 4  |       -3      |\n|       a2       | 6  | 5  | -3 | 4  | 7  |       -3      |\n|       a3       | 6  | 5  | -3 | -3 | 5  |       -3      |\n|       a4       | -3 | -3 | 4  | 4  | 4  |       -3      |\n|       a5       | 7  | 6  | 4  | 5  | 6  |       4       |\n| MAX проигрыш B | 7  | 6  | 5  | 6  | 7  |               |\n+----------------+----+----+----+----+----+---------------+"
     },
     "execution_count": 2,
     "metadata": {},
     "output_type": "execute_result"
    }
   ],
   "source": [
    "# Входная матрица прямоугольной игры с нулевой суммой.\n",
    "matrix = np.array(\n",
    "    [\n",
    "        [4, -3, 5, 6, 4],\n",
    "        [6, 5, -3, 4, 7],\n",
    "        [6, 5, -3, -3, 5],\n",
    "        [-3, -3, 4, 4, 4],\n",
    "        [7, 6, 4, 5, 6],\n",
    "    ],\n",
    "    dtype=int,\n",
    ")\n",
    "\n",
    "game_matrix = GameMatrix(matrix)\n",
    "game_matrix"
   ],
   "metadata": {
    "collapsed": false,
    "ExecuteTime": {
     "end_time": "2024-02-13T06:50:39.276910Z",
     "start_time": "2024-02-13T06:50:39.271291Z"
    }
   },
   "id": "abf13d13a3b1a780"
  },
  {
   "cell_type": "markdown",
   "id": "38c2dae8364d1134",
   "metadata": {
    "collapsed": false
   },
   "source": [
    "### 1. Нормализация матрицы. Уменьшение размерности исходной матричной игры"
   ]
  },
  {
   "cell_type": "code",
   "execution_count": 3,
   "outputs": [
    {
     "data": {
      "text/plain": "+---------------------------------------------------------+\n|               Таблица стратегий (игрока А)              |\n+----------------+----+----+----+----+----+---------------+\n|   Стратегии    | b1 | b2 | b3 | b4 | b5 | MIN выигрыш A |\n+----------------+----+----+----+----+----+---------------+\n|       a1       | 7  | 0  | 8  | 9  | 7  |       0       |\n|       a2       | 9  | 8  | 0  | 7  | 10 |       0       |\n|       a3       | 9  | 8  | 0  | 0  | 8  |       0       |\n|       a4       | 0  | 0  | 7  | 7  | 7  |       0       |\n|       a5       | 10 | 9  | 7  | 8  | 9  |       7       |\n| MAX проигрыш B | 10 | 9  | 8  | 9  | 10 |               |\n+----------------+----+----+----+----+----+---------------+"
     },
     "execution_count": 3,
     "metadata": {},
     "output_type": "execute_result"
    }
   ],
   "source": [
    "game_matrix.normalize_matrix()\n",
    "game_matrix"
   ],
   "metadata": {
    "collapsed": false,
    "ExecuteTime": {
     "end_time": "2024-02-13T06:50:39.279473Z",
     "start_time": "2024-02-13T06:50:39.276724Z"
    }
   },
   "id": "b614ac4040cd7f3c"
  },
  {
   "cell_type": "markdown",
   "id": "3a0a874c6d46e78a",
   "metadata": {
    "collapsed": false
   },
   "source": [
    "#### 1.1. Поглощение доминируемых стратегий\n",
    "\n",
    "**Доминирующая (поглощающая) строка** содержит элементы $\\geq$ элементам другой строки (поглощаемой).\n",
    "\n",
    "**Доминируюший (поглощающая) столбец** содержит элементы $\\leq$ элементам другого столбца (поглощаемого)."
   ]
  },
  {
   "cell_type": "code",
   "execution_count": 4,
   "id": "d37c4a70-6079-468a-9a9a-2ff49b4b862b",
   "metadata": {
    "ExecuteTime": {
     "end_time": "2024-02-13T06:50:39.341942Z",
     "start_time": "2024-02-13T06:50:39.283667Z"
    }
   },
   "outputs": [
    {
     "name": "stderr",
     "output_type": "stream",
     "text": [
      "Поглощение стратегии a3 доминирующей стратегией a2\n",
      "Поглощение стратегии a4 доминирующей стратегией a1\n",
      "Поглощение стратегии b1 доминирующей стратегией b2\n",
      "Поглощение стратегии b4 доминирующей стратегией b3\n",
      "Поглощение стратегии b5 доминирующей стратегией b2\n",
      "Поглощение стратегии a2 доминирующей стратегией a5\n"
     ]
    },
    {
     "data": {
      "text/plain": "+------------------------------------------+\n|       Таблица стратегий (игрока А)       |\n+----------------+----+----+---------------+\n|   Стратегии    | b2 | b3 | MIN выигрыш A |\n+----------------+----+----+---------------+\n|       a1       | 0  | 8  |       0       |\n|       a5       | 9  | 7  |       7       |\n| MAX проигрыш B | 9  | 8  |               |\n+----------------+----+----+---------------+"
     },
     "execution_count": 4,
     "metadata": {},
     "output_type": "execute_result"
    }
   ],
   "source": [
    "reduced_matrix: GameMatrix = game_matrix.reduce_dimension(mode='dominant_absorption')\n",
    "reduced_matrix"
   ]
  },
  {
   "cell_type": "markdown",
   "source": [
    "#### 1.2. Удаление NBR-стратегий"
   ],
   "metadata": {
    "collapsed": false
   },
   "id": "99e88d827c41cc52"
  },
  {
   "cell_type": "code",
   "execution_count": 5,
   "outputs": [
    {
     "ename": "NotImplementedError",
     "evalue": "Этот метод я пока не прошёл :(",
     "output_type": "error",
     "traceback": [
      "\u001B[0;31m---------------------------------------------------------------------------\u001B[0m",
      "\u001B[0;31mNotImplementedError\u001B[0m                       Traceback (most recent call last)",
      "Cell \u001B[0;32mIn[5], line 1\u001B[0m\n\u001B[0;32m----> 1\u001B[0m reduced_matrix: GameMatrix \u001B[38;5;241m=\u001B[39m \u001B[43mgame_matrix\u001B[49m\u001B[38;5;241;43m.\u001B[39;49m\u001B[43mreduce_dimension\u001B[49m\u001B[43m(\u001B[49m\u001B[43mmode\u001B[49m\u001B[38;5;241;43m=\u001B[39;49m\u001B[38;5;124;43m'\u001B[39;49m\u001B[38;5;124;43mnbr_drop\u001B[39;49m\u001B[38;5;124;43m'\u001B[39;49m\u001B[43m)\u001B[49m\n\u001B[1;32m      2\u001B[0m reduced_matrix\n",
      "File \u001B[0;32m~/Dev/10-game_theory/game_theory/utils/matrix_games/game_matrix.py:106\u001B[0m, in \u001B[0;36mGameMatrix.reduce_dimension\u001B[0;34m(self, mode)\u001B[0m\n\u001B[1;32m    104\u001B[0m     reduced_matrix: GameMatrix \u001B[38;5;241m=\u001B[39m \u001B[38;5;28mself\u001B[39m\u001B[38;5;241m.\u001B[39m_dominant_absorption_reduce()\n\u001B[1;32m    105\u001B[0m \u001B[38;5;28;01mcase\u001B[39;00m \u001B[38;5;124m\"\u001B[39m\u001B[38;5;124mnbr_drop\u001B[39m\u001B[38;5;124m\"\u001B[39m:\n\u001B[0;32m--> 106\u001B[0m     reduced_matrix: GameMatrix \u001B[38;5;241m=\u001B[39m \u001B[38;5;28;43mself\u001B[39;49m\u001B[38;5;241;43m.\u001B[39;49m\u001B[43m_nbr_drop_reduce\u001B[49m\u001B[43m(\u001B[49m\u001B[43m)\u001B[49m\n\u001B[1;32m    107\u001B[0m \u001B[38;5;28;01mcase\u001B[39;00m\u001B[38;5;250m \u001B[39m\u001B[38;5;28;01m_\u001B[39;00m:\n\u001B[1;32m    108\u001B[0m     exc_msg \u001B[38;5;241m=\u001B[39m \u001B[38;5;124mf\u001B[39m\u001B[38;5;124m\"\u001B[39m\u001B[38;5;124mInvalid mode of reducing matrix: \u001B[39m\u001B[38;5;132;01m{\u001B[39;00mmode\u001B[38;5;132;01m}\u001B[39;00m\u001B[38;5;124m\"\u001B[39m\n",
      "File \u001B[0;32m~/Dev/10-game_theory/game_theory/utils/matrix_games/game_matrix.py:154\u001B[0m, in \u001B[0;36mGameMatrix._nbr_drop_reduce\u001B[0;34m(self)\u001B[0m\n\u001B[1;32m    152\u001B[0m \u001B[38;5;250m\u001B[39m\u001B[38;5;124;03m\"\"\"Сводит к минимуму размерность матричной игры удалением NBR-стратегий.\"\"\"\u001B[39;00m\n\u001B[1;32m    153\u001B[0m exc_msg \u001B[38;5;241m=\u001B[39m \u001B[38;5;124m\"\u001B[39m\u001B[38;5;124mЭтот метод я пока не прошёл :(\u001B[39m\u001B[38;5;124m\"\u001B[39m\n\u001B[0;32m--> 154\u001B[0m \u001B[38;5;28;01mraise\u001B[39;00m \u001B[38;5;167;01mNotImplementedError\u001B[39;00m(exc_msg)\n",
      "\u001B[0;31mNotImplementedError\u001B[0m: Этот метод я пока не прошёл :("
     ]
    }
   ],
   "source": [
    "reduced_matrix: GameMatrix = game_matrix.reduce_dimension(mode='nbr_drop')\n",
    "reduced_matrix"
   ],
   "metadata": {
    "collapsed": false,
    "ExecuteTime": {
     "end_time": "2024-02-13T06:50:39.444119Z",
     "start_time": "2024-02-13T06:50:39.291146Z"
    }
   },
   "id": "eb7a191aec92b535"
  },
  {
   "cell_type": "markdown",
   "source": [
    "### 2. Нахождение смешанных стратегий\n",
    "\n",
    "$S_A = p_1 + p_2 + ... + p_n$ - смешанная стратегия игрока A.\n",
    "$S_B = q_1 + q_2 + ... + q_m$ - смешанная стратегия игрока B."
   ],
   "metadata": {
    "collapsed": false
   },
   "id": "bb92fa4020975ac8"
  },
  {
   "cell_type": "markdown",
   "source": [
    "#### 2.1. Графоаналитический метод"
   ],
   "metadata": {
    "collapsed": false
   },
   "id": "17ff14bae03dd695"
  },
  {
   "cell_type": "code",
   "execution_count": null,
   "outputs": [],
   "source": [],
   "metadata": {
    "collapsed": false,
    "ExecuteTime": {
     "end_time": "2024-02-13T06:50:39.447803Z",
     "start_time": "2024-02-13T06:50:39.446460Z"
    }
   },
   "id": "a031ea7294fa8008"
  },
  {
   "cell_type": "markdown",
   "source": [
    "#### 2.2. Аналитический (матричный) метод"
   ],
   "metadata": {
    "collapsed": false
   },
   "id": "ba365a010d3bbf61"
  },
  {
   "cell_type": "code",
   "execution_count": 5,
   "outputs": [],
   "source": [],
   "metadata": {
    "collapsed": false,
    "ExecuteTime": {
     "end_time": "2024-02-13T06:51:12.080196Z",
     "start_time": "2024-02-13T06:51:12.068098Z"
    }
   },
   "id": "5ac6f72011f0f5d8"
  },
  {
   "cell_type": "markdown",
   "source": [
    "#### 2.3. Графический метод (задача ЛП)"
   ],
   "metadata": {
    "collapsed": false
   },
   "id": "7808b337690b451f"
  },
  {
   "cell_type": "code",
   "execution_count": 5,
   "outputs": [],
   "source": [],
   "metadata": {
    "collapsed": false,
    "ExecuteTime": {
     "end_time": "2024-02-13T06:51:12.729993Z",
     "start_time": "2024-02-13T06:51:12.727657Z"
    }
   },
   "id": "299fc8a7453266c0"
  },
  {
   "cell_type": "markdown",
   "source": [
    "#### 2.4. Симплекс-метод (задача ЛП)\n",
    "\n",
    "<div style=\"text-align:center;\">\n",
    "    <img src=\"img/system_matrix_game.png\" alt=\"system_matrix_game\" width=\"450\" height=\"330\">\n",
    "    <img src=\"img/LP_task_01.png\" alt=\"LP_task_01\" width=\"450\" height=\"330\">\n",
    "</div>\n",
    "<div style=\"text-align:center;\">\n",
    "    <img src=\"img/LP_task_02.png\" alt=\"LP_task_02\" width=\"450\" height=\"330\">\n",
    "</div>\n"
   ],
   "metadata": {
    "collapsed": false
   },
   "id": "1f8bb8a9807b625"
  },
  {
   "cell_type": "code",
   "execution_count": 10,
   "outputs": [
    {
     "name": "stdout",
     "output_type": "stream",
     "text": [
      "[[0, 8], [9, 7]]\n"
     ]
    },
    {
     "data": {
      "text/plain": "+------------------------------------------+\n|       Таблица стратегий (игрока А)       |\n+----------------+----+----+---------------+\n|   Стратегии    | b2 | b3 | MIN выигрыш A |\n+----------------+----+----+---------------+\n|       a1       | 0  | 8  |       0       |\n|       a5       | 9  | 7  |       7       |\n| MAX проигрыш B | 9  | 8  |               |\n+----------------+----+----+---------------+"
     },
     "execution_count": 10,
     "metadata": {},
     "output_type": "execute_result"
    }
   ],
   "source": [
    "print(reduced_matrix.game_matrix.tolist())\n",
    "type(reduced_matrix.game_matrix)\n",
    "reduced_matrix"
   ],
   "metadata": {
    "collapsed": false,
    "ExecuteTime": {
     "end_time": "2024-02-13T06:52:54.802421Z",
     "start_time": "2024-02-13T06:52:54.776971Z"
    }
   },
   "id": "ca01c33c1266ec87"
  },
  {
   "cell_type": "code",
   "execution_count": 13,
   "outputs": [
    {
     "data": {
      "text/plain": "132"
     },
     "execution_count": 13,
     "metadata": {},
     "output_type": "execute_result"
    }
   ],
   "source": [
    "n_rows, n_cols = reduced_matrix.game_matrix.shape\n",
    "input_data = {\n",
    "    \"obj_func_coffs\": [1] * n_cols,\n",
    "    \"constraint_system_lhs\": (reduced_matrix.game_matrix * (-1)).tolist(),\n",
    "    \"constraint_system_rhs\": [-1] * n_rows,\n",
    "    \"func_direction\": \"min\"\n",
    "}\n",
    "\n",
    "input_path = Path('input.json')\n",
    "input_path.write_text(json.dumps(input_data))"
   ],
   "metadata": {
    "collapsed": false,
    "ExecuteTime": {
     "end_time": "2024-02-13T06:56:49.059035Z",
     "start_time": "2024-02-13T06:56:49.041998Z"
    }
   },
   "id": "c2edf8ec6a4ce08a"
  },
  {
   "cell_type": "markdown",
   "source": [
    "##### 2.4.1. Двойственная задача ЛП для игрока A"
   ],
   "metadata": {
    "collapsed": false
   },
   "id": "940b1eb75acf6faa"
  },
  {
   "cell_type": "code",
   "execution_count": 14,
   "outputs": [
    {
     "name": "stderr",
     "output_type": "stream",
     "text": [
      "F = cx -> max,\n",
      "Ax >= 1,\n",
      "x1, x2, ..., xn >= 0\n",
      "C = [1 1]\n",
      "A =\n",
      "[[ 0 -9]\n",
      " [-8 -7]],\n",
      "b^T = [1 1].\n"
     ]
    }
   ],
   "source": [
    "dual_problem = DualProblem(input_path)"
   ],
   "metadata": {
    "collapsed": false,
    "ExecuteTime": {
     "end_time": "2024-02-13T06:57:02.105343Z",
     "start_time": "2024-02-13T06:57:02.091022Z"
    }
   },
   "id": "1f0440b58b176c7c"
  },
  {
   "cell_type": "code",
   "execution_count": 15,
   "outputs": [
    {
     "name": "stderr",
     "output_type": "stream",
     "text": [
      "Процесс решения:\n",
      "Поиск опорного решения:\n",
      "Исходная симплекс-таблица:\n",
      "+----+------+------+------+\n",
      "|    | Si0  |  x1  |  x2  |\n",
      "+----+------+------+------+\n",
      "| x3 | -1.0 | 0.0  | 9.0  |\n",
      "| x4 | -1.0 | 8.0  | 7.0  |\n",
      "| F  | 0.0  | -1.0 | -1.0 |\n",
      "+----+------+------+------+\n"
     ]
    },
    {
     "ename": "SimplexProblemException",
     "evalue": "Задача не имеет допустимых решений! При нахождении опорного решения не нашлось отрицательного элемента в строке с отрицательным свободным членом.",
     "output_type": "error",
     "traceback": [
      "\u001B[0;31m---------------------------------------------------------------------------\u001B[0m",
      "\u001B[0;31mSimplexProblemException\u001B[0m                   Traceback (most recent call last)",
      "Cell \u001B[0;32mIn[15], line 1\u001B[0m\n\u001B[0;32m----> 1\u001B[0m \u001B[43mdual_problem\u001B[49m\u001B[38;5;241;43m.\u001B[39;49m\u001B[43msolve\u001B[49m\u001B[43m(\u001B[49m\u001B[43m)\u001B[49m\n",
      "File \u001B[0;32m~/Dev/10-game_theory/game_theory/utils/simplex/simplex_problem.py:80\u001B[0m, in \u001B[0;36mSimplexProblem.solve\u001B[0;34m(self)\u001B[0m\n\u001B[1;32m     75\u001B[0m \u001B[38;5;250m\u001B[39m\u001B[38;5;124;03m\"\"\"\u001B[39;00m\n\u001B[1;32m     76\u001B[0m \u001B[38;5;124;03mЗапуск решения задачи.\u001B[39;00m\n\u001B[1;32m     77\u001B[0m \u001B[38;5;124;03m:returns: Значение целевой функции F после оптимизации.\u001B[39;00m\n\u001B[1;32m     78\u001B[0m \u001B[38;5;124;03m\"\"\"\u001B[39;00m\n\u001B[1;32m     79\u001B[0m _logger\u001B[38;5;241m.\u001B[39minfo(\u001B[38;5;124m\"\u001B[39m\u001B[38;5;124mПроцесс решения:\u001B[39m\u001B[38;5;124m\"\u001B[39m)\n\u001B[0;32m---> 80\u001B[0m \u001B[38;5;28;43mself\u001B[39;49m\u001B[38;5;241;43m.\u001B[39;49m\u001B[43mreference_solution\u001B[49m\u001B[43m(\u001B[49m\u001B[43m)\u001B[49m\n\u001B[1;32m     81\u001B[0m \u001B[38;5;28mself\u001B[39m\u001B[38;5;241m.\u001B[39moptimal_solution()\n\u001B[1;32m     83\u001B[0m last_row_ind: \u001B[38;5;28mint\u001B[39m \u001B[38;5;241m=\u001B[39m \u001B[38;5;28mself\u001B[39m\u001B[38;5;241m.\u001B[39msimplex_table_\u001B[38;5;241m.\u001B[39mmain_table_\u001B[38;5;241m.\u001B[39mshape[\u001B[38;5;241m0\u001B[39m] \u001B[38;5;241m-\u001B[39m \u001B[38;5;241m1\u001B[39m\n",
      "File \u001B[0;32m~/Dev/10-game_theory/game_theory/utils/simplex/simplex_problem.py:99\u001B[0m, in \u001B[0;36mSimplexProblem.reference_solution\u001B[0;34m(self)\u001B[0m\n\u001B[1;32m     89\u001B[0m _logger\u001B[38;5;241m.\u001B[39minfo(\n\u001B[1;32m     90\u001B[0m     \u001B[38;5;124m\"\u001B[39m\u001B[38;5;130;01m\\n\u001B[39;00m\u001B[38;5;124m\"\u001B[39m\u001B[38;5;241m.\u001B[39mjoin(\n\u001B[1;32m     91\u001B[0m         (\n\u001B[0;32m   (...)\u001B[0m\n\u001B[1;32m     96\u001B[0m     )\n\u001B[1;32m     97\u001B[0m )\n\u001B[1;32m     98\u001B[0m \u001B[38;5;28;01mwhile\u001B[39;00m \u001B[38;5;129;01mnot\u001B[39;00m \u001B[38;5;28mself\u001B[39m\u001B[38;5;241m.\u001B[39msimplex_table_\u001B[38;5;241m.\u001B[39mis_find_ref_solution():\n\u001B[0;32m---> 99\u001B[0m     \u001B[38;5;28;43mself\u001B[39;49m\u001B[38;5;241;43m.\u001B[39;49m\u001B[43msimplex_table_\u001B[49m\u001B[38;5;241;43m.\u001B[39;49m\u001B[43msearch_ref_solution\u001B[49m\u001B[43m(\u001B[49m\u001B[43m)\u001B[49m\n\u001B[1;32m    101\u001B[0m _logger\u001B[38;5;241m.\u001B[39minfo(\u001B[38;5;124m\"\u001B[39m\u001B[38;5;124mОпорное решение найдено!\u001B[39m\u001B[38;5;124m\"\u001B[39m)\n\u001B[1;32m    102\u001B[0m \u001B[38;5;28mself\u001B[39m\u001B[38;5;241m.\u001B[39m__output_solution()\n",
      "File \u001B[0;32m~/Dev/10-game_theory/game_theory/utils/simplex/simplex_table.py:97\u001B[0m, in \u001B[0;36mSimplexTable.search_ref_solution\u001B[0;34m(self)\u001B[0m\n\u001B[1;32m     91\u001B[0m \u001B[38;5;28;01mif\u001B[39;00m res_col \u001B[38;5;129;01mis\u001B[39;00m \u001B[38;5;28;01mNone\u001B[39;00m:\n\u001B[1;32m     92\u001B[0m     exc_msg \u001B[38;5;241m=\u001B[39m (\n\u001B[1;32m     93\u001B[0m         \u001B[38;5;124m\"\u001B[39m\u001B[38;5;124mЗадача не имеет допустимых решений! \u001B[39m\u001B[38;5;124m\"\u001B[39m\n\u001B[1;32m     94\u001B[0m         \u001B[38;5;124m\"\u001B[39m\u001B[38;5;124mПри нахождении опорного решения не нашлось \u001B[39m\u001B[38;5;124m\"\u001B[39m\n\u001B[1;32m     95\u001B[0m         \u001B[38;5;124m\"\u001B[39m\u001B[38;5;124mотрицательного элемента в строке с отрицательным свободным членом.\u001B[39m\u001B[38;5;124m\"\u001B[39m\n\u001B[1;32m     96\u001B[0m     )\n\u001B[0;32m---> 97\u001B[0m     \u001B[38;5;28;01mraise\u001B[39;00m SimplexProblemException(exc_msg)\n\u001B[1;32m     99\u001B[0m \u001B[38;5;66;03m# Ищем минимальное положительное отношение Si0 / x[res_col].\u001B[39;00m\n\u001B[1;32m    100\u001B[0m minimum \u001B[38;5;241m=\u001B[39m \u001B[38;5;28;01mNone\u001B[39;00m\n",
      "\u001B[0;31mSimplexProblemException\u001B[0m: Задача не имеет допустимых решений! При нахождении опорного решения не нашлось отрицательного элемента в строке с отрицательным свободным членом."
     ]
    }
   ],
   "source": [
    "dual_problem.solve()"
   ],
   "metadata": {
    "collapsed": false,
    "ExecuteTime": {
     "end_time": "2024-02-13T06:57:10.165715Z",
     "start_time": "2024-02-13T06:57:10.097103Z"
    }
   },
   "id": "39b2be22091e9839"
  },
  {
   "cell_type": "markdown",
   "source": [
    "##### 2.4.2. Прямая задача ЛП для игрока B"
   ],
   "metadata": {
    "collapsed": false
   },
   "id": "15066c95c8cce9a9"
  },
  {
   "cell_type": "code",
   "execution_count": 16,
   "outputs": [
    {
     "data": {
      "text/plain": "Условие задачи:\nНайти вектор x = (x1,x2,..., xn)^T как решение след. задачи:\nF = cx -> min,\nAx <= b,\nx1,x2, ..., xn >= 0\nC = [1 1],\nA =\n[[ 0 -8]\n [-9 -7]],\nb^T = [-1 -1]."
     },
     "execution_count": 16,
     "metadata": {},
     "output_type": "execute_result"
    }
   ],
   "source": [
    "simplex_problem = SimplexProblem(input_path)\n",
    "simplex_problem"
   ],
   "metadata": {
    "collapsed": false,
    "ExecuteTime": {
     "end_time": "2024-02-13T06:57:15.580984Z",
     "start_time": "2024-02-13T06:57:15.577917Z"
    }
   },
   "id": "c2ee351da28967e5"
  },
  {
   "cell_type": "code",
   "execution_count": 17,
   "outputs": [
    {
     "name": "stderr",
     "output_type": "stream",
     "text": [
      "Процесс решения:\n",
      "Поиск опорного решения:\n",
      "Исходная симплекс-таблица:\n",
      "+----+------+------+------+\n",
      "|    | Si0  |  x1  |  x2  |\n",
      "+----+------+------+------+\n",
      "| x3 | -1.0 | 0.0  | -8.0 |\n",
      "| x4 | -1.0 | -9.0 | -7.0 |\n",
      "| F  | 0.0  | -1.0 | -1.0 |\n",
      "+----+------+------+------+\n",
      "Разрешающая строка: x3\n",
      "Разрешающий столбец: x2\n",
      "+----+--------+------+--------+\n",
      "|    |  Si0   |  x1  |   x3   |\n",
      "+----+--------+------+--------+\n",
      "| x2 | 0.125  | -0.0 | -0.125 |\n",
      "| x4 | -0.125 | -9.0 | -0.875 |\n",
      "| F  | 0.125  | -1.0 | -0.125 |\n",
      "+----+--------+------+--------+\n",
      "Разрешающая строка: x4\n",
      "Разрешающий столбец: x1\n",
      "+----+--------+---------+---------+\n",
      "|    |  Si0   |    x4   |    x3   |\n",
      "+----+--------+---------+---------+\n",
      "| x2 | 0.125  |   -0.0  |  -0.125 |\n",
      "| x1 | 0.0139 | -0.1111 |  0.0972 |\n",
      "| F  | 0.1389 | -0.1111 | -0.0278 |\n",
      "+----+--------+---------+---------+\n",
      "Опорное решение найдено!\n",
      "x4 = x3 = 0, \n",
      "x2 = 0.12, x1 = 0.01\n",
      "Целевая функция: F = 0.14\n",
      "Поиск оптимального решения:\n",
      "Оптимальное решение найдено!\n",
      "x4 = x3 = 0, \n",
      "x2 = 0.12, x1 = 0.01\n",
      "Целевая функция: F = 0.14\n"
     ]
    },
    {
     "data": {
      "text/plain": "0.1389"
     },
     "execution_count": 17,
     "metadata": {},
     "output_type": "execute_result"
    }
   ],
   "source": [
    "simplex_problem.solve()"
   ],
   "metadata": {
    "collapsed": false,
    "ExecuteTime": {
     "end_time": "2024-02-13T06:57:16.149292Z",
     "start_time": "2024-02-13T06:57:16.141292Z"
    }
   },
   "id": "b1fc34db80607244"
  },
  {
   "cell_type": "code",
   "execution_count": null,
   "outputs": [],
   "source": [],
   "metadata": {
    "collapsed": false,
    "ExecuteTime": {
     "start_time": "2024-02-13T06:50:39.459103Z"
    }
   },
   "id": "c9753977f17d384f"
  }
 ],
 "metadata": {
  "kernelspec": {
   "display_name": "Python 3 (ipykernel)",
   "language": "python",
   "name": "python3"
  },
  "language_info": {
   "codemirror_mode": {
    "name": "ipython",
    "version": 3
   },
   "file_extension": ".py",
   "mimetype": "text/x-python",
   "name": "python",
   "nbconvert_exporter": "python",
   "pygments_lexer": "ipython3",
   "version": "3.11.4"
  }
 },
 "nbformat": 4,
 "nbformat_minor": 5
}
