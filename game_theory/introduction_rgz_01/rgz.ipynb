{
 "cells": [
  {
   "cell_type": "markdown",
   "source": [
    "# Расчетно-графическое домашнее задание\n",
    "\n",
    "### Выполнил: Александров А. Н. ИУ8-104\n",
    "### Вариант: 1\n",
    "\n",
    "## Задание\n",
    "Задана платежная матрица прямоугольной игры с нулевой суммой.\n",
    "\n",
    "\n",
    "| 4  | -3 | 5  | 6  | 4 |\n",
    "|:--:|:--:|:--:|:--:|:-:|\n",
    "| 6  | 5  | -3 | 4  | 7 |\n",
    "| 6  | 5  | -3 | -3 | 5 |\n",
    "| -3 | -3 | 4  | 4  | 4 |\n",
    "| 7  | 6  | 4  | 5  | 6 |\n",
    "\n",
    "\n",
    "1. Нормализовать матрицу (привести к матрице с неотрицательными элементами) и свести исходную игру к матричной игре 2×2 следующими способами:\n",
    "   - поглощением доминируемых стратегий;\n",
    "   - удалением NBR-стратегий (Never Best Response).\n",
    "2. Найти смешанные стратегии игроков следующими методами:\n",
    "   - графоаналитическим;\n",
    "   - аналитическим (матричным);\n",
    "   - графически (задача ЛП);\n",
    "   - симплекс-методом (задача ЛП).\n",
    "3. Рассчитать цену игры для исходной матрицы.\n"
   ],
   "metadata": {
    "collapsed": false
   },
   "id": "21b8b2da9f5a4bcf"
  },
  {
   "cell_type": "code",
   "execution_count": 1,
   "outputs": [],
   "source": [
    "\"\"\"Dependencies.\"\"\"\n",
    "import json\n",
    "from pathlib import Path"
   ],
   "metadata": {
    "collapsed": false,
    "ExecuteTime": {
     "end_time": "2024-02-11T08:29:35.111696100Z",
     "start_time": "2024-02-11T08:29:34.963843600Z"
    }
   },
   "id": "initial_id"
  },
  {
   "cell_type": "markdown",
   "source": [
    "### 1. Нормализация матрицы"
   ],
   "metadata": {
    "collapsed": false
   },
   "id": "38c2dae8364d1134"
  },
  {
   "cell_type": "markdown",
   "source": [
    "#### 1.1. Поглощение доминируемых стратегий\n",
    "\n",
    "**Доминируемая (поглощающая) строка** содержит элементы >= элементам другой строки (поглощаемой).\n",
    "\n",
    "**Доминируемый (поглощающая) столбец** содержит элементы <= элементам другого столбца (поглощаемого)."
   ],
   "metadata": {
    "collapsed": false
   },
   "id": "3a0a874c6d46e78a"
  },
  {
   "cell_type": "code",
   "execution_count": 3,
   "id": "d37c4a70-6079-468a-9a9a-2ff49b4b862b",
   "metadata": {
    "ExecuteTime": {
     "end_time": "2024-02-11T09:09:17.251283200Z",
     "start_time": "2024-02-11T09:09:17.238755200Z"
    }
   },
   "outputs": [],
   "source": []
  },
  {
   "cell_type": "code",
   "execution_count": 3,
   "id": "11860925fefc46c9",
   "metadata": {
    "collapsed": false,
    "ExecuteTime": {
     "end_time": "2024-02-11T09:09:17.410770800Z",
     "start_time": "2024-02-11T09:09:17.390254400Z"
    }
   },
   "outputs": [],
   "source": []
  },
  {
   "cell_type": "code",
   "execution_count": 3,
   "id": "c7d1c684-e8d5-4f44-b699-9bf4eb13a403",
   "metadata": {
    "ExecuteTime": {
     "end_time": "2024-02-11T09:09:17.674524800Z",
     "start_time": "2024-02-11T09:09:17.666002400Z"
    }
   },
   "outputs": [],
   "source": []
  },
  {
   "cell_type": "code",
   "execution_count": 3,
   "id": "4c47a211-2d91-451c-b933-844e8930c8c8",
   "metadata": {
    "ExecuteTime": {
     "end_time": "2024-02-11T09:09:18.178085500Z",
     "start_time": "2024-02-11T09:09:18.169563900Z"
    }
   },
   "outputs": [],
   "source": []
  },
  {
   "cell_type": "code",
   "execution_count": 3,
   "outputs": [],
   "source": [],
   "metadata": {
    "collapsed": false,
    "ExecuteTime": {
     "end_time": "2024-02-11T09:09:20.114603Z",
     "start_time": "2024-02-11T09:09:20.101252500Z"
    }
   },
   "id": "847f2d804fef8f34"
  },
  {
   "cell_type": "code",
   "execution_count": 3,
   "outputs": [],
   "source": [],
   "metadata": {
    "collapsed": false,
    "ExecuteTime": {
     "end_time": "2024-02-11T09:09:22.246868100Z",
     "start_time": "2024-02-11T09:09:22.235283200Z"
    }
   },
   "id": "724074b81c46055c"
  },
  {
   "cell_type": "code",
   "execution_count": null,
   "outputs": [],
   "source": [],
   "metadata": {
    "collapsed": false
   },
   "id": "3b10b06eaa946718"
  }
 ],
 "metadata": {
  "kernelspec": {
   "display_name": "Python 3 (ipykernel)",
   "language": "python",
   "name": "python3"
  },
  "language_info": {
   "codemirror_mode": {
    "name": "ipython",
    "version": 3
   },
   "file_extension": ".py",
   "mimetype": "text/x-python",
   "name": "python",
   "nbconvert_exporter": "python",
   "pygments_lexer": "ipython3",
   "version": "3.11.4"
  }
 },
 "nbformat": 4,
 "nbformat_minor": 5
}
