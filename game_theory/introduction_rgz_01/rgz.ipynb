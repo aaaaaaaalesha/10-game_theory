{
 "cells": [
  {
   "cell_type": "markdown",
   "id": "21b8b2da9f5a4bcf",
   "metadata": {
    "collapsed": false
   },
   "source": [
    "# Расчетно-графическое домашнее задание\n",
    "\n",
    "**Выполнил: Александров А. Н., ИУ8-104**\n",
    "\n",
    "**Вариант: 1**\n",
    "\n",
    "## Задание\n",
    "Задана платежная матрица прямоугольной игры с нулевой суммой.\n",
    "\n",
    "\n",
    "| 4  | -3 | 5  | 6  | 4 |\n",
    "|:--:|:--:|:--:|:--:|:-:|\n",
    "| 6  | 5  | -3 | 4  | 7 |\n",
    "| 6  | 5  | -3 | -3 | 5 |\n",
    "| -3 | -3 | 4  | 4  | 4 |\n",
    "| 7  | 6  | 4  | 5  | 6 |\n",
    "\n",
    "\n",
    "1. Нормализовать матрицу (привести к матрице с неотрицательными элементами) и свести исходную игру к матричной игре 2×2 следующими способами:\n",
    "   - [x] поглощением доминируемых стратегий;\n",
    "   - [x] удалением NBR-стратегий (Never Best Response).\n",
    "2. Найти смешанные стратегии игроков следующими методами:\n",
    "   - [x] графоаналитическим;\n",
    "   - [x] аналитическим (матричным);\n",
    "   - [x] графически (задача ЛП);\n",
    "   - [x] симплекс-методом (задача ЛП).\n",
    "3. Рассчитать цену игры для исходной матрицы."
   ]
  },
  {
   "cell_type": "code",
   "execution_count": 1,
   "id": "initial_id",
   "metadata": {
    "collapsed": false,
    "ExecuteTime": {
     "end_time": "2024-02-27T07:11:37.769740Z",
     "start_time": "2024-02-27T07:11:37.217350Z"
    }
   },
   "outputs": [],
   "source": [
    "import json\n",
    "import logging\n",
    "from pathlib import Path\n",
    "\n",
    "import matplotlib.pyplot as plt\n",
    "import numpy as np\n",
    "\n",
    "from game_theory.utils.matrix_games.analytical import AnalyticalSolver\n",
    "from game_theory.utils.matrix_games.game_matrix import GameMatrix\n",
    "from game_theory.utils.matrix_games.mixed_strategies import (\n",
    "    check_resulted_game_price,\n",
    "    get_resulted_mixed_strategies,\n",
    ")\n",
    "from game_theory.utils.simplex.dual_problem import DualProblem\n",
    "from game_theory.utils.simplex.simplex_problem import SimplexProblem\n",
    "\n",
    "logging.basicConfig(level=logging.INFO, format='%(message)s')"
   ]
  },
  {
   "cell_type": "code",
   "execution_count": 2,
   "id": "abf13d13a3b1a780",
   "metadata": {
    "collapsed": false,
    "ExecuteTime": {
     "end_time": "2024-02-27T07:11:37.775676Z",
     "start_time": "2024-02-27T07:11:37.771748Z"
    }
   },
   "outputs": [
    {
     "data": {
      "text/plain": "+---------------------------------------------------------+\n|               Таблица стратегий (игрока А)              |\n+----------------+----+----+----+----+----+---------------+\n|   Стратегии    | b1 | b2 | b3 | b4 | b5 | MIN выигрыш A |\n+----------------+----+----+----+----+----+---------------+\n|       a1       | 4  | -3 | 5  | 6  | 4  |       -3      |\n|       a2       | 6  | 5  | -3 | 4  | 7  |       -3      |\n|       a3       | 6  | 5  | -3 | -3 | 5  |       -3      |\n|       a4       | -3 | -3 | 4  | 4  | 4  |       -3      |\n|       a5       | 7  | 6  | 4  | 5  | 6  |       4       |\n| MAX проигрыш B | 7  | 6  | 5  | 6  | 7  |               |\n+----------------+----+----+----+----+----+---------------+"
     },
     "execution_count": 2,
     "metadata": {},
     "output_type": "execute_result"
    }
   ],
   "source": [
    "# Входная матрица прямоугольной игры с нулевой суммой.\n",
    "matrix = np.array(\n",
    "    [\n",
    "        [4, -3, 5, 6, 4],\n",
    "        [6, 5, -3, 4, 7],\n",
    "        [6, 5, -3, -3, 5],\n",
    "        [-3, -3, 4, 4, 4],\n",
    "        [7, 6, 4, 5, 6],\n",
    "    ],\n",
    "    dtype=int,\n",
    ")\n",
    "\n",
    "game_matrix = GameMatrix(matrix)\n",
    "game_matrix"
   ]
  },
  {
   "cell_type": "code",
   "execution_count": 3,
   "id": "66cbd04c-d8a0-4cbe-8468-ea5d7eed35ba",
   "metadata": {
    "ExecuteTime": {
     "end_time": "2024-02-27T07:11:37.777585Z",
     "start_time": "2024-02-27T07:11:37.775154Z"
    }
   },
   "outputs": [
    {
     "name": "stdout",
     "output_type": "stream",
     "text": [
      "Нижняя цена игры:  4\n",
      "Верхняя цена игры: 5\n"
     ]
    }
   ],
   "source": [
    "print(f\"Нижняя цена игры:  {game_matrix.lowest_game_price[1]}\\n\"\n",
    "      f\"Верхняя цена игры: {game_matrix.highest_game_price[1]}\")"
   ]
  },
  {
   "cell_type": "markdown",
   "id": "38c2dae8364d1134",
   "metadata": {
    "collapsed": false
   },
   "source": [
    "## 1. Нормализация матрицы. Уменьшение размерности исходной матричной игры"
   ]
  },
  {
   "cell_type": "code",
   "execution_count": 4,
   "id": "b614ac4040cd7f3c",
   "metadata": {
    "collapsed": false,
    "ExecuteTime": {
     "end_time": "2024-02-27T07:11:37.782196Z",
     "start_time": "2024-02-27T07:11:37.779038Z"
    }
   },
   "outputs": [
    {
     "name": "stderr",
     "output_type": "stream",
     "text": [
      "Прибавили ко всем элементам исходной матрицы 3\n"
     ]
    },
    {
     "data": {
      "text/plain": "+---------------------------------------------------------+\n|               Таблица стратегий (игрока А)              |\n+----------------+----+----+----+----+----+---------------+\n|   Стратегии    | b1 | b2 | b3 | b4 | b5 | MIN выигрыш A |\n+----------------+----+----+----+----+----+---------------+\n|       a1       | 7  | 0  | 8  | 9  | 7  |       0       |\n|       a2       | 9  | 8  | 0  | 7  | 10 |       0       |\n|       a3       | 9  | 8  | 0  | 0  | 8  |       0       |\n|       a4       | 0  | 0  | 7  | 7  | 7  |       0       |\n|       a5       | 10 | 9  | 7  | 8  | 9  |       7       |\n| MAX проигрыш B | 10 | 9  | 8  | 9  | 10 |               |\n+----------------+----+----+----+----+----+---------------+"
     },
     "execution_count": 4,
     "metadata": {},
     "output_type": "execute_result"
    }
   ],
   "source": [
    "normalizer: int = game_matrix.normalize_matrix()\n",
    "game_matrix"
   ]
  },
  {
   "cell_type": "code",
   "execution_count": 5,
   "id": "bdaf6a2706fffb81",
   "metadata": {
    "collapsed": false,
    "ExecuteTime": {
     "end_time": "2024-02-27T07:11:37.787320Z",
     "start_time": "2024-02-27T07:11:37.783850Z"
    }
   },
   "outputs": [
    {
     "name": "stdout",
     "output_type": "stream",
     "text": [
      "Нижняя цена игры:  7\n",
      "Верхняя цена игры: 8\n"
     ]
    }
   ],
   "source": [
    "print(f\"Нижняя цена игры:  {game_matrix.lowest_game_price[1]}\\n\"\n",
    "      f\"Верхняя цена игры: {game_matrix.highest_game_price[1]}\")"
   ]
  },
  {
   "cell_type": "markdown",
   "id": "3a0a874c6d46e78a",
   "metadata": {
    "collapsed": false
   },
   "source": [
    "### 1.1. Поглощение доминируемых стратегий\n",
    "<u>Опр. **Доминирующая (поглощающая) строка**</u> содержит элементы $\\geq$ элементам другой строки (поглощаемой).\n",
    "\n",
    "<u>Опр. **Доминирующий (поглощающая) столбец**</u> содержит элементы $\\leq$ элементам другого столбца (поглощаемого)."
   ]
  },
  {
   "cell_type": "code",
   "execution_count": 6,
   "id": "d37c4a70-6079-468a-9a9a-2ff49b4b862b",
   "metadata": {
    "ExecuteTime": {
     "end_time": "2024-02-27T07:11:37.848067Z",
     "start_time": "2024-02-27T07:11:37.788406Z"
    }
   },
   "outputs": [
    {
     "name": "stderr",
     "output_type": "stream",
     "text": [
      "a2 ≻ a3: поглощение стратегии a3 доминирующей стратегией a2\n",
      "a1 ≻ a4: поглощение стратегии a4 доминирующей стратегией a1\n",
      "b2 ≻ b1: поглощение стратегии b1 доминирующей стратегией b2\n",
      "b3 ≻ b4: поглощение стратегии b4 доминирующей стратегией b3\n",
      "b2 ≻ b5: поглощение стратегии b5 доминирующей стратегией b2\n",
      "a5 ≻ a2: поглощение стратегии a2 доминирующей стратегией a5\n"
     ]
    },
    {
     "data": {
      "text/plain": "+------------------------------------------+\n|       Таблица стратегий (игрока А)       |\n+----------------+----+----+---------------+\n|   Стратегии    | b2 | b3 | MIN выигрыш A |\n+----------------+----+----+---------------+\n|       a1       | 0  | 8  |       0       |\n|       a5       | 9  | 7  |       7       |\n| MAX проигрыш B | 9  | 8  |               |\n+----------------+----+----+---------------+"
     },
     "execution_count": 6,
     "metadata": {},
     "output_type": "execute_result"
    }
   ],
   "source": [
    "dominant_reduced_game: GameMatrix = game_matrix.reduce_dimension(method='dominant_absorption')\n",
    "dominant_reduced_game"
   ]
  },
  {
   "cell_type": "code",
   "execution_count": 7,
   "id": "691ee26bc3e859fe",
   "metadata": {
    "collapsed": false,
    "ExecuteTime": {
     "end_time": "2024-02-27T07:11:37.864519Z",
     "start_time": "2024-02-27T07:11:37.792789Z"
    }
   },
   "outputs": [
    {
     "name": "stdout",
     "output_type": "stream",
     "text": [
      "Нижняя цена игры:  7\n",
      "Верхняя цена игры: 8\n"
     ]
    }
   ],
   "source": [
    "print(f\"Нижняя цена игры:  {dominant_reduced_game.lowest_game_price[1]}\\n\"\n",
    "      f\"Верхняя цена игры: {dominant_reduced_game.highest_game_price[1]}\")"
   ]
  },
  {
   "cell_type": "markdown",
   "id": "99e88d827c41cc52",
   "metadata": {
    "collapsed": false
   },
   "source": [
    "### 1.2. Удаление NBR-стратегий\n",
    "\n",
    "<u>Опр. **NBR-строка**</u> - строка, которая объективно не будет разыгрываться игроком A для всех наперёд фиксированных стратегий B.\n",
    "\n",
    "<u>Опр. **NBR-столбец**</u> - столбец, который объективно не будет разыгрываться игроком B для всех наперёд фиксированных стратегий A."
   ]
  },
  {
   "cell_type": "code",
   "execution_count": 8,
   "id": "eb7a191aec92b535",
   "metadata": {
    "collapsed": false,
    "ExecuteTime": {
     "end_time": "2024-02-27T07:11:37.865812Z",
     "start_time": "2024-02-27T07:11:37.795707Z"
    }
   },
   "outputs": [
    {
     "name": "stderr",
     "output_type": "stream",
     "text": [
      "Удаление NBR-стратегий ['a3', 'a4']\n",
      "Удаление NBR-стратегий ['b1', 'b4', 'b5']\n",
      "Удаление NBR-стратегий ['a2']\n"
     ]
    },
    {
     "data": {
      "text/plain": "+------------------------------------------+\n|       Таблица стратегий (игрока А)       |\n+----------------+----+----+---------------+\n|   Стратегии    | b2 | b3 | MIN выигрыш A |\n+----------------+----+----+---------------+\n|       a1       | 0  | 8  |       0       |\n|       a5       | 9  | 7  |       7       |\n| MAX проигрыш B | 9  | 8  |               |\n+----------------+----+----+---------------+"
     },
     "execution_count": 8,
     "metadata": {},
     "output_type": "execute_result"
    }
   ],
   "source": [
    "# Вычеркиваем столбцы и строки, которые мы точно не выберем при фиксированной стратегии.\n",
    "nbr_reduced_game: GameMatrix = game_matrix.reduce_dimension(method='nbr_drop')\n",
    "nbr_reduced_game"
   ]
  },
  {
   "cell_type": "code",
   "execution_count": 9,
   "id": "5215efd9effeabac",
   "metadata": {
    "collapsed": false,
    "ExecuteTime": {
     "end_time": "2024-02-27T07:11:37.866019Z",
     "start_time": "2024-02-27T07:11:37.800176Z"
    }
   },
   "outputs": [
    {
     "name": "stdout",
     "output_type": "stream",
     "text": [
      "Нижняя цена игры:  7\n",
      "Верхняя цена игры: 8\n"
     ]
    }
   ],
   "source": [
    "print(f\"Нижняя цена игры:  {nbr_reduced_game.lowest_game_price[1]}\\n\"\n",
    "      f\"Верхняя цена игры: {nbr_reduced_game.highest_game_price[1]}\")"
   ]
  },
  {
   "cell_type": "code",
   "execution_count": 10,
   "id": "db1fe80f20fa0256",
   "metadata": {
    "collapsed": false,
    "ExecuteTime": {
     "end_time": "2024-02-27T07:11:37.866452Z",
     "start_time": "2024-02-27T07:11:37.803522Z"
    }
   },
   "outputs": [],
   "source": [
    "assert dominant_reduced_game == nbr_reduced_game\n",
    "reduced_game: GameMatrix = nbr_reduced_game"
   ]
  },
  {
   "cell_type": "markdown",
   "id": "bb92fa4020975ac8",
   "metadata": {
    "collapsed": false
   },
   "source": [
    "## 2. Нахождение смешанных стратегий и цены игры"
   ]
  },
  {
   "cell_type": "markdown",
   "id": "17ff14bae03dd695",
   "metadata": {
    "collapsed": false
   },
   "source": [
    "### 2.1. Графоаналитический метод"
   ]
  },
  {
   "cell_type": "markdown",
   "id": "879f3b1c655c8a41",
   "metadata": {
    "collapsed": false
   },
   "source": [
    "#### 2.1.1. Для игрока A\n",
    "Пусть\n",
    "- $x_1$ - вероятность выбора игроком A стратегии $a_1$.\n",
    "- $x_5 = 1 - x_1$ - вероятность выбора игроком A стратегии $a_5$.\n",
    "\n",
    "Ожидаемый выигрыш A при реализации стратегии $b_2$:\n",
    "\n",
    "$PA_{b2} = c_{12}x_{1} + c_{52}x_5 = (c_{12} - c_{52})x_5 + c_{52}$\n",
    "\n",
    "Ожидаемый выигрыш A при реализации стратегии $b_3$:\n",
    "\n",
    "$PA_{b3} = c_{13}x_{1} + c_{53}x_5 = (c_{13} - c_{53})x_5 + c_{53}$\n",
    "\n",
    "Оптимальная стратегия A: $PA_{b2} = PA_{b3}$"
   ]
  },
  {
   "cell_type": "code",
   "execution_count": 11,
   "id": "a031ea7294fa8008",
   "metadata": {
    "collapsed": false,
    "ExecuteTime": {
     "end_time": "2024-02-27T07:11:37.866931Z",
     "start_time": "2024-02-27T07:11:37.808049Z"
    }
   },
   "outputs": [],
   "source": [
    "assert reduced_game.matrix.shape == (2, 2)\n",
    "\n",
    "(a, b), (c, d) = reduced_game.matrix.tolist()\n",
    "PA_b_first = lambda x: (a - c) * x + c\n",
    "PA_b_second = lambda x: (b - d) * x + d\n",
    "\n",
    "# Находим точку пересечения решая систему Ax = b.\n",
    "PA_A = np.array([\n",
    "    [-(a - c), 1],\n",
    "    [-(b - d), 1],\n",
    "])\n",
    "PA_b = np.array([c, d])\n",
    "(x_intersect, y_intersect) = np.linalg.solve(PA_A, PA_b)"
   ]
  },
  {
   "cell_type": "code",
   "execution_count": 12,
   "id": "a7e10623a35bb35c",
   "metadata": {
    "collapsed": false,
    "ExecuteTime": {
     "end_time": "2024-02-27T07:11:37.974161Z",
     "start_time": "2024-02-27T07:11:37.813335Z"
    }
   },
   "outputs": [
    {
     "data": {
      "text/plain": "<Figure size 800x600 with 1 Axes>",
      "image/png": "[encoded data removed]"
     },
     "metadata": {},
     "output_type": "display_data"
    }
   ],
   "source": [
    "# Отрисовка графиков пересечения.\n",
    "X = np.linspace(0, 1, 50)\n",
    "PA_b_first_y = PA_b_first(X)\n",
    "PA_b_second_y = PA_b_second(X)\n",
    "max_PA_b_y = np.max(np.concatenate((PA_b_first_y, PA_b_second_y)))\n",
    "\n",
    "plt.figure(figsize=(8, 6))\n",
    "plt.title(\"Оптимальная стратегия игрока A\")\n",
    "\n",
    "PA_b_first_label, PA_b_second_label = reduced_game.player_b_strategy_labels\n",
    "plt.plot(X, PA_b_first_y, label=f\"PA_{PA_b_first_label} = {a - c}x + {c}\", color=\"red\")\n",
    "plt.plot(X, PA_b_second_y, label=f\"PA_{PA_b_second_label} = {b - d}x + {d}\", color=\"blue\")\n",
    "\n",
    "# Точка пересечения.\n",
    "plt.plot(x_intersect, y_intersect, \"o\", color=\"black\", label=\"max-min\")\n",
    "# Проекции точки пересечения на оси.\n",
    "plt.vlines(x_intersect, min(PA_b_first_y), y_intersect, color=\"black\", linestyles='dashed')\n",
    "plt.hlines(y_intersect, min(X), x_intersect, color=\"black\", linestyles='dashed')\n",
    "# Ограничение [0, 1] - вероятность.\n",
    "plt.xlim(0, 1)\n",
    "# Ограничение на нормализованные элементы матрицы.\n",
    "plt.ylim(0, max_PA_b_y)\n",
    "# Подписи осей.\n",
    "plt.xlabel(\"Вероятность выбора стратегии игроком A\")\n",
    "plt.ylabel(\"Ожидаемый выигрыш игрока A\")\n",
    "# Сегменты под графиками.\n",
    "plt.fill_between(X, PA_b_first_y, color='red', alpha=0.1)\n",
    "plt.fill_between(X, PA_b_second_y, color='blue', alpha=0.1)\n",
    "# Отображение значений координат точки пересечения на осях\n",
    "plt.text(x_intersect, 0.05, f'{x_intersect:.2f}')\n",
    "plt.text(-0.05, y_intersect, f'{y_intersect:.2f}')\n",
    "\n",
    "plt.legend(loc=(1.04, 0.2))\n",
    "plt.grid(True)"
   ]
  },
  {
   "cell_type": "code",
   "execution_count": 13,
   "id": "625c0d7f13997dfa",
   "metadata": {
    "jupyter": {
     "source_hidden": true
    },
    "ExecuteTime": {
     "end_time": "2024-02-27T07:11:37.980856Z",
     "start_time": "2024-02-27T07:11:37.976751Z"
    }
   },
   "outputs": [
    {
     "name": "stderr",
     "output_type": "stream",
     "text": [
      "Цена игры: 7 <= 7.200 <= 8\n"
     ]
    },
    {
     "name": "stdout",
     "output_type": "stream",
     "text": [
      "+----------------------------------+\n",
      "|   Смешанные стратегии игрока A   |\n",
      "+------+------+------+------+------+\n",
      "|  a1  |  a2  |  a3  |  a4  |  a5  |\n",
      "+------+------+------+------+------+\n",
      "| 0.20 | 0.00 | 0.00 | 0.00 | 0.80 |\n",
      "+------+------+------+------+------+\n"
     ]
    }
   ],
   "source": [
    "# Смешанные стратегии игрока A и цена игры.\n",
    "assert check_resulted_game_price(reduced_game, y_intersect)\n",
    "mixed_strategies = get_resulted_mixed_strategies(\n",
    "    player_labels=game_matrix.player_a_strategy_labels,\n",
    "    labels_to_probability=dict(zip(\n",
    "        reduced_game.player_a_strategy_labels,\n",
    "        [x_intersect, 1 - x_intersect],\n",
    "    )),\n",
    "    player_name=\"A\",\n",
    ")\n",
    "print(mixed_strategies)"
   ]
  },
  {
   "cell_type": "markdown",
   "id": "7dcde197f5794fb4",
   "metadata": {
    "collapsed": false
   },
   "source": [
    "#### 2.1.2. Для игрока B\n",
    "Пусть\n",
    "- $y_2$ - вероятность выбора игроком B стратегии $b_2$.\n",
    "- $y_3 = 1 - y_2$ - вероятность выбора игроком B стратегии $b_3$.\n",
    "\n",
    "Ожидаемый проигрыш B при реализации стратегии $a_1$:\n",
    "\n",
    "$PB_{a1} = c_{12}y_2 + c_{13}y_3 = (c_{12} - c_{13})y_2 + c_{13}$\n",
    "\n",
    "Ожидаемый проигрыш B при реализации стратегии $a_5$:\n",
    "\n",
    "$PB_{a5} = c_{52}y_2 + c_{53}y_3 = (c_{52} - c_{53})y_2 + c_{53}$\n",
    "\n",
    "Оптимальная стратегия B: $PB_{a1} = PB_{a5}$"
   ]
  },
  {
   "cell_type": "code",
   "execution_count": 14,
   "id": "cbd51cd7d27e2330",
   "metadata": {
    "collapsed": false,
    "ExecuteTime": {
     "end_time": "2024-02-27T07:11:37.988007Z",
     "start_time": "2024-02-27T07:11:37.984522Z"
    }
   },
   "outputs": [],
   "source": [
    "assert reduced_game.matrix.shape == (2, 2)\n",
    "\n",
    "(a, b), (c, d) = reduced_game.matrix.tolist()\n",
    "PB_a_first = lambda x: (a - b) * x + b\n",
    "PB_a_second = lambda x: (c - d) * x + d\n",
    "\n",
    "# Находим точку пересечения решая систему Ax = b.\n",
    "PB_A = np.array([\n",
    "    [-(a - b), 1],\n",
    "    [-(c - d), 1],\n",
    "])\n",
    "PB_b = np.array([b, d])\n",
    "(x_intersect, y_intersect) = np.linalg.solve(PB_A, PB_b)"
   ]
  },
  {
   "cell_type": "code",
   "execution_count": 15,
   "id": "a86836637588ff9",
   "metadata": {
    "collapsed": false,
    "ExecuteTime": {
     "end_time": "2024-02-27T07:11:38.266620Z",
     "start_time": "2024-02-27T07:11:37.997132Z"
    }
   },
   "outputs": [
    {
     "data": {
      "text/plain": "<Figure size 800x600 with 1 Axes>",
      "image/png": "[encoded data removed]"
     },
     "metadata": {},
     "output_type": "display_data"
    }
   ],
   "source": [
    "# Отрисовка графиков пересечения.\n",
    "X = np.linspace(0, 1, 50)\n",
    "PB_a_first_y = PB_a_first(X)\n",
    "PB_a_second_y = PB_a_second(X)\n",
    "max_PB_a_y = np.max(np.concatenate((PB_a_first_y, PB_a_second_y)))\n",
    "\n",
    "plt.figure(figsize=(8, 6))\n",
    "plt.title(\"Оптимальная стратегия игрока B\")\n",
    "\n",
    "PB_a_first_label, PB_a_second_label = reduced_game.player_a_strategy_labels\n",
    "plt.plot(X, PB_a_first_y, label=f\"PB_{PB_a_first_label} = {a - c}x + {b}\", color=\"red\")\n",
    "plt.plot(X, PB_a_second_y, label=f\"PB_{PB_a_second_label} = {c - d}x + {d}\", color=\"blue\")\n",
    "\n",
    "# Точка пересечения.\n",
    "plt.plot(x_intersect, y_intersect, \"o\", color=\"black\", label=\"min-max\")\n",
    "# Проекции точки пересечения на оси.\n",
    "plt.vlines(x_intersect, min(PB_a_first_y), y_intersect, color=\"black\", linestyles='dashed')\n",
    "plt.hlines(y_intersect, min(X), x_intersect, color=\"black\", linestyles='dashed')\n",
    "# Ограничение [0, 1] - вероятность.\n",
    "plt.xlim(0, 1)\n",
    "# Ограничение на нормализованные элементы матрицы.\n",
    "plt.ylim(0, max_PB_a_y)\n",
    "# Подписи осей.\n",
    "plt.xlabel(\"Вероятность выбора стратегии игроком B\")\n",
    "plt.ylabel(\"Ожидаемый проигрыш игрока B\")\n",
    "# Сегменты над графиками.\n",
    "plt.fill_between(X, PB_a_first_y, max_PB_a_y, color='red', alpha=0.1)\n",
    "plt.fill_between(X, PB_a_second_y, max_PB_a_y, color='blue', alpha=0.1)\n",
    "# Отображение значений координат точки пересечения на осях.\n",
    "plt.text(x_intersect, 0.05, f'{x_intersect:.2f}')\n",
    "plt.text(-0.05, y_intersect, f'{y_intersect:.2f}')\n",
    "\n",
    "plt.legend(loc=(1.04, 0.2))\n",
    "plt.grid(True)"
   ]
  },
  {
   "cell_type": "code",
   "execution_count": 16,
   "id": "59dbf36d1f1d6fd4",
   "metadata": {
    "jupyter": {
     "source_hidden": true
    },
    "ExecuteTime": {
     "end_time": "2024-02-27T07:11:38.283933Z",
     "start_time": "2024-02-27T07:11:38.147541Z"
    }
   },
   "outputs": [
    {
     "name": "stderr",
     "output_type": "stream",
     "text": [
      "Цена игры: 7 <= 7.200 <= 8\n"
     ]
    },
    {
     "name": "stdout",
     "output_type": "stream",
     "text": [
      "+----------------------------------+\n",
      "|   Смешанные стратегии игрока B   |\n",
      "+------+------+------+------+------+\n",
      "|  b1  |  b2  |  b3  |  b4  |  b5  |\n",
      "+------+------+------+------+------+\n",
      "| 0.00 | 0.10 | 0.90 | 0.00 | 0.00 |\n",
      "+------+------+------+------+------+\n"
     ]
    }
   ],
   "source": [
    "# Смешанные стратегии игрока B и цена игры.\n",
    "assert check_resulted_game_price(reduced_game, y_intersect)\n",
    "mixed_strategies = get_resulted_mixed_strategies(\n",
    "    player_labels=game_matrix.player_b_strategy_labels,\n",
    "    labels_to_probability=dict(zip(\n",
    "        reduced_game.player_b_strategy_labels,\n",
    "        [x_intersect, 1 - x_intersect],\n",
    "    )),\n",
    "    player_name=\"B\",\n",
    ")\n",
    "print(mixed_strategies)"
   ]
  },
  {
   "cell_type": "markdown",
   "id": "ba365a010d3bbf61",
   "metadata": {
    "collapsed": false
   },
   "source": [
    "### 2.2. Аналитический (матричный) метод"
   ]
  },
  {
   "cell_type": "markdown",
   "id": "5df4b1cf3fe9b40",
   "metadata": {
    "collapsed": false
   },
   "source": [
    "#### 2.2.1. Обратная матрица для игрока A\n",
    "\n",
    "Для игрока $A$ ($h$ - цена игры; $y_1, ..., y_m$ - смешанные стратегии игрока $A$):"
   ]
  },
  {
   "cell_type": "markdown",
   "id": "8fe5d2d9-0507-4eee-be2b-d20aa123bc80",
   "metadata": {},
   "source": [
    "![analytical_A](./img/analytical_A.png)"
   ]
  },
  {
   "cell_type": "code",
   "execution_count": 17,
   "id": "5ac6f72011f0f5d8",
   "metadata": {
    "collapsed": false,
    "ExecuteTime": {
     "end_time": "2024-02-27T07:11:38.284343Z",
     "start_time": "2024-02-27T07:11:38.157145Z"
    }
   },
   "outputs": [],
   "source": [
    "analytical_solver = AnalyticalSolver(reduced_game)\n",
    "first_mixed_strategy, second_mixed_strategy, game_price_value = analytical_solver.player_a_solve()"
   ]
  },
  {
   "cell_type": "code",
   "execution_count": 18,
   "id": "d0fdaa6278e7ee5d",
   "metadata": {
    "jupyter": {
     "source_hidden": true
    },
    "ExecuteTime": {
     "end_time": "2024-02-27T07:11:38.284662Z",
     "start_time": "2024-02-27T07:11:38.163855Z"
    }
   },
   "outputs": [
    {
     "name": "stderr",
     "output_type": "stream",
     "text": [
      "Цена игры: 7 <= 7.200 <= 8\n"
     ]
    },
    {
     "name": "stdout",
     "output_type": "stream",
     "text": [
      "+----------------------------------+\n",
      "|   Смешанные стратегии игрока A   |\n",
      "+------+------+------+------+------+\n",
      "|  a1  |  a2  |  a3  |  a4  |  a5  |\n",
      "+------+------+------+------+------+\n",
      "| 0.20 | 0.00 | 0.00 | 0.00 | 0.80 |\n",
      "+------+------+------+------+------+\n"
     ]
    }
   ],
   "source": [
    "# Смешанные стратегии игрока A и цена игры.\n",
    "assert check_resulted_game_price(\n",
    "    game_matrix=reduced_game,\n",
    "    game_price_value=game_price_value,\n",
    ")\n",
    "\n",
    "mixed_strategies = get_resulted_mixed_strategies(\n",
    "    player_labels=game_matrix.player_a_strategy_labels,\n",
    "    labels_to_probability=dict(zip(\n",
    "        reduced_game.player_a_strategy_labels,\n",
    "        (first_mixed_strategy, second_mixed_strategy),\n",
    "    )),\n",
    "    player_name=\"A\",\n",
    ")\n",
    "print(mixed_strategies)"
   ]
  },
  {
   "cell_type": "markdown",
   "id": "f20cc752bcb37b02",
   "metadata": {
    "collapsed": false
   },
   "source": [
    "#### 2.2.1. Прямая матрица для игрока B\n",
    "Для игрока $B$ ($g$ - цена игры; $x_1, ..., y_n$ - смешанные стратегии игрока $B$):"
   ]
  },
  {
   "cell_type": "markdown",
   "id": "a09be22539555561",
   "metadata": {
    "collapsed": false
   },
   "source": [
    "![analytical_B](./img/analytical_B.png)"
   ]
  },
  {
   "cell_type": "code",
   "execution_count": 19,
   "id": "741210ff6dc3c33c",
   "metadata": {
    "collapsed": false,
    "ExecuteTime": {
     "end_time": "2024-02-27T07:11:38.284747Z",
     "start_time": "2024-02-27T07:11:38.173693Z"
    }
   },
   "outputs": [],
   "source": [
    "analytical_solver = AnalyticalSolver(reduced_game)\n",
    "first_mixed_strategy, second_mixed_strategy, game_price_value = analytical_solver.player_b_solve()"
   ]
  },
  {
   "cell_type": "code",
   "execution_count": 20,
   "id": "c8d4055a2da2f614",
   "metadata": {
    "jupyter": {
     "source_hidden": true
    },
    "ExecuteTime": {
     "end_time": "2024-02-27T07:11:38.285267Z",
     "start_time": "2024-02-27T07:11:38.180631Z"
    }
   },
   "outputs": [
    {
     "name": "stderr",
     "output_type": "stream",
     "text": [
      "Цена игры: 7 <= 7.200 <= 8\n"
     ]
    },
    {
     "name": "stdout",
     "output_type": "stream",
     "text": [
      "+----------------------------------+\n",
      "|   Смешанные стратегии игрока B   |\n",
      "+------+------+------+------+------+\n",
      "|  b1  |  b2  |  b3  |  b4  |  b5  |\n",
      "+------+------+------+------+------+\n",
      "| 0.00 | 0.10 | 0.90 | 0.00 | 0.00 |\n",
      "+------+------+------+------+------+\n"
     ]
    }
   ],
   "source": [
    "# Смешанные стратегии игрока B и цена игры.\n",
    "assert check_resulted_game_price(\n",
    "    game_matrix=reduced_game,\n",
    "    game_price_value=game_price_value,\n",
    ")\n",
    "\n",
    "mixed_strategies = get_resulted_mixed_strategies(\n",
    "    player_labels=game_matrix.player_b_strategy_labels,\n",
    "    labels_to_probability=dict(zip(\n",
    "        reduced_game.player_b_strategy_labels,\n",
    "        (first_mixed_strategy, second_mixed_strategy),\n",
    "    )),\n",
    "    player_name=\"B\",\n",
    ")\n",
    "print(mixed_strategies)"
   ]
  },
  {
   "cell_type": "markdown",
   "id": "7808b337690b451f",
   "metadata": {
    "collapsed": false
   },
   "source": [
    "### 2.3. Графический метод (задача ЛП)\n",
    "\n",
    "<div style=\"text-align:left;\">\n",
    "    <img src=\"img/LP_task_02.png\" alt=\"LP_task_02\" width=\"600\" height=\"300\">\n",
    "</div>\n",
    "<div style=\"text-align:left;\">\n",
    "    <img src=\"img/system_matrix_game.png\" alt=\"system_matrix_game\" width=\"300\" height=\"330\">\n",
    "    <img src=\"img/LP_task_01.png\" alt=\"LP_task_01\" width=\"300\" height=\"330\">\n",
    "</div>"
   ]
  },
  {
   "cell_type": "code",
   "execution_count": 21,
   "id": "c2edf8ec6a4ce08a",
   "metadata": {
    "collapsed": false,
    "ExecuteTime": {
     "end_time": "2024-02-27T07:11:38.285388Z",
     "start_time": "2024-02-27T07:11:38.240757Z"
    }
   },
   "outputs": [],
   "source": [
    "# Подготовка входных данных ЗЛП.\n",
    "n_rows, n_cols = reduced_game.matrix.shape\n",
    "input_data = {\n",
    "    # F = x1 + x2\n",
    "    \"obj_func_coffs\": [1] * n_cols,\n",
    "    # A - матрица сериализуется в массив массивов JSON.\n",
    "    \"constraint_system_lhs\": reduced_game.matrix.tolist(),\n",
    "    # b - вектор-столбец ограничений.\n",
    "    \"constraint_system_rhs\": [1] * n_rows,\n",
    "    # Экстремум, направление оптимизации функции.\n",
    "    \"func_direction\": \"max\"\n",
    "}\n",
    "\n",
    "input_path = Path('input_LPP.json')\n",
    "_ = input_path.write_text(json.dumps(input_data, indent=2))"
   ]
  },
  {
   "cell_type": "markdown",
   "id": "830c91b3b6e49f5f",
   "metadata": {
    "collapsed": false
   },
   "source": [
    "#### 2.3.1. Двойственная ЗЛП для игрока A\n",
    "![LP_problem_A](./img/LP_problem_A.png) "
   ]
  },
  {
   "cell_type": "code",
   "execution_count": 22,
   "id": "6bd3c50f829b1c4d",
   "metadata": {
    "collapsed": false,
    "ExecuteTime": {
     "end_time": "2024-02-27T07:11:38.285472Z",
     "start_time": "2024-02-27T07:11:38.240921Z"
    }
   },
   "outputs": [],
   "source": [
    "assert reduced_game.matrix.shape == (2, 2)\n",
    "\n",
    "(a, b), (c, d) = reduced_game.matrix.tolist()\n",
    "# Прямая для 1-го ограничения.\n",
    "first_constraint = lambda y_1: (1 / c) - (a / c) * y_1\n",
    "# Прямая для 2-го ограничения.\n",
    "second_constraint = lambda y_1: (1 / d) - (b / d) * y_1\n",
    "# Точка пересечения.\n",
    "(y_1_intersect, y_2_intersect) = np.linalg.solve(\n",
    "    np.array([\n",
    "        [a, c],\n",
    "        [b, d],\n",
    "    ]),\n",
    "    np.array([1, 1]),\n",
    ")\n",
    "# Выражаем целевую функцию через y_2: y_2 = F - y_1, где F -> min.\n",
    "player_a_target_function_value = y_1_intersect + y_2_intersect\n",
    "F_func = lambda y_1: (y_1_intersect + y_2_intersect) - y_1"
   ]
  },
  {
   "cell_type": "code",
   "execution_count": 23,
   "id": "78d869b058ab0042",
   "metadata": {
    "collapsed": false,
    "ExecuteTime": {
     "end_time": "2024-02-27T07:11:38.456511Z",
     "start_time": "2024-02-27T07:11:38.241001Z"
    }
   },
   "outputs": [
    {
     "data": {
      "text/plain": "<Figure size 800x600 with 1 Axes>",
      "image/png": "[encoded data removed]"
     },
     "metadata": {},
     "output_type": "display_data"
    }
   ],
   "source": [
    "# Отрисовка графиков пересечения.\n",
    "X = np.linspace(0, 1, 100)\n",
    "first_constraint_y2 = first_constraint(X)\n",
    "second_constraint_y2 = second_constraint(X)\n",
    "F_y2 = F_func(X)\n",
    "max_y2 = np.max(np.concatenate((first_constraint_y2, second_constraint_y2))) + 0.15\n",
    "\n",
    "plt.figure(figsize=(8, 6))\n",
    "plt.title(\"Графическое решение ДЗ ЛП для игрока A\")\n",
    "\n",
    "plt.plot(X, first_constraint_y2, label=f\"y_2 ≥ {1 / c:.2f} + {- a / c:.2f}y_1\", color=\"red\")\n",
    "plt.plot(X, second_constraint_y2, label=f\"y_2 ≥ {1 / d:.2f} + {- b / d:.2f}y_1\", color=\"blue\")\n",
    "plt.plot(X, F_y2, \"--\", label=f\"y_2 = {y_1_intersect + y_2_intersect:.2f} - y_1\", color=\"purple\")\n",
    "\n",
    "# Точка пересечения.\n",
    "plt.plot(y_1_intersect, y_2_intersect, \"o\", color=\"purple\", label=\"min\")\n",
    "# Проекции точки пересечения на оси.\n",
    "plt.vlines(y_1_intersect, min(second_constraint_y2), y_2_intersect, color=\"black\", linestyles='dashed')\n",
    "plt.hlines(y_2_intersect, min(X), y_1_intersect, color=\"black\", linestyles='dashed')\n",
    "# Ограничения на неотрицательные решения.\n",
    "plt.xlim(0, 0.15)\n",
    "plt.ylim(0, 0.175)\n",
    "# Подписи осей.\n",
    "plt.xlabel(\"y_1\")\n",
    "plt.ylabel(\"y_2\")\n",
    "# Сегменты над графиками.\n",
    "plt.fill_between(X, first_constraint_y2, max_y2, color='red', alpha=0.1)\n",
    "plt.fill_between(X, second_constraint_y2,max_y2, color='blue', alpha=0.1)\n",
    "\n",
    "# Отображение значений координат точки пересечения на осях.\n",
    "plt.text(y_1_intersect, 0.002, f'{y_1_intersect:.3f}')\n",
    "plt.text(-0.01, y_2_intersect, f'{y_2_intersect:.3f}')\n",
    "\n",
    "plt.legend(loc=(1.04, 0.2))\n",
    "plt.grid(True)"
   ]
  },
  {
   "cell_type": "code",
   "execution_count": 24,
   "id": "30742de2bfefb39d",
   "metadata": {
    "jupyter": {
     "source_hidden": true
    },
    "ExecuteTime": {
     "end_time": "2024-02-27T07:11:38.457107Z",
     "start_time": "2024-02-27T07:11:38.390199Z"
    }
   },
   "outputs": [
    {
     "name": "stderr",
     "output_type": "stream",
     "text": [
      "Цена игры: 7 <= 7.200 <= 8\n"
     ]
    },
    {
     "name": "stdout",
     "output_type": "stream",
     "text": [
      "+----------------------------------+\n",
      "|   Смешанные стратегии игрока A   |\n",
      "+------+------+------+------+------+\n",
      "|  a1  |  a2  |  a3  |  a4  |  a5  |\n",
      "+------+------+------+------+------+\n",
      "| 0.20 | 0.00 | 0.00 | 0.00 | 0.80 |\n",
      "+------+------+------+------+------+\n"
     ]
    }
   ],
   "source": [
    "# Смешанные стратегии игрока A и цена игры.\n",
    "game_price_value = 1 / player_a_target_function_value\n",
    "assert check_resulted_game_price(\n",
    "    game_matrix=reduced_game,\n",
    "    game_price_value=game_price_value,\n",
    ")\n",
    "\n",
    "player_a_mixed_strategies = [\n",
    "    var_value * game_price_value \n",
    "    for var_value in [y_1_intersect, y_2_intersect]\n",
    "]\n",
    "player_a_mixed_strategies = player_a_mixed_strategies[:len(reduced_game.player_a_strategy_labels)]\n",
    "mixed_strategies = get_resulted_mixed_strategies(\n",
    "    player_labels=game_matrix.player_a_strategy_labels,\n",
    "    labels_to_probability=dict(zip(\n",
    "        reduced_game.player_a_strategy_labels,\n",
    "        player_a_mixed_strategies,\n",
    "    )),\n",
    "    player_name=\"A\",\n",
    ")\n",
    "print(mixed_strategies)"
   ]
  },
  {
   "cell_type": "markdown",
   "id": "926929e55da85bb1",
   "metadata": {
    "collapsed": false
   },
   "source": [
    "#### 2.3.2. Прямая ЗЛП для игрока B\n",
    "![LP_problem_B](./img/LP_problem_B.png) "
   ]
  },
  {
   "cell_type": "code",
   "execution_count": 25,
   "id": "37baa5178fac5598",
   "metadata": {
    "collapsed": false,
    "ExecuteTime": {
     "end_time": "2024-02-27T07:11:38.457232Z",
     "start_time": "2024-02-27T07:11:38.395462Z"
    }
   },
   "outputs": [],
   "source": [
    "assert reduced_game.matrix.shape == (2, 2)\n",
    "\n",
    "(a, b), (c, d) = reduced_game.matrix.tolist()\n",
    "# Прямая для 1-го ограничения.\n",
    "first_constraint = lambda x_1: (1 / b) - (a / b) * x_1\n",
    "# Прямая для 2-го ограничения.\n",
    "second_constraint = lambda x_1: (1 / d) - (c / d) * x_1\n",
    "# Точка пересечения.\n",
    "(x_1_intersect, x_2_intersect) = np.linalg.solve(\n",
    "    np.array([\n",
    "        [a, b],\n",
    "        [c, d],\n",
    "    ]),\n",
    "    np.array([1, 1]),\n",
    ")\n",
    "# Выражаем целевую функцию через x_2: x_2 = F - x_1, где F -> max.\n",
    "player_b_target_function_value = x_1_intersect + x_2_intersect\n",
    "F_func = lambda x_1: (x_1_intersect + x_2_intersect) - x_1"
   ]
  },
  {
   "cell_type": "code",
   "execution_count": 26,
   "id": "80ee4f96b7d01a4",
   "metadata": {
    "collapsed": false,
    "ExecuteTime": {
     "end_time": "2024-02-27T07:11:38.667199Z",
     "start_time": "2024-02-27T07:11:38.406814Z"
    }
   },
   "outputs": [
    {
     "data": {
      "text/plain": "<Figure size 800x600 with 1 Axes>",
      "image/png": "[encoded data removed]"
     },
     "metadata": {},
     "output_type": "display_data"
    }
   ],
   "source": [
    "# Отрисовка графиков пересечения.\n",
    "X = np.linspace(0, 1, 100)\n",
    "first_constraint_x2 = first_constraint(X)\n",
    "second_constraint_x2 = second_constraint(X)\n",
    "F_x2 = F_func(X)\n",
    "\n",
    "plt.figure(figsize=(8, 6))\n",
    "plt.title(\"Графическое решение ПЗ ЛП для игрока B\")\n",
    "\n",
    "plt.plot(X, first_constraint_x2, label=f\"x_2 ≤ {1 / b:.2f} + {- a / b:.2f}x_1\", color=\"red\")\n",
    "plt.plot(X, second_constraint_x2, label=f\"x_2 ≤ {1 / d:.2f} + {- c / d:.2f}x_1\", color=\"blue\")\n",
    "plt.plot(X, F_x2, \"--\", label=f\"x_2 = {x_1_intersect + x_2_intersect:.2f} - x_1\", color=\"purple\")\n",
    "\n",
    "# Точка пересечения.\n",
    "plt.plot(x_1_intersect, x_2_intersect, \"o\", color=\"purple\", label=\"max\")\n",
    "# Проекции точки пересечения на оси.\n",
    "plt.vlines(x_1_intersect, min(second_constraint_x2), x_2_intersect, color=\"black\", linestyles='dashed')\n",
    "plt.hlines(x_2_intersect, min(X), x_1_intersect, color=\"black\", linestyles='dashed')\n",
    "# Ограничения на неотрицательные решения.\n",
    "plt.xlim(0, 0.15)\n",
    "plt.ylim(0, 0.175)\n",
    "# Подписи осей.\n",
    "plt.xlabel(\"x_1\")\n",
    "plt.ylabel(\"x_2\")\n",
    "# Сегменты над графиками.\n",
    "plt.fill_between(X, first_constraint_x2, color='red', alpha=0.1)\n",
    "plt.fill_between(X, second_constraint_x2, color='blue', alpha=0.1)\n",
    "\n",
    "# Отображение значений координат точки пересечения на осях\n",
    "plt.text(x_1_intersect, 0.002, f'{x_1_intersect:.3f}')\n",
    "plt.text(-0.01, x_2_intersect, f'{x_2_intersect:.3f}')\n",
    "\n",
    "plt.legend(loc=(1.04, 0.2))\n",
    "plt.grid(True)"
   ]
  },
  {
   "cell_type": "code",
   "execution_count": 27,
   "id": "46c102a3df3ae68d",
   "metadata": {
    "jupyter": {
     "source_hidden": true
    },
    "ExecuteTime": {
     "end_time": "2024-02-27T07:11:38.667535Z",
     "start_time": "2024-02-27T07:11:38.516557Z"
    }
   },
   "outputs": [
    {
     "name": "stderr",
     "output_type": "stream",
     "text": [
      "Цена игры: 7 <= 7.200 <= 8\n"
     ]
    },
    {
     "name": "stdout",
     "output_type": "stream",
     "text": [
      "+----------------------------------+\n",
      "|   Смешанные стратегии игрока B   |\n",
      "+------+------+------+------+------+\n",
      "|  b1  |  b2  |  b3  |  b4  |  b5  |\n",
      "+------+------+------+------+------+\n",
      "| 0.00 | 0.10 | 0.90 | 0.00 | 0.00 |\n",
      "+------+------+------+------+------+\n"
     ]
    }
   ],
   "source": [
    "# Смешанные стратегии игрока B и цена игры.\n",
    "game_price_value = 1 / player_b_target_function_value\n",
    "assert check_resulted_game_price(\n",
    "    game_matrix=reduced_game,\n",
    "    game_price_value=game_price_value,\n",
    ")\n",
    "\n",
    "player_b_mixed_strategies = [var_value * game_price_value for var_value in [x_1_intersect, x_2_intersect]]\n",
    "player_b_mixed_strategies = player_b_mixed_strategies[:len(reduced_game.player_b_strategy_labels)]\n",
    "mixed_strategies = get_resulted_mixed_strategies(\n",
    "    player_labels=game_matrix.player_b_strategy_labels,\n",
    "    labels_to_probability=dict(zip(\n",
    "        reduced_game.player_b_strategy_labels,\n",
    "        player_b_mixed_strategies,\n",
    "    )),\n",
    "    player_name=\"B\",\n",
    ")\n",
    "print(mixed_strategies)"
   ]
  },
  {
   "cell_type": "markdown",
   "id": "1f8bb8a9807b625",
   "metadata": {
    "collapsed": false
   },
   "source": [
    "### 2.4. Симплекс-метод (задача ЛП)\n",
    "\n",
    "<div style=\"text-align:left;\">\n",
    "    <img src=\"img/LP_simplex.png\" alt=\"LP_task_02\" width=\"600\" height=\"300\">\n",
    "</div>\n"
   ]
  },
  {
   "cell_type": "markdown",
   "id": "940b1eb75acf6faa",
   "metadata": {
    "collapsed": false
   },
   "source": [
    "#### 2.4.1. Двойственная задача ЛП для игрока A"
   ]
  },
  {
   "cell_type": "code",
   "execution_count": 28,
   "id": "1f0440b58b176c7c",
   "metadata": {
    "collapsed": false,
    "ExecuteTime": {
     "end_time": "2024-02-27T07:11:38.667682Z",
     "start_time": "2024-02-27T07:11:38.521771Z"
    }
   },
   "outputs": [
    {
     "name": "stderr",
     "output_type": "stream",
     "text": [
      "F = b^T⋅x -> min,\n",
      "A^T⋅x >= c^T,\n",
      "x1, x2, ..., xn >= 0\n",
      "b^T = [1 1]\n",
      "A^T =\n",
      "[[0 9]\n",
      " [8 7]],\n",
      "c^T = [1 1].\n"
     ]
    }
   ],
   "source": [
    "player_a_problem = DualProblem(input_path)"
   ]
  },
  {
   "cell_type": "code",
   "execution_count": 29,
   "id": "39b2be22091e9839",
   "metadata": {
    "collapsed": false,
    "ExecuteTime": {
     "end_time": "2024-02-27T07:11:38.668585Z",
     "start_time": "2024-02-27T07:11:38.525574Z"
    }
   },
   "outputs": [
    {
     "name": "stderr",
     "output_type": "stream",
     "text": [
      "Процесс решения:\n",
      "Поиск опорного решения: \n",
      "Исходная симплекс-таблица:\n",
      "+----+---------+---------+---------+\n",
      "|    |   Si0   |    x1   |    x2   |\n",
      "+----+---------+---------+---------+\n",
      "| x3 | -1.0000 |  0.0000 | -9.0000 |\n",
      "| x4 | -1.0000 | -8.0000 | -7.0000 |\n",
      "| F  |  0.0000 | -1.0000 | -1.0000 |\n",
      "+----+---------+---------+---------+\n",
      "Разрешающая строка: x3\n",
      "Разрешающий столбец: x2\n",
      "+----+---------+---------+---------+\n",
      "|    |   Si0   |    x1   |    x3   |\n",
      "+----+---------+---------+---------+\n",
      "| x2 |  0.1111 | -0.0000 | -0.1111 |\n",
      "| x4 | -0.2222 | -8.0000 | -0.7778 |\n",
      "| F  |  0.1111 | -1.0000 | -0.1111 |\n",
      "+----+---------+---------+---------+\n",
      "Разрешающая строка: x4\n",
      "Разрешающий столбец: x1\n",
      "+----+--------+---------+---------+\n",
      "|    |  Si0   |    x4   |    x3   |\n",
      "+----+--------+---------+---------+\n",
      "| x2 | 0.1111 | -0.0000 | -0.1111 |\n",
      "| x1 | 0.0278 | -0.1250 |  0.0972 |\n",
      "| F  | 0.1389 | -0.1250 | -0.0139 |\n",
      "+----+--------+---------+---------+\n",
      "Опорное решение найдено!\n",
      "x4 = x3 = 0, \n",
      "x2 = 0.111, x1 = 0.028\n",
      "Целевая функция: F = 0.139\n",
      "Поиск оптимального решения:\n",
      "Оптимальное решение найдено!\n",
      "x4 = x3 = 0, \n",
      "x2 = 0.111, x1 = 0.028\n",
      "Целевая функция: F = 0.139\n"
     ]
    }
   ],
   "source": [
    "player_a_solution = player_a_problem.solve()\n",
    "player_a_var_values, player_a_target_function_value = player_a_solution"
   ]
  },
  {
   "cell_type": "code",
   "execution_count": 30,
   "id": "10e45c75aba08b98",
   "metadata": {
    "jupyter": {
     "source_hidden": true
    },
    "ExecuteTime": {
     "end_time": "2024-02-27T07:11:38.668842Z",
     "start_time": "2024-02-27T07:11:38.540168Z"
    }
   },
   "outputs": [
    {
     "name": "stderr",
     "output_type": "stream",
     "text": [
      "Цена игры: 7 <= 7.200 <= 8\n"
     ]
    },
    {
     "name": "stdout",
     "output_type": "stream",
     "text": [
      "+----------------------------------+\n",
      "|   Смешанные стратегии игрока A   |\n",
      "+------+------+------+------+------+\n",
      "|  a1  |  a2  |  a3  |  a4  |  a5  |\n",
      "+------+------+------+------+------+\n",
      "| 0.20 | 0.00 | 0.00 | 0.00 | 0.80 |\n",
      "+------+------+------+------+------+\n"
     ]
    }
   ],
   "source": [
    "# Смешанные стратегии игрока A и цена игры.\n",
    "game_price_value = 1 / player_a_target_function_value\n",
    "assert check_resulted_game_price(\n",
    "    game_matrix=reduced_game,\n",
    "    game_price_value=game_price_value,\n",
    ")\n",
    "\n",
    "player_a_mixed_strategies = [var_value * game_price_value for var_value in player_a_var_values]\n",
    "player_a_mixed_strategies = player_a_mixed_strategies[:len(reduced_game.player_a_strategy_labels)]\n",
    "mixed_strategies = get_resulted_mixed_strategies(\n",
    "    player_labels=game_matrix.player_a_strategy_labels,\n",
    "    labels_to_probability=dict(zip(\n",
    "        reduced_game.player_a_strategy_labels,\n",
    "        player_a_mixed_strategies,\n",
    "    )),\n",
    "    player_name=\"A\",\n",
    ")\n",
    "print(mixed_strategies)"
   ]
  },
  {
   "cell_type": "markdown",
   "id": "15066c95c8cce9a9",
   "metadata": {
    "collapsed": false
   },
   "source": [
    "#### 2.4.2. Прямая задача ЛП для игрока B"
   ]
  },
  {
   "cell_type": "code",
   "execution_count": 31,
   "id": "c2ee351da28967e5",
   "metadata": {
    "collapsed": false,
    "ExecuteTime": {
     "end_time": "2024-02-27T07:11:38.669239Z",
     "start_time": "2024-02-27T07:11:38.544925Z"
    }
   },
   "outputs": [
    {
     "data": {
      "text/plain": "F = c⋅x -> max,\nAx <= b,\nx1,x2, ..., xn >= 0\nc^T = [-1 -1],\nA =\n[[0 8]\n [9 7]],\nb^T = [1 1]."
     },
     "execution_count": 31,
     "metadata": {},
     "output_type": "execute_result"
    }
   ],
   "source": [
    "player_b_problem = SimplexProblem(input_path)\n",
    "player_b_problem"
   ]
  },
  {
   "cell_type": "code",
   "execution_count": 32,
   "id": "b1fc34db80607244",
   "metadata": {
    "collapsed": false,
    "ExecuteTime": {
     "end_time": "2024-02-27T07:11:38.670428Z",
     "start_time": "2024-02-27T07:11:38.548808Z"
    }
   },
   "outputs": [
    {
     "name": "stderr",
     "output_type": "stream",
     "text": [
      "Процесс решения:\n",
      "Поиск опорного решения: \n",
      "Исходная симплекс-таблица:\n",
      "+----+--------+--------+--------+\n",
      "|    |  Si0   |   x1   |   x2   |\n",
      "+----+--------+--------+--------+\n",
      "| x3 | 1.0000 | 0.0000 | 8.0000 |\n",
      "| x4 | 1.0000 | 9.0000 | 7.0000 |\n",
      "| F  | 0.0000 | 1.0000 | 1.0000 |\n",
      "+----+--------+--------+--------+\n",
      "Опорное решение найдено!\n",
      "x1 = x2 = 0, \n",
      "x3 = 1.000, x4 = 1.000\n",
      "Целевая функция: F = 0.000\n",
      "Поиск оптимального решения:\n",
      "Разрешающая строка: x4\n",
      "Разрешающий столбец: x1\n",
      "+----+---------+---------+--------+\n",
      "|    |   Si0   |    x4   |   x2   |\n",
      "+----+---------+---------+--------+\n",
      "| x3 |  1.0000 | -0.0000 | 8.0000 |\n",
      "| x1 |  0.1111 |  0.1111 | 0.7778 |\n",
      "| F  | -0.1111 | -0.1111 | 0.2222 |\n",
      "+----+---------+---------+--------+\n",
      "Разрешающая строка: x3\n",
      "Разрешающий столбец: x2\n",
      "+----+---------+---------+---------+\n",
      "|    |   Si0   |    x4   |    x3   |\n",
      "+----+---------+---------+---------+\n",
      "| x2 |  0.1250 | -0.0000 |  0.1250 |\n",
      "| x1 |  0.0139 |  0.1111 | -0.0972 |\n",
      "| F  | -0.1389 | -0.1111 | -0.0278 |\n",
      "+----+---------+---------+---------+\n",
      "Оптимальное решение найдено!\n",
      "x4 = x3 = 0, \n",
      "x2 = 0.125, x1 = 0.014\n",
      "Целевая функция: F = 0.139\n"
     ]
    }
   ],
   "source": [
    "player_b_solution = player_b_problem.solve()\n",
    "player_b_var_values, player_b_target_function_value = player_b_solution"
   ]
  },
  {
   "cell_type": "code",
   "execution_count": 33,
   "id": "4ec92f245c7f200a",
   "metadata": {
    "collapsed": false,
    "ExecuteTime": {
     "end_time": "2024-02-27T07:11:38.671163Z",
     "start_time": "2024-02-27T07:11:38.571312Z"
    }
   },
   "outputs": [
    {
     "name": "stderr",
     "output_type": "stream",
     "text": [
      "Цена игры: 7 <= 7.200 <= 8\n"
     ]
    },
    {
     "name": "stdout",
     "output_type": "stream",
     "text": [
      "+----------------------------------+\n",
      "|   Смешанные стратегии игрока B   |\n",
      "+------+------+------+------+------+\n",
      "|  b1  |  b2  |  b3  |  b4  |  b5  |\n",
      "+------+------+------+------+------+\n",
      "| 0.00 | 0.10 | 0.90 | 0.00 | 0.00 |\n",
      "+------+------+------+------+------+\n"
     ]
    }
   ],
   "source": [
    "# Смешанные стратегии игрока B и цена игры.\n",
    "game_price_value = 1 / player_b_target_function_value\n",
    "assert check_resulted_game_price(\n",
    "    game_matrix=reduced_game,\n",
    "    game_price_value=game_price_value,\n",
    ")\n",
    "\n",
    "player_b_mixed_strategies = [var_value * game_price_value for var_value in player_b_var_values]\n",
    "player_b_mixed_strategies = player_b_mixed_strategies[:len(reduced_game.player_b_strategy_labels)]\n",
    "mixed_strategies = get_resulted_mixed_strategies(\n",
    "    player_labels=game_matrix.player_b_strategy_labels,\n",
    "    labels_to_probability=dict(zip(\n",
    "        reduced_game.player_b_strategy_labels,\n",
    "        player_b_mixed_strategies,\n",
    "    )),\n",
    "    player_name=\"B\",\n",
    ")\n",
    "print(mixed_strategies)"
   ]
  },
  {
   "cell_type": "markdown",
   "id": "0a863d8b-aedc-4ad7-96c3-b7c02c4a3c89",
   "metadata": {},
   "source": [
    "### 3. Расчёт цены игры исходной матрицы\n",
    "Вспомним изначальную заданную матрицу игры, до нормализации и найдём её цену игры и смешанные стратегии игроков."
   ]
  },
  {
   "cell_type": "code",
   "execution_count": 34,
   "id": "9e6ec8a9-29b0-4dbf-9006-4a89aba3b593",
   "metadata": {
    "ExecuteTime": {
     "end_time": "2024-02-27T07:11:38.671485Z",
     "start_time": "2024-02-27T07:11:38.579064Z"
    }
   },
   "outputs": [
    {
     "data": {
      "text/plain": "+---------------------------------------------------------+\n|               Таблица стратегий (игрока А)              |\n+----------------+----+----+----+----+----+---------------+\n|   Стратегии    | b1 | b2 | b3 | b4 | b5 | MIN выигрыш A |\n+----------------+----+----+----+----+----+---------------+\n|       a1       | 4  | -3 | 5  | 6  | 4  |       -3      |\n|       a2       | 6  | 5  | -3 | 4  | 7  |       -3      |\n|       a3       | 6  | 5  | -3 | -3 | 5  |       -3      |\n|       a4       | -3 | -3 | 4  | 4  | 4  |       -3      |\n|       a5       | 7  | 6  | 4  | 5  | 6  |       4       |\n| MAX проигрыш B | 7  | 6  | 5  | 6  | 7  |               |\n+----------------+----+----+----+----+----+---------------+"
     },
     "execution_count": 34,
     "metadata": {},
     "output_type": "execute_result"
    }
   ],
   "source": [
    "# Вычитаем ранее добавленное слагаемое нормализации.\n",
    "game_matrix.matrix -= normalizer\n",
    "game_matrix"
   ]
  },
  {
   "cell_type": "code",
   "execution_count": 35,
   "id": "f04c80fb-632d-4ff0-b74b-7f821fb98523",
   "metadata": {
    "ExecuteTime": {
     "end_time": "2024-02-27T07:11:38.671617Z",
     "start_time": "2024-02-27T07:11:38.584037Z"
    }
   },
   "outputs": [
    {
     "name": "stdout",
     "output_type": "stream",
     "text": [
      "Нижняя цена игры:  4\n",
      "Верхняя цена игры: 5\n"
     ]
    }
   ],
   "source": [
    "print(f\"Нижняя цена игры:  {game_matrix.lowest_game_price[1]}\\n\"\n",
    "      f\"Верхняя цена игры: {game_matrix.highest_game_price[1]}\")"
   ]
  },
  {
   "cell_type": "code",
   "execution_count": 36,
   "id": "640f3063-ee0c-4bca-8a57-0ece9b381320",
   "metadata": {
    "ExecuteTime": {
     "end_time": "2024-02-27T07:11:38.671754Z",
     "start_time": "2024-02-27T07:11:38.590983Z"
    }
   },
   "outputs": [
    {
     "name": "stdout",
     "output_type": "stream",
     "text": [
      "Цена игры исходной матрицы: 4.20\n"
     ]
    }
   ],
   "source": [
    "original_game_price: float = game_price_value - normalizer\n",
    "print(f\"Цена игры исходной матрицы: {original_game_price:.2f}\")"
   ]
  }
 ],
 "metadata": {
  "kernelspec": {
   "display_name": "Python 3 (ipykernel)",
   "language": "python",
   "name": "python3"
  },
  "language_info": {
   "codemirror_mode": {
    "name": "ipython",
    "version": 3
   },
   "file_extension": ".py",
   "mimetype": "text/x-python",
   "name": "python",
   "nbconvert_exporter": "python",
   "pygments_lexer": "ipython3",
   "version": "3.11.4"
  }
 },
 "nbformat": 4,
 "nbformat_minor": 5
}
