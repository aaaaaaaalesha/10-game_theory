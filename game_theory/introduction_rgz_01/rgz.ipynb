{
 "cells": [
  {
   "cell_type": "markdown",
   "id": "21b8b2da9f5a4bcf",
   "metadata": {
    "collapsed": false
   },
   "source": [
    "# Расчетно-графическое домашнее задание\n",
    "\n",
    "**Выполнил: Александров А. Н., ИУ8-104**\n",
    "\n",
    "**Вариант: 1**\n",
    "\n",
    "## Задание\n",
    "Задана платежная матрица прямоугольной игры с нулевой суммой.\n",
    "\n",
    "\n",
    "| 4  | -3 | 5  | 6  | 4 |\n",
    "|:--:|:--:|:--:|:--:|:-:|\n",
    "| 6  | 5  | -3 | 4  | 7 |\n",
    "| 6  | 5  | -3 | -3 | 5 |\n",
    "| -3 | -3 | 4  | 4  | 4 |\n",
    "| 7  | 6  | 4  | 5  | 6 |\n",
    "\n",
    "\n",
    "1. Нормализовать матрицу (привести к матрице с неотрицательными элементами) и свести исходную игру к матричной игре 2×2 следующими способами:\n",
    "   - [x] поглощением доминируемых стратегий;\n",
    "   - [x] удалением NBR-стратегий (Never Best Response).\n",
    "2. Найти смешанные стратегии игроков следующими методами:\n",
    "   - [x] графоаналитическим;\n",
    "   - [ ] аналитическим (матричным);\n",
    "   - [ ] графически (задача ЛП);\n",
    "   - [x] симплекс-методом (задача ЛП).\n",
    "3. Рассчитать цену игры для исходной матрицы.\n"
   ]
  },
  {
   "cell_type": "code",
   "execution_count": 1,
   "id": "initial_id",
   "metadata": {
    "collapsed": false,
    "ExecuteTime": {
     "end_time": "2024-02-24T16:06:22.978906Z",
     "start_time": "2024-02-24T16:06:22.460369Z"
    }
   },
   "outputs": [],
   "source": [
    "import json\n",
    "import logging\n",
    "from pathlib import Path\n",
    "\n",
    "import numpy as np\n",
    "import matplotlib.pyplot as plt\n",
    "\n",
    "from game_theory.utils.matrix_games.mixed_strategies import check_resulted_game_price, get_resulted_mixed_strategies\n",
    "from game_theory.utils.matrix_games.game_matrix import GameMatrix\n",
    "from game_theory.utils.simplex.dual_problem import DualProblem\n",
    "from game_theory.utils.simplex.simplex_problem import SimplexProblem\n",
    "\n",
    "logging.basicConfig(level=logging.INFO, format='%(message)s')"
   ]
  },
  {
   "cell_type": "code",
   "execution_count": 2,
   "id": "abf13d13a3b1a780",
   "metadata": {
    "collapsed": false,
    "ExecuteTime": {
     "end_time": "2024-02-24T16:06:22.984677Z",
     "start_time": "2024-02-24T16:06:22.981894Z"
    }
   },
   "outputs": [
    {
     "data": {
      "text/plain": "+---------------------------------------------------------+\n|               Таблица стратегий (игрока А)              |\n+----------------+----+----+----+----+----+---------------+\n|   Стратегии    | b1 | b2 | b3 | b4 | b5 | MIN выигрыш A |\n+----------------+----+----+----+----+----+---------------+\n|       a1       | 4  | -3 | 5  | 6  | 4  |       -3      |\n|       a2       | 6  | 5  | -3 | 4  | 7  |       -3      |\n|       a3       | 6  | 5  | -3 | -3 | 5  |       -3      |\n|       a4       | -3 | -3 | 4  | 4  | 4  |       -3      |\n|       a5       | 7  | 6  | 4  | 5  | 6  |       4       |\n| MAX проигрыш B | 7  | 6  | 5  | 6  | 7  |               |\n+----------------+----+----+----+----+----+---------------+"
     },
     "execution_count": 2,
     "metadata": {},
     "output_type": "execute_result"
    }
   ],
   "source": [
    "# Входная матрица прямоугольной игры с нулевой суммой.\n",
    "matrix = np.array(\n",
    "    [\n",
    "        [4, -3, 5, 6, 4],\n",
    "        [6, 5, -3, 4, 7],\n",
    "        [6, 5, -3, -3, 5],\n",
    "        [-3, -3, 4, 4, 4],\n",
    "        [7, 6, 4, 5, 6],\n",
    "    ],\n",
    "    dtype=int,\n",
    ")\n",
    "\n",
    "game_matrix = GameMatrix(matrix)\n",
    "game_matrix"
   ]
  },
  {
   "cell_type": "markdown",
   "id": "38c2dae8364d1134",
   "metadata": {
    "collapsed": false
   },
   "source": [
    "### 1. Нормализация матрицы. Уменьшение размерности исходной матричной игры"
   ]
  },
  {
   "cell_type": "code",
   "execution_count": 3,
   "id": "b614ac4040cd7f3c",
   "metadata": {
    "collapsed": false,
    "ExecuteTime": {
     "end_time": "2024-02-24T16:06:22.993701Z",
     "start_time": "2024-02-24T16:06:22.984846Z"
    }
   },
   "outputs": [
    {
     "name": "stderr",
     "output_type": "stream",
     "text": [
      "Прибавили ко всем элементам исходной матрицы 3\n"
     ]
    },
    {
     "data": {
      "text/plain": "+---------------------------------------------------------+\n|               Таблица стратегий (игрока А)              |\n+----------------+----+----+----+----+----+---------------+\n|   Стратегии    | b1 | b2 | b3 | b4 | b5 | MIN выигрыш A |\n+----------------+----+----+----+----+----+---------------+\n|       a1       | 7  | 0  | 8  | 9  | 7  |       0       |\n|       a2       | 9  | 8  | 0  | 7  | 10 |       0       |\n|       a3       | 9  | 8  | 0  | 0  | 8  |       0       |\n|       a4       | 0  | 0  | 7  | 7  | 7  |       0       |\n|       a5       | 10 | 9  | 7  | 8  | 9  |       7       |\n| MAX проигрыш B | 10 | 9  | 8  | 9  | 10 |               |\n+----------------+----+----+----+----+----+---------------+"
     },
     "execution_count": 3,
     "metadata": {},
     "output_type": "execute_result"
    }
   ],
   "source": [
    "normalizer: int = game_matrix.normalize_matrix()\n",
    "game_matrix"
   ]
  },
  {
   "cell_type": "code",
   "execution_count": 4,
   "id": "bdaf6a2706fffb81",
   "metadata": {
    "collapsed": false,
    "ExecuteTime": {
     "end_time": "2024-02-24T16:06:22.993882Z",
     "start_time": "2024-02-24T16:06:22.988221Z"
    }
   },
   "outputs": [
    {
     "name": "stdout",
     "output_type": "stream",
     "text": [
      "Нижняя цена игры:  7\n",
      "Верхняя цена игры: 8\n"
     ]
    }
   ],
   "source": [
    "print(f\"Нижняя цена игры:  {game_matrix.lowest_game_price[1]}\\n\"\n",
    "      f\"Верхняя цена игры: {game_matrix.highest_game_price[1]}\")"
   ]
  },
  {
   "cell_type": "markdown",
   "id": "3a0a874c6d46e78a",
   "metadata": {
    "collapsed": false
   },
   "source": [
    "#### 1.1. Поглощение доминируемых стратегий\n",
    "<u>Опр. **Доминирующая (поглощающая) строка**</u> содержит элементы $\\geq$ элементам другой строки (поглощаемой).\n",
    "\n",
    "<u>Опр. **Доминирующий (поглощающая) столбец**</u> содержит элементы $\\leq$ элементам другого столбца (поглощаемого)."
   ]
  },
  {
   "cell_type": "code",
   "execution_count": 5,
   "id": "d37c4a70-6079-468a-9a9a-2ff49b4b862b",
   "metadata": {
    "ExecuteTime": {
     "end_time": "2024-02-24T16:06:22.997490Z",
     "start_time": "2024-02-24T16:06:22.992464Z"
    }
   },
   "outputs": [
    {
     "name": "stderr",
     "output_type": "stream",
     "text": [
      "a2 ≻ a3: поглощение стратегии a3 доминирующей стратегией a2\n",
      "a1 ≻ a4: поглощение стратегии a4 доминирующей стратегией a1\n",
      "b2 ≻ b1: поглощение стратегии b1 доминирующей стратегией b2\n",
      "b3 ≻ b4: поглощение стратегии b4 доминирующей стратегией b3\n",
      "b2 ≻ b5: поглощение стратегии b5 доминирующей стратегией b2\n",
      "a5 ≻ a2: поглощение стратегии a2 доминирующей стратегией a5\n"
     ]
    },
    {
     "data": {
      "text/plain": "+------------------------------------------+\n|       Таблица стратегий (игрока А)       |\n+----------------+----+----+---------------+\n|   Стратегии    | b2 | b3 | MIN выигрыш A |\n+----------------+----+----+---------------+\n|       a1       | 0  | 8  |       0       |\n|       a5       | 9  | 7  |       7       |\n| MAX проигрыш B | 9  | 8  |               |\n+----------------+----+----+---------------+"
     },
     "execution_count": 5,
     "metadata": {},
     "output_type": "execute_result"
    }
   ],
   "source": [
    "dominant_reduced_game: GameMatrix = game_matrix.reduce_dimension(method='dominant_absorption')\n",
    "dominant_reduced_game"
   ]
  },
  {
   "cell_type": "code",
   "execution_count": 6,
   "id": "691ee26bc3e859fe",
   "metadata": {
    "collapsed": false,
    "ExecuteTime": {
     "end_time": "2024-02-24T16:06:23.003249Z",
     "start_time": "2024-02-24T16:06:22.996828Z"
    }
   },
   "outputs": [
    {
     "name": "stdout",
     "output_type": "stream",
     "text": [
      "Нижняя цена игры:  7\n",
      "Верхняя цена игры: 8\n"
     ]
    }
   ],
   "source": [
    "print(f\"Нижняя цена игры:  {dominant_reduced_game.lowest_game_price[1]}\\n\"\n",
    "      f\"Верхняя цена игры: {dominant_reduced_game.highest_game_price[1]}\")"
   ]
  },
  {
   "cell_type": "markdown",
   "id": "99e88d827c41cc52",
   "metadata": {
    "collapsed": false
   },
   "source": [
    "#### 1.2. Удаление NBR-стратегий\n",
    "\n",
    "<u>Опр. **NBR-строка**</u> - строка, которая объективно не будет разыгрываться игроком A для всех наперёд фиксированных стратегий B.\n",
    "\n",
    "<u>Опр. **NBR-столбец**</u> - столбец, который объективно не будет разыгрываться игроком B для всех наперёд фиксированных стратегий A."
   ]
  },
  {
   "cell_type": "code",
   "execution_count": 7,
   "id": "eb7a191aec92b535",
   "metadata": {
    "collapsed": false,
    "ExecuteTime": {
     "end_time": "2024-02-24T16:06:23.119283Z",
     "start_time": "2024-02-24T16:06:22.998779Z"
    }
   },
   "outputs": [
    {
     "name": "stderr",
     "output_type": "stream",
     "text": [
      "Удаление NBR-стратегий ['a3', 'a4']\n",
      "Удаление NBR-стратегий ['b1', 'b4', 'b5']\n",
      "Удаление NBR-стратегий ['a2']\n"
     ]
    },
    {
     "data": {
      "text/plain": "+------------------------------------------+\n|       Таблица стратегий (игрока А)       |\n+----------------+----+----+---------------+\n|   Стратегии    | b2 | b3 | MIN выигрыш A |\n+----------------+----+----+---------------+\n|       a1       | 0  | 8  |       0       |\n|       a5       | 9  | 7  |       7       |\n| MAX проигрыш B | 9  | 8  |               |\n+----------------+----+----+---------------+"
     },
     "execution_count": 7,
     "metadata": {},
     "output_type": "execute_result"
    }
   ],
   "source": [
    "# Вычеркиваем столбцы и строки, которые мы точно не выберем при фиксированной стратегии.\n",
    "nbr_reduced_game: GameMatrix = game_matrix.reduce_dimension(method='nbr_drop')\n",
    "nbr_reduced_game"
   ]
  },
  {
   "cell_type": "code",
   "execution_count": 8,
   "id": "5215efd9effeabac",
   "metadata": {
    "collapsed": false,
    "ExecuteTime": {
     "end_time": "2024-02-24T16:06:23.120592Z",
     "start_time": "2024-02-24T16:06:23.002512Z"
    }
   },
   "outputs": [
    {
     "name": "stdout",
     "output_type": "stream",
     "text": [
      "Нижняя цена игры:  7\n",
      "Верхняя цена игры: 8\n"
     ]
    }
   ],
   "source": [
    "print(f\"Нижняя цена игры:  {nbr_reduced_game.lowest_game_price[1]}\\n\"\n",
    "      f\"Верхняя цена игры: {nbr_reduced_game.highest_game_price[1]}\")"
   ]
  },
  {
   "cell_type": "code",
   "execution_count": 9,
   "id": "db1fe80f20fa0256",
   "metadata": {
    "collapsed": false,
    "ExecuteTime": {
     "end_time": "2024-02-24T16:06:23.121584Z",
     "start_time": "2024-02-24T16:06:23.005327Z"
    }
   },
   "outputs": [],
   "source": [
    "assert dominant_reduced_game == nbr_reduced_game\n",
    "reduced_game: GameMatrix = nbr_reduced_game"
   ]
  },
  {
   "cell_type": "markdown",
   "id": "bb92fa4020975ac8",
   "metadata": {
    "collapsed": false
   },
   "source": [
    "### 2. Нахождение смешанных стратегий и цены игры\n",
    "\n",
    "$S_A = p_1 + p_2 + ... + p_n$ - смешанная стратегия игрока A.\n",
    "\n",
    "$S_B = q_1 + q_2 + ... + q_m$ - смешанная стратегия игрока B."
   ]
  },
  {
   "cell_type": "markdown",
   "id": "17ff14bae03dd695",
   "metadata": {
    "collapsed": false
   },
   "source": [
    "#### 2.1. Графоаналитический метод"
   ]
  },
  {
   "cell_type": "markdown",
   "id": "879f3b1c655c8a41",
   "metadata": {
    "collapsed": false,
    "jp-MarkdownHeadingCollapsed": true
   },
   "source": [
    "##### 2.1.1. Для игрока A.\n",
    "Пусть\n",
    "- $x_1$ - вероятность выбора игроком A стратегии $a_1$.\n",
    "- $x_5 = 1 - x_1$ - вероятность выбора игроком A стратегии $a_5$.\n",
    "\n",
    "Ожидаемый выигрыш A при реализации стратегии $b_2$:\n",
    "\n",
    "$PA_{b2} = c_{12}x_{1} + c_{52}x_5 = (c_{12} - c_{52})x_5 + c_{52}$\n",
    "\n",
    "Ожидаемый выигрыш A при реализации стратегии $b_3$:\n",
    "\n",
    "$PA_{b3} = c_{13}x_{1} + c_{53}x_5 = (c_{13} - c_{53})x_5 + c_{53}$\n",
    "\n",
    "Оптимальная стратегия A: $PA_{b2} = PA_{b3}$"
   ]
  },
  {
   "cell_type": "code",
   "execution_count": 10,
   "id": "a031ea7294fa8008",
   "metadata": {
    "collapsed": false,
    "ExecuteTime": {
     "end_time": "2024-02-24T16:06:23.121713Z",
     "start_time": "2024-02-24T16:06:23.007738Z"
    }
   },
   "outputs": [],
   "source": [
    "(a, b), (c, d) = reduced_game.matrix.tolist()\n",
    "PA_b_first = lambda x: (a - c) * x + c\n",
    "PA_b_second = lambda x: (b - d) * x + d\n",
    "\n",
    "# Находим точку пересечения решая систему Ax = b.\n",
    "PA_A = np.array([\n",
    "    [-(a - c), 1],\n",
    "    [-(b - d), 1],\n",
    "])\n",
    "PA_b = np.array([c, d])\n",
    "(x_intersect, y_intersect) = np.linalg.solve(PA_A, PA_b)"
   ]
  },
  {
   "cell_type": "code",
   "execution_count": 11,
   "id": "a7e10623a35bb35c",
   "metadata": {
    "collapsed": false,
    "ExecuteTime": {
     "end_time": "2024-02-24T16:06:23.324650Z",
     "start_time": "2024-02-24T16:06:23.012988Z"
    }
   },
   "outputs": [
    {
     "data": {
      "text/plain": "<Figure size 800x600 with 1 Axes>",
      "image/png": "[encoded data removed]"
     },
     "metadata": {},
     "output_type": "display_data"
    }
   ],
   "source": [
    "# Отрисовка графиков пересечения.\n",
    "X = np.linspace(0, 1, 50)\n",
    "PA_b_first_y = PA_b_first(X)\n",
    "PA_b_second_y = PA_b_second(X)\n",
    "max_PA_b_y = np.max(np.concatenate((PA_b_first_y, PA_b_second_y)))\n",
    "\n",
    "plt.figure(figsize=(8, 6))\n",
    "plt.title(\"Оптимальная стратегия игрока A\")\n",
    "\n",
    "PA_b_first_label, PA_b_second_label = reduced_game.player_b_strategy_labels\n",
    "plt.plot(X, PA_b_first_y, label=f\"PA_{PA_b_first_label} = {a - c}x + {c}\", color=\"red\")\n",
    "plt.plot(X, PA_b_second_y, label=f\"PA_{PA_b_second_label} = {b - d}x + {d}\", color=\"blue\")\n",
    "\n",
    "# Точка пересечения.\n",
    "plt.plot(x_intersect, y_intersect, \"o\", color=\"black\", label=\"max-min\")\n",
    "# Проекции точки пересечения на оси.\n",
    "plt.vlines(x_intersect, min(PA_b_first_y), y_intersect, color=\"black\", linestyles='dashed')\n",
    "plt.hlines(y_intersect, min(X), x_intersect, color=\"black\", linestyles='dashed')\n",
    "# Ограничение [0, 1] - вероятность.\n",
    "plt.xlim(0, 1)\n",
    "# Ограничение на нормализованные элементы матрицы.\n",
    "plt.ylim(0, max_PA_b_y)\n",
    "# Подписи осей.\n",
    "plt.xlabel(\"Вероятность выбора стратегии игроком A\")\n",
    "plt.ylabel(\"Ожидаемый выигрыш игрока A\")\n",
    "# Сегменты под графиками.\n",
    "plt.fill_between(X, PA_b_first_y, color='red', alpha=0.1)\n",
    "plt.fill_between(X, PA_b_second_y, color='blue', alpha=0.1)\n",
    "# Отображение значений координат точки пересечения на осях\n",
    "plt.text(x_intersect, 0.05, f'{x_intersect:.2f}')\n",
    "plt.text(-0.05, y_intersect, f'{y_intersect:.2f}')\n",
    "\n",
    "plt.legend(loc=(1.04, 0.2))\n",
    "plt.grid(True)"
   ]
  },
  {
   "cell_type": "code",
   "execution_count": 12,
   "id": "625c0d7f13997dfa",
   "metadata": {
    "collapsed": false,
    "ExecuteTime": {
     "end_time": "2024-02-24T16:06:23.326880Z",
     "start_time": "2024-02-24T16:06:23.191131Z"
    }
   },
   "outputs": [
    {
     "name": "stderr",
     "output_type": "stream",
     "text": [
      "Цена игры: 7 <= 7.200 <= 8\n"
     ]
    },
    {
     "name": "stdout",
     "output_type": "stream",
     "text": [
      "+----------------------------------+\n",
      "|   Смешанные стратегии игрока A   |\n",
      "+------+------+------+------+------+\n",
      "|  a1  |  a2  |  a3  |  a4  |  a5  |\n",
      "+------+------+------+------+------+\n",
      "| 0.20 | 0.00 | 0.00 | 0.00 | 0.80 |\n",
      "+------+------+------+------+------+\n"
     ]
    }
   ],
   "source": [
    "# Смешанные стратегии игрока A и цена игры.\n",
    "assert check_resulted_game_price(reduced_game, y_intersect)\n",
    "mixed_strategies = get_resulted_mixed_strategies(\n",
    "    player_labels=game_matrix.player_a_strategy_labels,\n",
    "    labels_to_probability=dict(zip(\n",
    "        reduced_game.player_a_strategy_labels,\n",
    "        [x_intersect, 1 - x_intersect],\n",
    "    )),\n",
    "    player_name=\"A\",\n",
    ")\n",
    "print(mixed_strategies)"
   ]
  },
  {
   "cell_type": "markdown",
   "id": "7dcde197f5794fb4",
   "metadata": {
    "collapsed": false,
    "jp-MarkdownHeadingCollapsed": true
   },
   "source": [
    "##### 2.1.2. Для игрока B.\n",
    "Пусть\n",
    "- $y_2$ - вероятность выбора игроком B стратегии $b_2$.\n",
    "- $y_3 = 1 - y_2$ - вероятность выбора игроком B стратегии $b_3$.\n",
    "\n",
    "Ожидаемый проигрыш B при реализации стратегии $a_1$:\n",
    "\n",
    "$PB_{a1} = c_{12}y_2 + c_{13}y_3 = (c_{12} - c_{13})y_2 + c_{13}$\n",
    "\n",
    "Ожидаемый проигрыш B при реализации стратегии $a_5$:\n",
    "\n",
    "$PB_{a5} = c_{52}y_2 + c_{53}y_3 = (c_{52} - c_{53})y_2 + c_{53}$\n",
    "\n",
    "Оптимальная стратегия A: $PB_{a1} = PB_{a5}$"
   ]
  },
  {
   "cell_type": "code",
   "execution_count": 13,
   "id": "cbd51cd7d27e2330",
   "metadata": {
    "collapsed": false,
    "ExecuteTime": {
     "end_time": "2024-02-24T16:06:23.327162Z",
     "start_time": "2024-02-24T16:06:23.197294Z"
    }
   },
   "outputs": [],
   "source": [
    "(a, b), (c, d) = reduced_game.matrix.tolist()\n",
    "PB_a_first = lambda x: (a - b) * x + b\n",
    "PB_a_second = lambda x: (c - d) * x + d\n",
    "\n",
    "# Находим точку пересечения решая систему Ax = b.\n",
    "PB_A = np.array([\n",
    "    [-(a - b), 1],\n",
    "    [-(c - d), 1],\n",
    "])\n",
    "PB_b = np.array([b, d])\n",
    "(x_intersect, y_intersect) = np.linalg.solve(PB_A, PB_b)"
   ]
  },
  {
   "cell_type": "code",
   "execution_count": 14,
   "id": "a86836637588ff9",
   "metadata": {
    "collapsed": false,
    "ExecuteTime": {
     "end_time": "2024-02-24T16:06:23.429441Z",
     "start_time": "2024-02-24T16:06:23.233089Z"
    }
   },
   "outputs": [
    {
     "data": {
      "text/plain": "<Figure size 800x600 with 1 Axes>",
      "image/png": "[encoded data removed]"
     },
     "metadata": {},
     "output_type": "display_data"
    }
   ],
   "source": [
    "# Отрисовка графиков пересечения.\n",
    "X = np.linspace(0, 1, 50)\n",
    "PB_a_first_y = PB_a_first(X)\n",
    "PB_a_second_y = PB_a_second(X)\n",
    "max_PB_a_y = np.max(np.concatenate((PB_a_first_y, PB_a_second_y)))\n",
    "\n",
    "plt.figure(figsize=(8, 6))\n",
    "plt.title(\"Оптимальная стратегия игрока B\")\n",
    "\n",
    "PB_a_first_label, PB_a_second_label = reduced_game.player_a_strategy_labels\n",
    "plt.plot(X, PB_a_first_y, label=f\"PB_{PB_a_first_label} = {a - c}x + {b}\", color=\"red\")\n",
    "plt.plot(X, PB_a_second_y, label=f\"PB_{PB_a_second_label} = {c - d}x + {d}\", color=\"blue\")\n",
    "\n",
    "# Точка пересечения.\n",
    "plt.plot(x_intersect, y_intersect, \"o\", color=\"black\", label=\"min-max\")\n",
    "# Проекции точки пересечения на оси.\n",
    "plt.vlines(x_intersect, min(PB_a_first_y), y_intersect, color=\"black\", linestyles='dashed')\n",
    "plt.hlines(y_intersect, min(X), x_intersect, color=\"black\", linestyles='dashed')\n",
    "# Ограничение [0, 1] - вероятность.\n",
    "plt.xlim(0, 1)\n",
    "# Ограничение на нормализованные элементы матрицы.\n",
    "plt.ylim(0, max_PB_a_y)\n",
    "# Подписи осей.\n",
    "plt.xlabel(\"Вероятность выбора стратегии игроком B\")\n",
    "plt.ylabel(\"Ожидаемый проигрыш игрока B\")\n",
    "# Сегменты над графиками.\n",
    "plt.fill_between(X, PB_a_first_y, max_PB_a_y, color='red', alpha=0.1)\n",
    "plt.fill_between(X, PB_a_second_y, max_PB_a_y, color='blue', alpha=0.1)\n",
    "# Отображение значений координат точки пересечения на осях.\n",
    "plt.text(x_intersect, 0.05, f'{x_intersect:.2f}')\n",
    "plt.text(-0.05, y_intersect, f'{y_intersect:.2f}')\n",
    "\n",
    "plt.legend(loc=(1.04, 0.2))\n",
    "plt.grid(True)"
   ]
  },
  {
   "cell_type": "code",
   "execution_count": 15,
   "id": "59dbf36d1f1d6fd4",
   "metadata": {
    "collapsed": false,
    "ExecuteTime": {
     "end_time": "2024-02-24T16:06:23.429762Z",
     "start_time": "2024-02-24T16:06:23.367915Z"
    }
   },
   "outputs": [
    {
     "name": "stderr",
     "output_type": "stream",
     "text": [
      "Цена игры: 7 <= 7.200 <= 8\n"
     ]
    },
    {
     "name": "stdout",
     "output_type": "stream",
     "text": [
      "+----------------------------------+\n",
      "|   Смешанные стратегии игрока B   |\n",
      "+------+------+------+------+------+\n",
      "|  b1  |  b2  |  b3  |  b4  |  b5  |\n",
      "+------+------+------+------+------+\n",
      "| 0.00 | 0.10 | 0.90 | 0.00 | 0.00 |\n",
      "+------+------+------+------+------+\n"
     ]
    }
   ],
   "source": [
    "# Смешанные стратегии игрока B и цена игры.\n",
    "assert check_resulted_game_price(reduced_game, y_intersect)\n",
    "mixed_strategies = get_resulted_mixed_strategies(\n",
    "    player_labels=game_matrix.player_b_strategy_labels,\n",
    "    labels_to_probability=dict(zip(\n",
    "        reduced_game.player_b_strategy_labels,\n",
    "        [x_intersect, 1 - x_intersect],\n",
    "    )),\n",
    "    player_name=\"B\",\n",
    ")\n",
    "print(mixed_strategies)"
   ]
  },
  {
   "cell_type": "markdown",
   "id": "ba365a010d3bbf61",
   "metadata": {
    "collapsed": false
   },
   "source": [
    "#### 2.2. Аналитический (матричный) метод"
   ]
  },
  {
   "cell_type": "markdown",
   "id": "5df4b1cf3fe9b40",
   "metadata": {
    "collapsed": false
   },
   "source": [
    "##### 2.2.1. Обратная матрица для игрока A\n",
    "\n",
    "Для игрока $A$ ($g$ - цена игры; $x_1, ..., x_n$ - смешанные стратегии игрока $A$):\n",
    "\n",
    "$\n",
    "\\left\\{\\begin{matrix}\n",
    "c_{11}x_1 &  + & ... & + & c_{1n}x_n & = & g \\\\ \n",
    "c_{21}x_1 & + & ... & + & c_{2n}x_n & = & g \\\\ \n",
    "... &  & ...  &  &  &  & ...  \\\\ \n",
    "c_{m1}x_1 & + & ... & + & c_{mn}x_n & = & g \\\\\n",
    "x_1 & + & ... & + & x_n & = & 1\n",
    "\\end{matrix}\\right.\n",
    "\n",
    "\\\\\n",
    "\n",
    "\\left\\{\\begin{matrix}\n",
    "c_{11}x_1 &  + & ... & + & c_{1n}x_n & - & g & = & 0 \\\\ \n",
    "c_{21}x_1 & + & ... & + & c_{2n}x_n & - & g & = & 0  \\\\\n",
    "... & & ... & & & & & & ...                          \\\\ \n",
    "c_{m1}x_1 & + & ... & + & c_{mn}x_n & - & g & = & 0  \\\\\n",
    "x_1 & + & ... & + & x_n &  &  & = & 1\n",
    "\\end{matrix}\\right.\n",
    "\n",
    "\\\\\n",
    "\n",
    "\\begin{pmatrix} \n",
    "   c_{11} & ... & c_{1n} & -1 & \\\\\n",
    "   c_{21} & ... & c_{2n} & -1 & \\\\\n",
    "   ... & ... & ... & ...      & \\\\\n",
    "   c_{m1} & ... & c_{mn} & -1 & \\\\\n",
    "   1 & ... & 1 & 0 &\n",
    "\\end{pmatrix}\n",
    "\\begin{pmatrix} x_1 \\\\ x_2 \\\\ ... \\\\ x_n \\\\ g \\end{pmatrix}\n",
    "=\n",
    "\\begin{pmatrix} 0 \\\\ 0 \\\\ ... \\\\ 0 \\\\ 1 \\end{pmatrix}\n",
    "\n",
    "\\\\\n",
    "\n",
    "\\begin{pmatrix} x_1 \\\\ x_2 \\\\ ... \\\\ x_n \\\\ g \\end{pmatrix}\n",
    "=\n",
    "\\begin{pmatrix} \n",
    "   c_{11} & ... & c_{1n} & -1 & \\\\\n",
    "   c_{21} & ... & c_{2n} & -1 & \\\\\n",
    "   ... & ... & ... & ...      & \\\\\n",
    "   c_{m1} & ... & c_{mn} & -1 & \\\\\n",
    "   1 & ... & 1 & 0 &\n",
    "\\end{pmatrix}^{-1}\n",
    "\\begin{pmatrix} 0 \\\\ 0 \\\\ ... \\\\ 0 \\\\ 1 \\end{pmatrix}\n",
    "$"
   ]
  },
  {
   "cell_type": "markdown",
   "id": "8fe5d2d9-0507-4eee-be2b-d20aa123bc80",
   "metadata": {},
   "source": [
    "[//]: # (На случай, если LaTeX плохо рендерится в версии Jupyter)\n",
    "![analytical_A](./img/analytical_A.png) "
   ]
  },
  {
   "cell_type": "code",
   "execution_count": 16,
   "id": "5ac6f72011f0f5d8",
   "metadata": {
    "collapsed": false,
    "ExecuteTime": {
     "end_time": "2024-02-24T16:06:23.429993Z",
     "start_time": "2024-02-24T16:06:23.378547Z"
    }
   },
   "outputs": [],
   "source": [
    "from game_theory.utils.matrix_games.analytical import AnalyticalSolver\n",
    "\n",
    "analytical_solver = AnalyticalSolver(reduced_game)\n",
    "first_mixed_strategy, second_mixed_strategy, game_price_value = analytical_solver.player_a_solve()"
   ]
  },
  {
   "cell_type": "code",
   "execution_count": 17,
   "id": "d0fdaa6278e7ee5d",
   "metadata": {
    "collapsed": false,
    "ExecuteTime": {
     "end_time": "2024-02-24T16:06:23.430397Z",
     "start_time": "2024-02-24T16:06:23.386492Z"
    }
   },
   "outputs": [
    {
     "name": "stderr",
     "output_type": "stream",
     "text": [
      "Цена игры: 7 <= 7.200 <= 8\n"
     ]
    },
    {
     "name": "stdout",
     "output_type": "stream",
     "text": [
      "+----------------------------------+\n",
      "|   Смешанные стратегии игрока A   |\n",
      "+------+------+------+------+------+\n",
      "|  a1  |  a2  |  a3  |  a4  |  a5  |\n",
      "+------+------+------+------+------+\n",
      "| 0.20 | 0.00 | 0.00 | 0.00 | 0.80 |\n",
      "+------+------+------+------+------+\n"
     ]
    }
   ],
   "source": [
    "# Смешанные стратегии игрока A и цена игры.\n",
    "assert check_resulted_game_price(\n",
    "    game_matrix=reduced_game,\n",
    "    game_price_value=game_price_value,\n",
    ")\n",
    "\n",
    "mixed_strategies = get_resulted_mixed_strategies(\n",
    "    player_labels=game_matrix.player_a_strategy_labels,\n",
    "    labels_to_probability=dict(zip(\n",
    "        reduced_game.player_a_strategy_labels,\n",
    "        (first_mixed_strategy, second_mixed_strategy),\n",
    "    )),\n",
    "    player_name=\"A\",\n",
    ")\n",
    "print(mixed_strategies)"
   ]
  },
  {
   "cell_type": "markdown",
   "id": "f20cc752bcb37b02",
   "metadata": {
    "collapsed": false
   },
   "source": [
    "##### 2.2.1. Прямая матрица для игрока B\n",
    "Для игрока $B$ ($h$ - цена игры; $y_1, ..., y_m$ - смешанные стратегии игрока $B$):\n",
    "\n",
    "$\n",
    "\\left\\{\\begin{matrix}\n",
    "c_{11}y_1 & + & ... & + & c_{m1}y_m & = & h \\\\ \n",
    "c_{12}y_1 & + & ... & + & c_{m2}y_m & = & h \\\\ \n",
    "... &  & ...  &  &  &  & ...  \\\\ \n",
    "c_{1n}y_1 & + & ... & + & c_{mn}y_m & = & h \\\\\n",
    "y_1 & + & ... & + & y_m & = & 1\n",
    "\\end{matrix}\\right.\n",
    "\n",
    "\\\\ \\\\\n",
    "...\n",
    "\\\\ \\\\\n",
    "\\begin{pmatrix} y_1 \\\\ y_2 \\\\ ... \\\\ y_m \\\\ h \\end{pmatrix}\n",
    "=\n",
    "\\begin{pmatrix} \n",
    "   c_{11} & ... & c_{m1} & -1 & \\\\\n",
    "   c_{12} & ... & c_{m2} & -1 & \\\\\n",
    "   ... & ... & ... & ...      & \\\\\n",
    "   c_{1n} & ... & c_{mn} & -1 & \\\\\n",
    "   1 & ... & 1 & 0 &\n",
    "\\end{pmatrix}^{-1}\n",
    "\\begin{pmatrix} 0 \\\\ 0 \\\\ ... \\\\ 0 \\\\ 1 \\end{pmatrix}\n",
    "$"
   ]
  },
  {
   "cell_type": "markdown",
   "source": [
    "[//]: # (На случай, если LaTeX плохо рендерится в версии Jupyter)\n",
    "![analytical_B](./img/analytical_B.png)"
   ],
   "metadata": {
    "collapsed": false
   },
   "id": "a09be22539555561"
  },
  {
   "cell_type": "code",
   "execution_count": 18,
   "id": "741210ff6dc3c33c",
   "metadata": {
    "collapsed": false,
    "ExecuteTime": {
     "end_time": "2024-02-24T16:06:23.430810Z",
     "start_time": "2024-02-24T16:06:23.393648Z"
    }
   },
   "outputs": [],
   "source": [
    "analytical_solver = AnalyticalSolver(reduced_game)\n",
    "first_mixed_strategy, second_mixed_strategy, game_price_value = analytical_solver.player_b_solve()"
   ]
  },
  {
   "cell_type": "code",
   "execution_count": 19,
   "id": "c8d4055a2da2f614",
   "metadata": {
    "collapsed": false,
    "ExecuteTime": {
     "end_time": "2024-02-24T16:06:23.478444Z",
     "start_time": "2024-02-24T16:06:23.396979Z"
    }
   },
   "outputs": [
    {
     "name": "stderr",
     "output_type": "stream",
     "text": [
      "Цена игры: 7 <= 7.200 <= 8\n"
     ]
    },
    {
     "name": "stdout",
     "output_type": "stream",
     "text": [
      "+----------------------------------+\n",
      "|   Смешанные стратегии игрока B   |\n",
      "+------+------+------+------+------+\n",
      "|  b1  |  b2  |  b3  |  b4  |  b5  |\n",
      "+------+------+------+------+------+\n",
      "| 0.00 | 0.10 | 0.90 | 0.00 | 0.00 |\n",
      "+------+------+------+------+------+\n"
     ]
    }
   ],
   "source": [
    "# Смешанные стратегии игрока A и цена игры.\n",
    "assert check_resulted_game_price(\n",
    "    game_matrix=reduced_game,\n",
    "    game_price_value=game_price_value,\n",
    ")\n",
    "\n",
    "mixed_strategies = get_resulted_mixed_strategies(\n",
    "    player_labels=game_matrix.player_b_strategy_labels,\n",
    "    labels_to_probability=dict(zip(\n",
    "        reduced_game.player_b_strategy_labels,\n",
    "        (first_mixed_strategy, second_mixed_strategy),\n",
    "    )),\n",
    "    player_name=\"B\",\n",
    ")\n",
    "print(mixed_strategies)"
   ]
  },
  {
   "cell_type": "markdown",
   "id": "7808b337690b451f",
   "metadata": {
    "collapsed": false
   },
   "source": [
    "#### 2.3. Графический метод (задача ЛП)\n",
    "\n",
    "<div style=\"text-align:center;\">\n",
    "    <img src=\"img/system_matrix_game.png\" alt=\"system_matrix_game\" width=\"450\" height=\"330\">\n",
    "    <img src=\"img/LP_task_01.png\" alt=\"LP_task_01\" width=\"450\" height=\"330\">\n",
    "</div>\n",
    "<div style=\"text-align:center;\">\n",
    "    <img src=\"img/LP_task_02.png\" alt=\"LP_task_02\" width=\"900\" height=\"300\">\n",
    "</div>"
   ]
  },
  {
   "cell_type": "code",
   "execution_count": 20,
   "id": "c2edf8ec6a4ce08a",
   "metadata": {
    "collapsed": false,
    "ExecuteTime": {
     "end_time": "2024-02-24T16:06:23.482768Z",
     "start_time": "2024-02-24T16:06:23.401170Z"
    }
   },
   "outputs": [],
   "source": [
    "# Подготовка входных данных ЗЛП.\n",
    "n_rows, n_cols = reduced_game.matrix.shape\n",
    "input_data = {\n",
    "    # F = x1 + x2\n",
    "    \"obj_func_coffs\": [1] * n_cols,\n",
    "    # A - матрица сериализуется в массив массивов JSON.\n",
    "    \"constraint_system_lhs\": reduced_game.matrix.tolist(),\n",
    "    # b - вектор-столбец ограничений.\n",
    "    \"constraint_system_rhs\": [1] * n_rows,\n",
    "    # Экстремум, направление оптимизации функции.\n",
    "    \"func_direction\": \"max\"\n",
    "}\n",
    "\n",
    "input_path = Path('input_LPP.json')\n",
    "_ = input_path.write_text(json.dumps(input_data, indent=2))"
   ]
  },
  {
   "cell_type": "code",
   "execution_count": 21,
   "id": "299fc8a7453266c0",
   "metadata": {
    "collapsed": false,
    "ExecuteTime": {
     "end_time": "2024-02-24T16:06:23.482851Z",
     "start_time": "2024-02-24T16:06:23.407157Z"
    }
   },
   "outputs": [],
   "source": [
    "# TODO: надо достать старую КР с 3 семестра и посмотреть оформление "
   ]
  },
  {
   "cell_type": "markdown",
   "id": "1f8bb8a9807b625",
   "metadata": {
    "collapsed": false
   },
   "source": [
    "#### 2.4. Симплекс-метод (задача ЛП)\n",
    "\n",
    "<div style=\"text-align:center;\">\n",
    "    <img src=\"img/LP_simplex.png\" alt=\"LP_task_02\" width=\"900\" height=\"300\">\n",
    "</div>\n"
   ]
  },
  {
   "cell_type": "markdown",
   "id": "940b1eb75acf6faa",
   "metadata": {
    "collapsed": false
   },
   "source": [
    "##### 2.4.1. Двойственная задача ЛП для игрока A"
   ]
  },
  {
   "cell_type": "code",
   "execution_count": 22,
   "id": "1f0440b58b176c7c",
   "metadata": {
    "collapsed": false,
    "ExecuteTime": {
     "end_time": "2024-02-24T16:06:23.482955Z",
     "start_time": "2024-02-24T16:06:23.410326Z"
    }
   },
   "outputs": [
    {
     "name": "stderr",
     "output_type": "stream",
     "text": [
      "F = cx -> min,\n",
      "Ax >= b,\n",
      "x1, x2, ..., xn >= 0\n",
      "C = [1 1]\n",
      "A =\n",
      "[[0 9]\n",
      " [8 7]],\n",
      "b^T = [1 1].\n"
     ]
    }
   ],
   "source": [
    "player_a_problem = DualProblem(input_path)"
   ]
  },
  {
   "cell_type": "code",
   "execution_count": 23,
   "id": "39b2be22091e9839",
   "metadata": {
    "collapsed": false,
    "ExecuteTime": {
     "end_time": "2024-02-24T16:06:23.483974Z",
     "start_time": "2024-02-24T16:06:23.414219Z"
    }
   },
   "outputs": [
    {
     "name": "stderr",
     "output_type": "stream",
     "text": [
      "Процесс решения:\n",
      "Поиск опорного решения: \n",
      "Исходная симплекс-таблица:\n",
      "+----+---------+---------+---------+\n",
      "|    |   Si0   |    x1   |    x2   |\n",
      "+----+---------+---------+---------+\n",
      "| x3 | -1.0000 |  0.0000 | -9.0000 |\n",
      "| x4 | -1.0000 | -8.0000 | -7.0000 |\n",
      "| F  |  0.0000 | -1.0000 | -1.0000 |\n",
      "+----+---------+---------+---------+\n",
      "Разрешающая строка: x3\n",
      "Разрешающий столбец: x2\n",
      "+----+---------+---------+---------+\n",
      "|    |   Si0   |    x1   |    x3   |\n",
      "+----+---------+---------+---------+\n",
      "| x2 |  0.1111 | -0.0000 | -0.1111 |\n",
      "| x4 | -0.2222 | -8.0000 | -0.7778 |\n",
      "| F  |  0.1111 | -1.0000 | -0.1111 |\n",
      "+----+---------+---------+---------+\n",
      "Разрешающая строка: x4\n",
      "Разрешающий столбец: x1\n",
      "+----+--------+---------+---------+\n",
      "|    |  Si0   |    x4   |    x3   |\n",
      "+----+--------+---------+---------+\n",
      "| x2 | 0.1111 | -0.0000 | -0.1111 |\n",
      "| x1 | 0.0278 | -0.1250 |  0.0972 |\n",
      "| F  | 0.1389 | -0.1250 | -0.0139 |\n",
      "+----+--------+---------+---------+\n",
      "Опорное решение найдено!\n",
      "x4 = x3 = 0, \n",
      "x2 = 0.111, x1 = 0.028\n",
      "Целевая функция: F = 0.139\n",
      "Поиск оптимального решения:\n",
      "Оптимальное решение найдено!\n",
      "x4 = x3 = 0, \n",
      "x2 = 0.111, x1 = 0.028\n",
      "Целевая функция: F = 0.139\n"
     ]
    }
   ],
   "source": [
    "player_a_solution = player_a_problem.solve()\n",
    "player_a_var_values, player_a_target_function_value = player_a_solution"
   ]
  },
  {
   "cell_type": "code",
   "execution_count": 24,
   "id": "10e45c75aba08b98",
   "metadata": {
    "collapsed": false,
    "ExecuteTime": {
     "end_time": "2024-02-24T16:06:23.489277Z",
     "start_time": "2024-02-24T16:06:23.427577Z"
    }
   },
   "outputs": [
    {
     "name": "stderr",
     "output_type": "stream",
     "text": [
      "Цена игры: 7 <= 7.200 <= 8\n"
     ]
    },
    {
     "name": "stdout",
     "output_type": "stream",
     "text": [
      "+----------------------------------+\n",
      "|   Смешанные стратегии игрока A   |\n",
      "+------+------+------+------+------+\n",
      "|  a1  |  a2  |  a3  |  a4  |  a5  |\n",
      "+------+------+------+------+------+\n",
      "| 0.20 | 0.00 | 0.00 | 0.00 | 0.80 |\n",
      "+------+------+------+------+------+\n"
     ]
    }
   ],
   "source": [
    "# Смешанные стратегии игрока A и цена игры.\n",
    "game_price_value = 1 / player_a_target_function_value\n",
    "assert check_resulted_game_price(\n",
    "    game_matrix=reduced_game,\n",
    "    game_price_value=game_price_value,\n",
    ")\n",
    "\n",
    "player_a_mixed_strategies = [var_value * game_price_value for var_value in player_a_var_values]\n",
    "player_a_mixed_strategies = player_a_mixed_strategies[:len(reduced_game.player_a_strategy_labels)]\n",
    "mixed_strategies = get_resulted_mixed_strategies(\n",
    "    player_labels=game_matrix.player_a_strategy_labels,\n",
    "    labels_to_probability=dict(zip(\n",
    "        reduced_game.player_a_strategy_labels,\n",
    "        player_a_mixed_strategies,\n",
    "    )),\n",
    "    player_name=\"A\",\n",
    ")\n",
    "print(mixed_strategies)"
   ]
  },
  {
   "cell_type": "markdown",
   "id": "15066c95c8cce9a9",
   "metadata": {
    "collapsed": false
   },
   "source": [
    "##### 2.4.2. Прямая задача ЛП для игрока B"
   ]
  },
  {
   "cell_type": "code",
   "execution_count": 25,
   "id": "c2ee351da28967e5",
   "metadata": {
    "collapsed": false,
    "ExecuteTime": {
     "end_time": "2024-02-24T16:06:23.544895Z",
     "start_time": "2024-02-24T16:06:23.435757Z"
    }
   },
   "outputs": [
    {
     "data": {
      "text/plain": "Условие задачи:\nНайти вектор x = (x1,x2,..., xn)^T как решение след. задачи:\nF = cx -> max,\nAx <= b,\nx1,x2, ..., xn >= 0\nC = [-1 -1],\nA =\n[[0 8]\n [9 7]],\nb^T = [1 1]."
     },
     "execution_count": 25,
     "metadata": {},
     "output_type": "execute_result"
    }
   ],
   "source": [
    "player_b_problem = SimplexProblem(input_path)\n",
    "player_b_problem"
   ]
  },
  {
   "cell_type": "code",
   "execution_count": 26,
   "id": "b1fc34db80607244",
   "metadata": {
    "collapsed": false,
    "ExecuteTime": {
     "end_time": "2024-02-24T16:06:23.545824Z",
     "start_time": "2024-02-24T16:06:23.443697Z"
    }
   },
   "outputs": [
    {
     "name": "stderr",
     "output_type": "stream",
     "text": [
      "Процесс решения:\n",
      "Поиск опорного решения: \n",
      "Исходная симплекс-таблица:\n",
      "+----+--------+--------+--------+\n",
      "|    |  Si0   |   x1   |   x2   |\n",
      "+----+--------+--------+--------+\n",
      "| x3 | 1.0000 | 0.0000 | 8.0000 |\n",
      "| x4 | 1.0000 | 9.0000 | 7.0000 |\n",
      "| F  | 0.0000 | 1.0000 | 1.0000 |\n",
      "+----+--------+--------+--------+\n",
      "Опорное решение найдено!\n",
      "x1 = x2 = 0, \n",
      "x3 = 1.000, x4 = 1.000\n",
      "Целевая функция: F = 0.000\n",
      "Поиск оптимального решения:\n",
      "Разрешающая строка: x4\n",
      "Разрешающий столбец: x1\n",
      "+----+---------+---------+--------+\n",
      "|    |   Si0   |    x4   |   x2   |\n",
      "+----+---------+---------+--------+\n",
      "| x3 |  1.0000 | -0.0000 | 8.0000 |\n",
      "| x1 |  0.1111 |  0.1111 | 0.7778 |\n",
      "| F  | -0.1111 | -0.1111 | 0.2222 |\n",
      "+----+---------+---------+--------+\n",
      "Разрешающая строка: x3\n",
      "Разрешающий столбец: x2\n",
      "+----+---------+---------+---------+\n",
      "|    |   Si0   |    x4   |    x3   |\n",
      "+----+---------+---------+---------+\n",
      "| x2 |  0.1250 | -0.0000 |  0.1250 |\n",
      "| x1 |  0.0139 |  0.1111 | -0.0972 |\n",
      "| F  | -0.1389 | -0.1111 | -0.0278 |\n",
      "+----+---------+---------+---------+\n",
      "Оптимальное решение найдено!\n",
      "x4 = x3 = 0, \n",
      "x2 = 0.125, x1 = 0.014\n",
      "Целевая функция: F = 0.139\n"
     ]
    }
   ],
   "source": [
    "player_b_solution = player_b_problem.solve()\n",
    "player_b_var_values, player_b_target_function_value = player_b_solution"
   ]
  },
  {
   "cell_type": "code",
   "execution_count": 27,
   "id": "4ec92f245c7f200a",
   "metadata": {
    "collapsed": false,
    "ExecuteTime": {
     "end_time": "2024-02-24T16:06:23.546097Z",
     "start_time": "2024-02-24T16:06:23.469074Z"
    }
   },
   "outputs": [
    {
     "name": "stderr",
     "output_type": "stream",
     "text": [
      "Цена игры: 7 <= 7.200 <= 8\n"
     ]
    },
    {
     "name": "stdout",
     "output_type": "stream",
     "text": [
      "+----------------------------------+\n",
      "|   Смешанные стратегии игрока B   |\n",
      "+------+------+------+------+------+\n",
      "|  b1  |  b2  |  b3  |  b4  |  b5  |\n",
      "+------+------+------+------+------+\n",
      "| 0.00 | 0.10 | 0.90 | 0.00 | 0.00 |\n",
      "+------+------+------+------+------+\n"
     ]
    }
   ],
   "source": [
    "# Смешанные стратегии игрока B и цена игры.\n",
    "game_price_value = 1 / player_b_target_function_value\n",
    "assert check_resulted_game_price(\n",
    "    game_matrix=reduced_game,\n",
    "    game_price_value=game_price_value,\n",
    ")\n",
    "\n",
    "player_b_mixed_strategies = [var_value * game_price_value for var_value in player_b_var_values]\n",
    "player_b_mixed_strategies = player_b_mixed_strategies[:len(reduced_game.player_b_strategy_labels)]\n",
    "mixed_strategies = get_resulted_mixed_strategies(\n",
    "    player_labels=game_matrix.player_b_strategy_labels,\n",
    "    labels_to_probability=dict(zip(\n",
    "        reduced_game.player_b_strategy_labels,\n",
    "        player_b_mixed_strategies,\n",
    "    )),\n",
    "    player_name=\"B\",\n",
    ")\n",
    "print(mixed_strategies)"
   ]
  }
 ],
 "metadata": {
  "kernelspec": {
   "display_name": "Python 3 (ipykernel)",
   "language": "python",
   "name": "python3"
  },
  "language_info": {
   "codemirror_mode": {
    "name": "ipython",
    "version": 3
   },
   "file_extension": ".py",
   "mimetype": "text/x-python",
   "name": "python",
   "nbconvert_exporter": "python",
   "pygments_lexer": "ipython3",
   "version": "3.11.4"
  }
 },
 "nbformat": 4,
 "nbformat_minor": 5
}
