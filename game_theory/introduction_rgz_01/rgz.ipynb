{
 "cells": [
  {
   "cell_type": "markdown",
   "id": "21b8b2da9f5a4bcf",
   "metadata": {
    "collapsed": false
   },
   "source": [
    "# Расчетно-графическое домашнее задание\n",
    "\n",
    "### Выполнил: Александров А. Н., ИУ8-104\n",
    "### Вариант: 1\n",
    "\n",
    "## Задание\n",
    "Задана платежная матрица прямоугольной игры с нулевой суммой.\n",
    "\n",
    "\n",
    "| 4  | -3 | 5  | 6  | 4 |\n",
    "|:--:|:--:|:--:|:--:|:-:|\n",
    "| 6  | 5  | -3 | 4  | 7 |\n",
    "| 6  | 5  | -3 | -3 | 5 |\n",
    "| -3 | -3 | 4  | 4  | 4 |\n",
    "| 7  | 6  | 4  | 5  | 6 |\n",
    "\n",
    "\n",
    "1. Нормализовать матрицу (привести к матрице с неотрицательными элементами) и свести исходную игру к матричной игре 2×2 следующими способами:\n",
    "   - поглощением доминируемых стратегий;\n",
    "   - удалением NBR-стратегий (Never Best Response).\n",
    "2. Найти смешанные стратегии игроков следующими методами:\n",
    "   - графоаналитическим;\n",
    "   - аналитическим (матричным);\n",
    "   - графически (задача ЛП);\n",
    "   - симплекс-методом (задача ЛП).\n",
    "3. Рассчитать цену игры для исходной матрицы.\n"
   ]
  },
  {
   "cell_type": "code",
   "execution_count": 12,
   "id": "initial_id",
   "metadata": {
    "collapsed": false,
    "ExecuteTime": {
     "end_time": "2024-02-12T20:03:35.058211Z",
     "start_time": "2024-02-12T20:03:34.999076Z"
    }
   },
   "outputs": [],
   "source": [
    "import json\n",
    "import logging\n",
    "from pathlib import Path\n",
    "\n",
    "import numpy as np\n",
    "\n",
    "from game_theory.utils.simplex.simplex_problem import SimplexProblem\n",
    "from game_theory.utils.simplex.dual_problem import DualProblem\n",
    "from game_theory.utils.matrix_games.game_matrix import GameMatrix\n",
    "\n",
    "logging.basicConfig(level=logging.INFO, format='%(message)s')"
   ]
  },
  {
   "cell_type": "code",
   "execution_count": 7,
   "outputs": [
    {
     "data": {
      "text/plain": "+---------------------------------------------------------+\n|               Таблица стратегий (игрока А)              |\n+----------------+----+----+----+----+----+---------------+\n|   Стратегии    | b1 | b2 | b3 | b4 | b5 | MIN выигрыш A |\n+----------------+----+----+----+----+----+---------------+\n|       a1       | 4  | -3 | 5  | 6  | 4  |       -3      |\n|       a2       | 6  | 5  | -3 | 4  | 7  |       -3      |\n|       a3       | 6  | 5  | -3 | -3 | 5  |       -3      |\n|       a4       | -3 | -3 | 4  | 4  | 4  |       -3      |\n|       a5       | 7  | 6  | 4  | 5  | 6  |       4       |\n| MAX проигрыш B | 7  | 6  | 5  | 6  | 7  |               |\n+----------------+----+----+----+----+----+---------------+"
     },
     "execution_count": 7,
     "metadata": {},
     "output_type": "execute_result"
    }
   ],
   "source": [
    "# Входная матрица прямоугольной игры с нулевой суммой.\n",
    "matrix = np.array(\n",
    "    [\n",
    "        [4, -3, 5, 6, 4],\n",
    "        [6, 5, -3, 4, 7],\n",
    "        [6, 5, -3, -3, 5],\n",
    "        [-3, -3, 4, 4, 4],\n",
    "        [7, 6, 4, 5, 6],\n",
    "    ],\n",
    "    dtype=int,\n",
    ")\n",
    "\n",
    "game_matrix = GameMatrix(matrix)\n",
    "game_matrix"
   ],
   "metadata": {
    "collapsed": false,
    "ExecuteTime": {
     "end_time": "2024-02-12T19:32:55.365999Z",
     "start_time": "2024-02-12T19:32:55.314823Z"
    }
   },
   "id": "abf13d13a3b1a780"
  },
  {
   "cell_type": "markdown",
   "id": "38c2dae8364d1134",
   "metadata": {
    "collapsed": false
   },
   "source": [
    "### 1. Нормализация матрицы. Уменьшение размерности исходной матричной игры"
   ]
  },
  {
   "cell_type": "code",
   "execution_count": 8,
   "outputs": [
    {
     "data": {
      "text/plain": "+---------------------------------------------------------+\n|               Таблица стратегий (игрока А)              |\n+----------------+----+----+----+----+----+---------------+\n|   Стратегии    | b1 | b2 | b3 | b4 | b5 | MIN выигрыш A |\n+----------------+----+----+----+----+----+---------------+\n|       a1       | 7  | 0  | 8  | 9  | 7  |       0       |\n|       a2       | 9  | 8  | 0  | 7  | 10 |       0       |\n|       a3       | 9  | 8  | 0  | 0  | 8  |       0       |\n|       a4       | 0  | 0  | 7  | 7  | 7  |       0       |\n|       a5       | 10 | 9  | 7  | 8  | 9  |       7       |\n| MAX проигрыш B | 10 | 9  | 8  | 9  | 10 |               |\n+----------------+----+----+----+----+----+---------------+"
     },
     "execution_count": 8,
     "metadata": {},
     "output_type": "execute_result"
    }
   ],
   "source": [
    "game_matrix.normalize_matrix()\n",
    "game_matrix"
   ],
   "metadata": {
    "collapsed": false,
    "ExecuteTime": {
     "end_time": "2024-02-12T19:32:55.366386Z",
     "start_time": "2024-02-12T19:32:55.322156Z"
    }
   },
   "id": "b614ac4040cd7f3c"
  },
  {
   "cell_type": "markdown",
   "id": "3a0a874c6d46e78a",
   "metadata": {
    "collapsed": false
   },
   "source": [
    "#### 1.1. Поглощение доминируемых стратегий\n",
    "\n",
    "**Доминирующая (поглощающая) строка** содержит элементы $\\geq$ элементам другой строки (поглощаемой).\n",
    "\n",
    "**Доминируюший (поглощающая) столбец** содержит элементы $\\leq$ элементам другого столбца (поглощаемого)."
   ]
  },
  {
   "cell_type": "code",
   "execution_count": 9,
   "id": "d37c4a70-6079-468a-9a9a-2ff49b4b862b",
   "metadata": {
    "ExecuteTime": {
     "end_time": "2024-02-12T19:32:55.369600Z",
     "start_time": "2024-02-12T19:32:55.328065Z"
    }
   },
   "outputs": [
    {
     "name": "stderr",
     "output_type": "stream",
     "text": [
      "Поглощение стратегии a3 доминирующей стратегией a2\n",
      "Поглощение стратегии a4 доминирующей стратегией a1\n",
      "Поглощение стратегии b1 доминирующей стратегией b2\n",
      "Поглощение стратегии b4 доминирующей стратегией b3\n",
      "Поглощение стратегии b5 доминирующей стратегией b2\n",
      "Поглощение стратегии a2 доминирующей стратегией a5\n"
     ]
    },
    {
     "data": {
      "text/plain": "+------------------------------------------+\n|       Таблица стратегий (игрока А)       |\n+----------------+----+----+---------------+\n|   Стратегии    | b2 | b3 | MIN выигрыш A |\n+----------------+----+----+---------------+\n|       a1       | 0  | 8  |       0       |\n|       a5       | 9  | 7  |       7       |\n| MAX проигрыш B | 9  | 8  |               |\n+----------------+----+----+---------------+"
     },
     "execution_count": 9,
     "metadata": {},
     "output_type": "execute_result"
    }
   ],
   "source": [
    "reduced_matrix: GameMatrix = game_matrix.reduce_dimension(mode='dominant_absorption')\n",
    "reduced_matrix"
   ]
  },
  {
   "cell_type": "markdown",
   "source": [
    "#### 1.2. Удаление NBR-стратегий"
   ],
   "metadata": {
    "collapsed": false
   },
   "id": "99e88d827c41cc52"
  },
  {
   "cell_type": "code",
   "execution_count": 10,
   "outputs": [
    {
     "ename": "NotImplementedError",
     "evalue": "Этот метод я пока не прошёл :(",
     "output_type": "error",
     "traceback": [
      "\u001B[0;31m---------------------------------------------------------------------------\u001B[0m",
      "\u001B[0;31mNotImplementedError\u001B[0m                       Traceback (most recent call last)",
      "Cell \u001B[0;32mIn[10], line 1\u001B[0m\n\u001B[0;32m----> 1\u001B[0m reduced_matrix: GameMatrix \u001B[38;5;241m=\u001B[39m \u001B[43mgame_matrix\u001B[49m\u001B[38;5;241;43m.\u001B[39;49m\u001B[43mreduce_dimension\u001B[49m\u001B[43m(\u001B[49m\u001B[43mmode\u001B[49m\u001B[38;5;241;43m=\u001B[39;49m\u001B[38;5;124;43m'\u001B[39;49m\u001B[38;5;124;43mnbr_drop\u001B[39;49m\u001B[38;5;124;43m'\u001B[39;49m\u001B[43m)\u001B[49m\n\u001B[1;32m      2\u001B[0m reduced_matrix\n",
      "File \u001B[0;32m~/Dev/10-game_theory/game_theory/utils/matrix_games/game_matrix.py:105\u001B[0m, in \u001B[0;36mGameMatrix.reduce_dimension\u001B[0;34m(self, mode)\u001B[0m\n\u001B[1;32m    103\u001B[0m     reduced_matrix: GameMatrix \u001B[38;5;241m=\u001B[39m \u001B[38;5;28mself\u001B[39m\u001B[38;5;241m.\u001B[39m_dominant_absorption_reduce()\n\u001B[1;32m    104\u001B[0m \u001B[38;5;28;01mcase\u001B[39;00m \u001B[38;5;124m\"\u001B[39m\u001B[38;5;124mnbr_drop\u001B[39m\u001B[38;5;124m\"\u001B[39m:\n\u001B[0;32m--> 105\u001B[0m     reduced_matrix: GameMatrix \u001B[38;5;241m=\u001B[39m \u001B[38;5;28;43mself\u001B[39;49m\u001B[38;5;241;43m.\u001B[39;49m\u001B[43m_nbr_drop_reduce\u001B[49m\u001B[43m(\u001B[49m\u001B[43m)\u001B[49m\n\u001B[1;32m    106\u001B[0m \u001B[38;5;28;01mcase\u001B[39;00m\u001B[38;5;250m \u001B[39m\u001B[38;5;28;01m_\u001B[39;00m:\n\u001B[1;32m    107\u001B[0m     exc_msg \u001B[38;5;241m=\u001B[39m \u001B[38;5;124mf\u001B[39m\u001B[38;5;124m\"\u001B[39m\u001B[38;5;124mInvalid mode of reducing matrix: \u001B[39m\u001B[38;5;132;01m{\u001B[39;00mmode\u001B[38;5;132;01m}\u001B[39;00m\u001B[38;5;124m\"\u001B[39m\n",
      "File \u001B[0;32m~/Dev/10-game_theory/game_theory/utils/matrix_games/game_matrix.py:153\u001B[0m, in \u001B[0;36mGameMatrix._nbr_drop_reduce\u001B[0;34m(self)\u001B[0m\n\u001B[1;32m    151\u001B[0m \u001B[38;5;250m\u001B[39m\u001B[38;5;124;03m\"\"\"Сводит к минимуму размерность матричной игры удалением NBR-стратегий.\"\"\"\u001B[39;00m\n\u001B[1;32m    152\u001B[0m exc_msg \u001B[38;5;241m=\u001B[39m \u001B[38;5;124m\"\u001B[39m\u001B[38;5;124mЭтот метод я пока не прошёл :(\u001B[39m\u001B[38;5;124m\"\u001B[39m\n\u001B[0;32m--> 153\u001B[0m \u001B[38;5;28;01mraise\u001B[39;00m \u001B[38;5;167;01mNotImplementedError\u001B[39;00m(exc_msg)\n",
      "\u001B[0;31mNotImplementedError\u001B[0m: Этот метод я пока не прошёл :("
     ]
    }
   ],
   "source": [
    "reduced_matrix: GameMatrix = game_matrix.reduce_dimension(mode='nbr_drop')\n",
    "reduced_matrix"
   ],
   "metadata": {
    "collapsed": false,
    "ExecuteTime": {
     "end_time": "2024-02-12T19:32:55.383420Z",
     "start_time": "2024-02-12T19:32:55.341491Z"
    }
   },
   "id": "eb7a191aec92b535"
  },
  {
   "cell_type": "markdown",
   "source": [
    "### 2. Нахождение смешанных стратегий\n",
    "\n",
    "$S_A = p_1 + p_2 + ... + p_n$ - смешанная стратегия игрока A.\n",
    "$S_B = q_1 + q_2 + ... + q_m$ - смешанная стратегия игрока B."
   ],
   "metadata": {
    "collapsed": false
   },
   "id": "bb92fa4020975ac8"
  },
  {
   "cell_type": "markdown",
   "source": [
    "#### 2.1. Графоаналитический метод"
   ],
   "metadata": {
    "collapsed": false
   },
   "id": "17ff14bae03dd695"
  },
  {
   "cell_type": "code",
   "execution_count": null,
   "outputs": [],
   "source": [],
   "metadata": {
    "collapsed": false,
    "ExecuteTime": {
     "start_time": "2024-02-12T19:32:55.383169Z"
    }
   },
   "id": "a031ea7294fa8008"
  },
  {
   "cell_type": "markdown",
   "source": [
    "#### 2.2. Аналитический (матричный) метод"
   ],
   "metadata": {
    "collapsed": false
   },
   "id": "ba365a010d3bbf61"
  },
  {
   "cell_type": "code",
   "execution_count": null,
   "outputs": [],
   "source": [],
   "metadata": {
    "collapsed": false,
    "ExecuteTime": {
     "end_time": "2024-02-12T19:32:55.442924Z",
     "start_time": "2024-02-12T19:32:55.384923Z"
    }
   },
   "id": "5ac6f72011f0f5d8"
  },
  {
   "cell_type": "markdown",
   "source": [
    "#### 2.3. Графический метод (задача ЛП)"
   ],
   "metadata": {
    "collapsed": false
   },
   "id": "7808b337690b451f"
  },
  {
   "cell_type": "code",
   "execution_count": null,
   "outputs": [],
   "source": [],
   "metadata": {
    "collapsed": false,
    "ExecuteTime": {
     "start_time": "2024-02-12T19:32:55.385998Z"
    }
   },
   "id": "299fc8a7453266c0"
  },
  {
   "cell_type": "markdown",
   "source": [
    "#### 2.4. Симплекс-метод (задача ЛП)\n",
    "\n",
    "![system_matrix_game](img/system_matrix_game.png)\n",
    "![LP_task_01](img/LP_task_01.png)\n",
    "![LP_task_02](img/LP_task_02.png)"
   ],
   "metadata": {
    "collapsed": false
   },
   "id": "1f8bb8a9807b625"
  },
  {
   "cell_type": "code",
   "execution_count": 14,
   "outputs": [
    {
     "data": {
      "text/plain": "127"
     },
     "execution_count": 14,
     "metadata": {},
     "output_type": "execute_result"
    }
   ],
   "source": [
    "n_rows, n_cols = reduced_matrix.game_matrix.shape\n",
    "input_data = {\n",
    "    \"obj_func_coffs\": [1] * n_cols,\n",
    "    \"constraint_system_lhs\": reduced_matrix.game_matrix.tolist(),\n",
    "    \"constraint_system_rhs\": [1] * n_rows,\n",
    "    \"func_direction\": \"min\"\n",
    "}\n",
    "\n",
    "input_path = Path('input.json')\n",
    "input_path.write_text(json.dumps(input_data))"
   ],
   "metadata": {
    "collapsed": false,
    "ExecuteTime": {
     "end_time": "2024-02-12T20:04:35.200669Z",
     "start_time": "2024-02-12T20:04:35.185736Z"
    }
   },
   "id": "c2edf8ec6a4ce08a"
  },
  {
   "cell_type": "markdown",
   "source": [
    "##### 2.4.1. Двойственная задача ЛП для игрока A"
   ],
   "metadata": {
    "collapsed": false
   },
   "id": "940b1eb75acf6faa"
  },
  {
   "cell_type": "code",
   "execution_count": 15,
   "outputs": [
    {
     "name": "stderr",
     "output_type": "stream",
     "text": [
      "F = cx -> max,\n",
      "Ax >= 1,\n",
      "x1, x2, ..., xn >= 0\n",
      "C = [-1 -1]\n",
      "A =\n",
      "[[0 9]\n",
      " [8 7]],\n",
      "b^T = [1 1].\n"
     ]
    }
   ],
   "source": [
    "dual_problem = DualProblem(input_path)"
   ],
   "metadata": {
    "collapsed": false,
    "ExecuteTime": {
     "end_time": "2024-02-12T20:04:44.131327Z",
     "start_time": "2024-02-12T20:04:44.059314Z"
    }
   },
   "id": "1f0440b58b176c7c"
  },
  {
   "cell_type": "code",
   "execution_count": 16,
   "outputs": [
    {
     "name": "stderr",
     "output_type": "stream",
     "text": [
      "Процесс решения:\n",
      "Поиск опорного решения:\n",
      "Исходная симплекс-таблица:\n",
      "+----+------+------+------+\n",
      "|    | Si0  |  x1  |  x2  |\n",
      "+----+------+------+------+\n",
      "| x3 | -1.0 | 0.0  | -9.0 |\n",
      "| x4 | -1.0 | -8.0 | -7.0 |\n",
      "| F  | 0.0  | 1.0  | 1.0  |\n",
      "+----+------+------+------+\n",
      "Разрешающая строка: x3\n",
      "Разрешающий столбец: x2\n",
      "+----+---------+------+---------+\n",
      "|    |   Si0   |  x1  |    x3   |\n",
      "+----+---------+------+---------+\n",
      "| x2 |  0.1111 | -0.0 | -0.1111 |\n",
      "| x4 | -0.2222 | -8.0 | -0.7778 |\n",
      "| F  | -0.1111 | 1.0  |  0.1111 |\n",
      "+----+---------+------+---------+\n",
      "Разрешающая строка: x4\n",
      "Разрешающий столбец: x1\n",
      "+----+---------+--------+---------+\n",
      "|    |   Si0   |   x4   |    x3   |\n",
      "+----+---------+--------+---------+\n",
      "| x2 |  0.1111 |  -0.0  | -0.1111 |\n",
      "| x1 |  0.0278 | -0.125 |  0.0972 |\n",
      "| F  | -0.1389 | 0.125  |  0.0139 |\n",
      "+----+---------+--------+---------+\n",
      "Опорное решение найдено!\n",
      "x4 = x3 = 0, \n",
      "x2 = 0.11, x1 = 0.03\n",
      "Целевая функция: F = -0.14\n",
      "Поиск оптимального решения:\n"
     ]
    },
    {
     "ename": "SimplexProblemException",
     "evalue": "Функция не ограничена! Оптимального решения не существует.",
     "output_type": "error",
     "traceback": [
      "\u001B[0;31m---------------------------------------------------------------------------\u001B[0m",
      "\u001B[0;31mSimplexProblemException\u001B[0m                   Traceback (most recent call last)",
      "Cell \u001B[0;32mIn[16], line 1\u001B[0m\n\u001B[0;32m----> 1\u001B[0m \u001B[43mdual_problem\u001B[49m\u001B[38;5;241;43m.\u001B[39;49m\u001B[43msolve\u001B[49m\u001B[43m(\u001B[49m\u001B[43m)\u001B[49m\n",
      "File \u001B[0;32m~/Dev/10-game_theory/game_theory/utils/simplex/simplex_problem.py:81\u001B[0m, in \u001B[0;36mSimplexProblem.solve\u001B[0;34m(self)\u001B[0m\n\u001B[1;32m     79\u001B[0m _logger\u001B[38;5;241m.\u001B[39minfo(\u001B[38;5;124m\"\u001B[39m\u001B[38;5;124mПроцесс решения:\u001B[39m\u001B[38;5;124m\"\u001B[39m)\n\u001B[1;32m     80\u001B[0m \u001B[38;5;28mself\u001B[39m\u001B[38;5;241m.\u001B[39mreference_solution()\n\u001B[0;32m---> 81\u001B[0m \u001B[38;5;28;43mself\u001B[39;49m\u001B[38;5;241;43m.\u001B[39;49m\u001B[43moptimal_solution\u001B[49m\u001B[43m(\u001B[49m\u001B[43m)\u001B[49m\n\u001B[1;32m     83\u001B[0m last_row_ind: \u001B[38;5;28mint\u001B[39m \u001B[38;5;241m=\u001B[39m \u001B[38;5;28mself\u001B[39m\u001B[38;5;241m.\u001B[39msimplex_table_\u001B[38;5;241m.\u001B[39mmain_table_\u001B[38;5;241m.\u001B[39mshape[\u001B[38;5;241m0\u001B[39m] \u001B[38;5;241m-\u001B[39m \u001B[38;5;241m1\u001B[39m\n\u001B[1;32m     84\u001B[0m \u001B[38;5;28;01mreturn\u001B[39;00m \u001B[38;5;28mself\u001B[39m\u001B[38;5;241m.\u001B[39msimplex_table_\u001B[38;5;241m.\u001B[39mmain_table_[last_row_ind][\u001B[38;5;241m0\u001B[39m]\n",
      "File \u001B[0;32m~/Dev/10-game_theory/game_theory/utils/simplex/simplex_problem.py:108\u001B[0m, in \u001B[0;36mSimplexProblem.optimal_solution\u001B[0;34m(self)\u001B[0m\n\u001B[1;32m    106\u001B[0m _logger\u001B[38;5;241m.\u001B[39minfo(\u001B[38;5;124m\"\u001B[39m\u001B[38;5;124mПоиск оптимального решения:\u001B[39m\u001B[38;5;124m\"\u001B[39m)\n\u001B[1;32m    107\u001B[0m \u001B[38;5;28;01mwhile\u001B[39;00m \u001B[38;5;129;01mnot\u001B[39;00m \u001B[38;5;28mself\u001B[39m\u001B[38;5;241m.\u001B[39msimplex_table_\u001B[38;5;241m.\u001B[39mis_find_opt_solution():\n\u001B[0;32m--> 108\u001B[0m     \u001B[38;5;28;43mself\u001B[39;49m\u001B[38;5;241;43m.\u001B[39;49m\u001B[43msimplex_table_\u001B[49m\u001B[38;5;241;43m.\u001B[39;49m\u001B[43moptimize_ref_solution\u001B[49m\u001B[43m(\u001B[49m\u001B[43m)\u001B[49m\n\u001B[1;32m    110\u001B[0m \u001B[38;5;66;03m# Если задача на max, то в начале свели задачу к поиску min, а теперь\u001B[39;00m\n\u001B[1;32m    111\u001B[0m \u001B[38;5;66;03m# возьмём это решение со знаком минус и получим ответ для max.\u001B[39;00m\n\u001B[1;32m    112\u001B[0m \u001B[38;5;28;01mif\u001B[39;00m \u001B[38;5;28mself\u001B[39m\u001B[38;5;241m.\u001B[39mfunc_direction_ \u001B[38;5;241m==\u001B[39m \u001B[38;5;124m\"\u001B[39m\u001B[38;5;124mmax\u001B[39m\u001B[38;5;124m\"\u001B[39m:\n",
      "File \u001B[0;32m~/Dev/10-game_theory/game_theory/utils/simplex/simplex_table.py:168\u001B[0m, in \u001B[0;36mSimplexTable.optimize_ref_solution\u001B[0;34m(self)\u001B[0m\n\u001B[1;32m    166\u001B[0m \u001B[38;5;28;01mif\u001B[39;00m res_row \u001B[38;5;129;01mis\u001B[39;00m \u001B[38;5;28;01mNone\u001B[39;00m:\n\u001B[1;32m    167\u001B[0m     exc_msg \u001B[38;5;241m=\u001B[39m \u001B[38;5;124m\"\u001B[39m\u001B[38;5;124mФункция не ограничена! \u001B[39m\u001B[38;5;124m\"\u001B[39m \u001B[38;5;124m\"\u001B[39m\u001B[38;5;124mОптимального решения не существует.\u001B[39m\u001B[38;5;124m\"\u001B[39m\n\u001B[0;32m--> 168\u001B[0m     \u001B[38;5;28;01mraise\u001B[39;00m SimplexProblemException(exc_msg)\n\u001B[1;32m    170\u001B[0m \u001B[38;5;66;03m# Разрешающий элемент найден.\u001B[39;00m\n\u001B[1;32m    171\u001B[0m res_element \u001B[38;5;241m=\u001B[39m \u001B[38;5;28mself\u001B[39m\u001B[38;5;241m.\u001B[39mmain_table_[res_row][res_col]\n",
      "\u001B[0;31mSimplexProblemException\u001B[0m: Функция не ограничена! Оптимального решения не существует."
     ]
    }
   ],
   "source": [
    "dual_problem.solve()"
   ],
   "metadata": {
    "collapsed": false,
    "ExecuteTime": {
     "end_time": "2024-02-12T20:04:52.922056Z",
     "start_time": "2024-02-12T20:04:52.771918Z"
    }
   },
   "id": "39b2be22091e9839"
  },
  {
   "cell_type": "markdown",
   "source": [
    "##### 2.4.2. Прямая задача ЛП для игрока B"
   ],
   "metadata": {
    "collapsed": false
   },
   "id": "15066c95c8cce9a9"
  },
  {
   "cell_type": "code",
   "execution_count": 18,
   "outputs": [
    {
     "data": {
      "text/plain": "Условие задачи:\nНайти вектор x = (x1,x2,..., xn)^T как решение след. задачи:\nF = cx -> min,\nAx <= b,\nx1,x2, ..., xn >= 0\nC = [1 1],\nA =\n[[0 8]\n [9 7]],\nb^T = [1 1]."
     },
     "execution_count": 18,
     "metadata": {},
     "output_type": "execute_result"
    }
   ],
   "source": [
    "simplex_problem = SimplexProblem(input_path)\n",
    "simplex_problem"
   ],
   "metadata": {
    "collapsed": false,
    "ExecuteTime": {
     "end_time": "2024-02-12T20:06:28.915725Z",
     "start_time": "2024-02-12T20:06:28.909258Z"
    }
   },
   "id": "c2ee351da28967e5"
  },
  {
   "cell_type": "code",
   "execution_count": 19,
   "outputs": [
    {
     "name": "stderr",
     "output_type": "stream",
     "text": [
      "Процесс решения:\n",
      "Поиск опорного решения:\n",
      "Исходная симплекс-таблица:\n",
      "+----+-----+------+------+\n",
      "|    | Si0 |  x1  |  x2  |\n",
      "+----+-----+------+------+\n",
      "| x3 | 1.0 | 0.0  | 8.0  |\n",
      "| x4 | 1.0 | 9.0  | 7.0  |\n",
      "| F  | 0.0 | -1.0 | -1.0 |\n",
      "+----+-----+------+------+\n",
      "Опорное решение найдено!\n",
      "x1 = x2 = 0, \n",
      "x3 = 1.00, x4 = 1.00\n",
      "Целевая функция: F = 0.00\n",
      "Поиск оптимального решения:\n",
      "Оптимальное решение найдено!\n",
      "x1 = x2 = 0, \n",
      "x3 = 1.00, x4 = 1.00\n",
      "Целевая функция: F = 0.00\n"
     ]
    },
    {
     "data": {
      "text/plain": "0.0"
     },
     "execution_count": 19,
     "metadata": {},
     "output_type": "execute_result"
    }
   ],
   "source": [
    "simplex_problem.solve()"
   ],
   "metadata": {
    "collapsed": false,
    "ExecuteTime": {
     "end_time": "2024-02-12T20:06:31.325989Z",
     "start_time": "2024-02-12T20:06:31.298103Z"
    }
   },
   "id": "b1fc34db80607244"
  },
  {
   "cell_type": "code",
   "execution_count": null,
   "outputs": [],
   "source": [],
   "metadata": {
    "collapsed": false
   },
   "id": "c9753977f17d384f"
  }
 ],
 "metadata": {
  "kernelspec": {
   "display_name": "Python 3 (ipykernel)",
   "language": "python",
   "name": "python3"
  },
  "language_info": {
   "codemirror_mode": {
    "name": "ipython",
    "version": 3
   },
   "file_extension": ".py",
   "mimetype": "text/x-python",
   "name": "python",
   "nbconvert_exporter": "python",
   "pygments_lexer": "ipython3",
   "version": "3.11.4"
  }
 },
 "nbformat": 4,
 "nbformat_minor": 5
}
